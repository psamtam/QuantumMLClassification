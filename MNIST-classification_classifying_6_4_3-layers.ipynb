{
 "cells": [
  {
   "cell_type": "markdown",
   "metadata": {},
   "source": [
    "## Changed to classifying between 6 and 4\n",
    "#### Used vertical features instead of horizontal features"
   ]
  },
  {
   "cell_type": "code",
   "execution_count": 1,
   "metadata": {},
   "outputs": [],
   "source": [
    "import pennylane as qml\n",
    "import tensorflow as tf\n",
    "#import sklearn.datasets\n",
    "#from sklearn.datasets import fetch_openml\n",
    "\n",
    "import numpy as np\n",
    "\n",
    "from matplotlib import pyplot as plt\n",
    "\n",
    "tf.keras.backend.set_floatx('float64')\n",
    "\n",
    "from silence_tensorflow import silence_tensorflow\n",
    "silence_tensorflow()  # this stops tensorflow complaining about converting from complex to float!\n",
    "\n",
    "from datetime import datetime"
   ]
  },
  {
   "attachments": {},
   "cell_type": "markdown",
   "metadata": {},
   "source": [
    "## Load and reduce the data\n",
    "\n",
    "Load the MNIST data and check number of training and test examples"
   ]
  },
  {
   "cell_type": "code",
   "execution_count": 2,
   "metadata": {},
   "outputs": [
    {
     "name": "stdout",
     "output_type": "stream",
     "text": [
      "Number of original training examples: 60000\n",
      "Number of original test examples: 10000\n"
     ]
    }
   ],
   "source": [
    "(x_train, y_train), (x_test, y_test) = tf.keras.datasets.mnist.load_data()\n",
    "\n",
    "# Rescale the images from [0,255] to the [0.0,1.0] range.\n",
    "x_train, x_test = x_train[..., np.newaxis]/255.0, x_test[..., np.newaxis]/255.0  # add colour dimension\n",
    "\n",
    "print(\"Number of original training examples:\", len(x_train))\n",
    "print(\"Number of original test examples:\", len(x_test))"
   ]
  },
  {
   "attachments": {},
   "cell_type": "markdown",
   "metadata": {},
   "source": [
    "Create a function to filter out only 0 and 1"
   ]
  },
  {
   "cell_type": "code",
   "execution_count": 3,
   "metadata": {},
   "outputs": [],
   "source": [
    "def filter_64(x, y):\n",
    "    keep = (y == 6) | (y == 4)\n",
    "    x, y = x[keep], y[keep]\n",
    "    y = y == 0\n",
    "    return x,y"
   ]
  },
  {
   "cell_type": "code",
   "execution_count": 4,
   "metadata": {},
   "outputs": [
    {
     "name": "stdout",
     "output_type": "stream",
     "text": [
      "Number of filtered training examples: 11760\n",
      "Number of filtered test examples: 1940\n"
     ]
    }
   ],
   "source": [
    "x_train, y_train = filter_64(x_train, y_train)\n",
    "x_test, y_test = filter_64(x_test, y_test)\n",
    "\n",
    "print(\"Number of filtered training examples:\", len(x_train))\n",
    "print(\"Number of filtered test examples:\", len(x_test))"
   ]
  },
  {
   "attachments": {},
   "cell_type": "markdown",
   "metadata": {},
   "source": [
    "Plot the original images"
   ]
  },
  {
   "cell_type": "code",
   "execution_count": 5,
   "metadata": {},
   "outputs": [],
   "source": [
    "i = 0"
   ]
  },
  {
   "cell_type": "code",
   "execution_count": 6,
   "metadata": {},
   "outputs": [
    {
     "data": {
      "image/png": "[encoded data removed]",
      "text/plain": [
       "<Figure size 640x480 with 1 Axes>"
      ]
     },
     "metadata": {},
     "output_type": "display_data"
    }
   ],
   "source": [
    "i += 1\n",
    "plt.imshow(x_train[0, :, :, 0], cmap='Greys')\n",
    "ax = plt.gca()\n",
    "ax.set_xticks([])\n",
    "ax.set_yticks([])\n",
    "plt.title(\"28x28 image of a 0\", fontsize=20)\n",
    "# save to file as pdf\n",
    "plt.savefig('28x28_MNIST_0.pdf', bbox_inches='tight', pad_inches=0)\n",
    "plt.show()"
   ]
  },
  {
   "attachments": {},
   "cell_type": "markdown",
   "metadata": {},
   "source": [
    "Reduce images to 9x9"
   ]
  },
  {
   "cell_type": "code",
   "execution_count": 7,
   "metadata": {},
   "outputs": [
    {
     "name": "stdout",
     "output_type": "stream",
     "text": [
      "(11760, 9, 9, 1)\n"
     ]
    }
   ],
   "source": [
    "x_train_small = tf.image.resize(x_train, (9,9)).numpy()\n",
    "x_test_small = tf.image.resize(x_test, (9,9)).numpy()\n",
    "\n",
    "print(x_train_small.shape)"
   ]
  },
  {
   "cell_type": "code",
   "execution_count": 8,
   "metadata": {},
   "outputs": [
    {
     "data": {
      "image/png": "[encoded data removed]",
      "text/plain": [
       "<Figure size 640x480 with 1 Axes>"
      ]
     },
     "metadata": {},
     "output_type": "display_data"
    }
   ],
   "source": [
    "plt.imshow(x_train_small[0,:,:,0], vmin=0, vmax=1, cmap='Greys')\n",
    "ax = plt.gca()\n",
    "ax.set_xticks([])\n",
    "ax.set_yticks([])\n",
    "plt.title(\"9x9 image of a 0\", fontsize=20)\n",
    "# save to file as pdf\n",
    "plt.savefig('9x9_MNIST_0.pdf', bbox_inches='tight', pad_inches=0)\n",
    "plt.show()"
   ]
  },
  {
   "attachments": {},
   "cell_type": "markdown",
   "metadata": {},
   "source": [
    "Further reduce images to 9x1"
   ]
  },
  {
   "cell_type": "code",
   "execution_count": 9,
   "metadata": {},
   "outputs": [
    {
     "name": "stdout",
     "output_type": "stream",
     "text": [
      "shape = (11760, 9)\n"
     ]
    },
    {
     "data": {
      "image/png": "[encoded data removed]",
      "text/plain": [
       "<Figure size 640x480 with 1 Axes>"
      ]
     },
     "metadata": {},
     "output_type": "display_data"
    }
   ],
   "source": [
    "x_train_small = tf.image.resize(x_train, (9,9)).numpy()\n",
    "x_test_small = tf.image.resize(x_test, (9,9)).numpy()\n",
    "\n",
    "x_train_small = x_train_small[:,:,4,:].reshape((-1,9))  # take only central slices\n",
    "x_test_small = x_test_small[:,:,4,:].reshape((-1,9))  # take only central slices\n",
    "print(f\"shape = {x_train_small.shape}\")\n",
    "\n",
    "plt.imshow(x_train_small[0,:].reshape((-1,1)), vmin=0, vmax=1, cmap='Greys')\n",
    "ax = plt.gca()\n",
    "ax.set_xticks([])\n",
    "ax.set_yticks([])\n",
    "plt.title(\"9x1 image of a 0\", fontsize=20)\n",
    "# save to file as pdf\n",
    "plt.savefig('9x1_MNIST_0.pdf', bbox_inches='tight', pad_inches=0)\n",
    "plt.show()\n"
   ]
  },
  {
   "attachments": {},
   "cell_type": "markdown",
   "metadata": {},
   "source": [
    "## Set up the Quantum Neural Network\n",
    "\n",
    "Create quantum circuit using pennylane qnode, then conver this to a Keras layer to make a Keras model"
   ]
  },
  {
   "cell_type": "code",
   "execution_count": 10,
   "metadata": {},
   "outputs": [
    {
     "name": "stdout",
     "output_type": "stream",
     "text": [
      "1/1 [==============================] - 0s 141ms/step\n",
      "Model: \"QNN\"\n",
      "_________________________________________________________________\n",
      " Layer (type)                Output Shape              Param #   \n",
      "=================================================================\n",
      " inputs (InputLayer)         [(None, 9)]               0         \n",
      "                                                                 \n",
      " quantumLayer (KerasLayer)   (None, 1)                 51        \n",
      "                                                                 \n",
      "=================================================================\n",
      "Total params: 51 (408.00 Byte)\n",
      "Trainable params: 51 (408.00 Byte)\n",
      "Non-trainable params: 0 (0.00 Byte)\n",
      "_________________________________________________________________\n",
      "None\n"
     ]
    }
   ],
   "source": [
    "n_qubits = 9\n",
    "n_layers = 1\n",
    "dev = qml.device(\"default.qubit\", wires=n_qubits)\n",
    "\n",
    "@qml.qnode(dev, interface=\"tf\")\n",
    "def qnode(inputs, weights):\n",
    "\n",
    "    if len(inputs.shape) == 1:\n",
    "        for ii in range(n_qubits):\n",
    "            qml.RY(np.pi * inputs[ii], wires=ii)\n",
    "    else:\n",
    "        for ii in range(n_qubits):\n",
    "            qml.RY(np.pi * inputs[:,ii], wires=ii)\n",
    "\n",
    "    for jj in range(n_layers):\n",
    "        for ii in range(n_qubits-1):\n",
    "            qml.RZ(weights[jj,2*ii,0], wires=0)\n",
    "            qml.RY(weights[jj,2*ii,1], wires=0)\n",
    "            qml.RZ(weights[jj,2*ii,2], wires=0)\n",
    "\n",
    "            qml.RZ(weights[jj,2*ii+1,0], wires=ii+1)\n",
    "            qml.RY(weights[jj,2*ii+1,1], wires=ii+1)\n",
    "            qml.RZ(weights[jj,2*ii+1,2], wires=ii+1)\n",
    "\n",
    "            #qml.U3(*list(weights[jj,2*ii,:]), wires=0)\n",
    "            #qml.U3(*list(weights[jj,2*ii+1,:]), wires=ii+1)\n",
    "            qml.CNOT(wires=[ii+1,0])\n",
    "            \n",
    "        qml.RZ(weights[jj,2*(n_qubits-1),0], wires=0)\n",
    "        qml.RY(weights[jj,2*(n_qubits-1),1], wires=0)\n",
    "        qml.RZ(weights[jj,2*(n_qubits-1),2], wires=0)\n",
    "\n",
    "    return qml.expval(qml.PauliZ(0))\n",
    "\n",
    "weight_shapes = {\"weights\": (n_layers, 2*(n_qubits-1)+1, 3) }\n",
    "\n",
    "qlayer = qml.qnn.KerasLayer(qnode, weight_shapes, output_dim=1, name=\"quantumLayer\")\n",
    "inputs = tf.keras.Input(shape=(n_qubits,), name=\"inputs\")\n",
    "outputs = qlayer(inputs)\n",
    "model = tf.keras.Model(inputs=inputs, outputs=outputs, name=\"QNN\")\n",
    "\n",
    "model.predict(x_train_small[0,:])\n",
    "print(model.summary())"
   ]
  },
  {
   "attachments": {},
   "cell_type": "markdown",
   "metadata": {},
   "source": [
    "Redefine the classification values to match the Hinge loss"
   ]
  },
  {
   "cell_type": "code",
   "execution_count": 11,
   "metadata": {},
   "outputs": [],
   "source": [
    "y_train_hinge = 2.0*y_train-1.0\n",
    "y_test_hinge = 2.0*y_test-1.0"
   ]
  },
  {
   "attachments": {},
   "cell_type": "markdown",
   "metadata": {},
   "source": [
    "Define the hinge accuracy"
   ]
  },
  {
   "cell_type": "code",
   "execution_count": 12,
   "metadata": {},
   "outputs": [],
   "source": [
    "def hinge_accuracy(y_true, y_pred):\n",
    "    y_true = tf.squeeze(y_true) > 0.0\n",
    "    y_pred = tf.squeeze(y_pred) > 0.0\n",
    "    result = tf.cast(y_true == y_pred, tf.float32)\n",
    "\n",
    "    return tf.reduce_mean(result)"
   ]
  },
  {
   "attachments": {},
   "cell_type": "markdown",
   "metadata": {},
   "source": [
    "## Compile and train the model\n",
    "\n",
    "Compile the model using the hinge loss and accuracy and the Adam optimiser"
   ]
  },
  {
   "cell_type": "code",
   "execution_count": 13,
   "metadata": {},
   "outputs": [],
   "source": [
    "model.compile(\n",
    "    loss=tf.keras.losses.Hinge(),\n",
    "    optimizer=tf.keras.optimizers.Adam(),\n",
    "    metrics=[hinge_accuracy])"
   ]
  },
  {
   "cell_type": "code",
   "execution_count": 14,
   "metadata": {},
   "outputs": [
    {
     "name": "stdout",
     "output_type": "stream",
     "text": [
      "Model: \"QNN\"\n",
      "_________________________________________________________________\n",
      " Layer (type)                Output Shape              Param #   \n",
      "=================================================================\n",
      " inputs (InputLayer)         [(None, 9)]               0         \n",
      "                                                                 \n",
      " quantumLayer (KerasLayer)   (None, 1)                 51        \n",
      "                                                                 \n",
      "=================================================================\n",
      "Total params: 51 (408.00 Byte)\n",
      "Trainable params: 51 (408.00 Byte)\n",
      "Non-trainable params: 0 (0.00 Byte)\n",
      "_________________________________________________________________\n",
      "None\n"
     ]
    }
   ],
   "source": [
    "print(model.summary())"
   ]
  },
  {
   "attachments": {},
   "cell_type": "markdown",
   "metadata": {},
   "source": [
    "Train the model over 20 epochs"
   ]
  },
  {
   "cell_type": "code",
   "execution_count": 15,
   "metadata": {},
   "outputs": [
    {
     "name": "stdout",
     "output_type": "stream",
     "text": [
      "x shape = (11760, 9)\n",
      "512\n",
      "x train shape = (512, 9)\n",
      "x test shape = (1940, 9)\n",
      "Epoch 1/20\n",
      "16/16 [==============================] - 5s 311ms/step - loss: 1.0592 - hinge_accuracy: 0.4082\n",
      "Epoch 2/20\n",
      "16/16 [==============================] - 5s 311ms/step - loss: 1.0393 - hinge_accuracy: 0.4336\n",
      "Epoch 3/20\n",
      "16/16 [==============================] - 5s 305ms/step - loss: 1.0216 - hinge_accuracy: 0.4590\n",
      "Epoch 4/20\n",
      "16/16 [==============================] - 5s 305ms/step - loss: 1.0073 - hinge_accuracy: 0.4844\n",
      "Epoch 5/20\n",
      "16/16 [==============================] - 5s 298ms/step - loss: 0.9952 - hinge_accuracy: 0.5059\n",
      "Epoch 6/20\n",
      "16/16 [==============================] - 5s 308ms/step - loss: 0.9856 - hinge_accuracy: 0.5215\n",
      "Epoch 7/20\n",
      "16/16 [==============================] - 5s 301ms/step - loss: 0.9772 - hinge_accuracy: 0.5293\n",
      "Epoch 8/20\n",
      "16/16 [==============================] - 5s 299ms/step - loss: 0.9706 - hinge_accuracy: 0.5410\n",
      "Epoch 9/20\n",
      "16/16 [==============================] - 5s 297ms/step - loss: 0.9646 - hinge_accuracy: 0.5469\n",
      "Epoch 10/20\n",
      "16/16 [==============================] - 5s 306ms/step - loss: 0.9592 - hinge_accuracy: 0.5566\n",
      "Epoch 11/20\n",
      "16/16 [==============================] - 5s 306ms/step - loss: 0.9543 - hinge_accuracy: 0.5547\n",
      "Epoch 12/20\n",
      "16/16 [==============================] - 5s 306ms/step - loss: 0.9490 - hinge_accuracy: 0.5625\n",
      "Epoch 13/20\n",
      "16/16 [==============================] - 5s 300ms/step - loss: 0.9434 - hinge_accuracy: 0.5703\n",
      "Epoch 14/20\n",
      "16/16 [==============================] - 8s 490ms/step - loss: 0.9368 - hinge_accuracy: 0.5820\n",
      "Epoch 15/20\n",
      "16/16 [==============================] - 5s 294ms/step - loss: 0.9293 - hinge_accuracy: 0.6113\n",
      "Epoch 16/20\n",
      "16/16 [==============================] - 5s 296ms/step - loss: 0.9194 - hinge_accuracy: 0.6250\n",
      "Epoch 17/20\n",
      "16/16 [==============================] - 5s 296ms/step - loss: 0.9073 - hinge_accuracy: 0.6230\n",
      "Epoch 18/20\n",
      "16/16 [==============================] - 5s 296ms/step - loss: 0.8912 - hinge_accuracy: 0.6465\n",
      "Epoch 19/20\n",
      "16/16 [==============================] - 5s 303ms/step - loss: 0.8714 - hinge_accuracy: 0.6875\n",
      "Epoch 20/20\n",
      "16/16 [==============================] - 5s 300ms/step - loss: 0.8455 - hinge_accuracy: 0.7109\n",
      "61/61 [==============================] - 8s 130ms/step - loss: 0.8339 - hinge_accuracy: 0.7089\n"
     ]
    }
   ],
   "source": [
    "EPOCHS = 20\n",
    "BATCH_SIZE = 32\n",
    "\n",
    "NUM_EXAMPLES = 512 \n",
    "print(f\"x shape = {x_train_small.shape}\")\n",
    "print(NUM_EXAMPLES)\n",
    "\n",
    "x_train_sub = x_train_small[:NUM_EXAMPLES]\n",
    "y_train_hinge_sub = y_train_hinge[:NUM_EXAMPLES]\n",
    "\n",
    "print(f\"x train shape = {x_train_sub.shape}\")\n",
    "\n",
    "x_test_sub = x_test_small[:,:]\n",
    "y_test_sub = y_test[:]\n",
    "\n",
    "print(f\"x test shape = {x_test_sub.shape}\")\n",
    "\n",
    "start_time = datetime.now()\n",
    "\n",
    "qnn_history_1layer = model.fit(\n",
    "      x_train_sub, y_train_hinge_sub,\n",
    "      batch_size=BATCH_SIZE,\n",
    "      epochs=EPOCHS,\n",
    "      verbose=1)#,\n",
    "      #validation_data=(x_test_sub, y_test_sub))\n",
    "\n",
    "model_training_time = datetime.now() - start_time\n",
    "\n",
    "qnn_results_1layer = model.evaluate(x_test_sub, y_test_sub)"
   ]
  },
  {
   "attachments": {},
   "cell_type": "markdown",
   "metadata": {},
   "source": [
    "Create and train a 2 layer version of the QNN"
   ]
  },
  {
   "cell_type": "code",
   "execution_count": 16,
   "metadata": {},
   "outputs": [
    {
     "name": "stdout",
     "output_type": "stream",
     "text": [
      "1/1 [==============================] - 0s 176ms/step\n",
      "Model: \"QNN\"\n",
      "_________________________________________________________________\n",
      " Layer (type)                Output Shape              Param #   \n",
      "=================================================================\n",
      " inputs (InputLayer)         [(None, 9)]               0         \n",
      "                                                                 \n",
      " quantumLayer (KerasLayer)   (None, 1)                 102       \n",
      "                                                                 \n",
      "=================================================================\n",
      "Total params: 102 (816.00 Byte)\n",
      "Trainable params: 102 (816.00 Byte)\n",
      "Non-trainable params: 0 (0.00 Byte)\n",
      "_________________________________________________________________\n",
      "None\n"
     ]
    }
   ],
   "source": [
    "n_qubits = 9\n",
    "n_layers = 2\n",
    "dev = qml.device(\"default.qubit\", wires=n_qubits)\n",
    "\n",
    "@qml.qnode(dev, interface=\"tf\")\n",
    "def qnode(inputs, weights):\n",
    "\n",
    "    if len(inputs.shape) == 1:\n",
    "        for ii in range(n_qubits):\n",
    "            qml.RY(np.pi * inputs[ii], wires=ii)\n",
    "    else:\n",
    "        for ii in range(n_qubits):\n",
    "            qml.RY(np.pi * inputs[:,ii], wires=ii)\n",
    "\n",
    "\n",
    "    for jj in range(n_layers):\n",
    "        for ii in range(n_qubits-1):\n",
    "            qml.RZ(weights[jj,2*ii,0], wires=0)\n",
    "            qml.RY(weights[jj,2*ii,1], wires=0)\n",
    "            qml.RZ(weights[jj,2*ii,2], wires=0)\n",
    "\n",
    "            qml.RZ(weights[jj,2*ii+1,0], wires=ii+1)\n",
    "            qml.RY(weights[jj,2*ii+1,1], wires=ii+1)\n",
    "            qml.RZ(weights[jj,2*ii+1,2], wires=ii+1)\n",
    "\n",
    "            #qml.U3(*list(weights[jj,2*ii,:]), wires=0)\n",
    "            #qml.U3(*list(weights[jj,2*ii+1,:]), wires=ii+1)\n",
    "            qml.CNOT(wires=[ii+1,0])\n",
    "            \n",
    "        qml.RZ(weights[jj,2*(n_qubits-1),0], wires=0)\n",
    "        qml.RY(weights[jj,2*(n_qubits-1),1], wires=0)\n",
    "        qml.RZ(weights[jj,2*(n_qubits-1),2], wires=0)\n",
    "\n",
    "    return qml.expval(qml.PauliZ(0))\n",
    "\n",
    "weight_shapes = {\"weights\": (n_layers, 2*(n_qubits-1)+1, 3) }\n",
    "\n",
    "\n",
    "qlayer = qml.qnn.KerasLayer(qnode, weight_shapes, output_dim=1, name=\"quantumLayer\")\n",
    "inputs = tf.keras.Input(shape=(n_qubits,), name=\"inputs\")\n",
    "outputs = qlayer(inputs)\n",
    "model2 = tf.keras.Model(inputs=inputs, outputs=outputs, name=\"QNN\")\n",
    "\n",
    "model2.predict(x_train_small[0,:])\n",
    "print(model2.summary())"
   ]
  },
  {
   "cell_type": "code",
   "execution_count": 17,
   "metadata": {},
   "outputs": [],
   "source": [
    "model2.compile(\n",
    "    loss=tf.keras.losses.Hinge(),\n",
    "    optimizer=tf.keras.optimizers.Adam(),\n",
    "    metrics=[hinge_accuracy])"
   ]
  },
  {
   "cell_type": "code",
   "execution_count": 18,
   "metadata": {},
   "outputs": [
    {
     "name": "stdout",
     "output_type": "stream",
     "text": [
      "512\n",
      "Epoch 1/20\n",
      "16/16 [==============================] - 9s 582ms/step - loss: 1.5210 - hinge_accuracy: 0.0039\n",
      "Epoch 2/20\n",
      "16/16 [==============================] - 9s 579ms/step - loss: 1.4349 - hinge_accuracy: 0.0078\n",
      "Epoch 3/20\n",
      "16/16 [==============================] - 9s 584ms/step - loss: 1.3358 - hinge_accuracy: 0.0469\n",
      "Epoch 4/20\n",
      "16/16 [==============================] - 9s 562ms/step - loss: 1.2237 - hinge_accuracy: 0.1016\n",
      "Epoch 5/20\n",
      "16/16 [==============================] - 9s 560ms/step - loss: 1.1006 - hinge_accuracy: 0.2812\n",
      "Epoch 6/20\n",
      "16/16 [==============================] - 9s 578ms/step - loss: 0.9766 - hinge_accuracy: 0.5527\n",
      "Epoch 7/20\n",
      "16/16 [==============================] - 9s 576ms/step - loss: 0.8610 - hinge_accuracy: 0.7617\n",
      "Epoch 8/20\n",
      "16/16 [==============================] - 9s 574ms/step - loss: 0.7583 - hinge_accuracy: 0.8496\n",
      "Epoch 9/20\n",
      "16/16 [==============================] - 9s 567ms/step - loss: 0.6725 - hinge_accuracy: 0.9141\n",
      "Epoch 10/20\n",
      "16/16 [==============================] - 9s 579ms/step - loss: 0.6014 - hinge_accuracy: 0.9414\n",
      "Epoch 11/20\n",
      "16/16 [==============================] - 9s 572ms/step - loss: 0.5415 - hinge_accuracy: 0.9609\n",
      "Epoch 12/20\n",
      "16/16 [==============================] - 9s 578ms/step - loss: 0.4909 - hinge_accuracy: 0.9727\n",
      "Epoch 13/20\n",
      "16/16 [==============================] - 9s 569ms/step - loss: 0.4465 - hinge_accuracy: 0.9805\n",
      "Epoch 14/20\n",
      "16/16 [==============================] - 9s 583ms/step - loss: 0.4068 - hinge_accuracy: 0.9863\n",
      "Epoch 15/20\n",
      "16/16 [==============================] - 9s 554ms/step - loss: 0.3698 - hinge_accuracy: 0.9902\n",
      "Epoch 16/20\n",
      "16/16 [==============================] - 9s 562ms/step - loss: 0.3361 - hinge_accuracy: 0.9922\n",
      "Epoch 17/20\n",
      "16/16 [==============================] - 9s 571ms/step - loss: 0.3048 - hinge_accuracy: 0.9961\n",
      "Epoch 18/20\n",
      "16/16 [==============================] - 9s 557ms/step - loss: 0.2762 - hinge_accuracy: 0.9980\n",
      "Epoch 19/20\n",
      "16/16 [==============================] - 9s 559ms/step - loss: 0.2503 - hinge_accuracy: 0.9980\n",
      "Epoch 20/20\n",
      "16/16 [==============================] - 9s 586ms/step - loss: 0.2266 - hinge_accuracy: 0.9980\n",
      "61/61 [==============================] - 14s 234ms/step - loss: 0.2185 - hinge_accuracy: 0.9939\n"
     ]
    }
   ],
   "source": [
    "EPOCHS = 20\n",
    "BATCH_SIZE = 32\n",
    "\n",
    "NUM_EXAMPLES = 512 #x_train_small.shape[0]\n",
    "print(NUM_EXAMPLES)\n",
    "\n",
    "x_train_sub = x_train_small[:NUM_EXAMPLES,:]\n",
    "y_train_hinge_sub = y_train_hinge[:NUM_EXAMPLES]\n",
    "\n",
    "x_test_sub = x_test_small[:,:]\n",
    "y_test_sub = y_test[:]\n",
    "\n",
    "start_time = datetime.now()\n",
    "\n",
    "qnn_history_2layer = model2.fit(\n",
    "      x_train_sub, y_train_hinge_sub,\n",
    "      batch_size=BATCH_SIZE,\n",
    "      epochs=EPOCHS,\n",
    "      verbose=1)#,\n",
    "      #validation_data=(x_test_sub, y_test_sub))\n",
    "\n",
    "model2_training_time = datetime.now() - start_time\n",
    "\n",
    "qnn_results_2layer = model2.evaluate(x_test_sub, y_test_sub)"
   ]
  },
  {
   "cell_type": "markdown",
   "metadata": {},
   "source": [
    "Create and train a 3 layer version of the QNN"
   ]
  },
  {
   "cell_type": "code",
   "execution_count": 22,
   "metadata": {},
   "outputs": [
    {
     "name": "stdout",
     "output_type": "stream",
     "text": [
      "1/1 [==============================] - 0s 274ms/step\n",
      "Model: \"QNN\"\n",
      "_________________________________________________________________\n",
      " Layer (type)                Output Shape              Param #   \n",
      "=================================================================\n",
      " inputs (InputLayer)         [(None, 9)]               0         \n",
      "                                                                 \n",
      " quantumLayer (KerasLayer)   (None, 1)                 153       \n",
      "                                                                 \n",
      "=================================================================\n",
      "Total params: 153 (1.20 KB)\n",
      "Trainable params: 153 (1.20 KB)\n",
      "Non-trainable params: 0 (0.00 Byte)\n",
      "_________________________________________________________________\n",
      "None\n"
     ]
    }
   ],
   "source": [
    "n_qubits = 9\n",
    "n_layers = 3\n",
    "dev = qml.device(\"default.qubit\", wires=n_qubits)\n",
    "\n",
    "@qml.qnode(dev, interface=\"tf\")\n",
    "def qnode(inputs, weights):\n",
    "\n",
    "    if len(inputs.shape) == 1:\n",
    "        for ii in range(n_qubits):\n",
    "            qml.RY(np.pi * inputs[ii], wires=ii)\n",
    "    else:\n",
    "        for ii in range(n_qubits):\n",
    "            qml.RY(np.pi * inputs[:,ii], wires=ii)\n",
    "\n",
    "\n",
    "    for jj in range(n_layers):\n",
    "        for ii in range(n_qubits-1):\n",
    "            qml.RZ(weights[jj,2*ii,0], wires=0)\n",
    "            qml.RY(weights[jj,2*ii,1], wires=0)\n",
    "            qml.RZ(weights[jj,2*ii,2], wires=0)\n",
    "\n",
    "            qml.RZ(weights[jj,2*ii+1,0], wires=ii+1)\n",
    "            qml.RY(weights[jj,2*ii+1,1], wires=ii+1)\n",
    "            qml.RZ(weights[jj,2*ii+1,2], wires=ii+1)\n",
    "\n",
    "            #qml.U3(*list(weights[jj,2*ii,:]), wires=0)\n",
    "            #qml.U3(*list(weights[jj,2*ii+1,:]), wires=ii+1)\n",
    "            qml.CNOT(wires=[ii+1,0])\n",
    "            \n",
    "        qml.RZ(weights[jj,2*(n_qubits-1),0], wires=0)\n",
    "        qml.RY(weights[jj,2*(n_qubits-1),1], wires=0)\n",
    "        qml.RZ(weights[jj,2*(n_qubits-1),2], wires=0)\n",
    "\n",
    "    return qml.expval(qml.PauliZ(0))\n",
    "\n",
    "weight_shapes = {\"weights\": (n_layers, 2*(n_qubits-1)+1, 3) }\n",
    "\n",
    "\n",
    "qlayer = qml.qnn.KerasLayer(qnode, weight_shapes, output_dim=1, name=\"quantumLayer\")\n",
    "inputs = tf.keras.Input(shape=(n_qubits,), name=\"inputs\")\n",
    "outputs = qlayer(inputs)\n",
    "model3 = tf.keras.Model(inputs=inputs, outputs=outputs, name=\"QNN\")\n",
    "\n",
    "model3.predict(x_train_small[0,:])\n",
    "print(model3.summary())"
   ]
  },
  {
   "cell_type": "code",
   "execution_count": 23,
   "metadata": {},
   "outputs": [],
   "source": [
    "model3.compile(\n",
    "    loss=tf.keras.losses.Hinge(),\n",
    "    optimizer=tf.keras.optimizers.Adam(),\n",
    "    metrics=[hinge_accuracy])"
   ]
  },
  {
   "cell_type": "code",
   "execution_count": 24,
   "metadata": {},
   "outputs": [
    {
     "name": "stdout",
     "output_type": "stream",
     "text": [
      "512\n",
      "Epoch 1/20\n",
      "16/16 [==============================] - 13s 836ms/step - loss: 0.9953 - hinge_accuracy: 0.4551\n",
      "Epoch 2/20\n",
      "16/16 [==============================] - 13s 832ms/step - loss: 0.8921 - hinge_accuracy: 0.6680\n",
      "Epoch 3/20\n",
      "16/16 [==============================] - 14s 849ms/step - loss: 0.7801 - hinge_accuracy: 0.8359\n",
      "Epoch 4/20\n",
      "16/16 [==============================] - 13s 839ms/step - loss: 0.6684 - hinge_accuracy: 0.8984\n",
      "Epoch 5/20\n",
      "16/16 [==============================] - 13s 819ms/step - loss: 0.5688 - hinge_accuracy: 0.9316\n",
      "Epoch 6/20\n",
      "16/16 [==============================] - 13s 825ms/step - loss: 0.4889 - hinge_accuracy: 0.9473\n",
      "Epoch 7/20\n",
      "16/16 [==============================] - 13s 822ms/step - loss: 0.4292 - hinge_accuracy: 0.9668\n",
      "Epoch 8/20\n",
      "16/16 [==============================] - 13s 824ms/step - loss: 0.3841 - hinge_accuracy: 0.9746\n",
      "Epoch 9/20\n",
      "16/16 [==============================] - 13s 834ms/step - loss: 0.3472 - hinge_accuracy: 0.9805\n",
      "Epoch 10/20\n",
      "16/16 [==============================] - 13s 838ms/step - loss: 0.3163 - hinge_accuracy: 0.9824\n",
      "Epoch 11/20\n",
      "16/16 [==============================] - 13s 828ms/step - loss: 0.2887 - hinge_accuracy: 0.9863\n",
      "Epoch 12/20\n",
      "16/16 [==============================] - 13s 817ms/step - loss: 0.2644 - hinge_accuracy: 0.9883\n",
      "Epoch 13/20\n",
      "16/16 [==============================] - 13s 811ms/step - loss: 0.2432 - hinge_accuracy: 0.9883\n",
      "Epoch 14/20\n",
      "16/16 [==============================] - 13s 810ms/step - loss: 0.2243 - hinge_accuracy: 0.9883\n",
      "Epoch 15/20\n",
      "16/16 [==============================] - 13s 824ms/step - loss: 0.2077 - hinge_accuracy: 0.9902\n",
      "Epoch 16/20\n",
      "16/16 [==============================] - 13s 835ms/step - loss: 0.1927 - hinge_accuracy: 0.9883\n",
      "Epoch 17/20\n",
      "16/16 [==============================] - 13s 827ms/step - loss: 0.1794 - hinge_accuracy: 0.9883\n",
      "Epoch 18/20\n",
      "16/16 [==============================] - 13s 835ms/step - loss: 0.1675 - hinge_accuracy: 0.9902\n",
      "Epoch 19/20\n",
      "16/16 [==============================] - 13s 831ms/step - loss: 0.1568 - hinge_accuracy: 0.9922\n",
      "Epoch 20/20\n",
      "16/16 [==============================] - 13s 820ms/step - loss: 0.1468 - hinge_accuracy: 0.9922\n",
      "61/61 [==============================] - 20s 327ms/step - loss: 0.1573 - hinge_accuracy: 0.9898\n"
     ]
    }
   ],
   "source": [
    "EPOCHS = 20\n",
    "BATCH_SIZE = 32\n",
    "\n",
    "NUM_EXAMPLES = 512 #x_train_small.shape[0]\n",
    "print(NUM_EXAMPLES)\n",
    "\n",
    "x_train_sub = x_train_small[:NUM_EXAMPLES,:]\n",
    "y_train_hinge_sub = y_train_hinge[:NUM_EXAMPLES]\n",
    "\n",
    "x_test_sub = x_test_small[:,:]\n",
    "y_test_sub = y_test[:]\n",
    "\n",
    "start_time = datetime.now()\n",
    "\n",
    "qnn_history_3layer = model3.fit(\n",
    "      x_train_sub, y_train_hinge_sub,\n",
    "      batch_size=BATCH_SIZE,\n",
    "      epochs=EPOCHS,\n",
    "      verbose=1)#,\n",
    "      #validation_data=(x_test_sub, y_test_sub))\n",
    "\n",
    "model3_training_time = datetime.now() - start_time\n",
    "\n",
    "qnn_results_3layer = model3.evaluate(x_test_sub, y_test_sub)"
   ]
  },
  {
   "attachments": {},
   "cell_type": "markdown",
   "metadata": {},
   "source": [
    "## Plot the results!"
   ]
  },
  {
   "cell_type": "code",
   "execution_count": 25,
   "metadata": {},
   "outputs": [
    {
     "name": "stdout",
     "output_type": "stream",
     "text": [
      "1-layer model training time: 0:01:39.633953\n",
      "2-layer model training time: 0:03:02.876715\n",
      "3-layer model training time: 0:04:24.964611\n"
     ]
    }
   ],
   "source": [
    "print(f\"1-layer model training time: {model_training_time}\")\n",
    "print(f\"2-layer model training time: {model2_training_time}\")\n",
    "print(f\"3-layer model training time: {model3_training_time}\")"
   ]
  },
  {
   "cell_type": "code",
   "execution_count": 26,
   "metadata": {},
   "outputs": [
    {
     "data": {
      "image/png": "[encoded data removed]",
      "text/plain": [
       "<Figure size 640x480 with 1 Axes>"
      ]
     },
     "metadata": {},
     "output_type": "display_data"
    }
   ],
   "source": [
    "# plot the hinge accuracy for the qnn history for both 1 and 2 layer on the same axes\n",
    "plt.plot(np.arange(1,21), qnn_history_1layer.history[\"hinge_accuracy\"], label=\"1 layer QNN\")\n",
    "plt.plot(np.arange(1,21), qnn_history_2layer.history[\"hinge_accuracy\"], label=\"2 layer QNN\")\n",
    "plt.plot(np.arange(1,21), qnn_history_3layer.history[\"hinge_accuracy\"], label=\"3 layer QNN\")\n",
    "plt.xlabel(\"Epoch\")\n",
    "plt.ylabel(\"Hinge Accuracy\")\n",
    "plt.legend()\n",
    "# modify x_ticks to also include 20\n",
    "plt.xticks(np.arange(0, 21, 2))\n",
    "# save as pdf with tight layout and no padding\n",
    "#plt.savefig(\"qnn_hinge_accuracy.pdf\", bbox_inches=\"tight\", pad_inches=0)\n",
    "plt.show()"
   ]
  },
  {
   "cell_type": "code",
   "execution_count": 27,
   "metadata": {},
   "outputs": [
    {
     "data": {
      "image/png": "[encoded data removed]",
      "text/plain": [
       "<Figure size 640x480 with 1 Axes>"
      ]
     },
     "metadata": {},
     "output_type": "display_data"
    }
   ],
   "source": [
    "# plot the hinge accuracy for the loss for both 1 and 2 layer on the same axes\n",
    "plt.plot(np.arange(1,21), qnn_history_1layer.history[\"loss\"], label=\"1 layer QNN\")\n",
    "plt.plot(np.arange(1,21), qnn_history_2layer.history[\"loss\"], label=\"2 layer QNN\")\n",
    "plt.plot(np.arange(1,21), qnn_history_3layer.history[\"loss\"], label=\"3 layer QNN\")\n",
    "plt.xlabel(\"Epoch\")\n",
    "plt.ylabel(\"Hinge Loss\")\n",
    "plt.legend()\n",
    "# modify x_ticks to also include 20\n",
    "plt.xticks(np.arange(0, 21, 2))\n",
    "# save as pdf with tight layout and no padding\n",
    "#plt.savefig(\"qnn_hinge_loss.pdf\", bbox_inches=\"tight\", pad_inches=0)\n",
    "plt.show()"
   ]
  }
 ],
 "metadata": {
  "kernelspec": {
   "display_name": "phys4041",
   "language": "python",
   "name": "python3"
  },
  "language_info": {
   "codemirror_mode": {
    "name": "ipython",
    "version": 3
   },
   "file_extension": ".py",
   "mimetype": "text/x-python",
   "name": "python",
   "nbconvert_exporter": "python",
   "pygments_lexer": "ipython3",
   "version": "3.10.16"
  },
  "orig_nbformat": 4
 },
 "nbformat": 4,
 "nbformat_minor": 2
}
