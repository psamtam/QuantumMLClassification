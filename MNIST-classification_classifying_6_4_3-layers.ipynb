{
 "cells": [
  {
   "cell_type": "markdown",
   "metadata": {},
   "source": [
    "## Changed to classifying between 6 and 4\n",
    "#### Used vertical features instead of horizontal features"
   ]
  },
  {
   "cell_type": "code",
   "execution_count": 2,
   "metadata": {},
   "outputs": [],
   "source": [
    "import pennylane as qml\n",
    "import tensorflow as tf\n",
    "#import sklearn.datasets\n",
    "#from sklearn.datasets import fetch_openml\n",
    "\n",
    "import numpy as np\n",
    "\n",
    "from matplotlib import pyplot as plt\n",
    "\n",
    "tf.keras.backend.set_floatx('float64')\n",
    "\n",
    "from silence_tensorflow import silence_tensorflow\n",
    "silence_tensorflow()  # this stops tensorflow complaining about converting from complex to float!\n",
    "\n",
    "from datetime import datetime"
   ]
  },
  {
   "attachments": {},
   "cell_type": "markdown",
   "metadata": {},
   "source": [
    "## Load and reduce the data\n",
    "\n",
    "Load the MNIST data and check number of training and test examples"
   ]
  },
  {
   "cell_type": "code",
   "execution_count": 3,
   "metadata": {},
   "outputs": [
    {
     "name": "stdout",
     "output_type": "stream",
     "text": [
      "Number of original training examples: 60000\n",
      "Number of original test examples: 10000\n"
     ]
    }
   ],
   "source": [
    "(x_train, y_train), (x_test, y_test) = tf.keras.datasets.mnist.load_data()\n",
    "\n",
    "# Rescale the images from [0,255] to the [0.0,1.0] range.\n",
    "x_train, x_test = x_train[..., np.newaxis]/255.0, x_test[..., np.newaxis]/255.0  # add colour dimension\n",
    "\n",
    "print(\"Number of original training examples:\", len(x_train))\n",
    "print(\"Number of original test examples:\", len(x_test))"
   ]
  },
  {
   "attachments": {},
   "cell_type": "markdown",
   "metadata": {},
   "source": [
    "Create a function to filter out only 0 and 1"
   ]
  },
  {
   "cell_type": "code",
   "execution_count": 4,
   "metadata": {},
   "outputs": [],
   "source": [
    "def filter_64(x, y):\n",
    "    keep = (y == 6) | (y == 4)\n",
    "    x, y = x[keep], y[keep]\n",
    "    y = y == 4\n",
    "    return x,y"
   ]
  },
  {
   "cell_type": "code",
   "execution_count": 5,
   "metadata": {},
   "outputs": [
    {
     "name": "stdout",
     "output_type": "stream",
     "text": [
      "Number of filtered training examples: 11760\n",
      "Number of filtered test examples: 1940\n"
     ]
    }
   ],
   "source": [
    "x_train, y_train = filter_64(x_train, y_train)\n",
    "x_test, y_test = filter_64(x_test, y_test)\n",
    "\n",
    "print(\"Number of filtered training examples:\", len(x_train))\n",
    "print(\"Number of filtered test examples:\", len(x_test))"
   ]
  },
  {
   "attachments": {},
   "cell_type": "markdown",
   "metadata": {},
   "source": [
    "Plot the original images"
   ]
  },
  {
   "cell_type": "code",
   "execution_count": 6,
   "metadata": {},
   "outputs": [],
   "source": [
    "i = 0"
   ]
  },
  {
   "cell_type": "code",
   "execution_count": 51,
   "metadata": {},
   "outputs": [
    {
     "data": {
      "image/png": "[encoded data removed]",
      "text/plain": [
       "<Figure size 640x480 with 1 Axes>"
      ]
     },
     "metadata": {},
     "output_type": "display_data"
    }
   ],
   "source": [
    "i += 1\n",
    "plt.imshow(x_train[i, :, :, 0], cmap='Greys')\n",
    "ax = plt.gca()\n",
    "ax.set_xticks([])\n",
    "ax.set_yticks([])\n",
    "plt.title(f\"28x28 image of a {'4' if (y_train[i] == 1) else '6'}\", fontsize=20)\n",
    "# save to file as pdf\n",
    "plt.savefig('28x28_MNIST_0.pdf', bbox_inches='tight', pad_inches=0)\n",
    "plt.show()"
   ]
  },
  {
   "attachments": {},
   "cell_type": "markdown",
   "metadata": {},
   "source": [
    "Reduce images to 9x9"
   ]
  },
  {
   "cell_type": "code",
   "execution_count": 53,
   "metadata": {},
   "outputs": [
    {
     "name": "stdout",
     "output_type": "stream",
     "text": [
      "(11760, 9, 9, 1)\n"
     ]
    }
   ],
   "source": [
    "x_train_small = tf.image.resize(x_train, (9,9)).numpy()\n",
    "x_test_small = tf.image.resize(x_test, (9,9)).numpy()\n",
    "\n",
    "print(x_train_small.shape)"
   ]
  },
  {
   "cell_type": "code",
   "execution_count": 54,
   "metadata": {},
   "outputs": [
    {
     "data": {
      "image/png": "[encoded data removed]",
      "text/plain": [
       "<Figure size 640x480 with 1 Axes>"
      ]
     },
     "metadata": {},
     "output_type": "display_data"
    }
   ],
   "source": [
    "plt.imshow(x_train_small[i,:,:,0], vmin=0, vmax=1, cmap='Greys')\n",
    "ax = plt.gca()\n",
    "ax.set_xticks([])\n",
    "ax.set_yticks([])\n",
    "plt.title(f\"9x9 image of a {'4' if (y_train[i] == 1) else '6'}\", fontsize=20)\n",
    "# save to file as pdf\n",
    "plt.savefig('9x9_MNIST_0.pdf', bbox_inches='tight', pad_inches=0)\n",
    "plt.show()"
   ]
  },
  {
   "attachments": {},
   "cell_type": "markdown",
   "metadata": {},
   "source": [
    "Further reduce images to 9x1"
   ]
  },
  {
   "cell_type": "code",
   "execution_count": 55,
   "metadata": {},
   "outputs": [
    {
     "name": "stdout",
     "output_type": "stream",
     "text": [
      "shape = (11760, 9)\n"
     ]
    },
    {
     "data": {
      "image/png": "[encoded data removed]",
      "text/plain": [
       "<Figure size 640x480 with 1 Axes>"
      ]
     },
     "metadata": {},
     "output_type": "display_data"
    }
   ],
   "source": [
    "x_train_small = tf.image.resize(x_train, (9,9)).numpy()\n",
    "x_test_small = tf.image.resize(x_test, (9,9)).numpy()\n",
    "\n",
    "x_train_small = x_train_small[:,:,4,:].reshape((-1,9))  # take only central slices\n",
    "x_test_small = x_test_small[:,:,4,:].reshape((-1,9))  # take only central slices\n",
    "print(f\"shape = {x_train_small.shape}\")\n",
    "\n",
    "plt.imshow(x_train_small[i,:].reshape((-1,1)), vmin=0, vmax=1, cmap='Greys')\n",
    "ax = plt.gca()\n",
    "ax.set_xticks([])\n",
    "ax.set_yticks([])\n",
    "plt.title(f\"9x1 image of a {'4' if (y_train[i] == 1) else '6'}\", fontsize=20)\n",
    "# save to file as pdf\n",
    "plt.savefig('9x1_MNIST_0.pdf', bbox_inches='tight', pad_inches=0)\n",
    "plt.show()\n"
   ]
  },
  {
   "attachments": {},
   "cell_type": "markdown",
   "metadata": {},
   "source": [
    "## Set up the Quantum Neural Network\n",
    "\n",
    "Create quantum circuit using pennylane qnode, then conver this to a Keras layer to make a Keras model"
   ]
  },
  {
   "cell_type": "code",
   "execution_count": 11,
   "metadata": {},
   "outputs": [],
   "source": [
    "def build_qnn_model(num_of_layers):    \n",
    "    print(f\"{80*'*'}\")\n",
    "    print(f\"Building QNN model with {num_of_layers} layer(s)\")\n",
    "    print(f\"{80*'*'}\")\n",
    "    print()\n",
    "\n",
    "    n_qubits = 9\n",
    "    n_layers = num_of_layers\n",
    "    dev = qml.device(\"default.qubit\", wires=n_qubits)\n",
    "\n",
    "    @qml.qnode(dev, interface=\"tf\")\n",
    "    def qnode(inputs, weights):\n",
    "\n",
    "        if len(inputs.shape) == 1:\n",
    "            for ii in range(n_qubits):\n",
    "                qml.RY(np.pi * inputs[ii], wires=ii)\n",
    "        else:\n",
    "            for ii in range(n_qubits):\n",
    "                qml.RY(np.pi * inputs[:,ii], wires=ii)\n",
    "\n",
    "        for jj in range(n_layers):\n",
    "            for ii in range(n_qubits-1):\n",
    "                qml.RZ(weights[jj,2*ii,0], wires=0)\n",
    "                qml.RY(weights[jj,2*ii,1], wires=0)\n",
    "                qml.RZ(weights[jj,2*ii,2], wires=0)\n",
    "\n",
    "                qml.RZ(weights[jj,2*ii+1,0], wires=ii+1)\n",
    "                qml.RY(weights[jj,2*ii+1,1], wires=ii+1)\n",
    "                qml.RZ(weights[jj,2*ii+1,2], wires=ii+1)\n",
    "\n",
    "                #qml.U3(*list(weights[jj,2*ii,:]), wires=0)\n",
    "                #qml.U3(*list(weights[jj,2*ii+1,:]), wires=ii+1)\n",
    "                qml.CNOT(wires=[ii+1,0])\n",
    "                \n",
    "            qml.RZ(weights[jj,2*(n_qubits-1),0], wires=0)\n",
    "            qml.RY(weights[jj,2*(n_qubits-1),1], wires=0)\n",
    "            qml.RZ(weights[jj,2*(n_qubits-1),2], wires=0)\n",
    "\n",
    "        return qml.expval(qml.PauliZ(0))\n",
    "\n",
    "    weight_shapes = {\"weights\": (n_layers, 2*(n_qubits-1)+1, 3) }\n",
    "\n",
    "    qlayer = qml.qnn.KerasLayer(qnode, weight_shapes, output_dim=1, name=\"quantumLayer\")\n",
    "    inputs = tf.keras.Input(shape=(n_qubits,), name=\"inputs\")\n",
    "    outputs = qlayer(inputs)\n",
    "    model = tf.keras.Model(inputs=inputs, outputs=outputs, name=\"QNN\")\n",
    "\n",
    "    y_train_hinge = 2.0*y_train-1.0\n",
    "    y_test_hinge = 2.0*y_test-1.0\n",
    "\n",
    "    def hinge_accuracy(y_true, y_pred):\n",
    "        y_true = tf.squeeze(y_true) > 0.0\n",
    "        y_pred = tf.squeeze(y_pred) > 0.0\n",
    "        result = tf.cast(y_true == y_pred, tf.float32)\n",
    "\n",
    "        return tf.reduce_mean(result)\n",
    "    \n",
    "    model.compile(\n",
    "        loss=tf.keras.losses.Hinge(),\n",
    "        optimizer=tf.keras.optimizers.Adam(),\n",
    "        metrics=[hinge_accuracy])\n",
    "    \n",
    "    print(model.summary())\n",
    "\n",
    "    EPOCHS = 20\n",
    "    BATCH_SIZE = 32\n",
    "\n",
    "    NUM_EXAMPLES = 512 \n",
    "    print(f\"x shape = {x_train_small.shape}\")\n",
    "\n",
    "    x_train_sub = x_train_small[:NUM_EXAMPLES]\n",
    "    y_train_hinge_sub = y_train_hinge[:NUM_EXAMPLES]\n",
    "\n",
    "    print(f\"x train shape = {x_train_sub.shape}\")\n",
    "\n",
    "    x_test_sub = x_test_small[:,:]\n",
    "    y_test_sub = y_test[:]\n",
    "\n",
    "    print(f\"x test shape = {x_test_sub.shape}\")\n",
    "\n",
    "    start_time = datetime.now()\n",
    "\n",
    "    qnn_history = model.fit(\n",
    "        x_train_sub, y_train_hinge_sub,\n",
    "        batch_size=BATCH_SIZE,\n",
    "        epochs=EPOCHS,\n",
    "        verbose=1)#,\n",
    "        #validation_data=(x_test_sub, y_test_sub))\n",
    "\n",
    "    model_training_time = datetime.now() - start_time\n",
    "\n",
    "    qnn_results = model.evaluate(x_test_sub, y_test_sub)\n",
    "\n",
    "    print()\n",
    "\n",
    "    return qnn_history, model_training_time, qnn_results"
   ]
  },
  {
   "cell_type": "code",
   "execution_count": 12,
   "metadata": {},
   "outputs": [
    {
     "name": "stdout",
     "output_type": "stream",
     "text": [
      "********************************************************************************\n",
      "Building QNN model with 1 layer(s)\n",
      "********************************************************************************\n",
      "\n",
      "Model: \"QNN\"\n",
      "_________________________________________________________________\n",
      " Layer (type)                Output Shape              Param #   \n",
      "=================================================================\n",
      " inputs (InputLayer)         [(None, 9)]               0         \n",
      "                                                                 \n",
      " quantumLayer (KerasLayer)   (None, 1)                 51        \n",
      "                                                                 \n",
      "=================================================================\n",
      "Total params: 51 (408.00 Byte)\n",
      "Trainable params: 51 (408.00 Byte)\n",
      "Non-trainable params: 0 (0.00 Byte)\n",
      "_________________________________________________________________\n",
      "None\n",
      "x shape = (11760, 9)\n",
      "x train shape = (512, 9)\n",
      "x test shape = (1940, 9)\n",
      "Epoch 1/20\n",
      "16/16 [==============================] - 6s 338ms/step - loss: 1.0799 - hinge_accuracy: 0.3867\n",
      "Epoch 2/20\n",
      "16/16 [==============================] - 5s 329ms/step - loss: 1.0669 - hinge_accuracy: 0.4004\n",
      "Epoch 3/20\n",
      "16/16 [==============================] - 5s 319ms/step - loss: 1.0555 - hinge_accuracy: 0.4258\n",
      "Epoch 4/20\n",
      "16/16 [==============================] - 5s 303ms/step - loss: 1.0455 - hinge_accuracy: 0.4473\n",
      "Epoch 5/20\n",
      "16/16 [==============================] - 5s 316ms/step - loss: 1.0357 - hinge_accuracy: 0.4551\n",
      "Epoch 6/20\n",
      "16/16 [==============================] - 5s 330ms/step - loss: 1.0263 - hinge_accuracy: 0.4629\n",
      "Epoch 7/20\n",
      "16/16 [==============================] - 5s 333ms/step - loss: 1.0166 - hinge_accuracy: 0.4824\n",
      "Epoch 8/20\n",
      "16/16 [==============================] - 5s 306ms/step - loss: 1.0060 - hinge_accuracy: 0.5020\n",
      "Epoch 9/20\n",
      "16/16 [==============================] - 5s 296ms/step - loss: 0.9946 - hinge_accuracy: 0.5371\n",
      "Epoch 10/20\n",
      "16/16 [==============================] - 5s 303ms/step - loss: 0.9807 - hinge_accuracy: 0.5605\n",
      "Epoch 11/20\n",
      "16/16 [==============================] - 5s 295ms/step - loss: 0.9645 - hinge_accuracy: 0.5781\n",
      "Epoch 12/20\n",
      "16/16 [==============================] - 5s 342ms/step - loss: 0.9458 - hinge_accuracy: 0.6152\n",
      "Epoch 13/20\n",
      "16/16 [==============================] - 5s 333ms/step - loss: 0.9250 - hinge_accuracy: 0.6465\n",
      "Epoch 14/20\n",
      "16/16 [==============================] - 5s 311ms/step - loss: 0.9015 - hinge_accuracy: 0.6641\n",
      "Epoch 15/20\n",
      "16/16 [==============================] - 5s 318ms/step - loss: 0.8761 - hinge_accuracy: 0.6738\n",
      "Epoch 16/20\n",
      "16/16 [==============================] - 5s 315ms/step - loss: 0.8514 - hinge_accuracy: 0.6797\n",
      "Epoch 17/20\n",
      "16/16 [==============================] - 5s 343ms/step - loss: 0.8266 - hinge_accuracy: 0.6855\n",
      "Epoch 18/20\n",
      "16/16 [==============================] - 5s 319ms/step - loss: 0.8030 - hinge_accuracy: 0.6953\n",
      "Epoch 19/20\n",
      "16/16 [==============================] - 5s 329ms/step - loss: 0.7820 - hinge_accuracy: 0.7051\n",
      "Epoch 20/20\n",
      "16/16 [==============================] - 5s 301ms/step - loss: 0.7633 - hinge_accuracy: 0.7090\n",
      "61/61 [==============================] - 8s 129ms/step - loss: 0.7516 - hinge_accuracy: 0.6958\n",
      "\n",
      "********************************************************************************\n",
      "Building QNN model with 2 layer(s)\n",
      "********************************************************************************\n",
      "\n",
      "Model: \"QNN\"\n",
      "_________________________________________________________________\n",
      " Layer (type)                Output Shape              Param #   \n",
      "=================================================================\n",
      " inputs (InputLayer)         [(None, 9)]               0         \n",
      "                                                                 \n",
      " quantumLayer (KerasLayer)   (None, 1)                 102       \n",
      "                                                                 \n",
      "=================================================================\n",
      "Total params: 102 (816.00 Byte)\n",
      "Trainable params: 102 (816.00 Byte)\n",
      "Non-trainable params: 0 (0.00 Byte)\n",
      "_________________________________________________________________\n",
      "None\n",
      "x shape = (11760, 9)\n",
      "x train shape = (512, 9)\n",
      "x test shape = (1940, 9)\n",
      "Epoch 1/20\n",
      "16/16 [==============================] - 9s 566ms/step - loss: 0.8568 - hinge_accuracy: 0.5371\n",
      "Epoch 2/20\n",
      "16/16 [==============================] - 9s 560ms/step - loss: 0.8323 - hinge_accuracy: 0.5449\n",
      "Epoch 3/20\n",
      "16/16 [==============================] - 9s 574ms/step - loss: 0.8073 - hinge_accuracy: 0.5527\n",
      "Epoch 4/20\n",
      "16/16 [==============================] - 10s 596ms/step - loss: 0.7800 - hinge_accuracy: 0.5703\n",
      "Epoch 5/20\n",
      "16/16 [==============================] - 9s 558ms/step - loss: 0.7510 - hinge_accuracy: 0.5840\n",
      "Epoch 6/20\n",
      "16/16 [==============================] - 9s 577ms/step - loss: 0.7183 - hinge_accuracy: 0.6230\n",
      "Epoch 7/20\n",
      "16/16 [==============================] - 9s 552ms/step - loss: 0.6844 - hinge_accuracy: 0.6875\n",
      "Epoch 8/20\n",
      "16/16 [==============================] - 9s 550ms/step - loss: 0.6516 - hinge_accuracy: 0.7402\n",
      "Epoch 9/20\n",
      "16/16 [==============================] - 9s 564ms/step - loss: 0.6200 - hinge_accuracy: 0.7793\n",
      "Epoch 10/20\n",
      "16/16 [==============================] - 9s 574ms/step - loss: 0.5925 - hinge_accuracy: 0.8066\n",
      "Epoch 11/20\n",
      "16/16 [==============================] - 9s 572ms/step - loss: 0.5701 - hinge_accuracy: 0.8301\n",
      "Epoch 12/20\n",
      "16/16 [==============================] - 9s 565ms/step - loss: 0.5512 - hinge_accuracy: 0.8438\n",
      "Epoch 13/20\n",
      "16/16 [==============================] - 9s 579ms/step - loss: 0.5360 - hinge_accuracy: 0.8477\n",
      "Epoch 14/20\n",
      "16/16 [==============================] - 10s 605ms/step - loss: 0.5241 - hinge_accuracy: 0.8535\n",
      "Epoch 15/20\n",
      "16/16 [==============================] - 9s 591ms/step - loss: 0.5139 - hinge_accuracy: 0.8613\n",
      "Epoch 16/20\n",
      "16/16 [==============================] - 10s 593ms/step - loss: 0.5047 - hinge_accuracy: 0.8594\n",
      "Epoch 17/20\n",
      "16/16 [==============================] - 9s 581ms/step - loss: 0.4969 - hinge_accuracy: 0.8594\n",
      "Epoch 18/20\n",
      "16/16 [==============================] - 10s 612ms/step - loss: 0.4900 - hinge_accuracy: 0.8555\n",
      "Epoch 19/20\n",
      "16/16 [==============================] - 10s 608ms/step - loss: 0.4833 - hinge_accuracy: 0.8574\n",
      "Epoch 20/20\n",
      "16/16 [==============================] - 10s 642ms/step - loss: 0.4775 - hinge_accuracy: 0.8594\n",
      "61/61 [==============================] - 18s 299ms/step - loss: 0.5542 - hinge_accuracy: 0.8039\n",
      "\n",
      "********************************************************************************\n",
      "Building QNN model with 3 layer(s)\n",
      "********************************************************************************\n",
      "\n",
      "Model: \"QNN\"\n",
      "_________________________________________________________________\n",
      " Layer (type)                Output Shape              Param #   \n",
      "=================================================================\n",
      " inputs (InputLayer)         [(None, 9)]               0         \n",
      "                                                                 \n",
      " quantumLayer (KerasLayer)   (None, 1)                 153       \n",
      "                                                                 \n",
      "=================================================================\n",
      "Total params: 153 (1.20 KB)\n",
      "Trainable params: 153 (1.20 KB)\n",
      "Non-trainable params: 0 (0.00 Byte)\n",
      "_________________________________________________________________\n",
      "None\n",
      "x shape = (11760, 9)\n",
      "x train shape = (512, 9)\n",
      "x test shape = (1940, 9)\n",
      "Epoch 1/20\n",
      "16/16 [==============================] - 15s 932ms/step - loss: 0.8761 - hinge_accuracy: 0.6738\n",
      "Epoch 2/20\n",
      "16/16 [==============================] - 15s 919ms/step - loss: 0.8184 - hinge_accuracy: 0.7324\n",
      "Epoch 3/20\n",
      "16/16 [==============================] - 15s 914ms/step - loss: 0.7709 - hinge_accuracy: 0.7500\n",
      "Epoch 4/20\n",
      "16/16 [==============================] - 15s 912ms/step - loss: 0.7327 - hinge_accuracy: 0.7695\n",
      "Epoch 5/20\n",
      "16/16 [==============================] - 16s 985ms/step - loss: 0.7026 - hinge_accuracy: 0.7773\n",
      "Epoch 6/20\n",
      "16/16 [==============================] - 16s 1s/step - loss: 0.6770 - hinge_accuracy: 0.7910\n",
      "Epoch 7/20\n",
      "16/16 [==============================] - 15s 955ms/step - loss: 0.6543 - hinge_accuracy: 0.7988\n",
      "Epoch 8/20\n",
      "16/16 [==============================] - 14s 837ms/step - loss: 0.6337 - hinge_accuracy: 0.8105\n",
      "Epoch 9/20\n",
      "16/16 [==============================] - 14s 858ms/step - loss: 0.6145 - hinge_accuracy: 0.8203\n",
      "Epoch 10/20\n",
      "16/16 [==============================] - 14s 881ms/step - loss: 0.5979 - hinge_accuracy: 0.8242\n",
      "Epoch 11/20\n",
      "16/16 [==============================] - 15s 922ms/step - loss: 0.5830 - hinge_accuracy: 0.8223\n",
      "Epoch 12/20\n",
      "16/16 [==============================] - 15s 907ms/step - loss: 0.5692 - hinge_accuracy: 0.8320\n",
      "Epoch 13/20\n",
      "16/16 [==============================] - 13s 844ms/step - loss: 0.5575 - hinge_accuracy: 0.8340\n",
      "Epoch 14/20\n",
      "16/16 [==============================] - 14s 860ms/step - loss: 0.5465 - hinge_accuracy: 0.8340\n",
      "Epoch 15/20\n",
      "16/16 [==============================] - 14s 846ms/step - loss: 0.5369 - hinge_accuracy: 0.8379\n",
      "Epoch 16/20\n",
      "16/16 [==============================] - 14s 848ms/step - loss: 0.5279 - hinge_accuracy: 0.8398\n",
      "Epoch 17/20\n",
      "16/16 [==============================] - 14s 851ms/step - loss: 0.5191 - hinge_accuracy: 0.8379\n",
      "Epoch 18/20\n",
      "16/16 [==============================] - 13s 817ms/step - loss: 0.5108 - hinge_accuracy: 0.8379\n",
      "Epoch 19/20\n",
      "16/16 [==============================] - 14s 862ms/step - loss: 0.5031 - hinge_accuracy: 0.8438\n",
      "Epoch 20/20\n",
      "16/16 [==============================] - 14s 877ms/step - loss: 0.4951 - hinge_accuracy: 0.8477\n",
      "61/61 [==============================] - 20s 334ms/step - loss: 0.5357 - hinge_accuracy: 0.8417\n",
      "\n"
     ]
    }
   ],
   "source": [
    "qnn_list = []\n",
    "\n",
    "for i in range(1, 4):\n",
    "    qnn_history, model_training_time, qnn_results = build_qnn_model(i)\n",
    "    qnn_list.append([i, qnn_history, model_training_time, qnn_results])"
   ]
  },
  {
   "attachments": {},
   "cell_type": "markdown",
   "metadata": {},
   "source": [
    "## Plot the results!"
   ]
  },
  {
   "cell_type": "code",
   "execution_count": 13,
   "metadata": {},
   "outputs": [
    {
     "name": "stdout",
     "output_type": "stream",
     "text": [
      "Training time for 1-layer QNN: 0:01:42.383718\n",
      "\n",
      "Training time for 2-layer QNN: 0:03:06.003891\n",
      "\n",
      "Training time for 3-layer QNN: 0:04:45.252619\n",
      "\n"
     ]
    }
   ],
   "source": [
    "qnn_histories = {}\n",
    "\n",
    "for [i, qnn_history, model_training_time, qnn_results] in qnn_list:\n",
    "    print(f\"Training time for {i}-layer QNN: {model_training_time}\")\n",
    "    print()\n",
    "    if i not in qnn_histories:\n",
    "        qnn_histories[i] = []\n",
    "    qnn_histories[i].append(qnn_history)"
   ]
  },
  {
   "cell_type": "code",
   "execution_count": 14,
   "metadata": {},
   "outputs": [
    {
     "data": {
      "image/png": "[encoded data removed]",
      "text/plain": [
       "<Figure size 640x480 with 1 Axes>"
      ]
     },
     "metadata": {},
     "output_type": "display_data"
    }
   ],
   "source": [
    "# plot the hinge accuracy for the qnn history for both 1 and 2 layer on the same axes\n",
    "for n in qnn_histories.keys():\n",
    "    plt.plot(np.arange(1,21), qnn_histories[n][0].history[\"hinge_accuracy\"], label=f\"{n} layer QNN\")\n",
    "    \n",
    "plt.xlabel(\"Epoch\")\n",
    "plt.ylabel(\"Hinge Accuracy\")\n",
    "plt.legend()\n",
    "# modify x_ticks to also include 20\n",
    "plt.xticks(np.arange(0, 21, 2))\n",
    "# save as pdf with tight layout and no padding\n",
    "#plt.savefig(\"qnn_hinge_accuracy.pdf\", bbox_inches=\"tight\", pad_inches=0)\n",
    "plt.show()"
   ]
  },
  {
   "cell_type": "code",
   "execution_count": 15,
   "metadata": {},
   "outputs": [
    {
     "data": {
      "image/png": "[encoded data removed]",
      "text/plain": [
       "<Figure size 640x480 with 1 Axes>"
      ]
     },
     "metadata": {},
     "output_type": "display_data"
    }
   ],
   "source": [
    "# plot the hinge accuracy for the loss for both 1 and 2 layer on the same axes\n",
    "for n in qnn_histories.keys():\n",
    "    plt.plot(np.arange(1,21), qnn_histories[n][0].history[\"loss\"], label=f\"{n} layer QNN\")\n",
    "\n",
    "plt.xlabel(\"Epoch\")\n",
    "plt.ylabel(\"Hinge Loss\")\n",
    "plt.legend()\n",
    "# modify x_ticks to also include 20\n",
    "plt.xticks(np.arange(0, 21, 2))\n",
    "# save as pdf with tight layout and no padding\n",
    "#plt.savefig(\"qnn_hinge_loss.pdf\", bbox_inches=\"tight\", pad_inches=0)\n",
    "plt.show()"
   ]
  },
  {
   "cell_type": "code",
   "execution_count": 16,
   "metadata": {},
   "outputs": [
    {
     "name": "stdout",
     "output_type": "stream",
     "text": [
      "Saved qnn_histories to qnn_histories_20250325114841.pkl\n"
     ]
    }
   ],
   "source": [
    "import pickle\n",
    "\n",
    "timestamp = datetime.now().strftime(\"%Y%m%d%H%M%S\")\n",
    "with open(f'qnn_histories_{timestamp}.pkl', 'wb') as f:\n",
    "    pickle.dump(qnn_histories, f)\n",
    "\n",
    "print(f\"Saved qnn_histories to qnn_histories_{timestamp}.pkl\")"
   ]
  }
 ],
 "metadata": {
  "kernelspec": {
   "display_name": "phys4041",
   "language": "python",
   "name": "python3"
  },
  "language_info": {
   "codemirror_mode": {
    "name": "ipython",
    "version": 3
   },
   "file_extension": ".py",
   "mimetype": "text/x-python",
   "name": "python",
   "nbconvert_exporter": "python",
   "pygments_lexer": "ipython3",
   "version": "3.10.16"
  },
  "orig_nbformat": 4
 },
 "nbformat": 4,
 "nbformat_minor": 2
}
