{
 "cells": [
  {
   "cell_type": "markdown",
   "metadata": {},
   "source": [
    "## Changed to classifying between 6 and 4\n",
    "#### Used vertical features instead of horizontal features"
   ]
  },
  {
   "cell_type": "code",
   "execution_count": 1,
   "metadata": {},
   "outputs": [],
   "source": [
    "import pennylane as qml\n",
    "import tensorflow as tf\n",
    "#import sklearn.datasets\n",
    "#from sklearn.datasets import fetch_openml\n",
    "\n",
    "import numpy as np\n",
    "\n",
    "from matplotlib import pyplot as plt\n",
    "\n",
    "tf.keras.backend.set_floatx('float64')\n",
    "\n",
    "from silence_tensorflow import silence_tensorflow\n",
    "silence_tensorflow()  # this stops tensorflow complaining about converting from complex to float!\n",
    "\n",
    "from datetime import datetime"
   ]
  },
  {
   "attachments": {},
   "cell_type": "markdown",
   "metadata": {},
   "source": [
    "## Load and reduce the data\n",
    "\n",
    "Load the MNIST data and check number of training and test examples"
   ]
  },
  {
   "cell_type": "code",
   "execution_count": 2,
   "metadata": {},
   "outputs": [
    {
     "name": "stdout",
     "output_type": "stream",
     "text": [
      "Number of original training examples: 60000\n",
      "Number of original test examples: 10000\n"
     ]
    }
   ],
   "source": [
    "(x_train, y_train), (x_test, y_test) = tf.keras.datasets.mnist.load_data()\n",
    "\n",
    "# Rescale the images from [0,255] to the [0.0,1.0] range.\n",
    "x_train, x_test = x_train[..., np.newaxis]/255.0, x_test[..., np.newaxis]/255.0  # add colour dimension\n",
    "\n",
    "print(\"Number of original training examples:\", len(x_train))\n",
    "print(\"Number of original test examples:\", len(x_test))"
   ]
  },
  {
   "attachments": {},
   "cell_type": "markdown",
   "metadata": {},
   "source": [
    "Create a function to filter out only 0 and 1"
   ]
  },
  {
   "cell_type": "code",
   "execution_count": 3,
   "metadata": {},
   "outputs": [],
   "source": [
    "def filter_64(x, y):\n",
    "    keep = (y == 6) | (y == 4)\n",
    "    x, y = x[keep], y[keep]\n",
    "    y = y == 0\n",
    "    return x,y"
   ]
  },
  {
   "cell_type": "code",
   "execution_count": 4,
   "metadata": {},
   "outputs": [
    {
     "name": "stdout",
     "output_type": "stream",
     "text": [
      "Number of filtered training examples: 11760\n",
      "Number of filtered test examples: 1940\n"
     ]
    }
   ],
   "source": [
    "x_train, y_train = filter_64(x_train, y_train)\n",
    "x_test, y_test = filter_64(x_test, y_test)\n",
    "\n",
    "print(\"Number of filtered training examples:\", len(x_train))\n",
    "print(\"Number of filtered test examples:\", len(x_test))"
   ]
  },
  {
   "attachments": {},
   "cell_type": "markdown",
   "metadata": {},
   "source": [
    "Plot the original images"
   ]
  },
  {
   "cell_type": "code",
   "execution_count": 5,
   "metadata": {},
   "outputs": [],
   "source": [
    "i = 0"
   ]
  },
  {
   "cell_type": "code",
   "execution_count": 6,
   "metadata": {},
   "outputs": [
    {
     "data": {
      "image/png": "[encoded data removed]",
      "text/plain": [
       "<Figure size 640x480 with 1 Axes>"
      ]
     },
     "metadata": {},
     "output_type": "display_data"
    }
   ],
   "source": [
    "i += 1\n",
    "plt.imshow(x_train[0, :, :, 0], cmap='Greys')\n",
    "ax = plt.gca()\n",
    "ax.set_xticks([])\n",
    "ax.set_yticks([])\n",
    "plt.title(\"28x28 image of a 0\", fontsize=20)\n",
    "# save to file as pdf\n",
    "plt.savefig('28x28_MNIST_0.pdf', bbox_inches='tight', pad_inches=0)\n",
    "plt.show()"
   ]
  },
  {
   "attachments": {},
   "cell_type": "markdown",
   "metadata": {},
   "source": [
    "Reduce images to 9x9"
   ]
  },
  {
   "cell_type": "code",
   "execution_count": 7,
   "metadata": {},
   "outputs": [
    {
     "name": "stdout",
     "output_type": "stream",
     "text": [
      "(11760, 9, 9, 1)\n"
     ]
    }
   ],
   "source": [
    "x_train_small = tf.image.resize(x_train, (9,9)).numpy()\n",
    "x_test_small = tf.image.resize(x_test, (9,9)).numpy()\n",
    "\n",
    "print(x_train_small.shape)"
   ]
  },
  {
   "cell_type": "code",
   "execution_count": 8,
   "metadata": {},
   "outputs": [
    {
     "data": {
      "image/png": "[encoded data removed]",
      "text/plain": [
       "<Figure size 640x480 with 1 Axes>"
      ]
     },
     "metadata": {},
     "output_type": "display_data"
    }
   ],
   "source": [
    "plt.imshow(x_train_small[0,:,:,0], vmin=0, vmax=1, cmap='Greys')\n",
    "ax = plt.gca()\n",
    "ax.set_xticks([])\n",
    "ax.set_yticks([])\n",
    "plt.title(\"9x9 image of a 0\", fontsize=20)\n",
    "# save to file as pdf\n",
    "plt.savefig('9x9_MNIST_0.pdf', bbox_inches='tight', pad_inches=0)\n",
    "plt.show()"
   ]
  },
  {
   "attachments": {},
   "cell_type": "markdown",
   "metadata": {},
   "source": [
    "Further reduce images to 9x1"
   ]
  },
  {
   "cell_type": "code",
   "execution_count": 9,
   "metadata": {},
   "outputs": [
    {
     "name": "stdout",
     "output_type": "stream",
     "text": [
      "shape = (11760, 9)\n"
     ]
    },
    {
     "data": {
      "image/png": "[encoded data removed]",
      "text/plain": [
       "<Figure size 640x480 with 1 Axes>"
      ]
     },
     "metadata": {},
     "output_type": "display_data"
    }
   ],
   "source": [
    "x_train_small = tf.image.resize(x_train, (9,9)).numpy()\n",
    "x_test_small = tf.image.resize(x_test, (9,9)).numpy()\n",
    "\n",
    "x_train_small = x_train_small[:,:,4,:].reshape((-1,9))  # take only central slices\n",
    "x_test_small = x_test_small[:,:,4,:].reshape((-1,9))  # take only central slices\n",
    "print(f\"shape = {x_train_small.shape}\")\n",
    "\n",
    "plt.imshow(x_train_small[0,:].reshape((-1,1)), vmin=0, vmax=1, cmap='Greys')\n",
    "ax = plt.gca()\n",
    "ax.set_xticks([])\n",
    "ax.set_yticks([])\n",
    "plt.title(\"9x1 image of a 0\", fontsize=20)\n",
    "# save to file as pdf\n",
    "plt.savefig('9x1_MNIST_0.pdf', bbox_inches='tight', pad_inches=0)\n",
    "plt.show()\n"
   ]
  },
  {
   "attachments": {},
   "cell_type": "markdown",
   "metadata": {},
   "source": [
    "## Set up the Quantum Neural Network\n",
    "\n",
    "Create quantum circuit using pennylane qnode, then conver this to a Keras layer to make a Keras model"
   ]
  },
  {
   "cell_type": "code",
   "execution_count": 10,
   "metadata": {},
   "outputs": [],
   "source": [
    "def build_qnn_model(num_of_layers):    \n",
    "    print(f\"{80*'*'}\")\n",
    "    print(f\"Building QNN model with {num_of_layers} layer(s)\")\n",
    "    print(f\"{80*'*'}\")\n",
    "    print()\n",
    "\n",
    "    n_qubits = 9\n",
    "    n_layers = num_of_layers\n",
    "    dev = qml.device(\"default.qubit\", wires=n_qubits)\n",
    "\n",
    "    @qml.qnode(dev, interface=\"tf\")\n",
    "    def qnode(inputs, weights):\n",
    "\n",
    "        if len(inputs.shape) == 1:\n",
    "            for ii in range(n_qubits):\n",
    "                qml.RY(np.pi * inputs[ii], wires=ii)\n",
    "        else:\n",
    "            for ii in range(n_qubits):\n",
    "                qml.RY(np.pi * inputs[:,ii], wires=ii)\n",
    "\n",
    "        for jj in range(n_layers):\n",
    "            for ii in range(n_qubits-1):\n",
    "                qml.RZ(weights[jj,2*ii,0], wires=0)\n",
    "                qml.RY(weights[jj,2*ii,1], wires=0)\n",
    "                qml.RZ(weights[jj,2*ii,2], wires=0)\n",
    "\n",
    "                qml.RZ(weights[jj,2*ii+1,0], wires=ii+1)\n",
    "                qml.RY(weights[jj,2*ii+1,1], wires=ii+1)\n",
    "                qml.RZ(weights[jj,2*ii+1,2], wires=ii+1)\n",
    "\n",
    "                #qml.U3(*list(weights[jj,2*ii,:]), wires=0)\n",
    "                #qml.U3(*list(weights[jj,2*ii+1,:]), wires=ii+1)\n",
    "                qml.CNOT(wires=[ii+1,0])\n",
    "                \n",
    "            qml.RZ(weights[jj,2*(n_qubits-1),0], wires=0)\n",
    "            qml.RY(weights[jj,2*(n_qubits-1),1], wires=0)\n",
    "            qml.RZ(weights[jj,2*(n_qubits-1),2], wires=0)\n",
    "\n",
    "        return qml.expval(qml.PauliZ(0))\n",
    "\n",
    "    weight_shapes = {\"weights\": (n_layers, 2*(n_qubits-1)+1, 3) }\n",
    "\n",
    "    qlayer = qml.qnn.KerasLayer(qnode, weight_shapes, output_dim=1, name=\"quantumLayer\")\n",
    "    inputs = tf.keras.Input(shape=(n_qubits,), name=\"inputs\")\n",
    "    outputs = qlayer(inputs)\n",
    "    model = tf.keras.Model(inputs=inputs, outputs=outputs, name=\"QNN\")\n",
    "\n",
    "    y_train_hinge = 2.0*y_train-1.0\n",
    "    y_test_hinge = 2.0*y_test-1.0\n",
    "\n",
    "    def hinge_accuracy(y_true, y_pred):\n",
    "        y_true = tf.squeeze(y_true) > 0.0\n",
    "        y_pred = tf.squeeze(y_pred) > 0.0\n",
    "        result = tf.cast(y_true == y_pred, tf.float32)\n",
    "\n",
    "        return tf.reduce_mean(result)\n",
    "    \n",
    "    model.compile(\n",
    "        loss=tf.keras.losses.Hinge(),\n",
    "        optimizer=tf.keras.optimizers.Adam(),\n",
    "        metrics=[hinge_accuracy])\n",
    "    \n",
    "    print(model.summary())\n",
    "\n",
    "    EPOCHS = 20\n",
    "    BATCH_SIZE = 32\n",
    "\n",
    "    NUM_EXAMPLES = 512 \n",
    "    print(f\"x shape = {x_train_small.shape}\")\n",
    "\n",
    "    x_train_sub = x_train_small[:NUM_EXAMPLES]\n",
    "    y_train_hinge_sub = y_train_hinge[:NUM_EXAMPLES]\n",
    "\n",
    "    print(f\"x train shape = {x_train_sub.shape}\")\n",
    "\n",
    "    x_test_sub = x_test_small[:,:]\n",
    "    y_test_sub = y_test[:]\n",
    "\n",
    "    print(f\"x test shape = {x_test_sub.shape}\")\n",
    "\n",
    "    start_time = datetime.now()\n",
    "\n",
    "    qnn_history = model.fit(\n",
    "        x_train_sub, y_train_hinge_sub,\n",
    "        batch_size=BATCH_SIZE,\n",
    "        epochs=EPOCHS,\n",
    "        verbose=1)#,\n",
    "        #validation_data=(x_test_sub, y_test_sub))\n",
    "\n",
    "    model_training_time = datetime.now() - start_time\n",
    "\n",
    "    qnn_results = model.evaluate(x_test_sub, y_test_sub)\n",
    "\n",
    "    print()\n",
    "\n",
    "    return qnn_history, model_training_time, qnn_results"
   ]
  },
  {
   "cell_type": "code",
   "execution_count": 11,
   "metadata": {},
   "outputs": [
    {
     "name": "stdout",
     "output_type": "stream",
     "text": [
      "********************************************************************************\n",
      "Building QNN model with 1 layer(s)\n",
      "********************************************************************************\n",
      "\n",
      "Model: \"QNN\"\n",
      "_________________________________________________________________\n",
      " Layer (type)                Output Shape              Param #   \n",
      "=================================================================\n",
      " inputs (InputLayer)         [(None, 9)]               0         \n",
      "                                                                 \n",
      " quantumLayer (KerasLayer)   (None, 1)                 51        \n",
      "                                                                 \n",
      "=================================================================\n",
      "Total params: 51 (408.00 Byte)\n",
      "Trainable params: 51 (408.00 Byte)\n",
      "Non-trainable params: 0 (0.00 Byte)\n",
      "_________________________________________________________________\n",
      "None\n",
      "x shape = (11760, 9)\n",
      "x train shape = (512, 9)\n",
      "x test shape = (1940, 9)\n",
      "Epoch 1/20\n",
      "16/16 [==============================] - 5s 315ms/step - loss: 0.7956 - hinge_accuracy: 0.8535\n",
      "Epoch 2/20\n",
      "16/16 [==============================] - 5s 302ms/step - loss: 0.7525 - hinge_accuracy: 0.8730\n",
      "Epoch 3/20\n",
      "16/16 [==============================] - 5s 306ms/step - loss: 0.7045 - hinge_accuracy: 0.8984\n",
      "Epoch 4/20\n",
      "16/16 [==============================] - 5s 304ms/step - loss: 0.6541 - hinge_accuracy: 0.9297\n",
      "Epoch 5/20\n",
      "16/16 [==============================] - 5s 307ms/step - loss: 0.6009 - hinge_accuracy: 0.9414\n",
      "Epoch 6/20\n",
      "16/16 [==============================] - 5s 304ms/step - loss: 0.5476 - hinge_accuracy: 0.9434\n",
      "Epoch 7/20\n",
      "16/16 [==============================] - 5s 314ms/step - loss: 0.4971 - hinge_accuracy: 0.9434\n",
      "Epoch 8/20\n",
      "16/16 [==============================] - 5s 309ms/step - loss: 0.4499 - hinge_accuracy: 0.9395\n",
      "Epoch 9/20\n",
      "16/16 [==============================] - 5s 317ms/step - loss: 0.4077 - hinge_accuracy: 0.9395\n",
      "Epoch 10/20\n",
      "16/16 [==============================] - 5s 313ms/step - loss: 0.3708 - hinge_accuracy: 0.9395\n",
      "Epoch 11/20\n",
      "16/16 [==============================] - 5s 307ms/step - loss: 0.3395 - hinge_accuracy: 0.9414\n",
      "Epoch 12/20\n",
      "16/16 [==============================] - 5s 310ms/step - loss: 0.3130 - hinge_accuracy: 0.9473\n",
      "Epoch 13/20\n",
      "16/16 [==============================] - 5s 309ms/step - loss: 0.2912 - hinge_accuracy: 0.9473\n",
      "Epoch 14/20\n",
      "16/16 [==============================] - 5s 310ms/step - loss: 0.2727 - hinge_accuracy: 0.9492\n",
      "Epoch 15/20\n",
      "16/16 [==============================] - 5s 310ms/step - loss: 0.2569 - hinge_accuracy: 0.9512\n",
      "Epoch 16/20\n",
      "16/16 [==============================] - 5s 303ms/step - loss: 0.2437 - hinge_accuracy: 0.9512\n",
      "Epoch 17/20\n",
      "16/16 [==============================] - 5s 297ms/step - loss: 0.2320 - hinge_accuracy: 0.9512\n",
      "Epoch 18/20\n",
      "16/16 [==============================] - 5s 293ms/step - loss: 0.2218 - hinge_accuracy: 0.9512\n",
      "Epoch 19/20\n",
      "16/16 [==============================] - 5s 296ms/step - loss: 0.2128 - hinge_accuracy: 0.9551\n",
      "Epoch 20/20\n",
      "16/16 [==============================] - 5s 296ms/step - loss: 0.2048 - hinge_accuracy: 0.9590\n",
      "61/61 [==============================] - 8s 131ms/step - loss: 0.2413 - hinge_accuracy: 0.9349\n",
      "\n",
      "********************************************************************************\n",
      "Building QNN model with 2 layer(s)\n",
      "********************************************************************************\n",
      "\n",
      "Model: \"QNN\"\n",
      "_________________________________________________________________\n",
      " Layer (type)                Output Shape              Param #   \n",
      "=================================================================\n",
      " inputs (InputLayer)         [(None, 9)]               0         \n",
      "                                                                 \n",
      " quantumLayer (KerasLayer)   (None, 1)                 102       \n",
      "                                                                 \n",
      "=================================================================\n",
      "Total params: 102 (816.00 Byte)\n",
      "Trainable params: 102 (816.00 Byte)\n",
      "Non-trainable params: 0 (0.00 Byte)\n",
      "_________________________________________________________________\n",
      "None\n",
      "x shape = (11760, 9)\n",
      "x train shape = (512, 9)\n",
      "x test shape = (1940, 9)\n",
      "Epoch 1/20\n",
      "16/16 [==============================] - 9s 554ms/step - loss: 1.4562 - hinge_accuracy: 0.0215\n",
      "Epoch 2/20\n",
      "16/16 [==============================] - 9s 550ms/step - loss: 1.3656 - hinge_accuracy: 0.0469\n",
      "Epoch 3/20\n",
      "16/16 [==============================] - 9s 555ms/step - loss: 1.2682 - hinge_accuracy: 0.0820\n",
      "Epoch 4/20\n",
      "16/16 [==============================] - 9s 548ms/step - loss: 1.1635 - hinge_accuracy: 0.1816\n",
      "Epoch 5/20\n",
      "16/16 [==============================] - 9s 553ms/step - loss: 1.0556 - hinge_accuracy: 0.4023\n",
      "Epoch 6/20\n",
      "16/16 [==============================] - 9s 551ms/step - loss: 0.9492 - hinge_accuracy: 0.6328\n",
      "Epoch 7/20\n",
      "16/16 [==============================] - 9s 549ms/step - loss: 0.8498 - hinge_accuracy: 0.7578\n",
      "Epoch 8/20\n",
      "16/16 [==============================] - 9s 556ms/step - loss: 0.7607 - hinge_accuracy: 0.8457\n",
      "Epoch 9/20\n",
      "16/16 [==============================] - 9s 547ms/step - loss: 0.6851 - hinge_accuracy: 0.9043\n",
      "Epoch 10/20\n",
      "16/16 [==============================] - 9s 557ms/step - loss: 0.6208 - hinge_accuracy: 0.9277\n",
      "Epoch 11/20\n",
      "16/16 [==============================] - 9s 551ms/step - loss: 0.5675 - hinge_accuracy: 0.9512\n",
      "Epoch 12/20\n",
      "16/16 [==============================] - 9s 552ms/step - loss: 0.5218 - hinge_accuracy: 0.9668\n",
      "Epoch 13/20\n",
      "16/16 [==============================] - 9s 548ms/step - loss: 0.4820 - hinge_accuracy: 0.9746\n",
      "Epoch 14/20\n",
      "16/16 [==============================] - 9s 551ms/step - loss: 0.4469 - hinge_accuracy: 0.9824\n",
      "Epoch 15/20\n",
      "16/16 [==============================] - 9s 554ms/step - loss: 0.4150 - hinge_accuracy: 0.9883\n",
      "Epoch 16/20\n",
      "16/16 [==============================] - 9s 558ms/step - loss: 0.3856 - hinge_accuracy: 0.9883\n",
      "Epoch 17/20\n",
      "16/16 [==============================] - 9s 550ms/step - loss: 0.3587 - hinge_accuracy: 0.9902\n",
      "Epoch 18/20\n",
      "16/16 [==============================] - 9s 549ms/step - loss: 0.3333 - hinge_accuracy: 0.9902\n",
      "Epoch 19/20\n",
      "16/16 [==============================] - 9s 562ms/step - loss: 0.3098 - hinge_accuracy: 0.9902\n",
      "Epoch 20/20\n",
      "16/16 [==============================] - 9s 556ms/step - loss: 0.2876 - hinge_accuracy: 0.9902\n",
      "61/61 [==============================] - 14s 232ms/step - loss: 0.3048 - hinge_accuracy: 0.9898\n",
      "\n",
      "********************************************************************************\n",
      "Building QNN model with 3 layer(s)\n",
      "********************************************************************************\n",
      "\n",
      "Model: \"QNN\"\n",
      "_________________________________________________________________\n",
      " Layer (type)                Output Shape              Param #   \n",
      "=================================================================\n",
      " inputs (InputLayer)         [(None, 9)]               0         \n",
      "                                                                 \n",
      " quantumLayer (KerasLayer)   (None, 1)                 153       \n",
      "                                                                 \n",
      "=================================================================\n",
      "Total params: 153 (1.20 KB)\n",
      "Trainable params: 153 (1.20 KB)\n",
      "Non-trainable params: 0 (0.00 Byte)\n",
      "_________________________________________________________________\n",
      "None\n",
      "x shape = (11760, 9)\n",
      "x train shape = (512, 9)\n",
      "x test shape = (1940, 9)\n",
      "Epoch 1/20\n",
      "16/16 [==============================] - 13s 829ms/step - loss: 0.9432 - hinge_accuracy: 0.5938\n",
      "Epoch 2/20\n",
      "16/16 [==============================] - 13s 826ms/step - loss: 0.9049 - hinge_accuracy: 0.6660\n",
      "Epoch 3/20\n",
      "16/16 [==============================] - 13s 813ms/step - loss: 0.8635 - hinge_accuracy: 0.7188\n",
      "Epoch 4/20\n",
      "16/16 [==============================] - 13s 819ms/step - loss: 0.8159 - hinge_accuracy: 0.7949\n",
      "Epoch 5/20\n",
      "16/16 [==============================] - 13s 810ms/step - loss: 0.7595 - hinge_accuracy: 0.8340\n",
      "Epoch 6/20\n",
      "16/16 [==============================] - 13s 815ms/step - loss: 0.6955 - hinge_accuracy: 0.8652\n",
      "Epoch 7/20\n",
      "16/16 [==============================] - 13s 812ms/step - loss: 0.6323 - hinge_accuracy: 0.8945\n",
      "Epoch 8/20\n",
      "16/16 [==============================] - 13s 816ms/step - loss: 0.5715 - hinge_accuracy: 0.9180\n",
      "Epoch 9/20\n",
      "16/16 [==============================] - 13s 815ms/step - loss: 0.5172 - hinge_accuracy: 0.9453\n",
      "Epoch 10/20\n",
      "16/16 [==============================] - 13s 810ms/step - loss: 0.4662 - hinge_accuracy: 0.9492\n",
      "Epoch 11/20\n",
      "16/16 [==============================] - 13s 825ms/step - loss: 0.4176 - hinge_accuracy: 0.9668\n",
      "Epoch 12/20\n",
      "16/16 [==============================] - 13s 808ms/step - loss: 0.3731 - hinge_accuracy: 0.9746\n",
      "Epoch 13/20\n",
      "16/16 [==============================] - 13s 809ms/step - loss: 0.3325 - hinge_accuracy: 0.9785\n",
      "Epoch 14/20\n",
      "16/16 [==============================] - 13s 809ms/step - loss: 0.2966 - hinge_accuracy: 0.9785\n",
      "Epoch 15/20\n",
      "16/16 [==============================] - 13s 820ms/step - loss: 0.2645 - hinge_accuracy: 0.9824\n",
      "Epoch 16/20\n",
      "16/16 [==============================] - 13s 820ms/step - loss: 0.2334 - hinge_accuracy: 0.9844\n",
      "Epoch 17/20\n",
      "16/16 [==============================] - 13s 807ms/step - loss: 0.2039 - hinge_accuracy: 0.9922\n",
      "Epoch 18/20\n",
      "16/16 [==============================] - 13s 810ms/step - loss: 0.1753 - hinge_accuracy: 0.9961\n",
      "Epoch 19/20\n",
      "16/16 [==============================] - 14s 838ms/step - loss: 0.1477 - hinge_accuracy: 0.9980\n",
      "Epoch 20/20\n",
      "16/16 [==============================] - 13s 826ms/step - loss: 0.1234 - hinge_accuracy: 0.9980\n",
      "61/61 [==============================] - 20s 328ms/step - loss: 0.1148 - hinge_accuracy: 0.9954\n",
      "\n"
     ]
    }
   ],
   "source": [
    "qnn_list = []\n",
    "\n",
    "for i in range(1, 4):\n",
    "    qnn_history, model_training_time, qnn_results = build_qnn_model(i)\n",
    "    qnn_list.append([i, qnn_history, model_training_time, qnn_results])"
   ]
  },
  {
   "attachments": {},
   "cell_type": "markdown",
   "metadata": {},
   "source": [
    "## Plot the results!"
   ]
  },
  {
   "cell_type": "code",
   "execution_count": 12,
   "metadata": {},
   "outputs": [
    {
     "name": "stdout",
     "output_type": "stream",
     "text": [
      "Training time for 1-layer QNN: 0:01:38.199524\n",
      "\n",
      "Training time for 2-layer QNN: 0:02:56.919616\n",
      "\n",
      "Training time for 3-layer QNN: 0:04:21.582634\n",
      "\n"
     ]
    }
   ],
   "source": [
    "qnn_histories = {}\n",
    "\n",
    "for [i, qnn_history, model_training_time, qnn_results] in qnn_list:\n",
    "    print(f\"Training time for {i}-layer QNN: {model_training_time}\")\n",
    "    print()\n",
    "    if i not in qnn_histories:\n",
    "        qnn_histories[i] = []\n",
    "    qnn_histories[i].append(qnn_history)"
   ]
  },
  {
   "cell_type": "code",
   "execution_count": 13,
   "metadata": {},
   "outputs": [
    {
     "data": {
      "image/png": "[encoded data removed]",
      "text/plain": [
       "<Figure size 640x480 with 1 Axes>"
      ]
     },
     "metadata": {},
     "output_type": "display_data"
    }
   ],
   "source": [
    "# plot the hinge accuracy for the qnn history for both 1 and 2 layer on the same axes\n",
    "for n in qnn_histories.keys():\n",
    "    plt.plot(np.arange(1,21), qnn_histories[n][0].history[\"hinge_accuracy\"], label=f\"{n} layer QNN\")\n",
    "    \n",
    "plt.xlabel(\"Epoch\")\n",
    "plt.ylabel(\"Hinge Accuracy\")\n",
    "plt.legend()\n",
    "# modify x_ticks to also include 20\n",
    "plt.xticks(np.arange(0, 21, 2))\n",
    "# save as pdf with tight layout and no padding\n",
    "#plt.savefig(\"qnn_hinge_accuracy.pdf\", bbox_inches=\"tight\", pad_inches=0)\n",
    "plt.show()"
   ]
  },
  {
   "cell_type": "code",
   "execution_count": 14,
   "metadata": {},
   "outputs": [
    {
     "data": {
      "image/png": "[encoded data removed]",
      "text/plain": [
       "<Figure size 640x480 with 1 Axes>"
      ]
     },
     "metadata": {},
     "output_type": "display_data"
    }
   ],
   "source": [
    "# plot the hinge accuracy for the loss for both 1 and 2 layer on the same axes\n",
    "for n in qnn_histories.keys():\n",
    "    plt.plot(np.arange(1,21), qnn_histories[n][0].history[\"loss\"], label=f\"{n} layer QNN\")\n",
    "\n",
    "plt.xlabel(\"Epoch\")\n",
    "plt.ylabel(\"Hinge Loss\")\n",
    "plt.legend()\n",
    "# modify x_ticks to also include 20\n",
    "plt.xticks(np.arange(0, 21, 2))\n",
    "# save as pdf with tight layout and no padding\n",
    "#plt.savefig(\"qnn_hinge_loss.pdf\", bbox_inches=\"tight\", pad_inches=0)\n",
    "plt.show()"
   ]
  },
  {
   "cell_type": "code",
   "execution_count": 15,
   "metadata": {},
   "outputs": [
    {
     "name": "stdout",
     "output_type": "stream",
     "text": [
      "Saved qnn_histories to qnn_histories_20250322174548.pkl\n"
     ]
    }
   ],
   "source": [
    "import pickle\n",
    "\n",
    "timestamp = datetime.now().strftime(\"%Y%m%d%H%M%S\")\n",
    "with open(f'qnn_histories_{timestamp}.pkl', 'wb') as f:\n",
    "    pickle.dump(qnn_histories, f)\n",
    "\n",
    "print(f\"Saved qnn_histories to qnn_histories_{timestamp}.pkl\")"
   ]
  }
 ],
 "metadata": {
  "kernelspec": {
   "display_name": "phys4041",
   "language": "python",
   "name": "python3"
  },
  "language_info": {
   "codemirror_mode": {
    "name": "ipython",
    "version": 3
   },
   "file_extension": ".py",
   "mimetype": "text/x-python",
   "name": "python",
   "nbconvert_exporter": "python",
   "pygments_lexer": "ipython3",
   "version": "3.10.16"
  },
  "orig_nbformat": 4
 },
 "nbformat": 4,
 "nbformat_minor": 2
}
