{
 "cells": [
  {
   "cell_type": "markdown",
   "metadata": {},
   "source": [
    "## Classifying between 0, 1, 2, 3\n",
    "## Using amplitude encoding (9x9)"
   ]
  },
  {
   "cell_type": "code",
   "execution_count": 2,
   "metadata": {},
   "outputs": [],
   "source": [
    "import pennylane as qml\n",
    "import tensorflow as tf\n",
    "#import sklearn.datasets\n",
    "#from sklearn.datasets import fetch_openml\n",
    "\n",
    "import numpy as np\n",
    "\n",
    "from matplotlib import pyplot as plt\n",
    "\n",
    "import math\n",
    "\n",
    "tf.keras.backend.set_floatx('float64')\n",
    "\n",
    "from silence_tensorflow import silence_tensorflow\n",
    "silence_tensorflow()  # this stops tensorflow complaining about converting from complex to float!\n",
    "\n",
    "from datetime import datetime"
   ]
  },
  {
   "attachments": {},
   "cell_type": "markdown",
   "metadata": {},
   "source": [
    "## Load and reduce the data\n",
    "\n",
    "Load the MNIST data and check number of training and test examples"
   ]
  },
  {
   "cell_type": "code",
   "execution_count": 3,
   "metadata": {},
   "outputs": [
    {
     "name": "stdout",
     "output_type": "stream",
     "text": [
      "Number of original training examples: 60000\n",
      "Number of original test examples: 10000\n"
     ]
    }
   ],
   "source": [
    "(x_train, y_train), (x_test, y_test) = tf.keras.datasets.mnist.load_data()\n",
    "\n",
    "# Rescale the images from [0,255] to the [0.0,1.0] range.\n",
    "x_train, x_test = x_train[..., np.newaxis]/255.0, x_test[..., np.newaxis]/255.0  # add colour dimension\n",
    "\n",
    "print(\"Number of original training examples:\", len(x_train))\n",
    "print(\"Number of original test examples:\", len(x_test))"
   ]
  },
  {
   "cell_type": "markdown",
   "metadata": {},
   "source": [
    "Create a function to filter out only 0, 1, 2, 3"
   ]
  },
  {
   "cell_type": "code",
   "execution_count": 4,
   "metadata": {},
   "outputs": [],
   "source": [
    "def filter_data(x, y):\n",
    "    keep = (y <= 3)\n",
    "    x, y = x[keep], y[keep]\n",
    "    # y = y == 0\n",
    "    return x,y"
   ]
  },
  {
   "cell_type": "code",
   "execution_count": 5,
   "metadata": {},
   "outputs": [
    {
     "name": "stdout",
     "output_type": "stream",
     "text": [
      "Number of filtered training examples: 24754\n",
      "Number of filtered test examples: 4157\n"
     ]
    }
   ],
   "source": [
    "x_train, y_train = filter_data(x_train, y_train)\n",
    "x_test, y_test = filter_data(x_test, y_test)\n",
    "\n",
    "print(\"Number of filtered training examples:\", len(x_train))\n",
    "print(\"Number of filtered test examples:\", len(x_test))"
   ]
  },
  {
   "cell_type": "code",
   "execution_count": 6,
   "metadata": {},
   "outputs": [
    {
     "name": "stdout",
     "output_type": "stream",
     "text": [
      "Number of classes: 4\n"
     ]
    }
   ],
   "source": [
    "# Get number of classes (assuming y_train contains all possible classes)\n",
    "num_classes = len(np.unique(y_train))\n",
    "print(f\"Number of classes: {num_classes}\")\n",
    "\n",
    "# Convert to one-hot\n",
    "y_train_onehot = tf.keras.utils.to_categorical(y_train, num_classes)\n",
    "y_test_onehot = tf.keras.utils.to_categorical(y_test, num_classes)"
   ]
  },
  {
   "attachments": {},
   "cell_type": "markdown",
   "metadata": {},
   "source": [
    "Plot the original images"
   ]
  },
  {
   "cell_type": "code",
   "execution_count": 7,
   "metadata": {},
   "outputs": [],
   "source": [
    "i = 0"
   ]
  },
  {
   "cell_type": "code",
   "execution_count": 8,
   "metadata": {},
   "outputs": [
    {
     "data": {
      "image/png": "[encoded data removed]",
      "text/plain": [
       "<Figure size 640x480 with 1 Axes>"
      ]
     },
     "metadata": {},
     "output_type": "display_data"
    }
   ],
   "source": [
    "i += 1\n",
    "plt.imshow(x_train[i, :, :, 0], cmap='Greys')\n",
    "ax = plt.gca()\n",
    "ax.set_xticks([])\n",
    "ax.set_yticks([])\n",
    "plt.title(f\"28x28 image of a {y_train[i]}\", fontsize=20)\n",
    "plt.show()"
   ]
  },
  {
   "attachments": {},
   "cell_type": "markdown",
   "metadata": {},
   "source": [
    "Reduce images to 9x9"
   ]
  },
  {
   "cell_type": "code",
   "execution_count": 9,
   "metadata": {},
   "outputs": [
    {
     "name": "stdout",
     "output_type": "stream",
     "text": [
      "(24754, 9, 9, 1)\n"
     ]
    }
   ],
   "source": [
    "x_train_small = tf.image.resize(x_train, (9,9)).numpy()\n",
    "x_test_small = tf.image.resize(x_test, (9,9)).numpy()\n",
    "\n",
    "print(x_train_small.shape)"
   ]
  },
  {
   "cell_type": "code",
   "execution_count": 10,
   "metadata": {},
   "outputs": [
    {
     "data": {
      "image/png": "[encoded data removed]",
      "text/plain": [
       "<Figure size 640x480 with 1 Axes>"
      ]
     },
     "metadata": {},
     "output_type": "display_data"
    }
   ],
   "source": [
    "plt.imshow(x_train_small[i,:,:,0], vmin=0, vmax=1, cmap='Greys')\n",
    "ax = plt.gca()\n",
    "ax.set_xticks([])\n",
    "ax.set_yticks([])\n",
    "plt.title(f\"9x9 image of a {y_train[i]}\", fontsize=20)\n",
    "# save to file as pdf\n",
    "plt.savefig('9x9_MNIST_0.pdf', bbox_inches='tight', pad_inches=0)\n",
    "plt.show()"
   ]
  },
  {
   "attachments": {},
   "cell_type": "markdown",
   "metadata": {},
   "source": [
    "Flatten the images to [81]"
   ]
  },
  {
   "cell_type": "code",
   "execution_count": 11,
   "metadata": {},
   "outputs": [
    {
     "data": {
      "text/plain": [
       "((24754, 81), (4157, 81))"
      ]
     },
     "execution_count": 11,
     "metadata": {},
     "output_type": "execute_result"
    }
   ],
   "source": [
    "x_train_flatten = x_train_small.reshape(x_train_small.shape[0], x_train_small.shape[1] * x_train_small.shape[2])\n",
    "x_test_flatten = x_test_small.reshape(x_test_small.shape[0], x_test_small.shape[1] * x_test_small.shape[2])\n",
    "x_train_flatten.shape, x_test_flatten.shape"
   ]
  },
  {
   "attachments": {},
   "cell_type": "markdown",
   "metadata": {},
   "source": [
    "## Set up the Quantum Neural Network\n",
    "\n",
    "Create quantum circuit using pennylane qnode, then conver this to a Keras layer to make a Keras model"
   ]
  },
  {
   "cell_type": "code",
   "execution_count": 12,
   "metadata": {},
   "outputs": [],
   "source": [
    "def binary_to_onehot(x):\n",
    "    # x: 2 qubit outputs (num_samples, 2) in [-1, 1]\n",
    "    p = tf.nn.sigmoid(x)    # map tp [0, 1]\n",
    "    p_not = 1 - p\n",
    "    probs = tf.stack([\n",
    "        p_not[:, 0] * p_not[:, 1],  # (0, 0)\n",
    "        p_not[:, 0] * p[:, 1],      # (0, 1)\n",
    "        p[:, 0] * p_not[:, 1],      # (1, 0)\n",
    "        p[:, 0] * p[:, 1]           # (1, 1)\n",
    "    ], axis=1)\n",
    "    return probs / tf.reduce_sum(probs, axis=1, keepdims=True)\n",
    "\n",
    "\n",
    "def build_qnn_model(num_of_layers):\n",
    "    print(f\"{80*'*'}\")\n",
    "    print(f\"Building QNN model with {num_of_layers} layer(s)\")\n",
    "    print(f\"{80*'*'}\")\n",
    "    print()\n",
    "    \n",
    "    # ensuring the number of qubits is at least as large as the number of output qubits\n",
    "    output_qubits = math.ceil(math.log2(num_classes))\n",
    "    n_qubits = max(int(np.ceil(np.log2(x_train_flatten.shape[-1]))), output_qubits)\n",
    "    n_layers = num_of_layers\n",
    "    print(f\"Using {n_qubits} qubits with {output_qubits} output qubits\")\n",
    "\n",
    "    dev = qml.device(\"default.qubit\", wires=n_qubits)\n",
    "\n",
    "    @qml.qnode(dev, interface=\"tf\")\n",
    "    def qnode(inputs, weights):\n",
    "\n",
    "        embedding_qubits = min(n_qubits, int(np.ceil(np.log2(x_train_flatten.shape[-1]))))\n",
    "        qml.AmplitudeEmbedding(features=inputs, wires=range(embedding_qubits), pad_with=0., normalize=True)\n",
    "\n",
    "        for jj in range(n_layers):\n",
    "            for ii in range(n_qubits-1):\n",
    "                qml.RZ(weights[jj,2*ii,0], wires=0)\n",
    "                qml.RY(weights[jj,2*ii,1], wires=0)\n",
    "                qml.RZ(weights[jj,2*ii,2], wires=0)\n",
    "\n",
    "                qml.RZ(weights[jj,2*ii+1,0], wires=ii+1)\n",
    "                qml.RY(weights[jj,2*ii+1,1], wires=ii+1)\n",
    "                qml.RZ(weights[jj,2*ii+1,2], wires=ii+1)\n",
    "\n",
    "                #qml.U3(*list(weights[jj,2*ii,:]), wires=0)\n",
    "                #qml.U3(*list(weights[jj,2*ii+1,:]), wires=ii+1)\n",
    "                qml.CNOT(wires=[ii+1,0])\n",
    "                \n",
    "            qml.RZ(weights[jj,2*(n_qubits-1),0], wires=0)\n",
    "            qml.RY(weights[jj,2*(n_qubits-1),1], wires=0)\n",
    "            qml.RZ(weights[jj,2*(n_qubits-1),2], wires=0)\n",
    "\n",
    "        return [qml.expval(qml.PauliZ(i)) for i in range(output_qubits)]\n",
    "\n",
    "    weight_shapes = {\"weights\": (n_layers, 2*(n_qubits-1)+1, 3) }\n",
    "\n",
    "    qlayer = qml.qnn.KerasLayer(qnode, weight_shapes, output_dim=output_qubits, name=\"quantumLayer\")\n",
    "    inputs = tf.keras.Input(shape=(x_train_flatten.shape[-1],), name=\"inputs\")\n",
    "    quantum_outputs = qlayer(inputs)\n",
    "    outputs = tf.keras.layers.Lambda(binary_to_onehot, name=\"binary_to_onehot\")(quantum_outputs)\n",
    "    model = tf.keras.Model(inputs=inputs, outputs=outputs, name=\"QNN\")\n",
    "    \n",
    "    model.compile(\n",
    "        loss=tf.keras.losses.categorical_crossentropy,\n",
    "        optimizer=tf.keras.optimizers.Adam(learning_rate=0.008),\n",
    "        metrics=[tf.keras.metrics.CategoricalAccuracy(name=\"accuracy\")]\n",
    "    )\n",
    "    \n",
    "    print(model.summary())\n",
    "\n",
    "    EPOCHS = 20\n",
    "    BATCH_SIZE = 64\n",
    "\n",
    "    NUM_EXAMPLES = 3500 \n",
    "    print(f\"x shape = {x_train_flatten.shape}\")\n",
    "\n",
    "    x_train_sub = x_train_flatten[:NUM_EXAMPLES]\n",
    "    y_train_sub = y_train_onehot[:NUM_EXAMPLES]\n",
    "\n",
    "    print(f\"x train shape = {x_train_sub.shape}\")\n",
    "\n",
    "    x_test_sub = x_test_flatten[:,:]\n",
    "    y_test_sub = y_test_onehot[:]\n",
    "\n",
    "    print(f\"x test shape = {x_test_sub.shape}\")\n",
    "\n",
    "    start_time = datetime.now()\n",
    "\n",
    "    qnn_history = model.fit(\n",
    "        x_train_sub, y_train_sub,\n",
    "        batch_size=BATCH_SIZE,\n",
    "        epochs=EPOCHS,\n",
    "        verbose=1,\n",
    "        validation_data=(x_test_sub, y_test_sub)\n",
    "    )\n",
    "\n",
    "    model_training_time = datetime.now() - start_time\n",
    "\n",
    "    qnn_results = model.evaluate(x_test_sub, y_test_sub)\n",
    "    print(f\"\\nTest loss: {qnn_results[0]:.4f}, Test accuracy: {qnn_results[1]:.4f}\\n\")\n",
    "\n",
    "    print()\n",
    "\n",
    "    return qnn_history, model_training_time, qnn_results"
   ]
  },
  {
   "cell_type": "code",
   "execution_count": 13,
   "metadata": {},
   "outputs": [
    {
     "name": "stdout",
     "output_type": "stream",
     "text": [
      "********************************************************************************\n",
      "Building QNN model with 2 layer(s)\n",
      "********************************************************************************\n",
      "\n",
      "Using 7 qubits with 2 output qubits\n",
      "Model: \"QNN\"\n",
      "_________________________________________________________________\n",
      " Layer (type)                Output Shape              Param #   \n",
      "=================================================================\n",
      " inputs (InputLayer)         [(None, 81)]              0         \n",
      "                                                                 \n",
      " quantumLayer (KerasLayer)   (None, 2)                 78        \n",
      "                                                                 \n",
      " binary_to_onehot (Lambda)   (None, 4)                 0         \n",
      "                                                                 \n",
      "=================================================================\n",
      "Total params: 78 (624.00 Byte)\n",
      "Trainable params: 78 (624.00 Byte)\n",
      "Non-trainable params: 0 (0.00 Byte)\n",
      "_________________________________________________________________\n",
      "None\n",
      "x shape = (24754, 81)\n",
      "x train shape = (3500, 81)\n",
      "x test shape = (4157, 81)\n",
      "Epoch 1/20\n",
      "55/55 [==============================] - 33s 605ms/step - loss: 1.3362 - accuracy: 0.3886 - val_loss: 1.3029 - val_accuracy: 0.4710\n",
      "Epoch 2/20\n",
      "55/55 [==============================] - 33s 598ms/step - loss: 1.3021 - accuracy: 0.4789 - val_loss: 1.2958 - val_accuracy: 0.5011\n",
      "Epoch 3/20\n",
      "55/55 [==============================] - 33s 604ms/step - loss: 1.2974 - accuracy: 0.4874 - val_loss: 1.2922 - val_accuracy: 0.5042\n",
      "Epoch 4/20\n",
      "55/55 [==============================] - 32s 588ms/step - loss: 1.2943 - accuracy: 0.4774 - val_loss: 1.2863 - val_accuracy: 0.5047\n",
      "Epoch 5/20\n",
      "55/55 [==============================] - 32s 585ms/step - loss: 1.2861 - accuracy: 0.4837 - val_loss: 1.2751 - val_accuracy: 0.5249\n",
      "Epoch 6/20\n",
      "55/55 [==============================] - 32s 584ms/step - loss: 1.2788 - accuracy: 0.5026 - val_loss: 1.2706 - val_accuracy: 0.5275\n",
      "Epoch 7/20\n",
      "55/55 [==============================] - 32s 588ms/step - loss: 1.2761 - accuracy: 0.5037 - val_loss: 1.2694 - val_accuracy: 0.5208\n",
      "Epoch 8/20\n",
      "55/55 [==============================] - 32s 581ms/step - loss: 1.2749 - accuracy: 0.5029 - val_loss: 1.2689 - val_accuracy: 0.5162\n",
      "Epoch 9/20\n",
      "55/55 [==============================] - 32s 584ms/step - loss: 1.2741 - accuracy: 0.5014 - val_loss: 1.2686 - val_accuracy: 0.5242\n",
      "Epoch 10/20\n",
      "55/55 [==============================] - 32s 583ms/step - loss: 1.2731 - accuracy: 0.5097 - val_loss: 1.2678 - val_accuracy: 0.5413\n",
      "Epoch 11/20\n",
      "55/55 [==============================] - 32s 582ms/step - loss: 1.2723 - accuracy: 0.5169 - val_loss: 1.2670 - val_accuracy: 0.5504\n",
      "Epoch 12/20\n",
      "55/55 [==============================] - 32s 579ms/step - loss: 1.2717 - accuracy: 0.5223 - val_loss: 1.2668 - val_accuracy: 0.5511\n",
      "Epoch 13/20\n",
      "55/55 [==============================] - 32s 584ms/step - loss: 1.2706 - accuracy: 0.5246 - val_loss: 1.2663 - val_accuracy: 0.5643\n",
      "Epoch 14/20\n",
      "55/55 [==============================] - 32s 581ms/step - loss: 1.2699 - accuracy: 0.5277 - val_loss: 1.2658 - val_accuracy: 0.5706\n",
      "Epoch 15/20\n",
      "55/55 [==============================] - 32s 583ms/step - loss: 1.2693 - accuracy: 0.5366 - val_loss: 1.2656 - val_accuracy: 0.5886\n",
      "Epoch 16/20\n",
      "55/55 [==============================] - 32s 581ms/step - loss: 1.2687 - accuracy: 0.5629 - val_loss: 1.2654 - val_accuracy: 0.5971\n",
      "Epoch 17/20\n",
      "55/55 [==============================] - 32s 589ms/step - loss: 1.2678 - accuracy: 0.5854 - val_loss: 1.2653 - val_accuracy: 0.6197\n",
      "Epoch 18/20\n",
      "55/55 [==============================] - 32s 579ms/step - loss: 1.2664 - accuracy: 0.6071 - val_loss: 1.2638 - val_accuracy: 0.6478\n",
      "Epoch 19/20\n",
      "55/55 [==============================] - 32s 583ms/step - loss: 1.2648 - accuracy: 0.6420 - val_loss: 1.2629 - val_accuracy: 0.6541\n",
      "Epoch 20/20\n",
      "55/55 [==============================] - 32s 584ms/step - loss: 1.2640 - accuracy: 0.6534 - val_loss: 1.2627 - val_accuracy: 0.6469\n",
      "130/130 [==============================] - 20s 150ms/step - loss: 1.2627 - accuracy: 0.6469\n",
      "\n",
      "Test loss: 1.2627, Test accuracy: 0.6469\n",
      "\n",
      "\n",
      "********************************************************************************\n",
      "Building QNN model with 3 layer(s)\n",
      "********************************************************************************\n",
      "\n",
      "Using 7 qubits with 2 output qubits\n",
      "Model: \"QNN\"\n",
      "_________________________________________________________________\n",
      " Layer (type)                Output Shape              Param #   \n",
      "=================================================================\n",
      " inputs (InputLayer)         [(None, 81)]              0         \n",
      "                                                                 \n",
      " quantumLayer (KerasLayer)   (None, 2)                 117       \n",
      "                                                                 \n",
      " binary_to_onehot (Lambda)   (None, 4)                 0         \n",
      "                                                                 \n",
      "=================================================================\n",
      "Total params: 117 (936.00 Byte)\n",
      "Trainable params: 117 (936.00 Byte)\n",
      "Non-trainable params: 0 (0.00 Byte)\n",
      "_________________________________________________________________\n",
      "None\n",
      "x shape = (24754, 81)\n",
      "x train shape = (3500, 81)\n",
      "x test shape = (4157, 81)\n",
      "Epoch 1/20\n",
      "55/55 [==============================] - 46s 849ms/step - loss: 1.3287 - accuracy: 0.3791 - val_loss: 1.2987 - val_accuracy: 0.4289\n",
      "Epoch 2/20\n",
      "55/55 [==============================] - 46s 848ms/step - loss: 1.2845 - accuracy: 0.4460 - val_loss: 1.2667 - val_accuracy: 0.4965\n",
      "Epoch 3/20\n",
      "55/55 [==============================] - 46s 845ms/step - loss: 1.2660 - accuracy: 0.5163 - val_loss: 1.2539 - val_accuracy: 0.5987\n",
      "Epoch 4/20\n",
      "55/55 [==============================] - 46s 847ms/step - loss: 1.2545 - accuracy: 0.6309 - val_loss: 1.2386 - val_accuracy: 0.7443\n",
      "Epoch 5/20\n",
      "55/55 [==============================] - 46s 847ms/step - loss: 1.2323 - accuracy: 0.7571 - val_loss: 1.2115 - val_accuracy: 0.7121\n",
      "Epoch 6/20\n",
      "55/55 [==============================] - 46s 849ms/step - loss: 1.2093 - accuracy: 0.7297 - val_loss: 1.1965 - val_accuracy: 0.7551\n",
      "Epoch 7/20\n",
      "55/55 [==============================] - 46s 846ms/step - loss: 1.1981 - accuracy: 0.7511 - val_loss: 1.1949 - val_accuracy: 0.7732\n",
      "Epoch 8/20\n",
      "55/55 [==============================] - 46s 845ms/step - loss: 1.1946 - accuracy: 0.7691 - val_loss: 1.1925 - val_accuracy: 0.7775\n",
      "Epoch 9/20\n",
      "55/55 [==============================] - 46s 846ms/step - loss: 1.1919 - accuracy: 0.7834 - val_loss: 1.1923 - val_accuracy: 0.7772\n",
      "Epoch 10/20\n",
      "55/55 [==============================] - 46s 847ms/step - loss: 1.1879 - accuracy: 0.7829 - val_loss: 1.1880 - val_accuracy: 0.7809\n",
      "Epoch 11/20\n",
      "55/55 [==============================] - 46s 848ms/step - loss: 1.1827 - accuracy: 0.7837 - val_loss: 1.1855 - val_accuracy: 0.7729\n",
      "Epoch 12/20\n",
      "55/55 [==============================] - 46s 846ms/step - loss: 1.1805 - accuracy: 0.7837 - val_loss: 1.1843 - val_accuracy: 0.7705\n",
      "Epoch 13/20\n",
      "55/55 [==============================] - 46s 848ms/step - loss: 1.1798 - accuracy: 0.7797 - val_loss: 1.1839 - val_accuracy: 0.7693\n",
      "Epoch 14/20\n",
      "55/55 [==============================] - 46s 849ms/step - loss: 1.1785 - accuracy: 0.7806 - val_loss: 1.1830 - val_accuracy: 0.7691\n",
      "Epoch 15/20\n",
      "55/55 [==============================] - 46s 849ms/step - loss: 1.1765 - accuracy: 0.7703 - val_loss: 1.1812 - val_accuracy: 0.7635\n",
      "Epoch 16/20\n",
      "55/55 [==============================] - 47s 851ms/step - loss: 1.1742 - accuracy: 0.7643 - val_loss: 1.1796 - val_accuracy: 0.7585\n",
      "Epoch 17/20\n",
      "55/55 [==============================] - 46s 845ms/step - loss: 1.1727 - accuracy: 0.7671 - val_loss: 1.1799 - val_accuracy: 0.7445\n",
      "Epoch 18/20\n",
      "55/55 [==============================] - 46s 846ms/step - loss: 1.1720 - accuracy: 0.7637 - val_loss: 1.1775 - val_accuracy: 0.7544\n",
      "Epoch 19/20\n",
      "55/55 [==============================] - 47s 851ms/step - loss: 1.1712 - accuracy: 0.7654 - val_loss: 1.1767 - val_accuracy: 0.7522\n",
      "Epoch 20/20\n",
      "55/55 [==============================] - 46s 850ms/step - loss: 1.1708 - accuracy: 0.7623 - val_loss: 1.1759 - val_accuracy: 0.7515\n",
      "130/130 [==============================] - 28s 215ms/step - loss: 1.1759 - accuracy: 0.7515\n",
      "\n",
      "Test loss: 1.1759, Test accuracy: 0.7515\n",
      "\n",
      "\n",
      "********************************************************************************\n",
      "Building QNN model with 5 layer(s)\n",
      "********************************************************************************\n",
      "\n",
      "Using 7 qubits with 2 output qubits\n",
      "Model: \"QNN\"\n",
      "_________________________________________________________________\n",
      " Layer (type)                Output Shape              Param #   \n",
      "=================================================================\n",
      " inputs (InputLayer)         [(None, 81)]              0         \n",
      "                                                                 \n",
      " quantumLayer (KerasLayer)   (None, 2)                 195       \n",
      "                                                                 \n",
      " binary_to_onehot (Lambda)   (None, 4)                 0         \n",
      "                                                                 \n",
      "=================================================================\n",
      "Total params: 195 (1.52 KB)\n",
      "Trainable params: 195 (1.52 KB)\n",
      "Non-trainable params: 0 (0.00 Byte)\n",
      "_________________________________________________________________\n",
      "None\n",
      "x shape = (24754, 81)\n",
      "x train shape = (3500, 81)\n",
      "x test shape = (4157, 81)\n",
      "Epoch 1/20\n",
      "55/55 [==============================] - 76s 1s/step - loss: 1.3131 - accuracy: 0.4089 - val_loss: 1.2665 - val_accuracy: 0.5143\n",
      "Epoch 2/20\n",
      "55/55 [==============================] - 75s 1s/step - loss: 1.2589 - accuracy: 0.5146 - val_loss: 1.2424 - val_accuracy: 0.5886\n",
      "Epoch 3/20\n",
      "55/55 [==============================] - 76s 1s/step - loss: 1.2330 - accuracy: 0.6614 - val_loss: 1.2145 - val_accuracy: 0.7626\n",
      "Epoch 4/20\n",
      "55/55 [==============================] - 76s 1s/step - loss: 1.2004 - accuracy: 0.7449 - val_loss: 1.1839 - val_accuracy: 0.7604\n",
      "Epoch 5/20\n",
      "55/55 [==============================] - 76s 1s/step - loss: 1.1735 - accuracy: 0.7766 - val_loss: 1.1640 - val_accuracy: 0.7910\n",
      "Epoch 6/20\n",
      "55/55 [==============================] - 76s 1s/step - loss: 1.1568 - accuracy: 0.7991 - val_loss: 1.1560 - val_accuracy: 0.8076\n",
      "Epoch 7/20\n",
      "55/55 [==============================] - 76s 1s/step - loss: 1.1504 - accuracy: 0.8126 - val_loss: 1.1518 - val_accuracy: 0.8239\n",
      "Epoch 8/20\n",
      "55/55 [==============================] - 76s 1s/step - loss: 1.1463 - accuracy: 0.8214 - val_loss: 1.1488 - val_accuracy: 0.8261\n",
      "Epoch 9/20\n",
      "55/55 [==============================] - 75s 1s/step - loss: 1.1438 - accuracy: 0.8251 - val_loss: 1.1466 - val_accuracy: 0.8290\n",
      "Epoch 10/20\n",
      "55/55 [==============================] - 76s 1s/step - loss: 1.1424 - accuracy: 0.8260 - val_loss: 1.1449 - val_accuracy: 0.8285\n",
      "Epoch 11/20\n",
      "55/55 [==============================] - 76s 1s/step - loss: 1.1408 - accuracy: 0.8249 - val_loss: 1.1419 - val_accuracy: 0.8261\n",
      "Epoch 12/20\n",
      "55/55 [==============================] - 75s 1s/step - loss: 1.1397 - accuracy: 0.8243 - val_loss: 1.1413 - val_accuracy: 0.8210\n",
      "Epoch 13/20\n",
      "55/55 [==============================] - 75s 1s/step - loss: 1.1398 - accuracy: 0.8191 - val_loss: 1.1401 - val_accuracy: 0.8165\n",
      "Epoch 14/20\n",
      "55/55 [==============================] - 75s 1s/step - loss: 1.1392 - accuracy: 0.8183 - val_loss: 1.1400 - val_accuracy: 0.8078\n",
      "Epoch 15/20\n",
      "55/55 [==============================] - 76s 1s/step - loss: 1.1386 - accuracy: 0.8109 - val_loss: 1.1390 - val_accuracy: 0.8124\n",
      "Epoch 16/20\n",
      "55/55 [==============================] - 76s 1s/step - loss: 1.1383 - accuracy: 0.8126 - val_loss: 1.1393 - val_accuracy: 0.8083\n",
      "Epoch 17/20\n",
      "55/55 [==============================] - 76s 1s/step - loss: 1.1382 - accuracy: 0.8046 - val_loss: 1.1395 - val_accuracy: 0.8018\n",
      "Epoch 18/20\n",
      "55/55 [==============================] - 76s 1s/step - loss: 1.1379 - accuracy: 0.7997 - val_loss: 1.1401 - val_accuracy: 0.7987\n",
      "Epoch 19/20\n",
      "55/55 [==============================] - 76s 1s/step - loss: 1.1375 - accuracy: 0.8000 - val_loss: 1.1383 - val_accuracy: 0.8008\n",
      "Epoch 20/20\n",
      "55/55 [==============================] - 75s 1s/step - loss: 1.1375 - accuracy: 0.7991 - val_loss: 1.1388 - val_accuracy: 0.8051\n",
      "130/130 [==============================] - 45s 346ms/step - loss: 1.1388 - accuracy: 0.8051\n",
      "\n",
      "Test loss: 1.1388, Test accuracy: 0.8051\n",
      "\n",
      "\n",
      "********************************************************************************\n",
      "Building QNN model with 7 layer(s)\n",
      "********************************************************************************\n",
      "\n",
      "Using 7 qubits with 2 output qubits\n",
      "Model: \"QNN\"\n",
      "_________________________________________________________________\n",
      " Layer (type)                Output Shape              Param #   \n",
      "=================================================================\n",
      " inputs (InputLayer)         [(None, 81)]              0         \n",
      "                                                                 \n",
      " quantumLayer (KerasLayer)   (None, 2)                 273       \n",
      "                                                                 \n",
      " binary_to_onehot (Lambda)   (None, 4)                 0         \n",
      "                                                                 \n",
      "=================================================================\n",
      "Total params: 273 (2.13 KB)\n",
      "Trainable params: 273 (2.13 KB)\n",
      "Non-trainable params: 0 (0.00 Byte)\n",
      "_________________________________________________________________\n",
      "None\n",
      "x shape = (24754, 81)\n",
      "x train shape = (3500, 81)\n",
      "x test shape = (4157, 81)\n",
      "Epoch 1/20\n",
      "55/55 [==============================] - 105s 2s/step - loss: 1.3040 - accuracy: 0.4357 - val_loss: 1.2470 - val_accuracy: 0.6161\n",
      "Epoch 2/20\n",
      "55/55 [==============================] - 105s 2s/step - loss: 1.2146 - accuracy: 0.7460 - val_loss: 1.1815 - val_accuracy: 0.7873\n",
      "Epoch 3/20\n",
      "55/55 [==============================] - 105s 2s/step - loss: 1.1730 - accuracy: 0.7897 - val_loss: 1.1559 - val_accuracy: 0.8073\n",
      "Epoch 4/20\n",
      "55/55 [==============================] - 105s 2s/step - loss: 1.1556 - accuracy: 0.7789 - val_loss: 1.1448 - val_accuracy: 0.8124\n",
      "Epoch 5/20\n",
      "55/55 [==============================] - 105s 2s/step - loss: 1.1466 - accuracy: 0.7949 - val_loss: 1.1357 - val_accuracy: 0.8198\n",
      "Epoch 6/20\n",
      "55/55 [==============================] - 105s 2s/step - loss: 1.1404 - accuracy: 0.8034 - val_loss: 1.1339 - val_accuracy: 0.8201\n",
      "Epoch 7/20\n",
      "55/55 [==============================] - 105s 2s/step - loss: 1.1366 - accuracy: 0.8143 - val_loss: 1.1307 - val_accuracy: 0.8157\n",
      "Epoch 8/20\n",
      "55/55 [==============================] - 105s 2s/step - loss: 1.1346 - accuracy: 0.8149 - val_loss: 1.1288 - val_accuracy: 0.8210\n",
      "Epoch 9/20\n",
      "55/55 [==============================] - 105s 2s/step - loss: 1.1322 - accuracy: 0.8189 - val_loss: 1.1265 - val_accuracy: 0.8237\n",
      "Epoch 10/20\n",
      "55/55 [==============================] - 111s 2s/step - loss: 1.1302 - accuracy: 0.8294 - val_loss: 1.1235 - val_accuracy: 0.8343\n",
      "Epoch 11/20\n",
      "55/55 [==============================] - 105s 2s/step - loss: 1.1275 - accuracy: 0.8346 - val_loss: 1.1201 - val_accuracy: 0.8388\n",
      "Epoch 12/20\n",
      "55/55 [==============================] - 105s 2s/step - loss: 1.1245 - accuracy: 0.8460 - val_loss: 1.1185 - val_accuracy: 0.8436\n",
      "Epoch 13/20\n",
      "55/55 [==============================] - 105s 2s/step - loss: 1.1233 - accuracy: 0.8511 - val_loss: 1.1171 - val_accuracy: 0.8465\n",
      "Epoch 14/20\n",
      "55/55 [==============================] - 105s 2s/step - loss: 1.1220 - accuracy: 0.8514 - val_loss: 1.1175 - val_accuracy: 0.8509\n",
      "Epoch 15/20\n",
      "55/55 [==============================] - 105s 2s/step - loss: 1.1211 - accuracy: 0.8543 - val_loss: 1.1157 - val_accuracy: 0.8595\n",
      "Epoch 16/20\n",
      "55/55 [==============================] - 105s 2s/step - loss: 1.1203 - accuracy: 0.8546 - val_loss: 1.1167 - val_accuracy: 0.8586\n",
      "Epoch 17/20\n",
      "55/55 [==============================] - 105s 2s/step - loss: 1.1201 - accuracy: 0.8529 - val_loss: 1.1160 - val_accuracy: 0.8499\n",
      "Epoch 18/20\n",
      "55/55 [==============================] - 105s 2s/step - loss: 1.1193 - accuracy: 0.8491 - val_loss: 1.1158 - val_accuracy: 0.8537\n",
      "Epoch 19/20\n",
      "55/55 [==============================] - 105s 2s/step - loss: 1.1187 - accuracy: 0.8480 - val_loss: 1.1139 - val_accuracy: 0.8528\n",
      "Epoch 20/20\n",
      "55/55 [==============================] - 105s 2s/step - loss: 1.1182 - accuracy: 0.8426 - val_loss: 1.1134 - val_accuracy: 0.8537\n",
      "130/130 [==============================] - 62s 479ms/step - loss: 1.1134 - accuracy: 0.8537\n",
      "\n",
      "Test loss: 1.1134, Test accuracy: 0.8537\n",
      "\n",
      "\n"
     ]
    }
   ],
   "source": [
    "qnn_list = []\n",
    "\n",
    "for num_of_layers in [2, 3, 5, 7]:\n",
    "    qnn_history, model_training_time, qnn_results = build_qnn_model(num_of_layers)\n",
    "    qnn_list.append([num_of_layers, qnn_history, model_training_time, qnn_results])"
   ]
  },
  {
   "attachments": {},
   "cell_type": "markdown",
   "metadata": {},
   "source": [
    "## Plot the results!"
   ]
  },
  {
   "cell_type": "code",
   "execution_count": 14,
   "metadata": {},
   "outputs": [
    {
     "name": "stdout",
     "output_type": "stream",
     "text": [
      "Training time for 2-layer QNN: 0:10:41.382346\n",
      "\n",
      "Training time for 3-layer QNN: 0:15:27.301581\n",
      "\n",
      "Training time for 5-layer QNN: 0:25:10.667751\n",
      "\n",
      "Training time for 7-layer QNN: 0:35:09.154226\n",
      "\n"
     ]
    }
   ],
   "source": [
    "qnn_histories = {}\n",
    "\n",
    "for [i, qnn_history, model_training_time, qnn_results] in qnn_list:\n",
    "    print(f\"Training time for {i}-layer QNN: {model_training_time}\")\n",
    "    print()\n",
    "    if i not in qnn_histories:\n",
    "        qnn_histories[i] = []\n",
    "    qnn_histories[i].append(qnn_history)"
   ]
  },
  {
   "cell_type": "code",
   "execution_count": null,
   "metadata": {},
   "outputs": [
    {
     "data": {
      "image/png": "[encoded data removed]",
      "text/plain": [
       "<Figure size 640x480 with 1 Axes>"
      ]
     },
     "metadata": {},
     "output_type": "display_data"
    }
   ],
   "source": [
    "# plot the hinge accuracy for the qnn history for both 1 and 2 layer on the same axes\n",
    "for n in qnn_histories.keys():\n",
    "    plt.plot(np.arange(1,21), qnn_histories[n][0].history[\"accuracy\"], label=f\"{n} layer QNN\")\n",
    "\n",
    "plt.xlabel(\"Epoch\")\n",
    "plt.ylabel(\"Accuracy\")\n",
    "plt.legend()\n",
    "# modify x_ticks to also include 20\n",
    "plt.xticks(np.arange(0, 21, 2))\n",
    "# save as pdf with tight layout and no padding\n",
    "#plt.savefig(\"qnn_hinge_accuracy.pdf\", bbox_inches=\"tight\", pad_inches=0)\n",
    "plt.show()"
   ]
  },
  {
   "cell_type": "code",
   "execution_count": null,
   "metadata": {},
   "outputs": [
    {
     "data": {
      "image/png": "[encoded data removed]",
      "text/plain": [
       "<Figure size 640x480 with 1 Axes>"
      ]
     },
     "metadata": {},
     "output_type": "display_data"
    }
   ],
   "source": [
    "# plot the hinge accuracy for the loss for both 1 and 2 layer on the same axes\n",
    "for n in qnn_histories.keys():\n",
    "    plt.plot(np.arange(1,21), qnn_histories[n][0].history[\"loss\"], label=f\"{n} layer QNN\")\n",
    "\n",
    "plt.xlabel(\"Epoch\")\n",
    "plt.ylabel(\"Loss\")\n",
    "plt.legend()\n",
    "# modify x_ticks to also include 20\n",
    "plt.xticks(np.arange(0, 21, 2))\n",
    "# save as pdf with tight layout and no padding\n",
    "#plt.savefig(\"qnn_hinge_loss.pdf\", bbox_inches=\"tight\", pad_inches=0)\n",
    "plt.show()"
   ]
  },
  {
   "cell_type": "code",
   "execution_count": 18,
   "metadata": {},
   "outputs": [
    {
     "name": "stdout",
     "output_type": "stream",
     "text": [
      "Saved qnn_histories to qnn_histories_20250428123446.pkl\n"
     ]
    }
   ],
   "source": [
    "import pickle\n",
    "\n",
    "qnn_histories_simple = {k: [h.history for h in v] for k, v in qnn_histories.items()}\n",
    "\n",
    "timestamp = datetime.now().strftime(\"%Y%m%d%H%M%S\")\n",
    "with open(f'qnn_histories_{timestamp}.pkl', 'wb') as f:\n",
    "    pickle.dump(qnn_histories_simple, f)\n",
    "\n",
    "print(f\"Saved qnn_histories to qnn_histories_{timestamp}.pkl\")"
   ]
  }
 ],
 "metadata": {
  "kernelspec": {
   "display_name": "phys4041",
   "language": "python",
   "name": "python3"
  },
  "language_info": {
   "codemirror_mode": {
    "name": "ipython",
    "version": 3
   },
   "file_extension": ".py",
   "mimetype": "text/x-python",
   "name": "python",
   "nbconvert_exporter": "python",
   "pygments_lexer": "ipython3",
   "version": "3.10.16"
  },
  "orig_nbformat": 4
 },
 "nbformat": 4,
 "nbformat_minor": 2
}
