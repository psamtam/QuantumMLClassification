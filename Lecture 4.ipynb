{
 "cells": [
  {
   "metadata": {},
   "cell_type": "markdown",
   "source": "# Imports",
   "id": "4ee33f087f406bc6"
  },
  {
   "cell_type": "code",
   "id": "initial_id",
   "metadata": {
    "collapsed": true,
    "ExecuteTime": {
     "end_time": "2025-02-18T11:56:08.865896Z",
     "start_time": "2025-02-18T11:55:56.330080Z"
    }
   },
   "source": [
    "import pennylane as qml\n",
    "\n",
    "import numpy as np\n",
    "\n",
    "from matplotlib import pyplot as plt"
   ],
   "outputs": [],
   "execution_count": 1
  },
  {
   "metadata": {
    "ExecuteTime": {
     "end_time": "2025-02-18T12:02:35.818129Z",
     "start_time": "2025-02-18T12:02:35.807328Z"
    }
   },
   "cell_type": "code",
   "source": "dev = qml.device(\"default.qubit\", wires=2)",
   "id": "6ad6314f1746944e",
   "outputs": [],
   "execution_count": 2
  },
  {
   "metadata": {},
   "cell_type": "markdown",
   "source": "# VQE",
   "id": "4de04f142aa9ed5e"
  },
  {
   "metadata": {},
   "cell_type": "markdown",
   "source": "## Exact diagonalization",
   "id": "ee0c8b708d8f0629"
  },
  {
   "metadata": {
    "ExecuteTime": {
     "end_time": "2025-02-18T12:03:32.529689Z",
     "start_time": "2025-02-18T12:03:32.518304Z"
    }
   },
   "cell_type": "code",
   "source": [
    "# Pauli matrices\n",
    "Id = np.eye(2)\n",
    "X = np.array([[0,1],[1,0]])\n",
    "Y = np.array([[0,-1j],[1j,0]])\n",
    "Z = np.array([[1,0],[0,-1]])"
   ],
   "id": "7cbabb5203acd71d",
   "outputs": [],
   "execution_count": 8
  },
  {
   "metadata": {
    "ExecuteTime": {
     "end_time": "2025-02-18T12:03:32.842598Z",
     "start_time": "2025-02-18T12:03:32.835963Z"
    }
   },
   "cell_type": "code",
   "source": "parameters = np.loadtxt(\"data/HamiltonianParameters.txt\")",
   "id": "486ce53434032400",
   "outputs": [],
   "execution_count": 9
  },
  {
   "metadata": {
    "ExecuteTime": {
     "end_time": "2025-02-18T12:03:41.935532Z",
     "start_time": "2025-02-18T12:03:41.925350Z"
    }
   },
   "cell_type": "code",
   "source": [
    "R = 90\n",
    "H_param = parameters[parameters[:,0]==R,1:].flatten()\n",
    "H_param.shape"
   ],
   "id": "d15674aba428c115",
   "outputs": [
    {
     "data": {
      "text/plain": [
       "(9,)"
      ]
     },
     "execution_count": 11,
     "metadata": {},
     "output_type": "execute_result"
    }
   ],
   "execution_count": 11
  },
  {
   "metadata": {
    "ExecuteTime": {
     "end_time": "2025-02-18T12:02:50.139019Z",
     "start_time": "2025-02-18T12:02:50.130355Z"
    }
   },
   "cell_type": "code",
   "source": [
    "C = H_param[0]\n",
    "Jx = H_param[1]\n",
    "Jz = H_param[2]\n",
    "#Jx = H_param[3]\n",
    "Jxx = H_param[4]\n",
    "Jxz = H_param[5]\n",
    "#Jz = H_param[6]\n",
    "#Jzx = H_param[7]\n",
    "Jzz = H_param[8]\n",
    "\n",
    "print(f\"Jx={Jx}, Jz={Jz}, Jxx={Jxx}, Jzz={Jzz}, Jxz={Jxz}, C={C}\")"
   ],
   "id": "cc611c25a65a99a0",
   "outputs": [
    {
     "name": "stdout",
     "output_type": "stream",
     "text": [
      "Jx=-0.2288, Jz=-1.0466, Jxx=0.2613, Jzz=0.2356, Jxz=0.2288, C=-3.8505\n"
     ]
    }
   ],
   "execution_count": 6
  },
  {
   "metadata": {
    "ExecuteTime": {
     "end_time": "2025-02-18T12:20:11.956257Z",
     "start_time": "2025-02-18T12:20:11.949278Z"
    }
   },
   "cell_type": "code",
   "source": [
    "def Hamiltonian():\n",
    "    H = Jx * (np.kron(X,Id) + np.kron(Id,X))\n",
    "    H = H + Jz * (np.kron(Z,Id) + np.kron(Id,Z))\n",
    "    H = H + Jxx * np.kron(X,X)\n",
    "    H = H + Jzz * np.kron(Z,Z)\n",
    "    H = H + Jxz * (np.kron(X,Z) + np.kron(Z,X))\n",
    "    H = H + C * np.kron(Id,Id)\n",
    "\n",
    "    return H/2"
   ],
   "id": "6fd04e2428697111",
   "outputs": [],
   "execution_count": 14
  },
  {
   "metadata": {
    "ExecuteTime": {
     "end_time": "2025-02-18T12:20:14.644799Z",
     "start_time": "2025-02-18T12:20:14.628689Z"
    }
   },
   "cell_type": "code",
   "source": [
    "def exactEnergy():\n",
    "    H = Hamiltonian()\n",
    "\n",
    "    E, V = np.linalg.eigh(H)\n",
    "    return np.min(E)\n",
    "\n",
    "print(f\"Exact ground state energy is E = {exactEnergy()}\")"
   ],
   "id": "57298c624878cb97",
   "outputs": [
    {
     "name": "stdout",
     "output_type": "stream",
     "text": [
      "Exact ground state energy is E = -2.8626207640766816\n"
     ]
    }
   ],
   "execution_count": 15
  },
  {
   "metadata": {},
   "cell_type": "markdown",
   "source": "## Ansatz and VQE Circuit",
   "id": "7ffb08111f06f48f"
  },
  {
   "metadata": {
    "ExecuteTime": {
     "end_time": "2025-02-18T12:38:06.516433Z",
     "start_time": "2025-02-18T12:38:06.506264Z"
    }
   },
   "cell_type": "code",
   "source": [
    "@qml.qnode(dev)\n",
    "def ansatz(params, basis):\n",
    "    theta = params\n",
    "    print(basis)\n",
    "    print(theta)\n",
    "\n",
    "    # inital rotations\n",
    "    qml.RX(theta[0], wires=0)\n",
    "    qml.RZ(theta[1], wires=0)\n",
    "    qml.RX(theta[2], wires=1)\n",
    "    qml.RZ(theta[3], wires=1)\n",
    "\n",
    "    # CNOT to entangle\n",
    "    qml.CZ(wires=[0,1])\n",
    "\n",
    "    # second round of rotations\n",
    "    qml.RX(theta[4], wires=0)\n",
    "    qml.RZ(theta[5], wires=0)\n",
    "    qml.RX(theta[6], wires=1)\n",
    "    qml.RZ(theta[7], wires=1)\n",
    "\n",
    "    qml.U3(basis[0]*np.pi/2, 0, basis[0]*np.pi, wires=0)  # apply hadamard gate to qubit 0 iff basis[0]=1\n",
    "    qml.U3(basis[1]*np.pi/2, 0, basis[1]*np.pi, wires=1)  # apply hadamard gate to qubit 1 iff basis[1]=1\n",
    "\n",
    "    return qml.probs(wires=[0,1])\n"
   ],
   "id": "a9cad011f7ace8e0",
   "outputs": [],
   "execution_count": 40
  },
  {
   "metadata": {
    "ExecuteTime": {
     "end_time": "2025-02-18T12:28:02.114852Z",
     "start_time": "2025-02-18T12:28:02.106248Z"
    }
   },
   "cell_type": "code",
   "source": [
    "theta = list(2*np.pi*np.array([0.1,0.2,0.3,0.4,0.5,0.6,0.7,0.8]))\n",
    "angles = theta\n",
    "basis = [1, 1]"
   ],
   "id": "aa403056083eddc1",
   "outputs": [],
   "execution_count": 24
  },
  {
   "metadata": {
    "ExecuteTime": {
     "end_time": "2025-02-18T12:28:02.539101Z",
     "start_time": "2025-02-18T12:28:02.529073Z"
    }
   },
   "cell_type": "code",
   "source": [
    "test_circuit = ansatz(angles, basis)\n",
    "print(test_circuit)"
   ],
   "id": "144e92fcf56e0756",
   "outputs": [
    {
     "name": "stdout",
     "output_type": "stream",
     "text": [
      "[0.16568909 0.38769228 0.17296344 0.27365519]\n"
     ]
    }
   ],
   "execution_count": 25
  },
  {
   "metadata": {
    "ExecuteTime": {
     "end_time": "2025-02-18T12:28:14.095474Z",
     "start_time": "2025-02-18T12:28:13.995683Z"
    }
   },
   "cell_type": "code",
   "source": [
    "qml.drawer.use_style(\"black_white\")\n",
    "qml.draw_mpl(ansatz)(angles, basis)"
   ],
   "id": "49a0f604043a272c",
   "outputs": [
    {
     "data": {
      "text/plain": [
       "(<Figure size 900x300 with 1 Axes>, <Axes: >)"
      ]
     },
     "execution_count": 27,
     "metadata": {},
     "output_type": "execute_result"
    },
    {
     "data": {
      "text/plain": [
       "<Figure size 900x300 with 1 Axes>"
      ],
      "image/png": "[encoded data removed]"
     },
     "metadata": {},
     "output_type": "display_data"
    }
   ],
   "execution_count": 27
  },
  {
   "metadata": {
    "ExecuteTime": {
     "end_time": "2025-02-18T12:33:04.241996Z",
     "start_time": "2025-02-18T12:33:04.235094Z"
    }
   },
   "cell_type": "code",
   "source": [
    "def get_expectation(gate, probabilities):\n",
    "    II = np.array([1,1,1,1])\n",
    "    IZ = np.array([1,-1,1,-1])\n",
    "    ZI = np.array([1,1,-1,-1])\n",
    "    ZZ = np.array([1,-1,-1,1])\n",
    "\n",
    "    probabilities = np.array(probabilities)\n",
    "\n",
    "    if gate == 'II':\n",
    "        return np.dot(II, probabilities)\n",
    "    if gate == 'IZ' or gate == 'IX':\n",
    "        return np.dot(IZ, probabilities)\n",
    "    if gate == 'ZI' or gate == 'XI':\n",
    "        return np.dot(ZI, probabilities)\n",
    "    if gate == 'ZZ' or gate == 'XX' or gate == 'XZ' or gate == 'ZX':\n",
    "        return np.dot(ZZ, probabilities)\n",
    "\n",
    "    return 'Unidentified Gate'"
   ],
   "id": "d8b9dc7728dbf108",
   "outputs": [],
   "execution_count": 28
  },
  {
   "metadata": {
    "ExecuteTime": {
     "end_time": "2025-02-18T12:33:05.268768Z",
     "start_time": "2025-02-18T12:33:05.262143Z"
    }
   },
   "cell_type": "code",
   "source": [
    "def energy(probs_XX, probs_XZ, probs_ZX, probs_ZZ):\n",
    "    \"\"\"\n",
    "    counts - dictionary of measured counts, e.g., {'00': 4096, '11': 4096}\n",
    "    shots - total number of shots for each basis (for convenience. Can be computed from counts)\n",
    "    \"\"\"\n",
    "    # Replace with code to convert counts to expectation values to get energy expectation.\n",
    "\n",
    "    E_H = 0\n",
    "    E_H += Jx*(get_expectation('XI', probs_XX) + get_expectation('IX', probs_XX))\n",
    "    E_H += Jz*(get_expectation('ZI', probs_ZZ) + get_expectation('IZ', probs_ZZ))\n",
    "    E_H += Jxx*get_expectation('XX', probs_XX)\n",
    "    E_H += Jzz*get_expectation('ZZ', probs_ZZ)\n",
    "    E_H += Jxz*(get_expectation('XZ', probs_XZ) + get_expectation('ZX', probs_ZX))\n",
    "    E_H += C\n",
    "    E_H *= 0.5\n",
    "\n",
    "    return E_H"
   ],
   "id": "c467293161823f2f",
   "outputs": [],
   "execution_count": 29
  },
  {
   "metadata": {
    "ExecuteTime": {
     "end_time": "2025-02-18T12:33:34.529544Z",
     "start_time": "2025-02-18T12:33:34.468350Z"
    }
   },
   "cell_type": "code",
   "source": [
    "# compute the energy of the ansatz circuit for given parameters as a test\n",
    "shots = 81920\n",
    "theta = list(2*np.pi*np.array([0.1,0.2,0.3,0.4,0.5,0.6,0.7,0.8]))\n",
    "\n",
    "probsXX = ansatz(theta, [1,1], shots=shots)\n",
    "probsXZ = ansatz(theta, [1,0], shots=shots)\n",
    "probsZX = ansatz(theta, [0,1], shots=shots)\n",
    "probsZZ = ansatz(theta, [0,0], shots=shots)\n",
    "E_0 = energy(probsXX, probsXZ, probsZX, probsZZ)\n",
    "\n",
    "print(f\"My energy is E = {E_0}\")"
   ],
   "id": "899328b5b2a4dcaa",
   "outputs": [
    {
     "name": "stdout",
     "output_type": "stream",
     "text": [
      "My energy is E = -1.080965588378906\n"
     ]
    }
   ],
   "execution_count": 33
  },
  {
   "metadata": {
    "ExecuteTime": {
     "end_time": "2025-02-18T12:54:43.708423Z",
     "start_time": "2025-02-18T12:54:43.673269Z"
    }
   },
   "cell_type": "code",
   "source": [
    "# compute energy using batching\n",
    "angles = 2*np.pi*np.array([[0.1,0.2,0.3,0.4,0.5,0.6,0.7,0.8]]*4).T\n",
    "probs = ansatz(angles, np.array([[1,1],[1,0],[0,1],[0,1]]), shots=shots)\n",
    "E_1 = energy(probs[0], probs[1], probs[2], probs[3])\n",
    "\n",
    "print(f\"My batched energy is E = {E_1}\")\n",
    "\n",
    "print(f\"The correct energy (for these parameters) is E = -1.083 ± 0.012 (margin due to finite number of shots)\")"
   ],
   "id": "bcc0d32aab621bd0",
   "outputs": [
    {
     "ename": "AttributeError",
     "evalue": "'list' object has no attribute 'T'",
     "output_type": "error",
     "traceback": [
      "\u001B[1;31m---------------------------------------------------------------------------\u001B[0m",
      "\u001B[1;31mAttributeError\u001B[0m                            Traceback (most recent call last)",
      "Cell \u001B[1;32mIn[48], line 3\u001B[0m\n\u001B[0;32m      1\u001B[0m \u001B[38;5;66;03m# compute energy using batching\u001B[39;00m\n\u001B[0;32m      2\u001B[0m angles \u001B[38;5;241m=\u001B[39m \u001B[38;5;241m2\u001B[39m\u001B[38;5;241m*\u001B[39mnp\u001B[38;5;241m.\u001B[39mpi\u001B[38;5;241m*\u001B[39mnp\u001B[38;5;241m.\u001B[39marray([[\u001B[38;5;241m0.1\u001B[39m,\u001B[38;5;241m0.2\u001B[39m,\u001B[38;5;241m0.3\u001B[39m,\u001B[38;5;241m0.4\u001B[39m,\u001B[38;5;241m0.5\u001B[39m,\u001B[38;5;241m0.6\u001B[39m,\u001B[38;5;241m0.7\u001B[39m,\u001B[38;5;241m0.8\u001B[39m]]\u001B[38;5;241m*\u001B[39m\u001B[38;5;241m4\u001B[39m)\u001B[38;5;241m.\u001B[39mT\n\u001B[1;32m----> 3\u001B[0m probs \u001B[38;5;241m=\u001B[39m ansatz(angles, np\u001B[38;5;241m.\u001B[39marray([[\u001B[38;5;241m1\u001B[39m,\u001B[38;5;241m1\u001B[39m]\u001B[38;5;241m.\u001B[39mT,[\u001B[38;5;241m1\u001B[39m,\u001B[38;5;241m0\u001B[39m],[\u001B[38;5;241m0\u001B[39m,\u001B[38;5;241m1\u001B[39m],[\u001B[38;5;241m0\u001B[39m,\u001B[38;5;241m1\u001B[39m]]), shots\u001B[38;5;241m=\u001B[39mshots)\n\u001B[0;32m      4\u001B[0m E_1 \u001B[38;5;241m=\u001B[39m energy(probs[\u001B[38;5;241m0\u001B[39m], probs[\u001B[38;5;241m1\u001B[39m], probs[\u001B[38;5;241m2\u001B[39m], probs[\u001B[38;5;241m3\u001B[39m])\n\u001B[0;32m      6\u001B[0m \u001B[38;5;28mprint\u001B[39m(\u001B[38;5;124mf\u001B[39m\u001B[38;5;124m\"\u001B[39m\u001B[38;5;124mMy batched energy is E = \u001B[39m\u001B[38;5;132;01m{\u001B[39;00mE_1\u001B[38;5;132;01m}\u001B[39;00m\u001B[38;5;124m\"\u001B[39m)\n",
      "\u001B[1;31mAttributeError\u001B[0m: 'list' object has no attribute 'T'"
     ]
    }
   ],
   "execution_count": 48
  },
  {
   "metadata": {},
   "cell_type": "code",
   "outputs": [],
   "execution_count": null,
   "source": "",
   "id": "b9d1e7f493d7526"
  }
 ],
 "metadata": {
  "kernelspec": {
   "display_name": "Python 3",
   "language": "python",
   "name": "python3"
  },
  "language_info": {
   "codemirror_mode": {
    "name": "ipython",
    "version": 2
   },
   "file_extension": ".py",
   "mimetype": "text/x-python",
   "name": "python",
   "nbconvert_exporter": "python",
   "pygments_lexer": "ipython2",
   "version": "2.7.6"
  }
 },
 "nbformat": 4,
 "nbformat_minor": 5
}
