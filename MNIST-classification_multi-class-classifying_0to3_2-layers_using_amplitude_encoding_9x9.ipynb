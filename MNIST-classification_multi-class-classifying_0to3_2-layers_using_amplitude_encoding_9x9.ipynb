{
 "cells": [
  {
   "cell_type": "markdown",
   "metadata": {},
   "source": [
    "## Classifying between 0, 1, 2, 3\n",
    "## Using amplitude encoding (9x9)"
   ]
  },
  {
   "cell_type": "code",
   "execution_count": 1,
   "metadata": {},
   "outputs": [],
   "source": [
    "import pennylane as qml\n",
    "import tensorflow as tf\n",
    "#import sklearn.datasets\n",
    "#from sklearn.datasets import fetch_openml\n",
    "\n",
    "import numpy as np\n",
    "\n",
    "from matplotlib import pyplot as plt\n",
    "\n",
    "tf.keras.backend.set_floatx('float64')\n",
    "\n",
    "from silence_tensorflow import silence_tensorflow\n",
    "silence_tensorflow()  # this stops tensorflow complaining about converting from complex to float!\n",
    "\n",
    "from datetime import datetime"
   ]
  },
  {
   "attachments": {},
   "cell_type": "markdown",
   "metadata": {},
   "source": [
    "## Load and reduce the data\n",
    "\n",
    "Load the MNIST data and check number of training and test examples"
   ]
  },
  {
   "cell_type": "code",
   "execution_count": 2,
   "metadata": {},
   "outputs": [
    {
     "name": "stdout",
     "output_type": "stream",
     "text": [
      "Number of original training examples: 60000\n",
      "Number of original test examples: 10000\n"
     ]
    }
   ],
   "source": [
    "(x_train, y_train), (x_test, y_test) = tf.keras.datasets.mnist.load_data()\n",
    "\n",
    "# Rescale the images from [0,255] to the [0.0,1.0] range.\n",
    "x_train, x_test = x_train[..., np.newaxis]/255.0, x_test[..., np.newaxis]/255.0  # add colour dimension\n",
    "\n",
    "print(\"Number of original training examples:\", len(x_train))\n",
    "print(\"Number of original test examples:\", len(x_test))"
   ]
  },
  {
   "attachments": {},
   "cell_type": "markdown",
   "metadata": {},
   "source": [
    "Create a function to filter out only 0, 1, 2, 3, 4, 5, 6, 7"
   ]
  },
  {
   "cell_type": "code",
   "execution_count": 3,
   "metadata": {},
   "outputs": [],
   "source": [
    "def filter_data(x, y):\n",
    "    keep = (y <= 3)\n",
    "    x, y = x[keep], y[keep]\n",
    "    # y = y == 0\n",
    "    return x,y"
   ]
  },
  {
   "cell_type": "code",
   "execution_count": 4,
   "metadata": {},
   "outputs": [
    {
     "name": "stdout",
     "output_type": "stream",
     "text": [
      "Number of filtered training examples: 24754\n",
      "Number of filtered test examples: 4157\n"
     ]
    }
   ],
   "source": [
    "x_train, y_train = filter_data(x_train, y_train)\n",
    "x_test, y_test = filter_data(x_test, y_test)\n",
    "\n",
    "print(\"Number of filtered training examples:\", len(x_train))\n",
    "print(\"Number of filtered test examples:\", len(x_test))"
   ]
  },
  {
   "cell_type": "code",
   "execution_count": 5,
   "metadata": {},
   "outputs": [
    {
     "name": "stdout",
     "output_type": "stream",
     "text": [
      "Number of classes: 4\n"
     ]
    }
   ],
   "source": [
    "# Get number of classes (assuming y_train contains all possible classes)\n",
    "num_classes = len(np.unique(y_train))\n",
    "print(f\"Number of classes: {num_classes}\")\n",
    "\n",
    "# Convert to one-hot\n",
    "y_train_onehot = tf.keras.utils.to_categorical(y_train, num_classes)\n",
    "y_test_onehot = tf.keras.utils.to_categorical(y_test, num_classes)"
   ]
  },
  {
   "attachments": {},
   "cell_type": "markdown",
   "metadata": {},
   "source": [
    "Plot the original images"
   ]
  },
  {
   "cell_type": "code",
   "execution_count": 6,
   "metadata": {},
   "outputs": [],
   "source": [
    "i = 0"
   ]
  },
  {
   "cell_type": "code",
   "execution_count": 7,
   "metadata": {},
   "outputs": [
    {
     "data": {
      "image/png": "[encoded data removed]",
      "text/plain": [
       "<Figure size 640x480 with 1 Axes>"
      ]
     },
     "metadata": {},
     "output_type": "display_data"
    }
   ],
   "source": [
    "i += 1\n",
    "plt.imshow(x_train[i, :, :, 0], cmap='Greys')\n",
    "ax = plt.gca()\n",
    "ax.set_xticks([])\n",
    "ax.set_yticks([])\n",
    "plt.title(f\"28x28 image of a {y_train[i]}\", fontsize=20)\n",
    "# save to file as pdf\n",
    "plt.show()"
   ]
  },
  {
   "attachments": {},
   "cell_type": "markdown",
   "metadata": {},
   "source": [
    "Reduce images to 9x9"
   ]
  },
  {
   "cell_type": "code",
   "execution_count": 8,
   "metadata": {},
   "outputs": [
    {
     "name": "stdout",
     "output_type": "stream",
     "text": [
      "(24754, 9, 9, 1)\n"
     ]
    }
   ],
   "source": [
    "x_train_small = tf.image.resize(x_train, (9,9)).numpy()\n",
    "x_test_small = tf.image.resize(x_test, (9,9)).numpy()\n",
    "\n",
    "print(x_train_small.shape)"
   ]
  },
  {
   "cell_type": "code",
   "execution_count": 9,
   "metadata": {},
   "outputs": [
    {
     "data": {
      "image/png": "[encoded data removed]",
      "text/plain": [
       "<Figure size 640x480 with 1 Axes>"
      ]
     },
     "metadata": {},
     "output_type": "display_data"
    }
   ],
   "source": [
    "plt.imshow(x_train_small[i,:,:,0], vmin=0, vmax=1, cmap='Greys')\n",
    "ax = plt.gca()\n",
    "ax.set_xticks([])\n",
    "ax.set_yticks([])\n",
    "plt.title(f\"9x9 image of a {y_train[i]}\", fontsize=20)\n",
    "# save to file as pdf\n",
    "plt.savefig('9x9_MNIST_0.pdf', bbox_inches='tight', pad_inches=0)\n",
    "plt.show()"
   ]
  },
  {
   "attachments": {},
   "cell_type": "markdown",
   "metadata": {},
   "source": [
    "Flatten the images to [81]"
   ]
  },
  {
   "cell_type": "code",
   "execution_count": 10,
   "metadata": {},
   "outputs": [
    {
     "data": {
      "text/plain": [
       "((24754, 81), (4157, 81))"
      ]
     },
     "execution_count": 10,
     "metadata": {},
     "output_type": "execute_result"
    }
   ],
   "source": [
    "x_train_flatten = x_train_small.reshape(x_train_small.shape[0], x_train_small.shape[1] * x_train_small.shape[2])\n",
    "x_test_flatten = x_test_small.reshape(x_test_small.shape[0], x_test_small.shape[1] * x_test_small.shape[2])\n",
    "x_train_flatten.shape, x_test_flatten.shape"
   ]
  },
  {
   "attachments": {},
   "cell_type": "markdown",
   "metadata": {},
   "source": [
    "## Set up the Quantum Neural Network\n",
    "\n",
    "Create quantum circuit using pennylane qnode, then conver this to a Keras layer to make a Keras model"
   ]
  },
  {
   "cell_type": "code",
   "execution_count": 11,
   "metadata": {},
   "outputs": [],
   "source": [
    "def build_qnn_model(num_of_layers):\n",
    "    print(f\"{80*'*'}\")\n",
    "    print(f\"Building QNN model with {num_of_layers} layer(s)\")\n",
    "    print(f\"{80*'*'}\")\n",
    "    print()\n",
    "    \n",
    "    # ensuring the number of qubits is at least as large as the number of classes\n",
    "    n_qubits = max(int(np.ceil(np.log2(x_train_flatten.shape[-1]))), num_classes)\n",
    "    n_layers = num_of_layers\n",
    "    print(f\"Using {n_qubits} qubits\")\n",
    "\n",
    "    dev = qml.device(\"default.qubit\", wires=n_qubits)\n",
    "\n",
    "    @qml.qnode(dev, interface=\"tf\")\n",
    "    def qnode(inputs, weights):\n",
    "\n",
    "        embedding_qubits = min(n_qubits, int(np.ceil(np.log2(x_train_flatten.shape[-1]))))\n",
    "        qml.AmplitudeEmbedding(features=inputs, wires=range(embedding_qubits), pad_with=0., normalize=True)\n",
    "\n",
    "        for jj in range(n_layers):\n",
    "            for ii in range(n_qubits-1):\n",
    "                qml.RZ(weights[jj,2*ii,0], wires=0)\n",
    "                qml.RY(weights[jj,2*ii,1], wires=0)\n",
    "                qml.RZ(weights[jj,2*ii,2], wires=0)\n",
    "\n",
    "                qml.RZ(weights[jj,2*ii+1,0], wires=ii+1)\n",
    "                qml.RY(weights[jj,2*ii+1,1], wires=ii+1)\n",
    "                qml.RZ(weights[jj,2*ii+1,2], wires=ii+1)\n",
    "\n",
    "                #qml.U3(*list(weights[jj,2*ii,:]), wires=0)\n",
    "                #qml.U3(*list(weights[jj,2*ii+1,:]), wires=ii+1)\n",
    "                qml.CNOT(wires=[ii+1,0])\n",
    "                \n",
    "            qml.RZ(weights[jj,2*(n_qubits-1),0], wires=0)\n",
    "            qml.RY(weights[jj,2*(n_qubits-1),1], wires=0)\n",
    "            qml.RZ(weights[jj,2*(n_qubits-1),2], wires=0)\n",
    "\n",
    "        return [qml.expval(qml.PauliZ(i)) for i in range(num_classes)]\n",
    "\n",
    "    weight_shapes = {\"weights\": (n_layers, 2*(n_qubits-1)+1, 3) }\n",
    "\n",
    "    qlayer = qml.qnn.KerasLayer(qnode, weight_shapes, output_dim=num_classes, name=\"quantumLayer\")\n",
    "    inputs = tf.keras.Input(shape=(x_train_flatten.shape[-1],), name=\"inputs\")\n",
    "    quantum_outputs = qlayer(inputs)\n",
    "    outputs = tf.keras.layers.Lambda(lambda x: tf.nn.softmax(x), name=\"softmax\")(quantum_outputs)\n",
    "    model = tf.keras.Model(inputs=inputs, outputs=outputs, name=\"QNN\")\n",
    "    \n",
    "    model.compile(\n",
    "        loss=tf.keras.losses.CategoricalCrossentropy(),\n",
    "        optimizer=tf.keras.optimizers.Adam(learning_rate=0.005),\n",
    "        metrics=[tf.keras.metrics.CategoricalAccuracy(name=\"accuracy\")]\n",
    "    )\n",
    "    \n",
    "    print(model.summary())\n",
    "\n",
    "    EPOCHS = 20\n",
    "    BATCH_SIZE = 64\n",
    "\n",
    "    NUM_EXAMPLES = 3500 \n",
    "    print(f\"x shape = {x_train_flatten.shape}\")\n",
    "\n",
    "    x_train_sub = x_train_flatten[:NUM_EXAMPLES]\n",
    "    y_train_sub = y_train_onehot[:NUM_EXAMPLES]\n",
    "\n",
    "    print(f\"x train shape = {x_train_sub.shape}\")\n",
    "\n",
    "    x_test_sub = x_test_flatten[:,:]\n",
    "    y_test_sub = y_test_onehot[:]\n",
    "\n",
    "    print(f\"x test shape = {x_test_sub.shape}\")\n",
    "\n",
    "    start_time = datetime.now()\n",
    "\n",
    "    qnn_history = model.fit(\n",
    "        x_train_sub, y_train_sub,\n",
    "        batch_size=BATCH_SIZE,\n",
    "        epochs=EPOCHS,\n",
    "        verbose=1,\n",
    "        validation_data=(x_test_sub, y_test_sub)\n",
    "    )\n",
    "\n",
    "    model_training_time = datetime.now() - start_time\n",
    "\n",
    "    qnn_results = model.evaluate(x_test_sub, y_test_sub)\n",
    "    print(f\"\\nTest loss: {qnn_results[0]:.4f}, Test accuracy: {qnn_results[1]:.4f}\\n\")\n",
    "\n",
    "    print()\n",
    "\n",
    "    return qnn_history, model_training_time, qnn_results"
   ]
  },
  {
   "cell_type": "code",
   "execution_count": 12,
   "metadata": {},
   "outputs": [
    {
     "name": "stdout",
     "output_type": "stream",
     "text": [
      "********************************************************************************\n",
      "Building QNN model with 2 layer(s)\n",
      "********************************************************************************\n",
      "\n",
      "Using 7 qubits\n",
      "Model: \"QNN\"\n",
      "_________________________________________________________________\n",
      " Layer (type)                Output Shape              Param #   \n",
      "=================================================================\n",
      " inputs (InputLayer)         [(None, 81)]              0         \n",
      "                                                                 \n",
      " quantumLayer (KerasLayer)   (None, 4)                 78        \n",
      "                                                                 \n",
      " softmax (Lambda)            (None, 4)                 0         \n",
      "                                                                 \n",
      "=================================================================\n",
      "Total params: 78 (624.00 Byte)\n",
      "Trainable params: 78 (624.00 Byte)\n",
      "Non-trainable params: 0 (0.00 Byte)\n",
      "_________________________________________________________________\n",
      "None\n",
      "x shape = (24754, 81)\n",
      "x train shape = (3500, 81)\n",
      "x test shape = (4157, 81)\n",
      "Epoch 1/20\n",
      "55/55 [==============================] - 33s 597ms/step - loss: 1.3873 - accuracy: 0.3560 - val_loss: 1.3358 - val_accuracy: 0.4503\n",
      "Epoch 2/20\n",
      "55/55 [==============================] - 32s 594ms/step - loss: 1.3198 - accuracy: 0.4783 - val_loss: 1.3016 - val_accuracy: 0.5338\n",
      "Epoch 3/20\n",
      "55/55 [==============================] - 32s 591ms/step - loss: 1.2960 - accuracy: 0.5374 - val_loss: 1.2857 - val_accuracy: 0.5872\n",
      "Epoch 4/20\n",
      "55/55 [==============================] - 32s 592ms/step - loss: 1.2765 - accuracy: 0.5903 - val_loss: 1.2673 - val_accuracy: 0.6471\n",
      "Epoch 5/20\n",
      "55/55 [==============================] - 32s 589ms/step - loss: 1.2574 - accuracy: 0.6371 - val_loss: 1.2479 - val_accuracy: 0.6863\n",
      "Epoch 6/20\n",
      "55/55 [==============================] - 32s 594ms/step - loss: 1.2398 - accuracy: 0.6803 - val_loss: 1.2340 - val_accuracy: 0.6998\n",
      "Epoch 7/20\n",
      "55/55 [==============================] - 33s 596ms/step - loss: 1.2268 - accuracy: 0.6943 - val_loss: 1.2251 - val_accuracy: 0.7070\n",
      "Epoch 8/20\n",
      "55/55 [==============================] - 34s 630ms/step - loss: 1.2169 - accuracy: 0.7066 - val_loss: 1.2171 - val_accuracy: 0.7125\n",
      "Epoch 9/20\n",
      "55/55 [==============================] - 33s 607ms/step - loss: 1.2090 - accuracy: 0.7149 - val_loss: 1.2093 - val_accuracy: 0.7169\n",
      "Epoch 10/20\n",
      "55/55 [==============================] - 33s 601ms/step - loss: 1.2019 - accuracy: 0.7169 - val_loss: 1.2039 - val_accuracy: 0.7157\n",
      "Epoch 11/20\n",
      "55/55 [==============================] - 33s 598ms/step - loss: 1.1982 - accuracy: 0.7134 - val_loss: 1.2022 - val_accuracy: 0.7123\n",
      "Epoch 12/20\n",
      "55/55 [==============================] - 33s 599ms/step - loss: 1.1966 - accuracy: 0.7097 - val_loss: 1.2009 - val_accuracy: 0.7072\n",
      "Epoch 13/20\n",
      "55/55 [==============================] - 33s 600ms/step - loss: 1.1956 - accuracy: 0.7046 - val_loss: 1.1998 - val_accuracy: 0.7092\n",
      "Epoch 14/20\n",
      "55/55 [==============================] - 33s 595ms/step - loss: 1.1943 - accuracy: 0.7046 - val_loss: 1.1983 - val_accuracy: 0.7060\n",
      "Epoch 15/20\n",
      "55/55 [==============================] - 32s 593ms/step - loss: 1.1925 - accuracy: 0.6991 - val_loss: 1.1957 - val_accuracy: 0.7063\n",
      "Epoch 16/20\n",
      "55/55 [==============================] - 32s 592ms/step - loss: 1.1900 - accuracy: 0.7006 - val_loss: 1.1929 - val_accuracy: 0.7036\n",
      "Epoch 17/20\n",
      "55/55 [==============================] - 32s 591ms/step - loss: 1.1875 - accuracy: 0.7014 - val_loss: 1.1903 - val_accuracy: 0.7041\n",
      "Epoch 18/20\n",
      "55/55 [==============================] - 33s 598ms/step - loss: 1.1856 - accuracy: 0.6986 - val_loss: 1.1889 - val_accuracy: 0.7044\n",
      "Epoch 19/20\n",
      "55/55 [==============================] - 32s 588ms/step - loss: 1.1844 - accuracy: 0.7043 - val_loss: 1.1884 - val_accuracy: 0.7051\n",
      "Epoch 20/20\n",
      "55/55 [==============================] - 32s 593ms/step - loss: 1.1835 - accuracy: 0.7037 - val_loss: 1.1877 - val_accuracy: 0.7084\n",
      "130/130 [==============================] - 20s 154ms/step - loss: 1.1877 - accuracy: 0.7084\n",
      "\n",
      "Test loss: 1.1877, Test accuracy: 0.7084\n",
      "\n",
      "\n",
      "********************************************************************************\n",
      "Building QNN model with 3 layer(s)\n",
      "********************************************************************************\n",
      "\n",
      "Using 7 qubits\n",
      "Model: \"QNN\"\n",
      "_________________________________________________________________\n",
      " Layer (type)                Output Shape              Param #   \n",
      "=================================================================\n",
      " inputs (InputLayer)         [(None, 81)]              0         \n",
      "                                                                 \n",
      " quantumLayer (KerasLayer)   (None, 4)                 117       \n",
      "                                                                 \n",
      " softmax (Lambda)            (None, 4)                 0         \n",
      "                                                                 \n",
      "=================================================================\n",
      "Total params: 117 (936.00 Byte)\n",
      "Trainable params: 117 (936.00 Byte)\n",
      "Non-trainable params: 0 (0.00 Byte)\n",
      "_________________________________________________________________\n",
      "None\n",
      "x shape = (24754, 81)\n",
      "x train shape = (3500, 81)\n",
      "x test shape = (4157, 81)\n",
      "Epoch 1/20\n",
      "55/55 [==============================] - 47s 863ms/step - loss: 1.3571 - accuracy: 0.3869 - val_loss: 1.3085 - val_accuracy: 0.4761\n",
      "Epoch 2/20\n",
      "55/55 [==============================] - 47s 858ms/step - loss: 1.2898 - accuracy: 0.4971 - val_loss: 1.2630 - val_accuracy: 0.5742\n",
      "Epoch 3/20\n",
      "55/55 [==============================] - 47s 860ms/step - loss: 1.2487 - accuracy: 0.5974 - val_loss: 1.2287 - val_accuracy: 0.6618\n",
      "Epoch 4/20\n",
      "55/55 [==============================] - 47s 863ms/step - loss: 1.2125 - accuracy: 0.6883 - val_loss: 1.1963 - val_accuracy: 0.7270\n",
      "Epoch 5/20\n",
      "55/55 [==============================] - 47s 860ms/step - loss: 1.1775 - accuracy: 0.7514 - val_loss: 1.1649 - val_accuracy: 0.7472\n",
      "Epoch 6/20\n",
      "55/55 [==============================] - 47s 863ms/step - loss: 1.1542 - accuracy: 0.7309 - val_loss: 1.1461 - val_accuracy: 0.7145\n",
      "Epoch 7/20\n",
      "55/55 [==============================] - 47s 861ms/step - loss: 1.1411 - accuracy: 0.7083 - val_loss: 1.1335 - val_accuracy: 0.7118\n",
      "Epoch 8/20\n",
      "55/55 [==============================] - 47s 858ms/step - loss: 1.1295 - accuracy: 0.7080 - val_loss: 1.1229 - val_accuracy: 0.6858\n",
      "Epoch 9/20\n",
      "55/55 [==============================] - 47s 854ms/step - loss: 1.1184 - accuracy: 0.6880 - val_loss: 1.1144 - val_accuracy: 0.6719\n",
      "Epoch 10/20\n",
      "55/55 [==============================] - 47s 858ms/step - loss: 1.1118 - accuracy: 0.6689 - val_loss: 1.1125 - val_accuracy: 0.7133\n",
      "Epoch 11/20\n",
      "55/55 [==============================] - 47s 862ms/step - loss: 1.1096 - accuracy: 0.6886 - val_loss: 1.1114 - val_accuracy: 0.7176\n",
      "Epoch 12/20\n",
      "55/55 [==============================] - 47s 866ms/step - loss: 1.1082 - accuracy: 0.7020 - val_loss: 1.1096 - val_accuracy: 0.7260\n",
      "Epoch 13/20\n",
      "55/55 [==============================] - 48s 883ms/step - loss: 1.1071 - accuracy: 0.7160 - val_loss: 1.1083 - val_accuracy: 0.7327\n",
      "Epoch 14/20\n",
      "55/55 [==============================] - 48s 883ms/step - loss: 1.1061 - accuracy: 0.7243 - val_loss: 1.1062 - val_accuracy: 0.7378\n",
      "Epoch 15/20\n",
      "55/55 [==============================] - 48s 886ms/step - loss: 1.1043 - accuracy: 0.7346 - val_loss: 1.1046 - val_accuracy: 0.7424\n",
      "Epoch 16/20\n",
      "55/55 [==============================] - 48s 885ms/step - loss: 1.1033 - accuracy: 0.7357 - val_loss: 1.1038 - val_accuracy: 0.7621\n",
      "Epoch 17/20\n",
      "55/55 [==============================] - 48s 885ms/step - loss: 1.1016 - accuracy: 0.7486 - val_loss: 1.1016 - val_accuracy: 0.7578\n",
      "Epoch 18/20\n",
      "55/55 [==============================] - 48s 887ms/step - loss: 1.1001 - accuracy: 0.7457 - val_loss: 1.1004 - val_accuracy: 0.7664\n",
      "Epoch 19/20\n",
      "55/55 [==============================] - 49s 892ms/step - loss: 1.0986 - accuracy: 0.7563 - val_loss: 1.0984 - val_accuracy: 0.7686\n",
      "Epoch 20/20\n",
      "55/55 [==============================] - 50s 906ms/step - loss: 1.0969 - accuracy: 0.7583 - val_loss: 1.0967 - val_accuracy: 0.7770\n",
      "130/130 [==============================] - 31s 239ms/step - loss: 1.0967 - accuracy: 0.7770\n",
      "\n",
      "Test loss: 1.0967, Test accuracy: 0.7770\n",
      "\n",
      "\n",
      "********************************************************************************\n",
      "Building QNN model with 5 layer(s)\n",
      "********************************************************************************\n",
      "\n",
      "Using 7 qubits\n",
      "Model: \"QNN\"\n",
      "_________________________________________________________________\n",
      " Layer (type)                Output Shape              Param #   \n",
      "=================================================================\n",
      " inputs (InputLayer)         [(None, 81)]              0         \n",
      "                                                                 \n",
      " quantumLayer (KerasLayer)   (None, 4)                 195       \n",
      "                                                                 \n",
      " softmax (Lambda)            (None, 4)                 0         \n",
      "                                                                 \n",
      "=================================================================\n",
      "Total params: 195 (1.52 KB)\n",
      "Trainable params: 195 (1.52 KB)\n",
      "Non-trainable params: 0 (0.00 Byte)\n",
      "_________________________________________________________________\n",
      "None\n",
      "x shape = (24754, 81)\n",
      "x train shape = (3500, 81)\n",
      "x test shape = (4157, 81)\n",
      "Epoch 1/20\n",
      "55/55 [==============================] - 84s 2s/step - loss: 1.3518 - accuracy: 0.4151 - val_loss: 1.2912 - val_accuracy: 0.5379\n",
      "Epoch 2/20\n",
      "55/55 [==============================] - 83s 2s/step - loss: 1.2590 - accuracy: 0.5946 - val_loss: 1.2196 - val_accuracy: 0.6839\n",
      "Epoch 3/20\n",
      "55/55 [==============================] - 82s 2s/step - loss: 1.1916 - accuracy: 0.7054 - val_loss: 1.1675 - val_accuracy: 0.7373\n",
      "Epoch 4/20\n",
      "55/55 [==============================] - 80s 1s/step - loss: 1.1486 - accuracy: 0.7226 - val_loss: 1.1387 - val_accuracy: 0.6964\n",
      "Epoch 5/20\n",
      "55/55 [==============================] - 91s 2s/step - loss: 1.1224 - accuracy: 0.7129 - val_loss: 1.1165 - val_accuracy: 0.7036\n",
      "Epoch 6/20\n",
      "55/55 [==============================] - 94s 2s/step - loss: 1.1028 - accuracy: 0.7311 - val_loss: 1.0992 - val_accuracy: 0.7267\n",
      "Epoch 7/20\n",
      "55/55 [==============================] - 88s 2s/step - loss: 1.0884 - accuracy: 0.7634 - val_loss: 1.0878 - val_accuracy: 0.7327\n",
      "Epoch 8/20\n",
      "55/55 [==============================] - 85s 2s/step - loss: 1.0785 - accuracy: 0.7646 - val_loss: 1.0800 - val_accuracy: 0.7474\n",
      "Epoch 9/20\n",
      "55/55 [==============================] - 85s 2s/step - loss: 1.0711 - accuracy: 0.7891 - val_loss: 1.0730 - val_accuracy: 0.7758\n",
      "Epoch 10/20\n",
      "55/55 [==============================] - 85s 2s/step - loss: 1.0648 - accuracy: 0.8054 - val_loss: 1.0661 - val_accuracy: 0.8076\n",
      "Epoch 11/20\n",
      "55/55 [==============================] - 100s 2s/step - loss: 1.0602 - accuracy: 0.8234 - val_loss: 1.0627 - val_accuracy: 0.8215\n",
      "Epoch 12/20\n",
      "55/55 [==============================] - 97s 2s/step - loss: 1.0577 - accuracy: 0.8317 - val_loss: 1.0611 - val_accuracy: 0.8285\n",
      "Epoch 13/20\n",
      "55/55 [==============================] - 97s 2s/step - loss: 1.0562 - accuracy: 0.8457 - val_loss: 1.0617 - val_accuracy: 0.8309\n",
      "Epoch 14/20\n",
      "55/55 [==============================] - 92s 2s/step - loss: 1.0555 - accuracy: 0.8454 - val_loss: 1.0595 - val_accuracy: 0.8290\n",
      "Epoch 15/20\n",
      "55/55 [==============================] - 88s 2s/step - loss: 1.0546 - accuracy: 0.8466 - val_loss: 1.0587 - val_accuracy: 0.8311\n",
      "Epoch 16/20\n",
      "55/55 [==============================] - 86s 2s/step - loss: 1.0538 - accuracy: 0.8494 - val_loss: 1.0580 - val_accuracy: 0.8340\n",
      "Epoch 17/20\n",
      "55/55 [==============================] - 83s 2s/step - loss: 1.0532 - accuracy: 0.8489 - val_loss: 1.0567 - val_accuracy: 0.8364\n",
      "Epoch 18/20\n",
      "55/55 [==============================] - 81s 1s/step - loss: 1.0524 - accuracy: 0.8509 - val_loss: 1.0570 - val_accuracy: 0.8299\n",
      "Epoch 19/20\n",
      "55/55 [==============================] - 83s 2s/step - loss: 1.0523 - accuracy: 0.8474 - val_loss: 1.0559 - val_accuracy: 0.8292\n",
      "Epoch 20/20\n",
      "55/55 [==============================] - 81s 1s/step - loss: 1.0517 - accuracy: 0.8471 - val_loss: 1.0558 - val_accuracy: 0.8371\n",
      "130/130 [==============================] - 50s 383ms/step - loss: 1.0558 - accuracy: 0.8371\n",
      "\n",
      "Test loss: 1.0558, Test accuracy: 0.8371\n",
      "\n",
      "\n",
      "********************************************************************************\n",
      "Building QNN model with 7 layer(s)\n",
      "********************************************************************************\n",
      "\n",
      "Using 7 qubits\n",
      "Model: \"QNN\"\n",
      "_________________________________________________________________\n",
      " Layer (type)                Output Shape              Param #   \n",
      "=================================================================\n",
      " inputs (InputLayer)         [(None, 81)]              0         \n",
      "                                                                 \n",
      " quantumLayer (KerasLayer)   (None, 4)                 273       \n",
      "                                                                 \n",
      " softmax (Lambda)            (None, 4)                 0         \n",
      "                                                                 \n",
      "=================================================================\n",
      "Total params: 273 (2.13 KB)\n",
      "Trainable params: 273 (2.13 KB)\n",
      "Non-trainable params: 0 (0.00 Byte)\n",
      "_________________________________________________________________\n",
      "None\n",
      "x shape = (24754, 81)\n",
      "x train shape = (3500, 81)\n",
      "x test shape = (4157, 81)\n",
      "Epoch 1/20\n",
      "55/55 [==============================] - 131s 2s/step - loss: 1.3156 - accuracy: 0.4677 - val_loss: 1.2299 - val_accuracy: 0.6312\n",
      "Epoch 2/20\n",
      "55/55 [==============================] - 124s 2s/step - loss: 1.1715 - accuracy: 0.7160 - val_loss: 1.1290 - val_accuracy: 0.7599\n",
      "Epoch 3/20\n",
      "55/55 [==============================] - 116s 2s/step - loss: 1.1096 - accuracy: 0.7914 - val_loss: 1.0921 - val_accuracy: 0.7987\n",
      "Epoch 4/20\n",
      "55/55 [==============================] - 120s 2s/step - loss: 1.0821 - accuracy: 0.8249 - val_loss: 1.0745 - val_accuracy: 0.8210\n",
      "Epoch 5/20\n",
      "55/55 [==============================] - 122s 2s/step - loss: 1.0636 - accuracy: 0.8449 - val_loss: 1.0550 - val_accuracy: 0.8335\n",
      "Epoch 6/20\n",
      "55/55 [==============================] - 121s 2s/step - loss: 1.0455 - accuracy: 0.8577 - val_loss: 1.0364 - val_accuracy: 0.8590\n",
      "Epoch 7/20\n",
      "55/55 [==============================] - 129s 2s/step - loss: 1.0296 - accuracy: 0.8780 - val_loss: 1.0240 - val_accuracy: 0.8795\n",
      "Epoch 8/20\n",
      "55/55 [==============================] - 131s 2s/step - loss: 1.0205 - accuracy: 0.8909 - val_loss: 1.0165 - val_accuracy: 0.8893\n",
      "Epoch 9/20\n",
      "55/55 [==============================] - 132s 2s/step - loss: 1.0151 - accuracy: 0.8954 - val_loss: 1.0117 - val_accuracy: 0.8910\n",
      "Epoch 10/20\n",
      "55/55 [==============================] - 130s 2s/step - loss: 1.0107 - accuracy: 0.8980 - val_loss: 1.0076 - val_accuracy: 0.8937\n",
      "Epoch 11/20\n",
      "55/55 [==============================] - 130s 2s/step - loss: 1.0061 - accuracy: 0.8994 - val_loss: 1.0033 - val_accuracy: 0.9004\n",
      "Epoch 12/20\n",
      "55/55 [==============================] - 130s 2s/step - loss: 1.0020 - accuracy: 0.9020 - val_loss: 0.9999 - val_accuracy: 0.9023\n",
      "Epoch 13/20\n",
      "55/55 [==============================] - 131s 2s/step - loss: 0.9991 - accuracy: 0.9054 - val_loss: 0.9979 - val_accuracy: 0.9086\n",
      "Epoch 14/20\n",
      "55/55 [==============================] - 120s 2s/step - loss: 0.9981 - accuracy: 0.9060 - val_loss: 0.9971 - val_accuracy: 0.9091\n",
      "Epoch 15/20\n",
      "55/55 [==============================] - 124s 2s/step - loss: 0.9976 - accuracy: 0.9089 - val_loss: 0.9972 - val_accuracy: 0.9055\n",
      "Epoch 16/20\n",
      "55/55 [==============================] - 132s 2s/step - loss: 0.9972 - accuracy: 0.9051 - val_loss: 0.9961 - val_accuracy: 0.9093\n",
      "Epoch 17/20\n",
      "55/55 [==============================] - 131s 2s/step - loss: 0.9970 - accuracy: 0.9054 - val_loss: 0.9952 - val_accuracy: 0.9100\n",
      "Epoch 18/20\n",
      "55/55 [==============================] - 132s 2s/step - loss: 0.9971 - accuracy: 0.9063 - val_loss: 0.9955 - val_accuracy: 0.9127\n",
      "Epoch 19/20\n",
      "55/55 [==============================] - 136s 2s/step - loss: 0.9963 - accuracy: 0.9069 - val_loss: 0.9952 - val_accuracy: 0.9115\n",
      "Epoch 20/20\n",
      "55/55 [==============================] - 130s 2s/step - loss: 0.9961 - accuracy: 0.9071 - val_loss: 0.9943 - val_accuracy: 0.9086\n",
      "130/130 [==============================] - 67s 514ms/step - loss: 0.9943 - accuracy: 0.9086\n",
      "\n",
      "Test loss: 0.9943, Test accuracy: 0.9086\n",
      "\n",
      "\n"
     ]
    }
   ],
   "source": [
    "qnn_list = []\n",
    "\n",
    "for num_of_layers in [2, 3, 5, 7]:\n",
    "    qnn_history, model_training_time, qnn_results = build_qnn_model(num_of_layers)\n",
    "    qnn_list.append([num_of_layers, qnn_history, model_training_time, qnn_results])"
   ]
  },
  {
   "attachments": {},
   "cell_type": "markdown",
   "metadata": {},
   "source": [
    "## Plot the results!"
   ]
  },
  {
   "cell_type": "code",
   "execution_count": 13,
   "metadata": {},
   "outputs": [
    {
     "name": "stdout",
     "output_type": "stream",
     "text": [
      "Training time for 2-layer QNN: 0:10:53.065313\n",
      "\n",
      "Training time for 3-layer QNN: 0:15:53.242309\n",
      "\n",
      "Training time for 5-layer QNN: 0:29:05.799334\n",
      "\n",
      "Training time for 7-layer QNN: 0:42:32.219222\n",
      "\n"
     ]
    }
   ],
   "source": [
    "qnn_histories = {}\n",
    "\n",
    "for [i, qnn_history, model_training_time, qnn_results] in qnn_list:\n",
    "    print(f\"Training time for {i}-layer QNN: {model_training_time}\")\n",
    "    print()\n",
    "    if i not in qnn_histories:\n",
    "        qnn_histories[i] = []\n",
    "    qnn_histories[i].append(qnn_history)"
   ]
  },
  {
   "cell_type": "code",
   "execution_count": 14,
   "metadata": {},
   "outputs": [
    {
     "data": {
      "image/png": "[encoded data removed]",
      "text/plain": [
       "<Figure size 640x480 with 1 Axes>"
      ]
     },
     "metadata": {},
     "output_type": "display_data"
    }
   ],
   "source": [
    "# plot the hinge accuracy for the qnn history\n",
    "for n in qnn_histories.keys():\n",
    "    plt.plot(np.arange(1,21), qnn_histories[n][0].history[\"accuracy\"], label=f\"{n} layer QNN\")\n",
    "\n",
    "plt.xlabel(\"Epoch\")\n",
    "plt.ylabel(\"Accuracy\")\n",
    "plt.legend()\n",
    "# modify x_ticks to also include 20\n",
    "plt.xticks(np.arange(0, 21, 2))\n",
    "# save as pdf with tight layout and no padding\n",
    "#plt.savefig(\"qnn_hinge_accuracy.pdf\", bbox_inches=\"tight\", pad_inches=0)\n",
    "plt.show()"
   ]
  },
  {
   "cell_type": "code",
   "execution_count": 15,
   "metadata": {},
   "outputs": [
    {
     "data": {
      "image/png": "[encoded data removed]",
      "text/plain": [
       "<Figure size 640x480 with 1 Axes>"
      ]
     },
     "metadata": {},
     "output_type": "display_data"
    }
   ],
   "source": [
    "# plot the hinge accuracy for the loss for both 1 and 2 layer on the same axes\n",
    "for n in qnn_histories.keys():\n",
    "    plt.plot(np.arange(1,21), qnn_histories[n][0].history[\"loss\"], label=f\"{n} layer QNN\")\n",
    "\n",
    "plt.xlabel(\"Epoch\")\n",
    "plt.ylabel(\"Loss\")\n",
    "plt.legend()\n",
    "# modify x_ticks to also include 20\n",
    "plt.xticks(np.arange(0, 21, 2))\n",
    "# save as pdf with tight layout and no padding\n",
    "#plt.savefig(\"qnn_hinge_loss.pdf\", bbox_inches=\"tight\", pad_inches=0)\n",
    "plt.show()"
   ]
  },
  {
   "cell_type": "code",
   "execution_count": 16,
   "metadata": {},
   "outputs": [
    {
     "name": "stdout",
     "output_type": "stream",
     "text": [
      "Saved qnn_histories to qnn_histories_20250427233518.pkl\n"
     ]
    }
   ],
   "source": [
    "import pickle\n",
    "\n",
    "qnn_histories_simple = {k: [h.history for h in v] for k, v in qnn_histories.items()}\n",
    "\n",
    "timestamp = datetime.now().strftime(\"%Y%m%d%H%M%S\")\n",
    "with open(f'qnn_histories_{timestamp}.pkl', 'wb') as f:\n",
    "    pickle.dump(qnn_histories_simple, f)\n",
    "\n",
    "print(f\"Saved qnn_histories to qnn_histories_{timestamp}.pkl\")"
   ]
  }
 ],
 "metadata": {
  "kernelspec": {
   "display_name": "phys4041",
   "language": "python",
   "name": "python3"
  },
  "language_info": {
   "codemirror_mode": {
    "name": "ipython",
    "version": 3
   },
   "file_extension": ".py",
   "mimetype": "text/x-python",
   "name": "python",
   "nbconvert_exporter": "python",
   "pygments_lexer": "ipython3",
   "version": "3.10.16"
  },
  "orig_nbformat": 4
 },
 "nbformat": 4,
 "nbformat_minor": 2
}
