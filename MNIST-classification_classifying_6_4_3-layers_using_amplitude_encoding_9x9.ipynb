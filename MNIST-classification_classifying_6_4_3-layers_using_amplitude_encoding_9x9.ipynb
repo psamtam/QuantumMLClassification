{
 "cells": [
  {
   "cell_type": "markdown",
   "metadata": {},
   "source": [
    "## Classifying between 6 and 4\n",
    "## Using amplitude encoding (9x9)"
   ]
  },
  {
   "cell_type": "code",
   "execution_count": 1,
   "metadata": {},
   "outputs": [],
   "source": [
    "import pennylane as qml\n",
    "import tensorflow as tf\n",
    "#import sklearn.datasets\n",
    "#from sklearn.datasets import fetch_openml\n",
    "\n",
    "import numpy as np\n",
    "\n",
    "from matplotlib import pyplot as plt\n",
    "\n",
    "tf.keras.backend.set_floatx('float64')\n",
    "\n",
    "from silence_tensorflow import silence_tensorflow\n",
    "silence_tensorflow()  # this stops tensorflow complaining about converting from complex to float!\n",
    "\n",
    "from datetime import datetime"
   ]
  },
  {
   "attachments": {},
   "cell_type": "markdown",
   "metadata": {},
   "source": [
    "## Load and reduce the data\n",
    "\n",
    "Load the MNIST data and check number of training and test examples"
   ]
  },
  {
   "cell_type": "code",
   "execution_count": 2,
   "metadata": {},
   "outputs": [
    {
     "name": "stdout",
     "output_type": "stream",
     "text": [
      "Number of original training examples: 60000\n",
      "Number of original test examples: 10000\n"
     ]
    }
   ],
   "source": [
    "(x_train, y_train), (x_test, y_test) = tf.keras.datasets.mnist.load_data()\n",
    "\n",
    "# Rescale the images from [0,255] to the [0.0,1.0] range.\n",
    "x_train, x_test = x_train[..., np.newaxis]/255.0, x_test[..., np.newaxis]/255.0  # add colour dimension\n",
    "\n",
    "print(\"Number of original training examples:\", len(x_train))\n",
    "print(\"Number of original test examples:\", len(x_test))"
   ]
  },
  {
   "attachments": {},
   "cell_type": "markdown",
   "metadata": {},
   "source": [
    "Create a function to filter out only 0 and 2"
   ]
  },
  {
   "cell_type": "code",
   "execution_count": 3,
   "metadata": {},
   "outputs": [],
   "source": [
    "def filter_64(x, y):\n",
    "    keep = (y == 6) | (y == 4)\n",
    "    x, y = x[keep], y[keep]\n",
    "    y = y == 0\n",
    "    return x,y"
   ]
  },
  {
   "cell_type": "code",
   "execution_count": 4,
   "metadata": {},
   "outputs": [
    {
     "name": "stdout",
     "output_type": "stream",
     "text": [
      "Number of filtered training examples: 11760\n",
      "Number of filtered test examples: 1940\n"
     ]
    }
   ],
   "source": [
    "x_train, y_train = filter_64(x_train, y_train)\n",
    "x_test, y_test = filter_64(x_test, y_test)\n",
    "\n",
    "print(\"Number of filtered training examples:\", len(x_train))\n",
    "print(\"Number of filtered test examples:\", len(x_test))"
   ]
  },
  {
   "attachments": {},
   "cell_type": "markdown",
   "metadata": {},
   "source": [
    "Plot the original images"
   ]
  },
  {
   "cell_type": "code",
   "execution_count": 5,
   "metadata": {},
   "outputs": [],
   "source": [
    "i = 0"
   ]
  },
  {
   "cell_type": "code",
   "execution_count": 6,
   "metadata": {},
   "outputs": [
    {
     "data": {
      "image/png": "[encoded data removed]",
      "text/plain": [
       "<Figure size 640x480 with 1 Axes>"
      ]
     },
     "metadata": {},
     "output_type": "display_data"
    }
   ],
   "source": [
    "i += 1\n",
    "plt.imshow(x_train[0, :, :, 0], cmap='Greys')\n",
    "ax = plt.gca()\n",
    "ax.set_xticks([])\n",
    "ax.set_yticks([])\n",
    "plt.title(\"28x28 image of a 0\", fontsize=20)\n",
    "# save to file as pdf\n",
    "plt.savefig('28x28_MNIST_0.pdf', bbox_inches='tight', pad_inches=0)\n",
    "plt.show()"
   ]
  },
  {
   "attachments": {},
   "cell_type": "markdown",
   "metadata": {},
   "source": [
    "Reduce images to 9x9"
   ]
  },
  {
   "cell_type": "code",
   "execution_count": 7,
   "metadata": {},
   "outputs": [
    {
     "name": "stdout",
     "output_type": "stream",
     "text": [
      "(11760, 9, 9, 1)\n"
     ]
    }
   ],
   "source": [
    "x_train_small = tf.image.resize(x_train, (9,9)).numpy()\n",
    "x_test_small = tf.image.resize(x_test, (9,9)).numpy()\n",
    "\n",
    "print(x_train_small.shape)"
   ]
  },
  {
   "cell_type": "code",
   "execution_count": 8,
   "metadata": {},
   "outputs": [
    {
     "data": {
      "image/png": "[encoded data removed]",
      "text/plain": [
       "<Figure size 640x480 with 1 Axes>"
      ]
     },
     "metadata": {},
     "output_type": "display_data"
    }
   ],
   "source": [
    "plt.imshow(x_train_small[0,:,:,0], vmin=0, vmax=1, cmap='Greys')\n",
    "ax = plt.gca()\n",
    "ax.set_xticks([])\n",
    "ax.set_yticks([])\n",
    "plt.title(\"9x9 image of a 0\", fontsize=20)\n",
    "# save to file as pdf\n",
    "plt.savefig('9x9_MNIST_0.pdf', bbox_inches='tight', pad_inches=0)\n",
    "plt.show()"
   ]
  },
  {
   "attachments": {},
   "cell_type": "markdown",
   "metadata": {},
   "source": [
    "Flatten the images to [81]"
   ]
  },
  {
   "cell_type": "code",
   "execution_count": 9,
   "metadata": {},
   "outputs": [
    {
     "data": {
      "text/plain": [
       "((11760, 81), (1940, 81))"
      ]
     },
     "execution_count": 9,
     "metadata": {},
     "output_type": "execute_result"
    }
   ],
   "source": [
    "x_train_flatten = x_train_small.reshape(x_train_small.shape[0], x_train_small.shape[1] * x_train_small.shape[2])\n",
    "x_test_flatten = x_test_small.reshape(x_test_small.shape[0], x_test_small.shape[1] * x_test_small.shape[2])\n",
    "x_train_flatten.shape, x_test_flatten.shape"
   ]
  },
  {
   "attachments": {},
   "cell_type": "markdown",
   "metadata": {},
   "source": [
    "## Set up the Quantum Neural Network\n",
    "\n",
    "Create quantum circuit using pennylane qnode, then conver this to a Keras layer to make a Keras model"
   ]
  },
  {
   "cell_type": "code",
   "execution_count": 10,
   "metadata": {},
   "outputs": [],
   "source": [
    "def build_qnn_model(num_of_layers):\n",
    "    print(f\"{80*'*'}\")\n",
    "    print(f\"Building QNN model with {num_of_layers} layer(s)\")\n",
    "    print(f\"{80*'*'}\")\n",
    "    print()\n",
    "    n_qubits = int(np.ceil(np.log2(x_train_flatten.shape[-1])))\n",
    "    n_layers = num_of_layers\n",
    "\n",
    "    dev = qml.device(\"default.qubit\", wires=n_qubits)\n",
    "\n",
    "    @qml.qnode(dev, interface=\"tf\")\n",
    "    def qnode(inputs, weights):\n",
    "        \n",
    "        qml.AmplitudeEmbedding(features=inputs, wires=range(n_qubits), pad_with=0., normalize=True)\n",
    "\n",
    "        for jj in range(n_layers):\n",
    "            for ii in range(n_qubits-1):\n",
    "                qml.RZ(weights[jj,2*ii,0], wires=0)\n",
    "                qml.RY(weights[jj,2*ii,1], wires=0)\n",
    "                qml.RZ(weights[jj,2*ii,2], wires=0)\n",
    "\n",
    "                qml.RZ(weights[jj,2*ii+1,0], wires=ii+1)\n",
    "                qml.RY(weights[jj,2*ii+1,1], wires=ii+1)\n",
    "                qml.RZ(weights[jj,2*ii+1,2], wires=ii+1)\n",
    "\n",
    "                #qml.U3(*list(weights[jj,2*ii,:]), wires=0)\n",
    "                #qml.U3(*list(weights[jj,2*ii+1,:]), wires=ii+1)\n",
    "                qml.CNOT(wires=[ii+1,0])\n",
    "                \n",
    "            qml.RZ(weights[jj,2*(n_qubits-1),0], wires=0)\n",
    "            qml.RY(weights[jj,2*(n_qubits-1),1], wires=0)\n",
    "            qml.RZ(weights[jj,2*(n_qubits-1),2], wires=0)\n",
    "\n",
    "        return qml.expval(qml.PauliZ(0))\n",
    "\n",
    "    weight_shapes = {\"weights\": (n_layers, 2*(n_qubits-1)+1, 3) }\n",
    "\n",
    "    qlayer = qml.qnn.KerasLayer(qnode, weight_shapes, output_dim=1, name=\"quantumLayer\")\n",
    "    inputs = tf.keras.Input(shape=(x_train_flatten.shape[-1],), name=\"inputs\")\n",
    "    outputs = qlayer(inputs)\n",
    "    model = tf.keras.Model(inputs=inputs, outputs=outputs, name=\"QNN\")\n",
    "\n",
    "    y_train_hinge = 2.0*y_train-1.0\n",
    "    y_test_hinge = 2.0*y_test-1.0\n",
    "\n",
    "    def hinge_accuracy(y_true, y_pred):\n",
    "        y_true = tf.squeeze(y_true) > 0.0\n",
    "        y_pred = tf.squeeze(y_pred) > 0.0\n",
    "        result = tf.cast(y_true == y_pred, tf.float32)\n",
    "\n",
    "        return tf.reduce_mean(result)\n",
    "    \n",
    "    model.compile(\n",
    "        loss=tf.keras.losses.Hinge(),\n",
    "        optimizer=tf.keras.optimizers.Adam(),\n",
    "        metrics=[hinge_accuracy])\n",
    "    \n",
    "    print(model.summary())\n",
    "\n",
    "    EPOCHS = 20\n",
    "    BATCH_SIZE = 32\n",
    "\n",
    "    NUM_EXAMPLES = 512 \n",
    "    print(f\"x shape = {x_train_flatten.shape}\")\n",
    "\n",
    "    x_train_sub = x_train_flatten[:NUM_EXAMPLES]\n",
    "    y_train_hinge_sub = y_train_hinge[:NUM_EXAMPLES]\n",
    "\n",
    "    print(f\"x train shape = {x_train_sub.shape}\")\n",
    "\n",
    "    x_test_sub = x_test_flatten[:,:]\n",
    "    y_test_sub = y_test[:]\n",
    "\n",
    "    print(f\"x test shape = {x_test_sub.shape}\")\n",
    "\n",
    "    start_time = datetime.now()\n",
    "\n",
    "    qnn_history = model.fit(\n",
    "        x_train_sub, y_train_hinge_sub,\n",
    "        batch_size=BATCH_SIZE,\n",
    "        epochs=EPOCHS,\n",
    "        verbose=1)#,\n",
    "        #validation_data=(x_test_sub, y_test_sub))\n",
    "\n",
    "    model_training_time = datetime.now() - start_time\n",
    "\n",
    "    qnn_results = model.evaluate(x_test_sub, y_test_sub)\n",
    "\n",
    "    print()\n",
    "\n",
    "    return qnn_history, model_training_time, qnn_results"
   ]
  },
  {
   "cell_type": "code",
   "execution_count": 11,
   "metadata": {},
   "outputs": [
    {
     "name": "stdout",
     "output_type": "stream",
     "text": [
      "********************************************************************************\n",
      "Building QNN model with 1 layer(s)\n",
      "********************************************************************************\n",
      "\n",
      "Model: \"QNN\"\n",
      "_________________________________________________________________\n",
      " Layer (type)                Output Shape              Param #   \n",
      "=================================================================\n",
      " inputs (InputLayer)         [(None, 81)]              0         \n",
      "                                                                 \n",
      " quantumLayer (KerasLayer)   (None, 1)                 39        \n",
      "                                                                 \n",
      "=================================================================\n",
      "Total params: 39 (312.00 Byte)\n",
      "Trainable params: 39 (312.00 Byte)\n",
      "Non-trainable params: 0 (0.00 Byte)\n",
      "_________________________________________________________________\n",
      "None\n",
      "x shape = (11760, 81)\n",
      "x train shape = (512, 81)\n",
      "x test shape = (1940, 81)\n",
      "Epoch 1/20\n",
      "16/16 [==============================] - 3s 196ms/step - loss: 0.9870 - hinge_accuracy: 0.5488\n",
      "Epoch 2/20\n",
      "16/16 [==============================] - 3s 195ms/step - loss: 0.9764 - hinge_accuracy: 0.5938\n",
      "Epoch 3/20\n",
      "16/16 [==============================] - 3s 196ms/step - loss: 0.9662 - hinge_accuracy: 0.6230\n",
      "Epoch 4/20\n",
      "16/16 [==============================] - 3s 194ms/step - loss: 0.9565 - hinge_accuracy: 0.6465\n",
      "Epoch 5/20\n",
      "16/16 [==============================] - 3s 194ms/step - loss: 0.9469 - hinge_accuracy: 0.6816\n",
      "Epoch 6/20\n",
      "16/16 [==============================] - 3s 204ms/step - loss: 0.9376 - hinge_accuracy: 0.6953\n",
      "Epoch 7/20\n",
      "16/16 [==============================] - 3s 193ms/step - loss: 0.9284 - hinge_accuracy: 0.7129\n",
      "Epoch 8/20\n",
      "16/16 [==============================] - 3s 190ms/step - loss: 0.9192 - hinge_accuracy: 0.7285\n",
      "Epoch 9/20\n",
      "16/16 [==============================] - 3s 189ms/step - loss: 0.9100 - hinge_accuracy: 0.7578\n",
      "Epoch 10/20\n",
      "16/16 [==============================] - 3s 191ms/step - loss: 0.9008 - hinge_accuracy: 0.7793\n",
      "Epoch 11/20\n",
      "16/16 [==============================] - 3s 191ms/step - loss: 0.8915 - hinge_accuracy: 0.8008\n",
      "Epoch 12/20\n",
      "16/16 [==============================] - 3s 190ms/step - loss: 0.8819 - hinge_accuracy: 0.8262\n",
      "Epoch 13/20\n",
      "16/16 [==============================] - 3s 192ms/step - loss: 0.8716 - hinge_accuracy: 0.8477\n",
      "Epoch 14/20\n",
      "16/16 [==============================] - 3s 191ms/step - loss: 0.8607 - hinge_accuracy: 0.8652\n",
      "Epoch 15/20\n",
      "16/16 [==============================] - 3s 193ms/step - loss: 0.8484 - hinge_accuracy: 0.8828\n",
      "Epoch 16/20\n",
      "16/16 [==============================] - 3s 196ms/step - loss: 0.8347 - hinge_accuracy: 0.8984\n",
      "Epoch 17/20\n",
      "16/16 [==============================] - 3s 194ms/step - loss: 0.8191 - hinge_accuracy: 0.9082\n",
      "Epoch 18/20\n",
      "16/16 [==============================] - 3s 193ms/step - loss: 0.8007 - hinge_accuracy: 0.9375\n",
      "Epoch 19/20\n",
      "16/16 [==============================] - 3s 193ms/step - loss: 0.7798 - hinge_accuracy: 0.9453\n",
      "Epoch 20/20\n",
      "16/16 [==============================] - 3s 191ms/step - loss: 0.7559 - hinge_accuracy: 0.9629\n",
      "61/61 [==============================] - 5s 79ms/step - loss: 0.7599 - hinge_accuracy: 0.9608\n",
      "\n",
      "********************************************************************************\n",
      "Building QNN model with 2 layer(s)\n",
      "********************************************************************************\n",
      "\n",
      "Model: \"QNN\"\n",
      "_________________________________________________________________\n",
      " Layer (type)                Output Shape              Param #   \n",
      "=================================================================\n",
      " inputs (InputLayer)         [(None, 81)]              0         \n",
      "                                                                 \n",
      " quantumLayer (KerasLayer)   (None, 1)                 78        \n",
      "                                                                 \n",
      "=================================================================\n",
      "Total params: 78 (624.00 Byte)\n",
      "Trainable params: 78 (624.00 Byte)\n",
      "Non-trainable params: 0 (0.00 Byte)\n",
      "_________________________________________________________________\n",
      "None\n",
      "x shape = (11760, 81)\n",
      "x train shape = (512, 81)\n",
      "x test shape = (1940, 81)\n",
      "Epoch 1/20\n",
      "16/16 [==============================] - 6s 361ms/step - loss: 1.3825 - hinge_accuracy: 0.0000e+00\n",
      "Epoch 2/20\n",
      "16/16 [==============================] - 6s 363ms/step - loss: 1.3141 - hinge_accuracy: 0.0020\n",
      "Epoch 3/20\n",
      "16/16 [==============================] - 6s 362ms/step - loss: 1.2426 - hinge_accuracy: 0.0137\n",
      "Epoch 4/20\n",
      "16/16 [==============================] - 6s 363ms/step - loss: 1.1683 - hinge_accuracy: 0.0449\n",
      "Epoch 5/20\n",
      "16/16 [==============================] - 6s 363ms/step - loss: 1.0945 - hinge_accuracy: 0.1562\n",
      "Epoch 6/20\n",
      "16/16 [==============================] - 6s 367ms/step - loss: 1.0216 - hinge_accuracy: 0.4062\n",
      "Epoch 7/20\n",
      "16/16 [==============================] - 6s 364ms/step - loss: 0.9531 - hinge_accuracy: 0.6914\n",
      "Epoch 8/20\n",
      "16/16 [==============================] - 6s 363ms/step - loss: 0.8914 - hinge_accuracy: 0.8691\n",
      "Epoch 9/20\n",
      "16/16 [==============================] - 6s 366ms/step - loss: 0.8375 - hinge_accuracy: 0.9512\n",
      "Epoch 10/20\n",
      "16/16 [==============================] - 6s 362ms/step - loss: 0.7913 - hinge_accuracy: 0.9766\n",
      "Epoch 11/20\n",
      "16/16 [==============================] - 6s 362ms/step - loss: 0.7512 - hinge_accuracy: 0.9883\n",
      "Epoch 12/20\n",
      "16/16 [==============================] - 6s 362ms/step - loss: 0.7156 - hinge_accuracy: 0.9883\n",
      "Epoch 13/20\n",
      "16/16 [==============================] - 6s 362ms/step - loss: 0.6840 - hinge_accuracy: 0.9941\n",
      "Epoch 14/20\n",
      "16/16 [==============================] - 6s 363ms/step - loss: 0.6558 - hinge_accuracy: 0.9961\n",
      "Epoch 15/20\n",
      "16/16 [==============================] - 6s 364ms/step - loss: 0.6311 - hinge_accuracy: 0.9980\n",
      "Epoch 16/20\n",
      "16/16 [==============================] - 6s 363ms/step - loss: 0.6090 - hinge_accuracy: 0.9980\n",
      "Epoch 17/20\n",
      "16/16 [==============================] - 6s 359ms/step - loss: 0.5894 - hinge_accuracy: 0.9980\n",
      "Epoch 18/20\n",
      "16/16 [==============================] - 6s 371ms/step - loss: 0.5719 - hinge_accuracy: 0.9980\n",
      "Epoch 19/20\n",
      "16/16 [==============================] - 6s 362ms/step - loss: 0.5557 - hinge_accuracy: 0.9980\n",
      "Epoch 20/20\n",
      "16/16 [==============================] - 6s 362ms/step - loss: 0.5404 - hinge_accuracy: 0.9980\n",
      "61/61 [==============================] - 9s 146ms/step - loss: 0.5379 - hinge_accuracy: 1.0000\n",
      "\n",
      "********************************************************************************\n",
      "Building QNN model with 3 layer(s)\n",
      "********************************************************************************\n",
      "\n",
      "Model: \"QNN\"\n",
      "_________________________________________________________________\n",
      " Layer (type)                Output Shape              Param #   \n",
      "=================================================================\n",
      " inputs (InputLayer)         [(None, 81)]              0         \n",
      "                                                                 \n",
      " quantumLayer (KerasLayer)   (None, 1)                 117       \n",
      "                                                                 \n",
      "=================================================================\n",
      "Total params: 117 (936.00 Byte)\n",
      "Trainable params: 117 (936.00 Byte)\n",
      "Non-trainable params: 0 (0.00 Byte)\n",
      "_________________________________________________________________\n",
      "None\n",
      "x shape = (11760, 81)\n",
      "x train shape = (512, 81)\n",
      "x test shape = (1940, 81)\n",
      "Epoch 1/20\n",
      "16/16 [==============================] - 9s 535ms/step - loss: 0.9673 - hinge_accuracy: 0.6055\n",
      "Epoch 2/20\n",
      "16/16 [==============================] - 9s 538ms/step - loss: 0.8933 - hinge_accuracy: 0.7949\n",
      "Epoch 3/20\n",
      "16/16 [==============================] - 9s 537ms/step - loss: 0.8223 - hinge_accuracy: 0.9141\n",
      "Epoch 4/20\n",
      "16/16 [==============================] - 9s 538ms/step - loss: 0.7568 - hinge_accuracy: 0.9668\n",
      "Epoch 5/20\n",
      "16/16 [==============================] - 9s 544ms/step - loss: 0.6987 - hinge_accuracy: 0.9824\n",
      "Epoch 6/20\n",
      "16/16 [==============================] - 9s 550ms/step - loss: 0.6483 - hinge_accuracy: 0.9941\n",
      "Epoch 7/20\n",
      "16/16 [==============================] - 9s 550ms/step - loss: 0.6043 - hinge_accuracy: 1.0000\n",
      "Epoch 8/20\n",
      "16/16 [==============================] - 9s 551ms/step - loss: 0.5655 - hinge_accuracy: 1.0000\n",
      "Epoch 9/20\n",
      "16/16 [==============================] - 9s 563ms/step - loss: 0.5299 - hinge_accuracy: 1.0000\n",
      "Epoch 10/20\n",
      "16/16 [==============================] - 9s 558ms/step - loss: 0.4972 - hinge_accuracy: 1.0000\n",
      "Epoch 11/20\n",
      "16/16 [==============================] - 9s 580ms/step - loss: 0.4666 - hinge_accuracy: 1.0000\n",
      "Epoch 12/20\n",
      "16/16 [==============================] - 9s 565ms/step - loss: 0.4377 - hinge_accuracy: 1.0000\n",
      "Epoch 13/20\n",
      "16/16 [==============================] - 9s 581ms/step - loss: 0.4100 - hinge_accuracy: 1.0000\n",
      "Epoch 14/20\n",
      "16/16 [==============================] - 9s 557ms/step - loss: 0.3832 - hinge_accuracy: 1.0000\n",
      "Epoch 15/20\n",
      "16/16 [==============================] - 9s 592ms/step - loss: 0.3574 - hinge_accuracy: 1.0000\n",
      "Epoch 16/20\n",
      "16/16 [==============================] - 9s 576ms/step - loss: 0.3332 - hinge_accuracy: 1.0000\n",
      "Epoch 17/20\n",
      "16/16 [==============================] - 9s 575ms/step - loss: 0.3108 - hinge_accuracy: 1.0000\n",
      "Epoch 18/20\n",
      "16/16 [==============================] - 9s 564ms/step - loss: 0.2904 - hinge_accuracy: 1.0000\n",
      "Epoch 19/20\n",
      "16/16 [==============================] - 9s 569ms/step - loss: 0.2725 - hinge_accuracy: 1.0000\n",
      "Epoch 20/20\n",
      "16/16 [==============================] - 9s 570ms/step - loss: 0.2570 - hinge_accuracy: 1.0000\n",
      "61/61 [==============================] - 13s 219ms/step - loss: 0.2616 - hinge_accuracy: 1.0000\n",
      "\n"
     ]
    }
   ],
   "source": [
    "qnn_list = []\n",
    "\n",
    "for i in range(1, 4):\n",
    "    qnn_history, model_training_time, qnn_results = build_qnn_model(i)\n",
    "    qnn_list.append([i, qnn_history, model_training_time, qnn_results])"
   ]
  },
  {
   "attachments": {},
   "cell_type": "markdown",
   "metadata": {},
   "source": [
    "## Plot the results!"
   ]
  },
  {
   "cell_type": "code",
   "execution_count": 12,
   "metadata": {},
   "outputs": [
    {
     "name": "stdout",
     "output_type": "stream",
     "text": [
      "Training time for 1-layer QNN: 0:01:02.106225\n",
      "\n",
      "Training time for 2-layer QNN: 0:01:56.275186\n",
      "\n",
      "Training time for 3-layer QNN: 0:02:59.161270\n",
      "\n"
     ]
    }
   ],
   "source": [
    "qnn_histories = {}\n",
    "\n",
    "for [i, qnn_history, model_training_time, qnn_results] in qnn_list:\n",
    "    print(f\"Training time for {i}-layer QNN: {model_training_time}\")\n",
    "    print()\n",
    "    if i not in qnn_histories:\n",
    "        qnn_histories[i] = []\n",
    "    qnn_histories[i].append(qnn_history)"
   ]
  },
  {
   "cell_type": "code",
   "execution_count": 13,
   "metadata": {},
   "outputs": [
    {
     "data": {
      "image/png": "[encoded data removed]",
      "text/plain": [
       "<Figure size 640x480 with 1 Axes>"
      ]
     },
     "metadata": {},
     "output_type": "display_data"
    }
   ],
   "source": [
    "# plot the hinge accuracy for the qnn history for both 1 and 2 layer on the same axes\n",
    "for n in qnn_histories.keys():\n",
    "    plt.plot(np.arange(1,21), qnn_histories[n][0].history[\"hinge_accuracy\"], label=f\"{n} layer QNN\")\n",
    "\n",
    "plt.xlabel(\"Epoch\")\n",
    "plt.ylabel(\"Hinge Accuracy\")\n",
    "plt.legend()\n",
    "# modify x_ticks to also include 20\n",
    "plt.xticks(np.arange(0, 21, 2))\n",
    "# save as pdf with tight layout and no padding\n",
    "#plt.savefig(\"qnn_hinge_accuracy.pdf\", bbox_inches=\"tight\", pad_inches=0)\n",
    "plt.show()"
   ]
  },
  {
   "cell_type": "code",
   "execution_count": 14,
   "metadata": {},
   "outputs": [
    {
     "data": {
      "image/png": "[encoded data removed]",
      "text/plain": [
       "<Figure size 640x480 with 1 Axes>"
      ]
     },
     "metadata": {},
     "output_type": "display_data"
    }
   ],
   "source": [
    "# plot the hinge accuracy for the loss for both 1 and 2 layer on the same axes\n",
    "for n in qnn_histories.keys():\n",
    "    plt.plot(np.arange(1,21), qnn_histories[n][0].history[\"loss\"], label=f\"{n} layer QNN\")\n",
    "\n",
    "plt.xlabel(\"Epoch\")\n",
    "plt.ylabel(\"Hinge Loss\")\n",
    "plt.legend()\n",
    "# modify x_ticks to also include 20\n",
    "plt.xticks(np.arange(0, 21, 2))\n",
    "# save as pdf with tight layout and no padding\n",
    "#plt.savefig(\"qnn_hinge_loss.pdf\", bbox_inches=\"tight\", pad_inches=0)\n",
    "plt.show()"
   ]
  },
  {
   "cell_type": "code",
   "execution_count": 15,
   "metadata": {},
   "outputs": [
    {
     "name": "stdout",
     "output_type": "stream",
     "text": [
      "Saved qnn_histories to qnn_histories_20250322173119.pkl\n"
     ]
    }
   ],
   "source": [
    "import pickle\n",
    "\n",
    "timestamp = datetime.now().strftime(\"%Y%m%d%H%M%S\")\n",
    "with open(f'qnn_histories_{timestamp}.pkl', 'wb') as f:\n",
    "    pickle.dump(qnn_histories, f)\n",
    "\n",
    "print(f\"Saved qnn_histories to qnn_histories_{timestamp}.pkl\")"
   ]
  }
 ],
 "metadata": {
  "kernelspec": {
   "display_name": "phys4041",
   "language": "python",
   "name": "python3"
  },
  "language_info": {
   "codemirror_mode": {
    "name": "ipython",
    "version": 3
   },
   "file_extension": ".py",
   "mimetype": "text/x-python",
   "name": "python",
   "nbconvert_exporter": "python",
   "pygments_lexer": "ipython3",
   "version": "3.10.16"
  },
  "orig_nbformat": 4
 },
 "nbformat": 4,
 "nbformat_minor": 2
}
