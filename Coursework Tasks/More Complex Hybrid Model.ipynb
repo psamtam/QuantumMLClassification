{
 "cells": [
  {
   "metadata": {
    "ExecuteTime": {
     "end_time": "2025-03-25T12:30:37.920293Z",
     "start_time": "2025-03-25T12:30:37.886911Z"
    }
   },
   "cell_type": "code",
   "source": [
    "import pennylane as qml\n",
    "import torch\n",
    "import torch.nn as nn\n",
    "import torch.optim as optim\n",
    "import torchvision.transforms as transforms\n",
    "from torchvision.datasets import MNIST\n",
    "from torch.utils.data import DataLoader\n",
    "\n",
    "import numpy as np\n",
    "from matplotlib import pyplot as plt"
   ],
   "outputs": [],
   "execution_count": 199
  },
  {
   "metadata": {
    "ExecuteTime": {
     "end_time": "2025-03-25T12:30:37.983617Z",
     "start_time": "2025-03-25T12:30:37.972386Z"
    }
   },
   "cell_type": "code",
   "source": [
    "# Set autograd to debug mode\n",
    "# torch.autograd.set_detect_anomaly(True)"
   ],
   "outputs": [],
   "execution_count": 200
  },
  {
   "metadata": {},
   "cell_type": "markdown",
   "source": [
    "## Load and reduce the data\n",
    "\n",
    "Load the MNIST data and check number of training and test examples"
   ]
  },
  {
   "metadata": {
    "ExecuteTime": {
     "end_time": "2025-03-25T12:30:38.105649Z",
     "start_time": "2025-03-25T12:30:37.985628Z"
    }
   },
   "cell_type": "code",
   "source": [
    "# transform = transforms.Compose([transforms.ToTensor(), transforms.Normalize((0.5,), (0.5,))])\n",
    "train_dataset = MNIST(root='./data', train=True, download=True, transform=transforms.ToTensor())\n",
    "test_dataset = MNIST(root='./data', train=False, download=True, transform=transforms.ToTensor())\n",
    "\n",
    "train_data = train_dataset.data\n",
    "train_targets = train_dataset.targets\n",
    "test_data = test_dataset.data\n",
    "test_targets = test_dataset.targets\n",
    "\n",
    "print(\"Number of original training examples:\", len(train_data))\n",
    "print(\"Number of original test examples:\", len(test_data))"
   ],
   "outputs": [
    {
     "name": "stdout",
     "output_type": "stream",
     "text": [
      "Number of original training examples: 60000\n",
      "Number of original test examples: 10000\n"
     ]
    }
   ],
   "execution_count": 201
  },
  {
   "metadata": {
    "ExecuteTime": {
     "end_time": "2025-03-25T12:30:38.195436Z",
     "start_time": "2025-03-25T12:30:38.139872Z"
    }
   },
   "cell_type": "code",
   "source": [
    "# # Rescale the images to be between 0 and 1\n",
    "train_data = train_data.float()\n",
    "test_data = test_data.float()"
   ],
   "outputs": [],
   "execution_count": 202
  },
  {
   "metadata": {
    "ExecuteTime": {
     "end_time": "2025-03-25T12:30:38.266960Z",
     "start_time": "2025-03-25T12:30:38.250859Z"
    }
   },
   "cell_type": "code",
   "source": [
    "# Print the shapes of the data\n",
    "print(f\"train_data.shape = {train_data.shape}\")\n",
    "print(f\"test_data.shape = {test_data.shape}\")"
   ],
   "outputs": [
    {
     "name": "stdout",
     "output_type": "stream",
     "text": [
      "train_data.shape = torch.Size([60000, 28, 28])\n",
      "test_data.shape = torch.Size([10000, 28, 28])\n"
     ]
    }
   ],
   "execution_count": 203
  },
  {
   "metadata": {},
   "cell_type": "markdown",
   "source": "Create a function to filter out only 0 and 1"
  },
  {
   "metadata": {
    "ExecuteTime": {
     "end_time": "2025-03-25T12:30:38.329440Z",
     "start_time": "2025-03-25T12:30:38.293148Z"
    }
   },
   "cell_type": "code",
   "source": [
    "def filter_17(data, targets):\n",
    "    indices = (targets == 1) | (targets == 7)\n",
    "    data, targets = data[indices], targets[indices]\n",
    "    targets = targets == 1\n",
    "    return data, targets\n",
    "\n",
    "train_data, train_targets = filter_17(train_data, train_targets)\n",
    "test_data, test_targets = filter_17(test_data, test_targets)\n",
    "\n",
    "print(\"Number of filtered training examples:\", len(train_data))\n",
    "print(\"Number of filtered test examples:\", len(test_data))"
   ],
   "outputs": [
    {
     "name": "stdout",
     "output_type": "stream",
     "text": [
      "Number of filtered training examples: 13007\n",
      "Number of filtered test examples: 2163\n"
     ]
    }
   ],
   "execution_count": 204
  },
  {
   "metadata": {},
   "cell_type": "markdown",
   "source": "## Plot the original images"
  },
  {
   "metadata": {
    "ExecuteTime": {
     "end_time": "2025-05-06T07:26:12.544654Z",
     "start_time": "2025-05-06T07:26:11.736143Z"
    }
   },
   "cell_type": "code",
   "source": [
    "plt.imshow(train_data[4], cmap='Greys')\n",
    "ax = plt.gca()\n",
    "ax.set_xticks([])\n",
    "ax.set_yticks([])\n",
    "plt.title(\"28x28 image in the dataset\", fontsize=20)\n",
    "plt.show()"
   ],
   "outputs": [
    {
     "ename": "NameError",
     "evalue": "name 'plt' is not defined",
     "output_type": "error",
     "traceback": [
      "\u001B[1;31m---------------------------------------------------------------------------\u001B[0m",
      "\u001B[1;31mNameError\u001B[0m                                 Traceback (most recent call last)",
      "Cell \u001B[1;32mIn[1], line 1\u001B[0m\n\u001B[1;32m----> 1\u001B[0m \u001B[43mplt\u001B[49m\u001B[38;5;241m.\u001B[39mimshow(train_data[\u001B[38;5;241m4\u001B[39m], cmap\u001B[38;5;241m=\u001B[39m\u001B[38;5;124m'\u001B[39m\u001B[38;5;124mGreys\u001B[39m\u001B[38;5;124m'\u001B[39m)\n\u001B[0;32m      2\u001B[0m ax \u001B[38;5;241m=\u001B[39m plt\u001B[38;5;241m.\u001B[39mgca()\n\u001B[0;32m      3\u001B[0m ax\u001B[38;5;241m.\u001B[39mset_xticks([])\n",
      "\u001B[1;31mNameError\u001B[0m: name 'plt' is not defined"
     ]
    }
   ],
   "execution_count": 1
  },
  {
   "metadata": {
    "ExecuteTime": {
     "end_time": "2025-03-25T12:30:38.493714Z",
     "start_time": "2025-03-25T12:30:38.476248Z"
    }
   },
   "cell_type": "code",
   "source": [
    "# Change to hinge loss\n",
    "train_targets = 2.0 * train_targets - 1.0\n",
    "test_targets = 2.0 * test_targets - 1.0"
   ],
   "outputs": [],
   "execution_count": 206
  },
  {
   "metadata": {
    "ExecuteTime": {
     "end_time": "2025-03-25T12:30:38.540285Z",
     "start_time": "2025-03-25T12:30:38.520620Z"
    }
   },
   "cell_type": "code",
   "source": [
    "def hinge_accuracy(y_true, y_pred):\n",
    "    # Squeeze the tensors and compare each element to 0.0\n",
    "    y_true = torch.squeeze(y_true) > 0.0\n",
    "    y_pred = torch.squeeze(y_pred) > 0.0\n",
    "    # Compare predicted and true values, cast to float, and compute the mean\n",
    "    result = (y_true == y_pred).float()\n",
    "    return torch.mean(result)"
   ],
   "outputs": [],
   "execution_count": 207
  },
  {
   "metadata": {
    "ExecuteTime": {
     "end_time": "2025-03-25T12:30:38.581043Z",
     "start_time": "2025-03-25T12:30:38.564886Z"
    }
   },
   "cell_type": "code",
   "source": [
    "# Add channel dimension\n",
    "train_data = train_data.unsqueeze(1)\n",
    "test_data = test_data.unsqueeze(1)"
   ],
   "outputs": [],
   "execution_count": 208
  },
  {
   "metadata": {
    "ExecuteTime": {
     "end_time": "2025-03-25T12:30:38.615764Z",
     "start_time": "2025-03-25T12:30:38.605637Z"
    }
   },
   "cell_type": "code",
   "source": [
    "EPOCHS = 25\n",
    "BATCH_SIZE = 32\n",
    "NUM_EXAMPLES_TRAIN = 250\n",
    "# NUM_EXAMPLES_TEST = 250"
   ],
   "outputs": [],
   "execution_count": 209
  },
  {
   "metadata": {
    "ExecuteTime": {
     "end_time": "2025-03-25T12:30:38.651518Z",
     "start_time": "2025-03-25T12:30:38.634932Z"
    }
   },
   "cell_type": "code",
   "source": [
    "# Take only the first 1000 examples for training and 250 for testing\n",
    "train_data, train_targets = train_data[:NUM_EXAMPLES_TRAIN], train_targets[:NUM_EXAMPLES_TRAIN]\n",
    "# test_data, test_targets = test_data[:NUM_EXAMPLES_TEST], test_targets[:NUM_EXAMPLES_TEST]\n",
    "\n",
    "print(\"Number of training examples:\", len(train_data))\n",
    "print(\"Number of test examples:\", len(test_data))"
   ],
   "outputs": [
    {
     "name": "stdout",
     "output_type": "stream",
     "text": [
      "Number of training examples: 250\n",
      "Number of test examples: 2163\n"
     ]
    }
   ],
   "execution_count": 210
  },
  {
   "metadata": {
    "ExecuteTime": {
     "end_time": "2025-03-25T12:30:38.735242Z",
     "start_time": "2025-03-25T12:30:38.689109Z"
    }
   },
   "cell_type": "code",
   "source": "train_loader = DataLoader(list(zip(train_data, train_targets)), batch_size=BATCH_SIZE, shuffle=True)",
   "outputs": [],
   "execution_count": 211
  },
  {
   "metadata": {},
   "cell_type": "markdown",
   "source": "# Hybrid QNN with Compression"
  },
  {
   "metadata": {
    "ExecuteTime": {
     "end_time": "2025-03-25T12:30:38.788701Z",
     "start_time": "2025-03-25T12:30:38.767023Z"
    }
   },
   "cell_type": "code",
   "source": [
    "n_qubits = 10\n",
    "n_layers = 1\n",
    "dev = qml.device(\"default.qubit\", wires=n_qubits)\n",
    "@qml.qnode(dev, interface=\"torch\")\n",
    "def qnode(inputs, weights):\n",
    "\n",
    "    if len(inputs.shape) == 1:\n",
    "        for ii in range(n_qubits):\n",
    "            qml.RY(np.pi * inputs[ii], wires=ii)\n",
    "    else:\n",
    "        for ii in range(n_qubits):\n",
    "            qml.RY(np.pi * inputs[:,ii], wires=ii)\n",
    "\n",
    "    for jj in range(n_layers):\n",
    "        for ii in range(n_qubits-1):\n",
    "            qml.RZ(weights[jj,2*ii,0], wires=0)\n",
    "            qml.RY(weights[jj,2*ii,1], wires=0)\n",
    "            qml.RZ(weights[jj,2*ii,2], wires=0)\n",
    "\n",
    "            qml.RZ(weights[jj,2*ii+1,0], wires=ii+1)\n",
    "            qml.RY(weights[jj,2*ii+1,1], wires=ii+1)\n",
    "            qml.RZ(weights[jj,2*ii+1,2], wires=ii+1)\n",
    "\n",
    "            qml.CNOT(wires=[ii+1,0])\n",
    "            \n",
    "        qml.RZ(weights[jj,2*(n_qubits-1),0], wires=0)\n",
    "        qml.RY(weights[jj,2*(n_qubits-1),1], wires=0)\n",
    "        qml.RZ(weights[jj,2*(n_qubits-1),2], wires=0)\n",
    "\n",
    "    return qml.expval(qml.PauliZ(0))\n",
    "\n",
    "weight_shapes = {\"weights\": (n_layers, 2*(n_qubits-1)+1, 3)}\n",
    "print(weight_shapes)"
   ],
   "outputs": [
    {
     "name": "stdout",
     "output_type": "stream",
     "text": [
      "{'weights': (1, 19, 3)}\n"
     ]
    }
   ],
   "execution_count": 212
  },
  {
   "metadata": {
    "ExecuteTime": {
     "end_time": "2025-03-25T12:30:38.844057Z",
     "start_time": "2025-03-25T12:30:38.822897Z"
    }
   },
   "cell_type": "code",
   "source": [
    "class HCQNN(nn.Module):\n",
    "    def __init__(self):\n",
    "        super(HCQNN, self).__init__()\n",
    "\n",
    "        self.conv = nn.Sequential(\n",
    "            nn.Conv2d(1, 16, kernel_size=3, stride=1, padding=1),\n",
    "            nn.ReLU(),\n",
    "            nn.MaxPool2d(kernel_size=2, stride=2),\n",
    "            nn.Conv2d(16, 32, kernel_size=3, stride=1, padding=1),\n",
    "            nn.ReLU(),\n",
    "            nn.MaxPool2d(kernel_size=2, stride=2)\n",
    "        )\n",
    "\n",
    "        self.pre_blocks = nn.Sequential(\n",
    "            nn.Linear(32 * 7 * 7, n_qubits),\n",
    "            nn.Sigmoid()\n",
    "        )\n",
    "\n",
    "        self.quantum_layer = qml.qnn.TorchLayer(qnode, weight_shapes)\n",
    "\n",
    "        self.post_blocks = nn.Sequential(\n",
    "            nn.Tanh()\n",
    "        )\n",
    "\n",
    "    def forward(self, x):\n",
    "        x = self.conv(x)\n",
    "        x = x.view(x.size(0), -1)\n",
    "        x = self.pre_blocks(x)\n",
    "        x = self.quantum_layer(x)\n",
    "        x = self.post_blocks(x)\n",
    "        return  x"
   ],
   "outputs": [],
   "execution_count": 213
  },
  {
   "metadata": {
    "ExecuteTime": {
     "end_time": "2025-03-25T12:30:38.896253Z",
     "start_time": "2025-03-25T12:30:38.883532Z"
    }
   },
   "cell_type": "code",
   "source": [
    "hybrid_model = HCQNN()\n",
    "print(hybrid_model)\n",
    "print(f\"Number of parameters: {sum(p.numel() for p in hybrid_model.parameters())}\")"
   ],
   "outputs": [
    {
     "name": "stdout",
     "output_type": "stream",
     "text": [
      "HCQNN(\n",
      "  (conv): Sequential(\n",
      "    (0): Conv2d(1, 16, kernel_size=(3, 3), stride=(1, 1), padding=(1, 1))\n",
      "    (1): ReLU()\n",
      "    (2): MaxPool2d(kernel_size=2, stride=2, padding=0, dilation=1, ceil_mode=False)\n",
      "    (3): Conv2d(16, 32, kernel_size=(3, 3), stride=(1, 1), padding=(1, 1))\n",
      "    (4): ReLU()\n",
      "    (5): MaxPool2d(kernel_size=2, stride=2, padding=0, dilation=1, ceil_mode=False)\n",
      "  )\n",
      "  (pre_blocks): Sequential(\n",
      "    (0): Linear(in_features=1568, out_features=10, bias=True)\n",
      "    (1): Sigmoid()\n",
      "  )\n",
      "  (quantum_layer): <Quantum Torch Layer: func=qnode>\n",
      "  (post_blocks): Sequential(\n",
      "    (0): Tanh()\n",
      "  )\n",
      ")\n",
      "Number of parameters: 20547\n"
     ]
    }
   ],
   "execution_count": 214
  },
  {
   "metadata": {
    "ExecuteTime": {
     "end_time": "2025-03-25T12:30:38.953888Z",
     "start_time": "2025-03-25T12:30:38.937793Z"
    }
   },
   "cell_type": "code",
   "source": [
    "criterion = nn.HingeEmbeddingLoss(margin=1)\n",
    "optimizer = optim.Adam(hybrid_model.parameters(), lr=1e-4)"
   ],
   "outputs": [],
   "execution_count": 215
  },
  {
   "metadata": {
    "ExecuteTime": {
     "end_time": "2025-03-25T12:30:38.993256Z",
     "start_time": "2025-03-25T12:30:38.980909Z"
    }
   },
   "cell_type": "code",
   "source": [
    "hybrid_accs = []\n",
    "hybrid_losses = []"
   ],
   "outputs": [],
   "execution_count": 216
  },
  {
   "metadata": {
    "ExecuteTime": {
     "end_time": "2025-03-25T12:30:39.732194Z",
     "start_time": "2025-03-25T12:30:39.039498Z"
    }
   },
   "cell_type": "code",
   "source": [
    "# Get initial loss and accuracy\n",
    "hybrid_model.eval()\n",
    "with torch.no_grad():\n",
    "    train_acc = hinge_accuracy(train_targets, hybrid_model(train_data))\n",
    "    test_acc = hinge_accuracy(test_targets, hybrid_model(test_data))\n",
    "    hybrid_accs.append(test_acc.item())\n",
    "print(f\"Initial Train Accuracy: {train_acc.item()}, Test Accuracy: {test_acc.item()}\")"
   ],
   "outputs": [
    {
     "name": "stdout",
     "output_type": "stream",
     "text": [
      "Initial Train Accuracy: 0.5440000295639038, Test Accuracy: 0.470642626285553\n"
     ]
    }
   ],
   "execution_count": 217
  },
  {
   "metadata": {
    "ExecuteTime": {
     "end_time": "2025-03-25T12:30:58.736019Z",
     "start_time": "2025-03-25T12:30:39.767518Z"
    }
   },
   "cell_type": "code",
   "source": [
    "q_layer_params = []\n",
    "for epoch in range(EPOCHS):\n",
    "    hybrid_model.train()\n",
    "    for x_batch, y_batch in train_loader:\n",
    "        optimizer.zero_grad()\n",
    "        y_pred = -hybrid_model(x_batch)\n",
    "\n",
    "        loss = criterion(y_pred, y_batch)\n",
    "        hybrid_losses.append(loss.item())\n",
    "\n",
    "        loss.backward()\n",
    "        optimizer.step()\n",
    "\n",
    "        # Add the parameters to the list\n",
    "        q_layer_params.append([p.detach().numpy().copy() for p in hybrid_model.quantum_layer.parameters()])\n",
    "\n",
    "    hybrid_model.eval()\n",
    "    with torch.no_grad():\n",
    "        train_acc = hinge_accuracy(train_targets, hybrid_model(train_data))\n",
    "        test_acc = hinge_accuracy(test_targets, hybrid_model(test_data))\n",
    "        hybrid_accs.append(test_acc.item())\n",
    "    print(f\"Epoch {epoch+1}/{EPOCHS}, Train Accuracy: {train_acc.item()}, Test Accuracy: {test_acc.item()}\")"
   ],
   "outputs": [
    {
     "name": "stdout",
     "output_type": "stream",
     "text": [
      "Epoch 1/25, Train Accuracy: 0.7160000205039978, Test Accuracy: 0.6597318649291992\n",
      "Epoch 2/25, Train Accuracy: 0.7440000176429749, Test Accuracy: 0.7128987312316895\n",
      "Epoch 3/25, Train Accuracy: 0.7720000147819519, Test Accuracy: 0.7309292554855347\n",
      "Epoch 4/25, Train Accuracy: 0.8199999928474426, Test Accuracy: 0.7716134786605835\n",
      "Epoch 5/25, Train Accuracy: 0.8320000171661377, Test Accuracy: 0.7656033039093018\n",
      "Epoch 6/25, Train Accuracy: 0.8560000061988831, Test Accuracy: 0.7928802371025085\n",
      "Epoch 7/25, Train Accuracy: 0.8920000195503235, Test Accuracy: 0.8150716423988342\n"
     ]
    },
    {
     "ename": "KeyboardInterrupt",
     "evalue": "",
     "output_type": "error",
     "traceback": [
      "\u001B[1;31m---------------------------------------------------------------------------\u001B[0m",
      "\u001B[1;31mKeyboardInterrupt\u001B[0m                         Traceback (most recent call last)",
      "Cell \u001B[1;32mIn[218], line 11\u001B[0m\n\u001B[0;32m      8\u001B[0m loss \u001B[38;5;241m=\u001B[39m criterion(y_pred, y_batch)\n\u001B[0;32m      9\u001B[0m hybrid_losses\u001B[38;5;241m.\u001B[39mappend(loss\u001B[38;5;241m.\u001B[39mitem())\n\u001B[1;32m---> 11\u001B[0m \u001B[43mloss\u001B[49m\u001B[38;5;241;43m.\u001B[39;49m\u001B[43mbackward\u001B[49m\u001B[43m(\u001B[49m\u001B[43m)\u001B[49m\n\u001B[0;32m     12\u001B[0m optimizer\u001B[38;5;241m.\u001B[39mstep()\n\u001B[0;32m     14\u001B[0m \u001B[38;5;66;03m# Add the parameters to the list\u001B[39;00m\n",
      "File \u001B[1;32m~\\.conda\\envs\\PHYS4041v2\\lib\\site-packages\\torch\\_tensor.py:626\u001B[0m, in \u001B[0;36mTensor.backward\u001B[1;34m(self, gradient, retain_graph, create_graph, inputs)\u001B[0m\n\u001B[0;32m    616\u001B[0m \u001B[38;5;28;01mif\u001B[39;00m has_torch_function_unary(\u001B[38;5;28mself\u001B[39m):\n\u001B[0;32m    617\u001B[0m     \u001B[38;5;28;01mreturn\u001B[39;00m handle_torch_function(\n\u001B[0;32m    618\u001B[0m         Tensor\u001B[38;5;241m.\u001B[39mbackward,\n\u001B[0;32m    619\u001B[0m         (\u001B[38;5;28mself\u001B[39m,),\n\u001B[1;32m   (...)\u001B[0m\n\u001B[0;32m    624\u001B[0m         inputs\u001B[38;5;241m=\u001B[39minputs,\n\u001B[0;32m    625\u001B[0m     )\n\u001B[1;32m--> 626\u001B[0m \u001B[43mtorch\u001B[49m\u001B[38;5;241;43m.\u001B[39;49m\u001B[43mautograd\u001B[49m\u001B[38;5;241;43m.\u001B[39;49m\u001B[43mbackward\u001B[49m\u001B[43m(\u001B[49m\n\u001B[0;32m    627\u001B[0m \u001B[43m    \u001B[49m\u001B[38;5;28;43mself\u001B[39;49m\u001B[43m,\u001B[49m\u001B[43m \u001B[49m\u001B[43mgradient\u001B[49m\u001B[43m,\u001B[49m\u001B[43m \u001B[49m\u001B[43mretain_graph\u001B[49m\u001B[43m,\u001B[49m\u001B[43m \u001B[49m\u001B[43mcreate_graph\u001B[49m\u001B[43m,\u001B[49m\u001B[43m \u001B[49m\u001B[43minputs\u001B[49m\u001B[38;5;241;43m=\u001B[39;49m\u001B[43minputs\u001B[49m\n\u001B[0;32m    628\u001B[0m \u001B[43m\u001B[49m\u001B[43m)\u001B[49m\n",
      "File \u001B[1;32m~\\.conda\\envs\\PHYS4041v2\\lib\\site-packages\\torch\\autograd\\__init__.py:347\u001B[0m, in \u001B[0;36mbackward\u001B[1;34m(tensors, grad_tensors, retain_graph, create_graph, grad_variables, inputs)\u001B[0m\n\u001B[0;32m    342\u001B[0m     retain_graph \u001B[38;5;241m=\u001B[39m create_graph\n\u001B[0;32m    344\u001B[0m \u001B[38;5;66;03m# The reason we repeat the same comment below is that\u001B[39;00m\n\u001B[0;32m    345\u001B[0m \u001B[38;5;66;03m# some Python versions print out the first line of a multi-line function\u001B[39;00m\n\u001B[0;32m    346\u001B[0m \u001B[38;5;66;03m# calls in the traceback and some print out the last line\u001B[39;00m\n\u001B[1;32m--> 347\u001B[0m \u001B[43m_engine_run_backward\u001B[49m\u001B[43m(\u001B[49m\n\u001B[0;32m    348\u001B[0m \u001B[43m    \u001B[49m\u001B[43mtensors\u001B[49m\u001B[43m,\u001B[49m\n\u001B[0;32m    349\u001B[0m \u001B[43m    \u001B[49m\u001B[43mgrad_tensors_\u001B[49m\u001B[43m,\u001B[49m\n\u001B[0;32m    350\u001B[0m \u001B[43m    \u001B[49m\u001B[43mretain_graph\u001B[49m\u001B[43m,\u001B[49m\n\u001B[0;32m    351\u001B[0m \u001B[43m    \u001B[49m\u001B[43mcreate_graph\u001B[49m\u001B[43m,\u001B[49m\n\u001B[0;32m    352\u001B[0m \u001B[43m    \u001B[49m\u001B[43minputs\u001B[49m\u001B[43m,\u001B[49m\n\u001B[0;32m    353\u001B[0m \u001B[43m    \u001B[49m\u001B[43mallow_unreachable\u001B[49m\u001B[38;5;241;43m=\u001B[39;49m\u001B[38;5;28;43;01mTrue\u001B[39;49;00m\u001B[43m,\u001B[49m\n\u001B[0;32m    354\u001B[0m \u001B[43m    \u001B[49m\u001B[43maccumulate_grad\u001B[49m\u001B[38;5;241;43m=\u001B[39;49m\u001B[38;5;28;43;01mTrue\u001B[39;49;00m\u001B[43m,\u001B[49m\n\u001B[0;32m    355\u001B[0m \u001B[43m\u001B[49m\u001B[43m)\u001B[49m\n",
      "File \u001B[1;32m~\\.conda\\envs\\PHYS4041v2\\lib\\site-packages\\torch\\autograd\\graph.py:823\u001B[0m, in \u001B[0;36m_engine_run_backward\u001B[1;34m(t_outputs, *args, **kwargs)\u001B[0m\n\u001B[0;32m    821\u001B[0m     unregister_hooks \u001B[38;5;241m=\u001B[39m _register_logging_hooks_on_whole_graph(t_outputs)\n\u001B[0;32m    822\u001B[0m \u001B[38;5;28;01mtry\u001B[39;00m:\n\u001B[1;32m--> 823\u001B[0m     \u001B[38;5;28;01mreturn\u001B[39;00m Variable\u001B[38;5;241m.\u001B[39m_execution_engine\u001B[38;5;241m.\u001B[39mrun_backward(  \u001B[38;5;66;03m# Calls into the C++ engine to run the backward pass\u001B[39;00m\n\u001B[0;32m    824\u001B[0m         t_outputs, \u001B[38;5;241m*\u001B[39margs, \u001B[38;5;241m*\u001B[39m\u001B[38;5;241m*\u001B[39mkwargs\n\u001B[0;32m    825\u001B[0m     )  \u001B[38;5;66;03m# Calls into the C++ engine to run the backward pass\u001B[39;00m\n\u001B[0;32m    826\u001B[0m \u001B[38;5;28;01mfinally\u001B[39;00m:\n\u001B[0;32m    827\u001B[0m     \u001B[38;5;28;01mif\u001B[39;00m attach_logging_hooks:\n",
      "\u001B[1;31mKeyboardInterrupt\u001B[0m: "
     ]
    }
   ],
   "execution_count": 218
  },
  {
   "metadata": {
    "ExecuteTime": {
     "end_time": "2025-03-25T12:31:01.291414Z",
     "start_time": "2025-03-25T12:31:01.153913Z"
    }
   },
   "cell_type": "code",
   "source": [
    "# Plot the losses\n",
    "plt.figure(figsize=(10, 5))\n",
    "plt.plot(hybrid_losses)\n",
    "plt.xlabel(\"Iteration\")\n",
    "plt.ylabel(\"Hinge Loss\")\n",
    "plt.show()"
   ],
   "outputs": [
    {
     "data": {
      "text/plain": [
       "<Figure size 1000x500 with 1 Axes>"
      ],
      "image/png": "[encoded data removed]"
     },
     "metadata": {},
     "output_type": "display_data"
    }
   ],
   "execution_count": 219
  },
  {
   "metadata": {
    "ExecuteTime": {
     "end_time": "2025-03-25T12:32:08.271476Z",
     "start_time": "2025-03-25T12:32:08.255827Z"
    }
   },
   "cell_type": "code",
   "source": [
    "# Plot the weights of the quantum layer over time\n",
    "q_layer_params = np.array(q_layer_params)\n",
    "# Reshape to\n",
    "q_layer_params = q_layer_params.reshape(-1, 19, 3)\n",
    "q_layer_params.shape"
   ],
   "outputs": [
    {
     "data": {
      "text/plain": [
       "(59, 19, 3)"
      ]
     },
     "execution_count": 221,
     "metadata": {},
     "output_type": "execute_result"
    }
   ],
   "execution_count": 221
  },
  {
   "metadata": {
    "ExecuteTime": {
     "end_time": "2025-03-25T12:32:49.342489Z",
     "start_time": "2025-03-25T12:32:49.330743Z"
    }
   },
   "cell_type": "code",
   "source": "q_layer_params",
   "outputs": [
    {
     "data": {
      "text/plain": [
       "array([[[3.3272111 , 5.929965  , 4.44378   ],\n",
       "        [0.9186002 , 2.1537716 , 1.0796521 ],\n",
       "        [2.774937  , 2.9951801 , 0.02180531],\n",
       "        ...,\n",
       "        [0.692847  , 4.0398817 , 5.9456744 ],\n",
       "        [4.2936015 , 0.5793999 , 2.4900072 ],\n",
       "        [3.086196  , 2.0455139 , 2.1337543 ]],\n",
       "\n",
       "       [[3.3271127 , 5.9298654 , 4.4437556 ],\n",
       "        [0.91851354, 2.1538599 , 1.0796509 ],\n",
       "        [2.7748992 , 2.9950824 , 0.0217979 ],\n",
       "        ...,\n",
       "        [0.69279116, 4.0398006 , 5.9457245 ],\n",
       "        [4.2935014 , 0.5794998 , 2.4900072 ],\n",
       "        [3.0862477 , 2.045451  , 2.1337543 ]],\n",
       "\n",
       "       [[3.3270252 , 5.929767  , 4.443689  ],\n",
       "        [0.91848046, 2.1539316 , 1.0796499 ],\n",
       "        [2.7748313 , 2.9949834 , 0.0218431 ],\n",
       "        ...,\n",
       "        [0.6927161 , 4.0397196 , 5.945799  ],\n",
       "        [4.2934356 , 0.5794795 , 2.4900072 ],\n",
       "        [3.086315  , 2.045483  , 2.1337543 ]],\n",
       "\n",
       "       ...,\n",
       "\n",
       "       [[3.3293278 , 5.9244833 , 4.443729  ],\n",
       "        [0.91498643, 2.1598315 , 1.0796442 ],\n",
       "        [2.7697158 , 2.989942  , 0.02683245],\n",
       "        ...,\n",
       "        [0.68686163, 4.037975  , 5.9516454 ],\n",
       "        [4.292262  , 0.5743292 , 2.4899938 ],\n",
       "        [3.0921278 , 2.0475328 , 2.1338959 ]],\n",
       "\n",
       "       [[3.3293424 , 5.924349  , 4.4436536 ],\n",
       "        [0.9148726 , 2.1599665 , 1.0796447 ],\n",
       "        [2.769606  , 2.9898078 , 0.02694114],\n",
       "        ...,\n",
       "        [0.6867281 , 4.0380344 , 5.9517813 ],\n",
       "        [4.2922616 , 0.5742123 , 2.4899936 ],\n",
       "        [3.092264  , 2.0474908 , 2.1338913 ]],\n",
       "\n",
       "       [[3.329355  , 5.9242187 , 4.443574  ],\n",
       "        [0.9147628 , 2.1600978 , 1.0796455 ],\n",
       "        [2.7694993 , 2.989681  , 0.02704714],\n",
       "        ...,\n",
       "        [0.68659776, 4.038087  , 5.951914  ],\n",
       "        [4.292261  , 0.57409614, 2.4899938 ],\n",
       "        [3.0923967 , 2.0474553 , 2.1338873 ]]], dtype=float32)"
      ]
     },
     "execution_count": 223,
     "metadata": {},
     "output_type": "execute_result"
    }
   ],
   "execution_count": 223
  },
  {
   "metadata": {
    "ExecuteTime": {
     "end_time": "2025-03-25T12:32:37.598213Z",
     "start_time": "2025-03-25T12:32:37.097623Z"
    }
   },
   "cell_type": "code",
   "source": [
    "plt.figure(figsize=(10, 5))\n",
    "for ii in range(19):\n",
    "    plt.plot(q_layer_params[:,ii,1], label=f\"Weight {ii}\")\n",
    "plt.xlabel(\"Iteration\")\n",
    "plt.ylabel(\"Weight Value\")\n",
    "plt.legend()\n",
    "plt.show()"
   ],
   "outputs": [
    {
     "data": {
      "text/plain": [
       "<Figure size 1000x500 with 1 Axes>"
      ],
      "image/png": "[encoded data removed]"
     },
     "metadata": {},
     "output_type": "display_data"
    }
   ],
   "execution_count": 222
  },
  {
   "metadata": {},
   "cell_type": "markdown",
   "source": "# Standard CNN"
  },
  {
   "metadata": {
    "ExecuteTime": {
     "end_time": "2025-03-25T11:58:32.320386Z",
     "start_time": "2025-03-25T11:58:32.300286Z"
    }
   },
   "cell_type": "code",
   "source": [
    "class Standard(nn.Module):\n",
    "    def __init__(self):\n",
    "        super(Standard, self).__init__()\n",
    "\n",
    "        self.conv = nn.Sequential(\n",
    "            nn.Conv2d(1, 16, kernel_size=3, stride=1, padding=1),\n",
    "            nn.LeakyReLU(),\n",
    "            nn.MaxPool2d(kernel_size=2, stride=2),\n",
    "            nn.Conv2d(16, 32, kernel_size=3, stride=1, padding=1),\n",
    "            nn.LeakyReLU(),\n",
    "            nn.MaxPool2d(kernel_size=2, stride=2)\n",
    "        )\n",
    "\n",
    "        self.blocks = nn.Sequential(\n",
    "            nn.Linear(32 * 7 * 7, 128),\n",
    "            nn.LeakyReLU(),\n",
    "            nn.Linear(128, 64),\n",
    "            nn.LeakyReLU(),\n",
    "            nn.Linear(64, 1),\n",
    "            nn.Tanh()\n",
    "        )\n",
    "\n",
    "    def forward(self, x):\n",
    "        x = self.conv(x)\n",
    "        x = x.view(x.size(0), -1)\n",
    "        x = self.blocks(x)\n",
    "        return x"
   ],
   "outputs": [],
   "execution_count": 19
  },
  {
   "metadata": {
    "ExecuteTime": {
     "end_time": "2025-03-25T11:58:32.682680Z",
     "start_time": "2025-03-25T11:58:32.666681Z"
    }
   },
   "cell_type": "code",
   "source": [
    "standard_model = Standard()\n",
    "print(standard_model)\n",
    "print(f\"Number of parameters: {sum(p.numel() for p in standard_model.parameters())}\")"
   ],
   "outputs": [
    {
     "name": "stdout",
     "output_type": "stream",
     "text": [
      "Standard(\n",
      "  (conv): Sequential(\n",
      "    (0): Conv2d(1, 16, kernel_size=(3, 3), stride=(1, 1), padding=(1, 1))\n",
      "    (1): LeakyReLU(negative_slope=0.01)\n",
      "    (2): MaxPool2d(kernel_size=2, stride=2, padding=0, dilation=1, ceil_mode=False)\n",
      "    (3): Conv2d(16, 32, kernel_size=(3, 3), stride=(1, 1), padding=(1, 1))\n",
      "    (4): LeakyReLU(negative_slope=0.01)\n",
      "    (5): MaxPool2d(kernel_size=2, stride=2, padding=0, dilation=1, ceil_mode=False)\n",
      "  )\n",
      "  (blocks): Sequential(\n",
      "    (0): Linear(in_features=1568, out_features=128, bias=True)\n",
      "    (1): LeakyReLU(negative_slope=0.01)\n",
      "    (2): Linear(in_features=128, out_features=64, bias=True)\n",
      "    (3): LeakyReLU(negative_slope=0.01)\n",
      "    (4): Linear(in_features=64, out_features=1, bias=True)\n",
      "    (5): Tanh()\n",
      "  )\n",
      ")\n",
      "Number of parameters: 213953\n"
     ]
    }
   ],
   "execution_count": 20
  },
  {
   "metadata": {
    "ExecuteTime": {
     "end_time": "2025-03-25T11:58:32.964347Z",
     "start_time": "2025-03-25T11:58:32.948639Z"
    }
   },
   "cell_type": "code",
   "source": [
    "criterion = nn.HingeEmbeddingLoss(margin=1)\n",
    "optimizer = optim.Adam(standard_model.parameters(), lr=0.001)"
   ],
   "outputs": [],
   "execution_count": 21
  },
  {
   "metadata": {
    "ExecuteTime": {
     "end_time": "2025-03-25T11:58:37.632179Z",
     "start_time": "2025-03-25T11:58:33.288835Z"
    }
   },
   "cell_type": "code",
   "source": [
    "standard_accs = []\n",
    "standard_losses = []\n",
    "for epoch in range(EPOCHS):\n",
    "    losses = []\n",
    "    standard_model.train()\n",
    "    for x_batch, y_batch in train_loader:\n",
    "        optimizer.zero_grad()\n",
    "        y_pred = standard_model(x_batch)\n",
    "        loss = -criterion(y_pred, y_batch)\n",
    "        standard_losses.append(loss.item())\n",
    "\n",
    "        loss.backward()\n",
    "        # Clip the gradients to avoid exploding gradients\n",
    "        nn.utils.clip_grad_norm_(standard_model.parameters(), 1)\n",
    "        optimizer.step()\n",
    "        losses.append(loss.item())\n",
    "\n",
    "    standard_model.eval()\n",
    "    with torch.no_grad():\n",
    "        train_acc = hinge_accuracy(train_targets, standard_model(train_data))\n",
    "        test_acc = hinge_accuracy(test_targets, standard_model(test_data))\n",
    "        standard_accs.append(test_acc.item())\n",
    "    print(f\"Epoch {epoch+1}/{EPOCHS}, Train Accuracy: {train_acc.item()}, Test Accuracy: {test_acc.item()}\")"
   ],
   "outputs": [
    {
     "name": "stdout",
     "output_type": "stream",
     "text": [
      "Epoch 1/25, Train Accuracy: 0.4399999976158142, Test Accuracy: 0.4863615334033966\n",
      "Epoch 2/25, Train Accuracy: 0.4399999976158142, Test Accuracy: 0.4868238568305969\n",
      "Epoch 3/25, Train Accuracy: 0.4399999976158142, Test Accuracy: 0.49237170815467834\n",
      "Epoch 4/25, Train Accuracy: 0.44999998807907104, Test Accuracy: 0.4914470613002777\n",
      "Epoch 5/25, Train Accuracy: 0.44999998807907104, Test Accuracy: 0.4937586784362793\n",
      "Epoch 6/25, Train Accuracy: 0.44999998807907104, Test Accuracy: 0.4988442063331604\n",
      "Epoch 7/25, Train Accuracy: 0.44999998807907104, Test Accuracy: 0.5016181468963623\n",
      "Epoch 8/25, Train Accuracy: 0.44999998807907104, Test Accuracy: 0.5053166747093201\n",
      "Epoch 9/25, Train Accuracy: 0.44999998807907104, Test Accuracy: 0.5094775557518005\n",
      "Epoch 10/25, Train Accuracy: 0.44999998807907104, Test Accuracy: 0.5127138495445251\n",
      "Epoch 11/25, Train Accuracy: 0.4699999988079071, Test Accuracy: 0.5210356116294861\n",
      "Epoch 12/25, Train Accuracy: 0.47999998927116394, Test Accuracy: 0.5265834331512451\n",
      "Epoch 13/25, Train Accuracy: 0.4699999988079071, Test Accuracy: 0.5307443141937256\n",
      "Epoch 14/25, Train Accuracy: 0.49000000953674316, Test Accuracy: 0.5418400168418884\n",
      "Epoch 15/25, Train Accuracy: 0.5, Test Accuracy: 0.5436893105506897\n",
      "Epoch 16/25, Train Accuracy: 0.5099999904632568, Test Accuracy: 0.5478501915931702\n",
      "Epoch 17/25, Train Accuracy: 0.5299999713897705, Test Accuracy: 0.5506241321563721\n",
      "Epoch 18/25, Train Accuracy: 0.5299999713897705, Test Accuracy: 0.5557096600532532\n",
      "Epoch 19/25, Train Accuracy: 0.5299999713897705, Test Accuracy: 0.5654184222221375\n",
      "Epoch 20/25, Train Accuracy: 0.5400000214576721, Test Accuracy: 0.5686546564102173\n",
      "Epoch 21/25, Train Accuracy: 0.5600000023841858, Test Accuracy: 0.5714285969734192\n",
      "Epoch 22/25, Train Accuracy: 0.5600000023841858, Test Accuracy: 0.5742024779319763\n",
      "Epoch 23/25, Train Accuracy: 0.5600000023841858, Test Accuracy: 0.5802126526832581\n",
      "Epoch 24/25, Train Accuracy: 0.5600000023841858, Test Accuracy: 0.5857605338096619\n",
      "Epoch 25/25, Train Accuracy: 0.5699999928474426, Test Accuracy: 0.5922330021858215\n"
     ]
    }
   ],
   "execution_count": 22
  },
  {
   "metadata": {
    "ExecuteTime": {
     "end_time": "2025-03-25T11:58:37.663306Z",
     "start_time": "2025-03-25T11:58:37.636200Z"
    }
   },
   "cell_type": "code",
   "source": "print(standard_model(x_batch))",
   "outputs": [
    {
     "name": "stdout",
     "output_type": "stream",
     "text": [
      "tensor([[-0.1297],\n",
      "        [-0.8752],\n",
      "        [-0.2324],\n",
      "        [-0.4319]], grad_fn=<TanhBackward0>)\n"
     ]
    }
   ],
   "execution_count": 23
  },
  {
   "metadata": {},
   "cell_type": "markdown",
   "source": "## Plot the results!"
  },
  {
   "metadata": {},
   "cell_type": "code",
   "source": [
    "# Plot loss for both models\n",
    "plt.figure(figsize=(10, 5))\n",
    "plt.plot(hybrid_losses, label=\"Hybrid\")\n",
    "plt.plot(standard_losses, label=\"Standard\")\n",
    "plt.xlabel(\"Iteration\")\n",
    "plt.ylabel(\"Hinge Loss\")\n",
    "plt.legend()\n",
    "plt.show()"
   ],
   "outputs": [],
   "execution_count": null
  },
  {
   "metadata": {},
   "cell_type": "code",
   "source": [
    "# Plot the hinge accuracy for the QNN history for both 1 and 2 layer on the same axes\n",
    "plt.figure(figsize=(10, 5))\n",
    "plt.plot(hybrid_accs, label=\"1 Layer\")\n",
    "plt.plot(standard_accs, label=\"2 Layers\")\n",
    "plt.xlabel(\"Epoch\")\n",
    "plt.ylabel(\"Hinge Accuracy\")\n",
    "plt.legend()\n",
    "plt.show()\n"
   ],
   "outputs": [],
   "execution_count": null
  },
  {
   "metadata": {},
   "cell_type": "code",
   "source": [
    "# Compare the ratio of test accuracy to number of parameters\n",
    "hybrid_efficiency = hybrid_accs[-1] / sum(p.numel() for p in hybrid_model.parameters())\n",
    "standard_efficiency = standard_accs[-1] / sum(p.numel() for p in standard_model.parameters())"
   ],
   "outputs": [],
   "execution_count": null
  },
  {
   "metadata": {},
   "cell_type": "code",
   "source": [
    "# Plot the efficiency of the models\n",
    "plt.figure(figsize=(10, 5))\n",
    "plt.bar([\"Hybrid\", \"Standard\"], [hybrid_efficiency, standard_efficiency])\n",
    "plt.ylabel(\"Hinge Accuracy / Number of Parameters\")\n",
    "plt.show()"
   ],
   "outputs": [],
   "execution_count": null
  },
  {
   "metadata": {},
   "cell_type": "code",
   "source": "",
   "outputs": [],
   "execution_count": null
  }
 ],
 "metadata": {
  "kernelspec": {
   "display_name": "phys4041",
   "language": "python",
   "name": "python3"
  },
  "language_info": {
   "codemirror_mode": {
    "name": "ipython",
    "version": 3
   },
   "file_extension": ".py",
   "mimetype": "text/x-python",
   "name": "python",
   "nbconvert_exporter": "python",
   "pygments_lexer": "ipython3",
   "version": "3.10.16"
  },
  "orig_nbformat": 4
 },
 "nbformat": 4,
 "nbformat_minor": 2
}
