{
 "cells": [
  {
   "metadata": {
    "ExecuteTime": {
     "end_time": "2025-03-25T12:26:30.732802Z",
     "start_time": "2025-03-25T12:26:21.751065Z"
    }
   },
   "cell_type": "code",
   "source": [
    "import pennylane as qml\n",
    "import torch\n",
    "import torch.nn as nn\n",
    "import torch.optim as optim\n",
    "import torchvision.transforms as transforms\n",
    "from torchvision.datasets import MNIST\n",
    "from torch.utils.data import DataLoader\n",
    "\n",
    "import numpy as np\n",
    "from matplotlib import pyplot as plt"
   ],
   "outputs": [],
   "execution_count": 1
  },
  {
   "metadata": {},
   "cell_type": "markdown",
   "source": [
    "## Load and reduce the data\n",
    "\n",
    "Load the MNIST data and check number of training and test examples"
   ]
  },
  {
   "metadata": {
    "ExecuteTime": {
     "end_time": "2025-03-25T12:26:31.020044Z",
     "start_time": "2025-03-25T12:26:30.764246Z"
    }
   },
   "cell_type": "code",
   "source": [
    "# transform = transforms.Compose([transforms.ToTensor(), transforms.Normalize((0.5,), (0.5,))])\n",
    "train_dataset = MNIST(root='./data', train=True, download=True, transform=transforms.ToTensor())\n",
    "test_dataset = MNIST(root='./data', train=False, download=True, transform=transforms.ToTensor())\n",
    "\n",
    "train_data = train_dataset.data\n",
    "train_targets = train_dataset.targets\n",
    "test_data = test_dataset.data\n",
    "test_targets = test_dataset.targets\n",
    "\n",
    "print(\"Number of original training examples:\", len(train_data))\n",
    "print(\"Number of original test examples:\", len(test_data))"
   ],
   "outputs": [
    {
     "name": "stdout",
     "output_type": "stream",
     "text": [
      "Number of original training examples: 60000\n",
      "Number of original test examples: 10000\n"
     ]
    }
   ],
   "execution_count": 2
  },
  {
   "metadata": {
    "ExecuteTime": {
     "end_time": "2025-03-25T12:26:31.404721Z",
     "start_time": "2025-03-25T12:26:31.317361Z"
    }
   },
   "cell_type": "code",
   "source": [
    "# Rescale the images to be between 0 and 1\n",
    "train_data = train_data.float() / 255\n",
    "test_data = test_data.float() / 255"
   ],
   "outputs": [],
   "execution_count": 3
  },
  {
   "metadata": {
    "ExecuteTime": {
     "end_time": "2025-03-25T12:26:31.456771Z",
     "start_time": "2025-03-25T12:26:31.436343Z"
    }
   },
   "cell_type": "code",
   "source": [
    "# Print the shapes of the data\n",
    "print(f\"train_data.shape = {train_data.shape}\")\n",
    "print(f\"test_data.shape = {test_data.shape}\")"
   ],
   "outputs": [
    {
     "name": "stdout",
     "output_type": "stream",
     "text": [
      "train_data.shape = torch.Size([60000, 28, 28])\n",
      "test_data.shape = torch.Size([10000, 28, 28])\n"
     ]
    }
   ],
   "execution_count": 4
  },
  {
   "metadata": {},
   "cell_type": "markdown",
   "source": "Create a function to filter out only 0 and 1"
  },
  {
   "metadata": {
    "ExecuteTime": {
     "end_time": "2025-03-25T12:26:31.504032Z",
     "start_time": "2025-03-25T12:26:31.472507Z"
    }
   },
   "cell_type": "code",
   "source": [
    "def filter_01(data, targets):\n",
    "    indices = (targets == 0) | (targets == 1)\n",
    "    data, targets = data[indices], targets[indices]\n",
    "    targets = targets == 0\n",
    "    return data, targets\n",
    "\n",
    "train_data, train_targets = filter_01(train_data, train_targets)\n",
    "test_data, test_targets = filter_01(test_data, test_targets)\n",
    "\n",
    "print(\"Number of filtered training examples:\", len(train_data))\n",
    "print(\"Number of filtered test examples:\", len(test_data))"
   ],
   "outputs": [
    {
     "name": "stdout",
     "output_type": "stream",
     "text": [
      "Number of filtered training examples: 12665\n",
      "Number of filtered test examples: 2115\n"
     ]
    }
   ],
   "execution_count": 5
  },
  {
   "metadata": {},
   "cell_type": "markdown",
   "source": "Plot the original images"
  },
  {
   "metadata": {
    "ExecuteTime": {
     "end_time": "2025-03-25T12:26:31.628656Z",
     "start_time": "2025-03-25T12:26:31.523301Z"
    }
   },
   "cell_type": "code",
   "source": [
    "plt.imshow(train_data[0], cmap='Greys')\n",
    "ax = plt.gca()\n",
    "ax.set_xticks([])\n",
    "ax.set_yticks([])\n",
    "plt.title(\"28x28 image of a 0\", fontsize=20)\n",
    "plt.show()"
   ],
   "outputs": [
    {
     "data": {
      "text/plain": [
       "<Figure size 640x480 with 1 Axes>"
      ],
      "image/png": "[encoded data removed]"
     },
     "metadata": {},
     "output_type": "display_data"
    }
   ],
   "execution_count": 6
  },
  {
   "metadata": {},
   "cell_type": "markdown",
   "source": "Reduce images to 9x9"
  },
  {
   "metadata": {
    "ExecuteTime": {
     "end_time": "2025-03-25T12:26:31.707780Z",
     "start_time": "2025-03-25T12:26:31.644402Z"
    }
   },
   "cell_type": "code",
   "source": [
    "train_data = torch.nn.functional.interpolate(train_data.unsqueeze(1).float(), size=(9, 9)).squeeze(1)\n",
    "test_data = torch.nn.functional.interpolate(test_data.unsqueeze(1).float(), size=(9, 9)).squeeze(1)\n",
    "\n",
    "print(f'train_data.shape = {train_data.shape}')\n",
    "print(f'test_data.shape = {test_data.shape}')"
   ],
   "outputs": [
    {
     "name": "stdout",
     "output_type": "stream",
     "text": [
      "train_data.shape = torch.Size([12665, 9, 9])\n",
      "test_data.shape = torch.Size([2115, 9, 9])\n"
     ]
    }
   ],
   "execution_count": 7
  },
  {
   "metadata": {
    "ExecuteTime": {
     "end_time": "2025-03-25T12:26:31.782803Z",
     "start_time": "2025-03-25T12:26:31.728412Z"
    }
   },
   "cell_type": "code",
   "source": [
    "plt.imshow(train_data[0], vmin=0, vmax=1, cmap='Greys')\n",
    "ax = plt.gca()\n",
    "ax.set_xticks([])\n",
    "ax.set_yticks([])\n",
    "plt.title(\"9x9 image of a 0\", fontsize=20)\n",
    "plt.show()"
   ],
   "outputs": [
    {
     "data": {
      "text/plain": [
       "<Figure size 640x480 with 1 Axes>"
      ],
      "image/png": "[encoded data removed]"
     },
     "metadata": {},
     "output_type": "display_data"
    }
   ],
   "execution_count": 8
  },
  {
   "metadata": {},
   "cell_type": "markdown",
   "source": "Further reduce images to 9x1"
  },
  {
   "metadata": {
    "ExecuteTime": {
     "end_time": "2025-03-25T12:26:31.825245Z",
     "start_time": "2025-03-25T12:26:31.798582Z"
    }
   },
   "cell_type": "code",
   "source": [
    "train_data = train_data[:, 4, :].reshape((-1, 9))\n",
    "test_data = test_data[:, 4, :].reshape((-1, 9))\n",
    "print(f\"train_data.shape = {train_data.shape}\")\n",
    "print(f\"test_data.shape = {test_data.shape}\")"
   ],
   "outputs": [
    {
     "name": "stdout",
     "output_type": "stream",
     "text": [
      "train_data.shape = torch.Size([12665, 9])\n",
      "test_data.shape = torch.Size([2115, 9])\n"
     ]
    }
   ],
   "execution_count": 9
  },
  {
   "metadata": {
    "ExecuteTime": {
     "end_time": "2025-03-25T12:26:31.904221Z",
     "start_time": "2025-03-25T12:26:31.840970Z"
    }
   },
   "cell_type": "code",
   "source": [
    "plt.imshow(train_data[0].reshape((1, -1)), vmin=0, vmax=1, cmap='Greys')\n",
    "ax = plt.gca()\n",
    "ax.set_xticks([])\n",
    "ax.set_yticks([])\n",
    "plt.title(\"9x1 image of a 0\", fontsize=20)\n",
    "plt.show()"
   ],
   "outputs": [
    {
     "data": {
      "text/plain": [
       "<Figure size 640x480 with 1 Axes>"
      ],
      "image/png": "[encoded data removed]"
     },
     "metadata": {},
     "output_type": "display_data"
    }
   ],
   "execution_count": 10
  },
  {
   "metadata": {},
   "cell_type": "markdown",
   "source": [
    "## Set up the Quantum Neural Network\n",
    "\n",
    "Create quantum circuit using pennylane qnode, then convert this to a PyTorch layer to make a PyTorch model"
   ]
  },
  {
   "metadata": {
    "ExecuteTime": {
     "end_time": "2025-03-25T12:26:31.935749Z",
     "start_time": "2025-03-25T12:26:31.919954Z"
    }
   },
   "cell_type": "code",
   "source": [
    "n_qubits = 9\n",
    "n_layers = 1\n",
    "dev = qml.device(\"default.qubit\", wires=n_qubits)\n",
    "\n",
    "@qml.qnode(dev, interface=\"torch\")\n",
    "def qnode(inputs, weights):\n",
    "\n",
    "    if len(inputs.shape) == 1:\n",
    "        for ii in range(n_qubits):\n",
    "            qml.RY(np.pi * inputs[ii], wires=ii)\n",
    "    else:\n",
    "        for ii in range(n_qubits):\n",
    "            qml.RY(np.pi * inputs[:,ii], wires=ii)\n",
    "\n",
    "    for jj in range(n_layers):\n",
    "        for ii in range(n_qubits-1):\n",
    "            qml.RZ(weights[jj,2*ii,0], wires=0)\n",
    "            qml.RY(weights[jj,2*ii,1], wires=0)\n",
    "            qml.RZ(weights[jj,2*ii,2], wires=0)\n",
    "\n",
    "            qml.RZ(weights[jj,2*ii+1,0], wires=ii+1)\n",
    "            qml.RY(weights[jj,2*ii+1,1], wires=ii+1)\n",
    "            qml.RZ(weights[jj,2*ii+1,2], wires=ii+1)\n",
    "\n",
    "            qml.CNOT(wires=[ii+1,0])\n",
    "            \n",
    "        qml.RZ(weights[jj,2*(n_qubits-1),0], wires=0)\n",
    "        qml.RY(weights[jj,2*(n_qubits-1),1], wires=0)\n",
    "        qml.RZ(weights[jj,2*(n_qubits-1),2], wires=0)\n",
    "\n",
    "    return qml.expval(qml.PauliZ(0))\n",
    "\n",
    "weight_shapes = {\"weights\": (n_layers, 2*(n_qubits-1)+1, 3)}\n",
    "print(weight_shapes)"
   ],
   "outputs": [
    {
     "name": "stdout",
     "output_type": "stream",
     "text": [
      "{'weights': (1, 17, 3)}\n"
     ]
    }
   ],
   "execution_count": 11
  },
  {
   "metadata": {
    "ExecuteTime": {
     "end_time": "2025-03-25T12:26:31.977513Z",
     "start_time": "2025-03-25T12:26:31.961926Z"
    }
   },
   "cell_type": "code",
   "source": [
    "class QNN(nn.Module):\n",
    "    def __init__(self):\n",
    "        super(QNN, self).__init__()\n",
    "        self.quantum_layer = qml.qnn.TorchLayer(qnode, weight_shapes)\n",
    "\n",
    "    def forward(self, x):\n",
    "        x = self.quantum_layer(x)\n",
    "        return x"
   ],
   "outputs": [],
   "execution_count": 12
  },
  {
   "metadata": {
    "ExecuteTime": {
     "end_time": "2025-03-25T12:26:32.019409Z",
     "start_time": "2025-03-25T12:26:31.996123Z"
    }
   },
   "cell_type": "code",
   "source": [
    "model = QNN()\n",
    "print(model)"
   ],
   "outputs": [
    {
     "name": "stdout",
     "output_type": "stream",
     "text": [
      "QNN(\n",
      "  (quantum_layer): <Quantum Torch Layer: func=qnode>\n",
      ")\n"
     ]
    }
   ],
   "execution_count": 13
  },
  {
   "metadata": {},
   "cell_type": "markdown",
   "source": "Redefine the classification values to match the Hinge loss"
  },
  {
   "metadata": {
    "ExecuteTime": {
     "end_time": "2025-03-25T12:26:32.050954Z",
     "start_time": "2025-03-25T12:26:32.035188Z"
    }
   },
   "cell_type": "code",
   "source": [
    "train_targets = 2.0 * train_targets - 1.0\n",
    "test_targets = 2.0 * test_targets - 1.0"
   ],
   "outputs": [],
   "execution_count": 14
  },
  {
   "metadata": {},
   "cell_type": "markdown",
   "source": "Define the hinge accuracy"
  },
  {
   "metadata": {
    "ExecuteTime": {
     "end_time": "2025-03-25T12:26:32.088657Z",
     "start_time": "2025-03-25T12:26:32.066716Z"
    }
   },
   "cell_type": "code",
   "source": [
    "def hinge_accuracy(y_true, y_pred):\n",
    "    # Squeeze the tensors and compare each element to 0.0\n",
    "    y_true = torch.squeeze(y_true) > 0.0\n",
    "    y_pred = torch.squeeze(y_pred) > 0.0\n",
    "    # Compare predicted and true values, cast to float, and compute the mean\n",
    "    result = (y_true == y_pred).float()\n",
    "    return torch.mean(result)"
   ],
   "outputs": [],
   "execution_count": 15
  },
  {
   "metadata": {},
   "cell_type": "markdown",
   "source": [
    "## Compile and train the model\n",
    "\n",
    "Compile the model using the hinge loss and accuracy and the Adam optimiser"
   ]
  },
  {
   "metadata": {
    "ExecuteTime": {
     "end_time": "2025-03-25T12:26:32.125556Z",
     "start_time": "2025-03-25T12:26:32.105778Z"
    }
   },
   "cell_type": "code",
   "source": [
    "criterion = nn.HingeEmbeddingLoss(margin=1)\n",
    "optimizer = optim.Adam(model.parameters())"
   ],
   "outputs": [],
   "execution_count": 16
  },
  {
   "metadata": {},
   "cell_type": "markdown",
   "source": "Train the model over 20 epochs"
  },
  {
   "metadata": {
    "ExecuteTime": {
     "end_time": "2025-03-25T12:26:32.157084Z",
     "start_time": "2025-03-25T12:26:32.141278Z"
    }
   },
   "cell_type": "code",
   "source": [
    "EPOCHS = 25\n",
    "BATCH_SIZE = 32\n",
    "NUM_EXAMPLES_TRAIN = 2000\n",
    "# NUM_EXAMPLES_TEST = 250"
   ],
   "outputs": [],
   "execution_count": 17
  },
  {
   "metadata": {
    "ExecuteTime": {
     "end_time": "2025-03-25T12:26:32.195242Z",
     "start_time": "2025-03-25T12:26:32.173227Z"
    }
   },
   "cell_type": "code",
   "source": [
    "# Take only the first 1000 examples for training and 250 for testing\n",
    "train_data, train_targets = train_data[:NUM_EXAMPLES_TRAIN], train_targets[:NUM_EXAMPLES_TRAIN]\n",
    "# test_data, test_targets = test_data[:NUM_EXAMPLES_TEST], test_targets[:NUM_EXAMPLES_TEST]\n",
    "\n",
    "print(\"Number of training examples:\", len(train_data))\n",
    "print(\"Number of test examples:\", len(test_data))"
   ],
   "outputs": [
    {
     "name": "stdout",
     "output_type": "stream",
     "text": [
      "Number of training examples: 2000\n",
      "Number of test examples: 2115\n"
     ]
    }
   ],
   "execution_count": 18
  },
  {
   "metadata": {
    "ExecuteTime": {
     "end_time": "2025-03-25T12:26:32.226936Z",
     "start_time": "2025-03-25T12:26:32.210962Z"
    }
   },
   "cell_type": "code",
   "source": "train_loader = DataLoader(list(zip(train_data, train_targets)), batch_size=BATCH_SIZE, shuffle=True)",
   "outputs": [],
   "execution_count": 19
  },
  {
   "metadata": {
    "ExecuteTime": {
     "end_time": "2025-03-25T12:27:01.200636Z",
     "start_time": "2025-03-25T12:26:32.242724Z"
    }
   },
   "cell_type": "code",
   "source": [
    "model_test_accs = []\n",
    "quantum_params = []\n",
    "for epoch in range(EPOCHS):\n",
    "    losses = []\n",
    "    model.train()\n",
    "    for x_batch, y_batch in train_loader:\n",
    "\n",
    "        optimizer.zero_grad()\n",
    "        y_pred = -model(x_batch)\n",
    "        loss = criterion(y_pred, y_batch)\n",
    "\n",
    "        loss.backward()\n",
    "        optimizer.step()\n",
    "        losses.append(loss.item())\n",
    "\n",
    "        # Add values of all parameters to a list\n",
    "        quantum_params.append([p.detach().numpy().copy() for p in model.parameters()])\n",
    "\n",
    "    model.eval()\n",
    "    with torch.no_grad():\n",
    "        train_acc = hinge_accuracy(train_targets, model(train_data))\n",
    "        test_acc = hinge_accuracy(test_targets, model(test_data))\n",
    "        model_test_accs.append(test_acc.item())\n",
    "    print(f\"Epoch {epoch+1}/{EPOCHS}, Train Accuracy: {train_acc.item()}, Test Accuracy: {test_acc.item()}\")"
   ],
   "outputs": [
    {
     "name": "stdout",
     "output_type": "stream",
     "text": [
      "Epoch 1/25, Train Accuracy: 0.2980000078678131, Test Accuracy: 0.2950354516506195\n",
      "Epoch 2/25, Train Accuracy: 0.6694999933242798, Test Accuracy: 0.6747044920921326\n",
      "Epoch 3/25, Train Accuracy: 0.7055000066757202, Test Accuracy: 0.7044917345046997\n",
      "Epoch 4/25, Train Accuracy: 0.7325000166893005, Test Accuracy: 0.7323877215385437\n"
     ]
    },
    {
     "ename": "KeyboardInterrupt",
     "evalue": "",
     "output_type": "error",
     "traceback": [
      "\u001B[1;31m---------------------------------------------------------------------------\u001B[0m",
      "\u001B[1;31mKeyboardInterrupt\u001B[0m                         Traceback (most recent call last)",
      "Cell \u001B[1;32mIn[20], line 9\u001B[0m\n\u001B[0;32m      6\u001B[0m \u001B[38;5;28;01mfor\u001B[39;00m x_batch, y_batch \u001B[38;5;129;01min\u001B[39;00m train_loader:\n\u001B[0;32m      8\u001B[0m     optimizer\u001B[38;5;241m.\u001B[39mzero_grad()\n\u001B[1;32m----> 9\u001B[0m     y_pred \u001B[38;5;241m=\u001B[39m \u001B[38;5;241m-\u001B[39m\u001B[43mmodel\u001B[49m\u001B[43m(\u001B[49m\u001B[43mx_batch\u001B[49m\u001B[43m)\u001B[49m\n\u001B[0;32m     10\u001B[0m     loss \u001B[38;5;241m=\u001B[39m criterion(y_pred, y_batch)\n\u001B[0;32m     12\u001B[0m     loss\u001B[38;5;241m.\u001B[39mbackward()\n",
      "File \u001B[1;32m~\\.conda\\envs\\PHYS4041v2\\lib\\site-packages\\torch\\nn\\modules\\module.py:1739\u001B[0m, in \u001B[0;36mModule._wrapped_call_impl\u001B[1;34m(self, *args, **kwargs)\u001B[0m\n\u001B[0;32m   1737\u001B[0m     \u001B[38;5;28;01mreturn\u001B[39;00m \u001B[38;5;28mself\u001B[39m\u001B[38;5;241m.\u001B[39m_compiled_call_impl(\u001B[38;5;241m*\u001B[39margs, \u001B[38;5;241m*\u001B[39m\u001B[38;5;241m*\u001B[39mkwargs)  \u001B[38;5;66;03m# type: ignore[misc]\u001B[39;00m\n\u001B[0;32m   1738\u001B[0m \u001B[38;5;28;01melse\u001B[39;00m:\n\u001B[1;32m-> 1739\u001B[0m     \u001B[38;5;28;01mreturn\u001B[39;00m \u001B[38;5;28mself\u001B[39m\u001B[38;5;241m.\u001B[39m_call_impl(\u001B[38;5;241m*\u001B[39margs, \u001B[38;5;241m*\u001B[39m\u001B[38;5;241m*\u001B[39mkwargs)\n",
      "File \u001B[1;32m~\\.conda\\envs\\PHYS4041v2\\lib\\site-packages\\torch\\nn\\modules\\module.py:1750\u001B[0m, in \u001B[0;36mModule._call_impl\u001B[1;34m(self, *args, **kwargs)\u001B[0m\n\u001B[0;32m   1745\u001B[0m \u001B[38;5;66;03m# If we don't have any hooks, we want to skip the rest of the logic in\u001B[39;00m\n\u001B[0;32m   1746\u001B[0m \u001B[38;5;66;03m# this function, and just call forward.\u001B[39;00m\n\u001B[0;32m   1747\u001B[0m \u001B[38;5;28;01mif\u001B[39;00m \u001B[38;5;129;01mnot\u001B[39;00m (\u001B[38;5;28mself\u001B[39m\u001B[38;5;241m.\u001B[39m_backward_hooks \u001B[38;5;129;01mor\u001B[39;00m \u001B[38;5;28mself\u001B[39m\u001B[38;5;241m.\u001B[39m_backward_pre_hooks \u001B[38;5;129;01mor\u001B[39;00m \u001B[38;5;28mself\u001B[39m\u001B[38;5;241m.\u001B[39m_forward_hooks \u001B[38;5;129;01mor\u001B[39;00m \u001B[38;5;28mself\u001B[39m\u001B[38;5;241m.\u001B[39m_forward_pre_hooks\n\u001B[0;32m   1748\u001B[0m         \u001B[38;5;129;01mor\u001B[39;00m _global_backward_pre_hooks \u001B[38;5;129;01mor\u001B[39;00m _global_backward_hooks\n\u001B[0;32m   1749\u001B[0m         \u001B[38;5;129;01mor\u001B[39;00m _global_forward_hooks \u001B[38;5;129;01mor\u001B[39;00m _global_forward_pre_hooks):\n\u001B[1;32m-> 1750\u001B[0m     \u001B[38;5;28;01mreturn\u001B[39;00m forward_call(\u001B[38;5;241m*\u001B[39margs, \u001B[38;5;241m*\u001B[39m\u001B[38;5;241m*\u001B[39mkwargs)\n\u001B[0;32m   1752\u001B[0m result \u001B[38;5;241m=\u001B[39m \u001B[38;5;28;01mNone\u001B[39;00m\n\u001B[0;32m   1753\u001B[0m called_always_called_hooks \u001B[38;5;241m=\u001B[39m \u001B[38;5;28mset\u001B[39m()\n",
      "Cell \u001B[1;32mIn[12], line 7\u001B[0m, in \u001B[0;36mQNN.forward\u001B[1;34m(self, x)\u001B[0m\n\u001B[0;32m      6\u001B[0m \u001B[38;5;28;01mdef\u001B[39;00m\u001B[38;5;250m \u001B[39m\u001B[38;5;21mforward\u001B[39m(\u001B[38;5;28mself\u001B[39m, x):\n\u001B[1;32m----> 7\u001B[0m     x \u001B[38;5;241m=\u001B[39m \u001B[38;5;28;43mself\u001B[39;49m\u001B[38;5;241;43m.\u001B[39;49m\u001B[43mquantum_layer\u001B[49m\u001B[43m(\u001B[49m\u001B[43mx\u001B[49m\u001B[43m)\u001B[49m\n\u001B[0;32m      8\u001B[0m     \u001B[38;5;28;01mreturn\u001B[39;00m x\n",
      "File \u001B[1;32m~\\.conda\\envs\\PHYS4041v2\\lib\\site-packages\\torch\\nn\\modules\\module.py:1739\u001B[0m, in \u001B[0;36mModule._wrapped_call_impl\u001B[1;34m(self, *args, **kwargs)\u001B[0m\n\u001B[0;32m   1737\u001B[0m     \u001B[38;5;28;01mreturn\u001B[39;00m \u001B[38;5;28mself\u001B[39m\u001B[38;5;241m.\u001B[39m_compiled_call_impl(\u001B[38;5;241m*\u001B[39margs, \u001B[38;5;241m*\u001B[39m\u001B[38;5;241m*\u001B[39mkwargs)  \u001B[38;5;66;03m# type: ignore[misc]\u001B[39;00m\n\u001B[0;32m   1738\u001B[0m \u001B[38;5;28;01melse\u001B[39;00m:\n\u001B[1;32m-> 1739\u001B[0m     \u001B[38;5;28;01mreturn\u001B[39;00m \u001B[38;5;28mself\u001B[39m\u001B[38;5;241m.\u001B[39m_call_impl(\u001B[38;5;241m*\u001B[39margs, \u001B[38;5;241m*\u001B[39m\u001B[38;5;241m*\u001B[39mkwargs)\n",
      "File \u001B[1;32m~\\.conda\\envs\\PHYS4041v2\\lib\\site-packages\\torch\\nn\\modules\\module.py:1750\u001B[0m, in \u001B[0;36mModule._call_impl\u001B[1;34m(self, *args, **kwargs)\u001B[0m\n\u001B[0;32m   1745\u001B[0m \u001B[38;5;66;03m# If we don't have any hooks, we want to skip the rest of the logic in\u001B[39;00m\n\u001B[0;32m   1746\u001B[0m \u001B[38;5;66;03m# this function, and just call forward.\u001B[39;00m\n\u001B[0;32m   1747\u001B[0m \u001B[38;5;28;01mif\u001B[39;00m \u001B[38;5;129;01mnot\u001B[39;00m (\u001B[38;5;28mself\u001B[39m\u001B[38;5;241m.\u001B[39m_backward_hooks \u001B[38;5;129;01mor\u001B[39;00m \u001B[38;5;28mself\u001B[39m\u001B[38;5;241m.\u001B[39m_backward_pre_hooks \u001B[38;5;129;01mor\u001B[39;00m \u001B[38;5;28mself\u001B[39m\u001B[38;5;241m.\u001B[39m_forward_hooks \u001B[38;5;129;01mor\u001B[39;00m \u001B[38;5;28mself\u001B[39m\u001B[38;5;241m.\u001B[39m_forward_pre_hooks\n\u001B[0;32m   1748\u001B[0m         \u001B[38;5;129;01mor\u001B[39;00m _global_backward_pre_hooks \u001B[38;5;129;01mor\u001B[39;00m _global_backward_hooks\n\u001B[0;32m   1749\u001B[0m         \u001B[38;5;129;01mor\u001B[39;00m _global_forward_hooks \u001B[38;5;129;01mor\u001B[39;00m _global_forward_pre_hooks):\n\u001B[1;32m-> 1750\u001B[0m     \u001B[38;5;28;01mreturn\u001B[39;00m forward_call(\u001B[38;5;241m*\u001B[39margs, \u001B[38;5;241m*\u001B[39m\u001B[38;5;241m*\u001B[39mkwargs)\n\u001B[0;32m   1752\u001B[0m result \u001B[38;5;241m=\u001B[39m \u001B[38;5;28;01mNone\u001B[39;00m\n\u001B[0;32m   1753\u001B[0m called_always_called_hooks \u001B[38;5;241m=\u001B[39m \u001B[38;5;28mset\u001B[39m()\n",
      "File \u001B[1;32m~\\.conda\\envs\\PHYS4041v2\\lib\\site-packages\\pennylane\\qnn\\torch.py:404\u001B[0m, in \u001B[0;36mTorchLayer.forward\u001B[1;34m(self, inputs)\u001B[0m\n\u001B[0;32m    401\u001B[0m     inputs \u001B[38;5;241m=\u001B[39m torch\u001B[38;5;241m.\u001B[39mreshape(inputs, (\u001B[38;5;241m-\u001B[39m\u001B[38;5;241m1\u001B[39m, inputs\u001B[38;5;241m.\u001B[39mshape[\u001B[38;5;241m-\u001B[39m\u001B[38;5;241m1\u001B[39m]))\n\u001B[0;32m    403\u001B[0m \u001B[38;5;66;03m# calculate the forward pass as usual\u001B[39;00m\n\u001B[1;32m--> 404\u001B[0m results \u001B[38;5;241m=\u001B[39m \u001B[38;5;28;43mself\u001B[39;49m\u001B[38;5;241;43m.\u001B[39;49m\u001B[43m_evaluate_qnode\u001B[49m\u001B[43m(\u001B[49m\u001B[43minputs\u001B[49m\u001B[43m)\u001B[49m\n\u001B[0;32m    406\u001B[0m \u001B[38;5;28;01mif\u001B[39;00m \u001B[38;5;28misinstance\u001B[39m(results, \u001B[38;5;28mtuple\u001B[39m):\n\u001B[0;32m    407\u001B[0m     \u001B[38;5;28;01mif\u001B[39;00m has_batch_dim:\n",
      "File \u001B[1;32m~\\.conda\\envs\\PHYS4041v2\\lib\\site-packages\\pennylane\\qnn\\torch.py:430\u001B[0m, in \u001B[0;36mTorchLayer._evaluate_qnode\u001B[1;34m(self, x)\u001B[0m\n\u001B[0;32m    418\u001B[0m \u001B[38;5;250m\u001B[39m\u001B[38;5;124;03m\"\"\"Evaluates the QNode for a single input datapoint.\u001B[39;00m\n\u001B[0;32m    419\u001B[0m \n\u001B[0;32m    420\u001B[0m \u001B[38;5;124;03mArgs:\u001B[39;00m\n\u001B[1;32m   (...)\u001B[0m\n\u001B[0;32m    424\u001B[0m \u001B[38;5;124;03m    tensor: output datapoint\u001B[39;00m\n\u001B[0;32m    425\u001B[0m \u001B[38;5;124;03m\"\"\"\u001B[39;00m\n\u001B[0;32m    426\u001B[0m kwargs \u001B[38;5;241m=\u001B[39m {\n\u001B[0;32m    427\u001B[0m     \u001B[38;5;241m*\u001B[39m\u001B[38;5;241m*\u001B[39m{\u001B[38;5;28mself\u001B[39m\u001B[38;5;241m.\u001B[39minput_arg: x},\n\u001B[0;32m    428\u001B[0m     \u001B[38;5;241m*\u001B[39m\u001B[38;5;241m*\u001B[39m{arg: weight\u001B[38;5;241m.\u001B[39mto(x) \u001B[38;5;28;01mfor\u001B[39;00m arg, weight \u001B[38;5;129;01min\u001B[39;00m \u001B[38;5;28mself\u001B[39m\u001B[38;5;241m.\u001B[39mqnode_weights\u001B[38;5;241m.\u001B[39mitems()},\n\u001B[0;32m    429\u001B[0m }\n\u001B[1;32m--> 430\u001B[0m res \u001B[38;5;241m=\u001B[39m \u001B[38;5;28mself\u001B[39m\u001B[38;5;241m.\u001B[39mqnode(\u001B[38;5;241m*\u001B[39m\u001B[38;5;241m*\u001B[39mkwargs)\n\u001B[0;32m    432\u001B[0m \u001B[38;5;28;01mif\u001B[39;00m \u001B[38;5;28misinstance\u001B[39m(res, torch\u001B[38;5;241m.\u001B[39mTensor):\n\u001B[0;32m    433\u001B[0m     \u001B[38;5;28;01mreturn\u001B[39;00m res\u001B[38;5;241m.\u001B[39mtype(x\u001B[38;5;241m.\u001B[39mdtype)\n",
      "File \u001B[1;32m~\\.conda\\envs\\PHYS4041v2\\lib\\site-packages\\pennylane\\workflow\\qnode.py:905\u001B[0m, in \u001B[0;36mQNode.__call__\u001B[1;34m(self, *args, **kwargs)\u001B[0m\n\u001B[0;32m    903\u001B[0m \u001B[38;5;28;01mif\u001B[39;00m qml\u001B[38;5;241m.\u001B[39mcapture\u001B[38;5;241m.\u001B[39menabled():\n\u001B[0;32m    904\u001B[0m     \u001B[38;5;28;01mreturn\u001B[39;00m capture_qnode(\u001B[38;5;28mself\u001B[39m, \u001B[38;5;241m*\u001B[39margs, \u001B[38;5;241m*\u001B[39m\u001B[38;5;241m*\u001B[39mkwargs)\n\u001B[1;32m--> 905\u001B[0m \u001B[38;5;28;01mreturn\u001B[39;00m \u001B[38;5;28mself\u001B[39m\u001B[38;5;241m.\u001B[39m_impl_call(\u001B[38;5;241m*\u001B[39margs, \u001B[38;5;241m*\u001B[39m\u001B[38;5;241m*\u001B[39mkwargs)\n",
      "File \u001B[1;32m~\\.conda\\envs\\PHYS4041v2\\lib\\site-packages\\pennylane\\workflow\\qnode.py:881\u001B[0m, in \u001B[0;36mQNode._impl_call\u001B[1;34m(self, *args, **kwargs)\u001B[0m\n\u001B[0;32m    878\u001B[0m \u001B[38;5;66;03m# Calculate the classical jacobians if necessary\u001B[39;00m\n\u001B[0;32m    879\u001B[0m \u001B[38;5;28mself\u001B[39m\u001B[38;5;241m.\u001B[39m_transform_program\u001B[38;5;241m.\u001B[39mset_classical_component(\u001B[38;5;28mself\u001B[39m, args, kwargs)\n\u001B[1;32m--> 881\u001B[0m res \u001B[38;5;241m=\u001B[39m qml\u001B[38;5;241m.\u001B[39mexecute(\n\u001B[0;32m    882\u001B[0m     (tape,),\n\u001B[0;32m    883\u001B[0m     device\u001B[38;5;241m=\u001B[39m\u001B[38;5;28mself\u001B[39m\u001B[38;5;241m.\u001B[39mdevice,\n\u001B[0;32m    884\u001B[0m     diff_method\u001B[38;5;241m=\u001B[39m\u001B[38;5;28mself\u001B[39m\u001B[38;5;241m.\u001B[39mdiff_method,\n\u001B[0;32m    885\u001B[0m     interface\u001B[38;5;241m=\u001B[39minterface,\n\u001B[0;32m    886\u001B[0m     transform_program\u001B[38;5;241m=\u001B[39m\u001B[38;5;28mself\u001B[39m\u001B[38;5;241m.\u001B[39m_transform_program,\n\u001B[0;32m    887\u001B[0m     gradient_kwargs\u001B[38;5;241m=\u001B[39m\u001B[38;5;28mself\u001B[39m\u001B[38;5;241m.\u001B[39mgradient_kwargs,\n\u001B[0;32m    888\u001B[0m     \u001B[38;5;241m*\u001B[39m\u001B[38;5;241m*\u001B[39m\u001B[38;5;28mself\u001B[39m\u001B[38;5;241m.\u001B[39mexecute_kwargs,\n\u001B[0;32m    889\u001B[0m )\n\u001B[0;32m    890\u001B[0m res \u001B[38;5;241m=\u001B[39m res[\u001B[38;5;241m0\u001B[39m]\n\u001B[0;32m    892\u001B[0m \u001B[38;5;66;03m# convert result to the interface in case the qfunc has no parameters\u001B[39;00m\n",
      "File \u001B[1;32m~\\.conda\\envs\\PHYS4041v2\\lib\\site-packages\\pennylane\\workflow\\execution.py:232\u001B[0m, in \u001B[0;36mexecute\u001B[1;34m(tapes, device, diff_method, interface, transform_program, inner_transform, config, grad_on_execution, gradient_kwargs, cache, cachesize, max_diff, device_vjp, mcm_config, gradient_fn)\u001B[0m\n\u001B[0;32m    229\u001B[0m \u001B[38;5;28;01mif\u001B[39;00m transform_program\u001B[38;5;241m.\u001B[39mis_informative:\n\u001B[0;32m    230\u001B[0m     \u001B[38;5;28;01mreturn\u001B[39;00m post_processing(tapes)\n\u001B[1;32m--> 232\u001B[0m results \u001B[38;5;241m=\u001B[39m \u001B[43mrun\u001B[49m\u001B[43m(\u001B[49m\u001B[43mtapes\u001B[49m\u001B[43m,\u001B[49m\u001B[43m \u001B[49m\u001B[43mdevice\u001B[49m\u001B[43m,\u001B[49m\u001B[43m \u001B[49m\u001B[43mconfig\u001B[49m\u001B[43m,\u001B[49m\u001B[43m \u001B[49m\u001B[43minner_transform\u001B[49m\u001B[43m)\u001B[49m\n\u001B[0;32m    233\u001B[0m \u001B[38;5;28;01mreturn\u001B[39;00m post_processing(results)\n",
      "File \u001B[1;32m~\\.conda\\envs\\PHYS4041v2\\lib\\site-packages\\pennylane\\workflow\\run.py:287\u001B[0m, in \u001B[0;36mrun\u001B[1;34m(tapes, device, config, inner_transform_program)\u001B[0m\n\u001B[0;32m    278\u001B[0m no_interface_boundary_required \u001B[38;5;241m=\u001B[39m (\n\u001B[0;32m    279\u001B[0m     config\u001B[38;5;241m.\u001B[39minterface \u001B[38;5;241m==\u001B[39m Interface\u001B[38;5;241m.\u001B[39mNUMPY\n\u001B[0;32m    280\u001B[0m     \u001B[38;5;129;01mor\u001B[39;00m config\u001B[38;5;241m.\u001B[39mgradient_method\n\u001B[1;32m   (...)\u001B[0m\n\u001B[0;32m    284\u001B[0m     }\n\u001B[0;32m    285\u001B[0m )\n\u001B[0;32m    286\u001B[0m \u001B[38;5;28;01mif\u001B[39;00m no_interface_boundary_required:\n\u001B[1;32m--> 287\u001B[0m     results \u001B[38;5;241m=\u001B[39m \u001B[43minner_execute\u001B[49m\u001B[43m(\u001B[49m\u001B[43mtapes\u001B[49m\u001B[43m)\u001B[49m\n\u001B[0;32m    288\u001B[0m     \u001B[38;5;28;01mreturn\u001B[39;00m results\n\u001B[0;32m    290\u001B[0m \u001B[38;5;66;03m# TODO: Prune once support for tf-autograph is dropped\u001B[39;00m\n",
      "File \u001B[1;32m~\\.conda\\envs\\PHYS4041v2\\lib\\site-packages\\pennylane\\workflow\\run.py:247\u001B[0m, in \u001B[0;36m_make_inner_execute.<locals>.inner_execute\u001B[1;34m(tapes)\u001B[0m\n\u001B[0;32m    244\u001B[0m transformed_tapes, transform_post_processing \u001B[38;5;241m=\u001B[39m inner_transform(tapes)\n\u001B[0;32m    246\u001B[0m \u001B[38;5;28;01mif\u001B[39;00m transformed_tapes:\n\u001B[1;32m--> 247\u001B[0m     results \u001B[38;5;241m=\u001B[39m \u001B[43mdevice\u001B[49m\u001B[38;5;241;43m.\u001B[39;49m\u001B[43mexecute\u001B[49m\u001B[43m(\u001B[49m\u001B[43mtransformed_tapes\u001B[49m\u001B[43m,\u001B[49m\u001B[43m \u001B[49m\u001B[43mexecution_config\u001B[49m\u001B[38;5;241;43m=\u001B[39;49m\u001B[43mexecution_config\u001B[49m\u001B[43m)\u001B[49m\n\u001B[0;32m    248\u001B[0m \u001B[38;5;28;01melse\u001B[39;00m:\n\u001B[0;32m    249\u001B[0m     results \u001B[38;5;241m=\u001B[39m ()\n",
      "File \u001B[1;32m~\\.conda\\envs\\PHYS4041v2\\lib\\site-packages\\pennylane\\devices\\modifiers\\simulator_tracking.py:30\u001B[0m, in \u001B[0;36m_track_execute.<locals>.execute\u001B[1;34m(self, circuits, execution_config)\u001B[0m\n\u001B[0;32m     28\u001B[0m \u001B[38;5;129m@wraps\u001B[39m(untracked_execute)\n\u001B[0;32m     29\u001B[0m \u001B[38;5;28;01mdef\u001B[39;00m\u001B[38;5;250m \u001B[39m\u001B[38;5;21mexecute\u001B[39m(\u001B[38;5;28mself\u001B[39m, circuits, execution_config\u001B[38;5;241m=\u001B[39mDefaultExecutionConfig):\n\u001B[1;32m---> 30\u001B[0m     results \u001B[38;5;241m=\u001B[39m \u001B[43muntracked_execute\u001B[49m\u001B[43m(\u001B[49m\u001B[38;5;28;43mself\u001B[39;49m\u001B[43m,\u001B[49m\u001B[43m \u001B[49m\u001B[43mcircuits\u001B[49m\u001B[43m,\u001B[49m\u001B[43m \u001B[49m\u001B[43mexecution_config\u001B[49m\u001B[43m)\u001B[49m\n\u001B[0;32m     31\u001B[0m     \u001B[38;5;28;01mif\u001B[39;00m \u001B[38;5;28misinstance\u001B[39m(circuits, QuantumScript):\n\u001B[0;32m     32\u001B[0m         batch \u001B[38;5;241m=\u001B[39m (circuits,)\n",
      "File \u001B[1;32m~\\.conda\\envs\\PHYS4041v2\\lib\\site-packages\\pennylane\\devices\\modifiers\\single_tape_support.py:32\u001B[0m, in \u001B[0;36m_make_execute.<locals>.execute\u001B[1;34m(self, circuits, execution_config)\u001B[0m\n\u001B[0;32m     30\u001B[0m     is_single_circuit \u001B[38;5;241m=\u001B[39m \u001B[38;5;28;01mTrue\u001B[39;00m\n\u001B[0;32m     31\u001B[0m     circuits \u001B[38;5;241m=\u001B[39m (circuits,)\n\u001B[1;32m---> 32\u001B[0m results \u001B[38;5;241m=\u001B[39m \u001B[43mbatch_execute\u001B[49m\u001B[43m(\u001B[49m\u001B[38;5;28;43mself\u001B[39;49m\u001B[43m,\u001B[49m\u001B[43m \u001B[49m\u001B[43mcircuits\u001B[49m\u001B[43m,\u001B[49m\u001B[43m \u001B[49m\u001B[43mexecution_config\u001B[49m\u001B[43m)\u001B[49m\n\u001B[0;32m     33\u001B[0m \u001B[38;5;28;01mreturn\u001B[39;00m results[\u001B[38;5;241m0\u001B[39m] \u001B[38;5;28;01mif\u001B[39;00m is_single_circuit \u001B[38;5;28;01melse\u001B[39;00m results\n",
      "File \u001B[1;32m~\\.conda\\envs\\PHYS4041v2\\lib\\site-packages\\pennylane\\logging\\decorators.py:61\u001B[0m, in \u001B[0;36mlog_string_debug_func.<locals>.wrapper_entry\u001B[1;34m(*args, **kwargs)\u001B[0m\n\u001B[0;32m     54\u001B[0m     s_caller \u001B[38;5;241m=\u001B[39m \u001B[38;5;124m\"\u001B[39m\u001B[38;5;124m::L\u001B[39m\u001B[38;5;124m\"\u001B[39m\u001B[38;5;241m.\u001B[39mjoin(\n\u001B[0;32m     55\u001B[0m         [\u001B[38;5;28mstr\u001B[39m(i) \u001B[38;5;28;01mfor\u001B[39;00m i \u001B[38;5;129;01min\u001B[39;00m inspect\u001B[38;5;241m.\u001B[39mgetouterframes(inspect\u001B[38;5;241m.\u001B[39mcurrentframe(), \u001B[38;5;241m2\u001B[39m)[\u001B[38;5;241m1\u001B[39m][\u001B[38;5;241m1\u001B[39m:\u001B[38;5;241m3\u001B[39m]]\n\u001B[0;32m     56\u001B[0m     )\n\u001B[0;32m     57\u001B[0m     lgr\u001B[38;5;241m.\u001B[39mdebug(\n\u001B[0;32m     58\u001B[0m         \u001B[38;5;124mf\u001B[39m\u001B[38;5;124m\"\u001B[39m\u001B[38;5;124mCalling \u001B[39m\u001B[38;5;132;01m{\u001B[39;00mf_string\u001B[38;5;132;01m}\u001B[39;00m\u001B[38;5;124m from \u001B[39m\u001B[38;5;132;01m{\u001B[39;00ms_caller\u001B[38;5;132;01m}\u001B[39;00m\u001B[38;5;124m\"\u001B[39m,\n\u001B[0;32m     59\u001B[0m         \u001B[38;5;241m*\u001B[39m\u001B[38;5;241m*\u001B[39m_debug_log_kwargs,\n\u001B[0;32m     60\u001B[0m     )\n\u001B[1;32m---> 61\u001B[0m \u001B[38;5;28;01mreturn\u001B[39;00m func(\u001B[38;5;241m*\u001B[39margs, \u001B[38;5;241m*\u001B[39m\u001B[38;5;241m*\u001B[39mkwargs)\n",
      "File \u001B[1;32m~\\.conda\\envs\\PHYS4041v2\\lib\\site-packages\\pennylane\\devices\\default_qubit.py:630\u001B[0m, in \u001B[0;36mDefaultQubit.execute\u001B[1;34m(self, circuits, execution_config)\u001B[0m\n\u001B[0;32m    627\u001B[0m prng_keys \u001B[38;5;241m=\u001B[39m [\u001B[38;5;28mself\u001B[39m\u001B[38;5;241m.\u001B[39mget_prng_keys()[\u001B[38;5;241m0\u001B[39m] \u001B[38;5;28;01mfor\u001B[39;00m _ \u001B[38;5;129;01min\u001B[39;00m \u001B[38;5;28mrange\u001B[39m(\u001B[38;5;28mlen\u001B[39m(circuits))]\n\u001B[0;32m    629\u001B[0m \u001B[38;5;28;01mif\u001B[39;00m max_workers \u001B[38;5;129;01mis\u001B[39;00m \u001B[38;5;28;01mNone\u001B[39;00m:\n\u001B[1;32m--> 630\u001B[0m     \u001B[38;5;28;01mreturn\u001B[39;00m \u001B[38;5;28;43mtuple\u001B[39;49m\u001B[43m(\u001B[49m\n\u001B[0;32m    631\u001B[0m \u001B[43m        \u001B[49m\u001B[43m_simulate_wrapper\u001B[49m\u001B[43m(\u001B[49m\n\u001B[0;32m    632\u001B[0m \u001B[43m            \u001B[49m\u001B[43mc\u001B[49m\u001B[43m,\u001B[49m\n\u001B[0;32m    633\u001B[0m \u001B[43m            \u001B[49m\u001B[43m{\u001B[49m\n\u001B[0;32m    634\u001B[0m \u001B[43m                \u001B[49m\u001B[38;5;124;43m\"\u001B[39;49m\u001B[38;5;124;43mrng\u001B[39;49m\u001B[38;5;124;43m\"\u001B[39;49m\u001B[43m:\u001B[49m\u001B[43m \u001B[49m\u001B[38;5;28;43mself\u001B[39;49m\u001B[38;5;241;43m.\u001B[39;49m\u001B[43m_rng\u001B[49m\u001B[43m,\u001B[49m\n\u001B[0;32m    635\u001B[0m \u001B[43m                \u001B[49m\u001B[38;5;124;43m\"\u001B[39;49m\u001B[38;5;124;43mdebugger\u001B[39;49m\u001B[38;5;124;43m\"\u001B[39;49m\u001B[43m:\u001B[49m\u001B[43m \u001B[49m\u001B[38;5;28;43mself\u001B[39;49m\u001B[38;5;241;43m.\u001B[39;49m\u001B[43m_debugger\u001B[49m\u001B[43m,\u001B[49m\n\u001B[0;32m    636\u001B[0m \u001B[43m                \u001B[49m\u001B[38;5;124;43m\"\u001B[39;49m\u001B[38;5;124;43minterface\u001B[39;49m\u001B[38;5;124;43m\"\u001B[39;49m\u001B[43m:\u001B[49m\u001B[43m \u001B[49m\u001B[43minterface\u001B[49m\u001B[43m,\u001B[49m\n\u001B[0;32m    637\u001B[0m \u001B[43m                \u001B[49m\u001B[38;5;124;43m\"\u001B[39;49m\u001B[38;5;124;43mstate_cache\u001B[39;49m\u001B[38;5;124;43m\"\u001B[39;49m\u001B[43m:\u001B[49m\u001B[43m \u001B[49m\u001B[38;5;28;43mself\u001B[39;49m\u001B[38;5;241;43m.\u001B[39;49m\u001B[43m_state_cache\u001B[49m\u001B[43m,\u001B[49m\n\u001B[0;32m    638\u001B[0m \u001B[43m                \u001B[49m\u001B[38;5;124;43m\"\u001B[39;49m\u001B[38;5;124;43mprng_key\u001B[39;49m\u001B[38;5;124;43m\"\u001B[39;49m\u001B[43m:\u001B[49m\u001B[43m \u001B[49m\u001B[43m_key\u001B[49m\u001B[43m,\u001B[49m\n\u001B[0;32m    639\u001B[0m \u001B[43m                \u001B[49m\u001B[38;5;124;43m\"\u001B[39;49m\u001B[38;5;124;43mmcm_method\u001B[39;49m\u001B[38;5;124;43m\"\u001B[39;49m\u001B[43m:\u001B[49m\u001B[43m \u001B[49m\u001B[43mexecution_config\u001B[49m\u001B[38;5;241;43m.\u001B[39;49m\u001B[43mmcm_config\u001B[49m\u001B[38;5;241;43m.\u001B[39;49m\u001B[43mmcm_method\u001B[49m\u001B[43m,\u001B[49m\n\u001B[0;32m    640\u001B[0m \u001B[43m                \u001B[49m\u001B[38;5;124;43m\"\u001B[39;49m\u001B[38;5;124;43mpostselect_mode\u001B[39;49m\u001B[38;5;124;43m\"\u001B[39;49m\u001B[43m:\u001B[49m\u001B[43m \u001B[49m\u001B[43mexecution_config\u001B[49m\u001B[38;5;241;43m.\u001B[39;49m\u001B[43mmcm_config\u001B[49m\u001B[38;5;241;43m.\u001B[39;49m\u001B[43mpostselect_mode\u001B[49m\u001B[43m,\u001B[49m\n\u001B[0;32m    641\u001B[0m \u001B[43m            \u001B[49m\u001B[43m}\u001B[49m\u001B[43m,\u001B[49m\n\u001B[0;32m    642\u001B[0m \u001B[43m        \u001B[49m\u001B[43m)\u001B[49m\n\u001B[0;32m    643\u001B[0m \u001B[43m        \u001B[49m\u001B[38;5;28;43;01mfor\u001B[39;49;00m\u001B[43m \u001B[49m\u001B[43mc\u001B[49m\u001B[43m,\u001B[49m\u001B[43m \u001B[49m\u001B[43m_key\u001B[49m\u001B[43m \u001B[49m\u001B[38;5;129;43;01min\u001B[39;49;00m\u001B[43m \u001B[49m\u001B[38;5;28;43mzip\u001B[39;49m\u001B[43m(\u001B[49m\u001B[43mcircuits\u001B[49m\u001B[43m,\u001B[49m\u001B[43m \u001B[49m\u001B[43mprng_keys\u001B[49m\u001B[43m)\u001B[49m\n\u001B[0;32m    644\u001B[0m \u001B[43m    \u001B[49m\u001B[43m)\u001B[49m\n\u001B[0;32m    646\u001B[0m vanilla_circuits \u001B[38;5;241m=\u001B[39m convert_to_numpy_parameters(circuits)[\u001B[38;5;241m0\u001B[39m]\n\u001B[0;32m    647\u001B[0m seeds \u001B[38;5;241m=\u001B[39m \u001B[38;5;28mself\u001B[39m\u001B[38;5;241m.\u001B[39m_rng\u001B[38;5;241m.\u001B[39mintegers(\u001B[38;5;241m2\u001B[39m\u001B[38;5;241m*\u001B[39m\u001B[38;5;241m*\u001B[39m\u001B[38;5;241m31\u001B[39m \u001B[38;5;241m-\u001B[39m \u001B[38;5;241m1\u001B[39m, size\u001B[38;5;241m=\u001B[39m\u001B[38;5;28mlen\u001B[39m(vanilla_circuits))\n",
      "File \u001B[1;32m~\\.conda\\envs\\PHYS4041v2\\lib\\site-packages\\pennylane\\devices\\default_qubit.py:631\u001B[0m, in \u001B[0;36m<genexpr>\u001B[1;34m(.0)\u001B[0m\n\u001B[0;32m    627\u001B[0m prng_keys \u001B[38;5;241m=\u001B[39m [\u001B[38;5;28mself\u001B[39m\u001B[38;5;241m.\u001B[39mget_prng_keys()[\u001B[38;5;241m0\u001B[39m] \u001B[38;5;28;01mfor\u001B[39;00m _ \u001B[38;5;129;01min\u001B[39;00m \u001B[38;5;28mrange\u001B[39m(\u001B[38;5;28mlen\u001B[39m(circuits))]\n\u001B[0;32m    629\u001B[0m \u001B[38;5;28;01mif\u001B[39;00m max_workers \u001B[38;5;129;01mis\u001B[39;00m \u001B[38;5;28;01mNone\u001B[39;00m:\n\u001B[0;32m    630\u001B[0m     \u001B[38;5;28;01mreturn\u001B[39;00m \u001B[38;5;28mtuple\u001B[39m(\n\u001B[1;32m--> 631\u001B[0m         \u001B[43m_simulate_wrapper\u001B[49m\u001B[43m(\u001B[49m\n\u001B[0;32m    632\u001B[0m \u001B[43m            \u001B[49m\u001B[43mc\u001B[49m\u001B[43m,\u001B[49m\n\u001B[0;32m    633\u001B[0m \u001B[43m            \u001B[49m\u001B[43m{\u001B[49m\n\u001B[0;32m    634\u001B[0m \u001B[43m                \u001B[49m\u001B[38;5;124;43m\"\u001B[39;49m\u001B[38;5;124;43mrng\u001B[39;49m\u001B[38;5;124;43m\"\u001B[39;49m\u001B[43m:\u001B[49m\u001B[43m \u001B[49m\u001B[38;5;28;43mself\u001B[39;49m\u001B[38;5;241;43m.\u001B[39;49m\u001B[43m_rng\u001B[49m\u001B[43m,\u001B[49m\n\u001B[0;32m    635\u001B[0m \u001B[43m                \u001B[49m\u001B[38;5;124;43m\"\u001B[39;49m\u001B[38;5;124;43mdebugger\u001B[39;49m\u001B[38;5;124;43m\"\u001B[39;49m\u001B[43m:\u001B[49m\u001B[43m \u001B[49m\u001B[38;5;28;43mself\u001B[39;49m\u001B[38;5;241;43m.\u001B[39;49m\u001B[43m_debugger\u001B[49m\u001B[43m,\u001B[49m\n\u001B[0;32m    636\u001B[0m \u001B[43m                \u001B[49m\u001B[38;5;124;43m\"\u001B[39;49m\u001B[38;5;124;43minterface\u001B[39;49m\u001B[38;5;124;43m\"\u001B[39;49m\u001B[43m:\u001B[49m\u001B[43m \u001B[49m\u001B[43minterface\u001B[49m\u001B[43m,\u001B[49m\n\u001B[0;32m    637\u001B[0m \u001B[43m                \u001B[49m\u001B[38;5;124;43m\"\u001B[39;49m\u001B[38;5;124;43mstate_cache\u001B[39;49m\u001B[38;5;124;43m\"\u001B[39;49m\u001B[43m:\u001B[49m\u001B[43m \u001B[49m\u001B[38;5;28;43mself\u001B[39;49m\u001B[38;5;241;43m.\u001B[39;49m\u001B[43m_state_cache\u001B[49m\u001B[43m,\u001B[49m\n\u001B[0;32m    638\u001B[0m \u001B[43m                \u001B[49m\u001B[38;5;124;43m\"\u001B[39;49m\u001B[38;5;124;43mprng_key\u001B[39;49m\u001B[38;5;124;43m\"\u001B[39;49m\u001B[43m:\u001B[49m\u001B[43m \u001B[49m\u001B[43m_key\u001B[49m\u001B[43m,\u001B[49m\n\u001B[0;32m    639\u001B[0m \u001B[43m                \u001B[49m\u001B[38;5;124;43m\"\u001B[39;49m\u001B[38;5;124;43mmcm_method\u001B[39;49m\u001B[38;5;124;43m\"\u001B[39;49m\u001B[43m:\u001B[49m\u001B[43m \u001B[49m\u001B[43mexecution_config\u001B[49m\u001B[38;5;241;43m.\u001B[39;49m\u001B[43mmcm_config\u001B[49m\u001B[38;5;241;43m.\u001B[39;49m\u001B[43mmcm_method\u001B[49m\u001B[43m,\u001B[49m\n\u001B[0;32m    640\u001B[0m \u001B[43m                \u001B[49m\u001B[38;5;124;43m\"\u001B[39;49m\u001B[38;5;124;43mpostselect_mode\u001B[39;49m\u001B[38;5;124;43m\"\u001B[39;49m\u001B[43m:\u001B[49m\u001B[43m \u001B[49m\u001B[43mexecution_config\u001B[49m\u001B[38;5;241;43m.\u001B[39;49m\u001B[43mmcm_config\u001B[49m\u001B[38;5;241;43m.\u001B[39;49m\u001B[43mpostselect_mode\u001B[49m\u001B[43m,\u001B[49m\n\u001B[0;32m    641\u001B[0m \u001B[43m            \u001B[49m\u001B[43m}\u001B[49m\u001B[43m,\u001B[49m\n\u001B[0;32m    642\u001B[0m \u001B[43m        \u001B[49m\u001B[43m)\u001B[49m\n\u001B[0;32m    643\u001B[0m         \u001B[38;5;28;01mfor\u001B[39;00m c, _key \u001B[38;5;129;01min\u001B[39;00m \u001B[38;5;28mzip\u001B[39m(circuits, prng_keys)\n\u001B[0;32m    644\u001B[0m     )\n\u001B[0;32m    646\u001B[0m vanilla_circuits \u001B[38;5;241m=\u001B[39m convert_to_numpy_parameters(circuits)[\u001B[38;5;241m0\u001B[39m]\n\u001B[0;32m    647\u001B[0m seeds \u001B[38;5;241m=\u001B[39m \u001B[38;5;28mself\u001B[39m\u001B[38;5;241m.\u001B[39m_rng\u001B[38;5;241m.\u001B[39mintegers(\u001B[38;5;241m2\u001B[39m\u001B[38;5;241m*\u001B[39m\u001B[38;5;241m*\u001B[39m\u001B[38;5;241m31\u001B[39m \u001B[38;5;241m-\u001B[39m \u001B[38;5;241m1\u001B[39m, size\u001B[38;5;241m=\u001B[39m\u001B[38;5;28mlen\u001B[39m(vanilla_circuits))\n",
      "File \u001B[1;32m~\\.conda\\envs\\PHYS4041v2\\lib\\site-packages\\pennylane\\devices\\default_qubit.py:918\u001B[0m, in \u001B[0;36m_simulate_wrapper\u001B[1;34m(circuit, kwargs)\u001B[0m\n\u001B[0;32m    917\u001B[0m \u001B[38;5;28;01mdef\u001B[39;00m\u001B[38;5;250m \u001B[39m\u001B[38;5;21m_simulate_wrapper\u001B[39m(circuit, kwargs):\n\u001B[1;32m--> 918\u001B[0m     \u001B[38;5;28;01mreturn\u001B[39;00m simulate(circuit, \u001B[38;5;241m*\u001B[39m\u001B[38;5;241m*\u001B[39mkwargs)\n",
      "File \u001B[1;32m~\\.conda\\envs\\PHYS4041v2\\lib\\site-packages\\pennylane\\logging\\decorators.py:61\u001B[0m, in \u001B[0;36mlog_string_debug_func.<locals>.wrapper_entry\u001B[1;34m(*args, **kwargs)\u001B[0m\n\u001B[0;32m     54\u001B[0m     s_caller \u001B[38;5;241m=\u001B[39m \u001B[38;5;124m\"\u001B[39m\u001B[38;5;124m::L\u001B[39m\u001B[38;5;124m\"\u001B[39m\u001B[38;5;241m.\u001B[39mjoin(\n\u001B[0;32m     55\u001B[0m         [\u001B[38;5;28mstr\u001B[39m(i) \u001B[38;5;28;01mfor\u001B[39;00m i \u001B[38;5;129;01min\u001B[39;00m inspect\u001B[38;5;241m.\u001B[39mgetouterframes(inspect\u001B[38;5;241m.\u001B[39mcurrentframe(), \u001B[38;5;241m2\u001B[39m)[\u001B[38;5;241m1\u001B[39m][\u001B[38;5;241m1\u001B[39m:\u001B[38;5;241m3\u001B[39m]]\n\u001B[0;32m     56\u001B[0m     )\n\u001B[0;32m     57\u001B[0m     lgr\u001B[38;5;241m.\u001B[39mdebug(\n\u001B[0;32m     58\u001B[0m         \u001B[38;5;124mf\u001B[39m\u001B[38;5;124m\"\u001B[39m\u001B[38;5;124mCalling \u001B[39m\u001B[38;5;132;01m{\u001B[39;00mf_string\u001B[38;5;132;01m}\u001B[39;00m\u001B[38;5;124m from \u001B[39m\u001B[38;5;132;01m{\u001B[39;00ms_caller\u001B[38;5;132;01m}\u001B[39;00m\u001B[38;5;124m\"\u001B[39m,\n\u001B[0;32m     59\u001B[0m         \u001B[38;5;241m*\u001B[39m\u001B[38;5;241m*\u001B[39m_debug_log_kwargs,\n\u001B[0;32m     60\u001B[0m     )\n\u001B[1;32m---> 61\u001B[0m \u001B[38;5;28;01mreturn\u001B[39;00m func(\u001B[38;5;241m*\u001B[39margs, \u001B[38;5;241m*\u001B[39m\u001B[38;5;241m*\u001B[39mkwargs)\n",
      "File \u001B[1;32m~\\.conda\\envs\\PHYS4041v2\\lib\\site-packages\\pennylane\\devices\\qubit\\simulate.py:357\u001B[0m, in \u001B[0;36msimulate\u001B[1;34m(circuit, debugger, state_cache, **execution_kwargs)\u001B[0m\n\u001B[0;32m    354\u001B[0m     \u001B[38;5;28;01mreturn\u001B[39;00m \u001B[38;5;28mtuple\u001B[39m(results)\n\u001B[0;32m    356\u001B[0m ops_key, meas_key \u001B[38;5;241m=\u001B[39m jax_random_split(prng_key)\n\u001B[1;32m--> 357\u001B[0m state, is_state_batched \u001B[38;5;241m=\u001B[39m get_final_state(\n\u001B[0;32m    358\u001B[0m     circuit, debugger\u001B[38;5;241m=\u001B[39mdebugger, prng_key\u001B[38;5;241m=\u001B[39mops_key, \u001B[38;5;241m*\u001B[39m\u001B[38;5;241m*\u001B[39mexecution_kwargs\n\u001B[0;32m    359\u001B[0m )\n\u001B[0;32m    360\u001B[0m \u001B[38;5;28;01mif\u001B[39;00m state_cache \u001B[38;5;129;01mis\u001B[39;00m \u001B[38;5;129;01mnot\u001B[39;00m \u001B[38;5;28;01mNone\u001B[39;00m:\n\u001B[0;32m    361\u001B[0m     state_cache[circuit\u001B[38;5;241m.\u001B[39mhash] \u001B[38;5;241m=\u001B[39m state\n",
      "File \u001B[1;32m~\\.conda\\envs\\PHYS4041v2\\lib\\site-packages\\pennylane\\logging\\decorators.py:61\u001B[0m, in \u001B[0;36mlog_string_debug_func.<locals>.wrapper_entry\u001B[1;34m(*args, **kwargs)\u001B[0m\n\u001B[0;32m     54\u001B[0m     s_caller \u001B[38;5;241m=\u001B[39m \u001B[38;5;124m\"\u001B[39m\u001B[38;5;124m::L\u001B[39m\u001B[38;5;124m\"\u001B[39m\u001B[38;5;241m.\u001B[39mjoin(\n\u001B[0;32m     55\u001B[0m         [\u001B[38;5;28mstr\u001B[39m(i) \u001B[38;5;28;01mfor\u001B[39;00m i \u001B[38;5;129;01min\u001B[39;00m inspect\u001B[38;5;241m.\u001B[39mgetouterframes(inspect\u001B[38;5;241m.\u001B[39mcurrentframe(), \u001B[38;5;241m2\u001B[39m)[\u001B[38;5;241m1\u001B[39m][\u001B[38;5;241m1\u001B[39m:\u001B[38;5;241m3\u001B[39m]]\n\u001B[0;32m     56\u001B[0m     )\n\u001B[0;32m     57\u001B[0m     lgr\u001B[38;5;241m.\u001B[39mdebug(\n\u001B[0;32m     58\u001B[0m         \u001B[38;5;124mf\u001B[39m\u001B[38;5;124m\"\u001B[39m\u001B[38;5;124mCalling \u001B[39m\u001B[38;5;132;01m{\u001B[39;00mf_string\u001B[38;5;132;01m}\u001B[39;00m\u001B[38;5;124m from \u001B[39m\u001B[38;5;132;01m{\u001B[39;00ms_caller\u001B[38;5;132;01m}\u001B[39;00m\u001B[38;5;124m\"\u001B[39m,\n\u001B[0;32m     59\u001B[0m         \u001B[38;5;241m*\u001B[39m\u001B[38;5;241m*\u001B[39m_debug_log_kwargs,\n\u001B[0;32m     60\u001B[0m     )\n\u001B[1;32m---> 61\u001B[0m \u001B[38;5;28;01mreturn\u001B[39;00m func(\u001B[38;5;241m*\u001B[39margs, \u001B[38;5;241m*\u001B[39m\u001B[38;5;241m*\u001B[39mkwargs)\n",
      "File \u001B[1;32m~\\.conda\\envs\\PHYS4041v2\\lib\\site-packages\\pennylane\\devices\\qubit\\simulate.py:190\u001B[0m, in \u001B[0;36mget_final_state\u001B[1;34m(circuit, debugger, **execution_kwargs)\u001B[0m\n\u001B[0;32m    188\u001B[0m \u001B[38;5;28;01mif\u001B[39;00m \u001B[38;5;28misinstance\u001B[39m(op, MidMeasureMP):\n\u001B[0;32m    189\u001B[0m     prng_key, key \u001B[38;5;241m=\u001B[39m jax_random_split(prng_key)\n\u001B[1;32m--> 190\u001B[0m state \u001B[38;5;241m=\u001B[39m apply_operation(\n\u001B[0;32m    191\u001B[0m     op,\n\u001B[0;32m    192\u001B[0m     state,\n\u001B[0;32m    193\u001B[0m     is_state_batched\u001B[38;5;241m=\u001B[39mis_state_batched,\n\u001B[0;32m    194\u001B[0m     debugger\u001B[38;5;241m=\u001B[39mdebugger,\n\u001B[0;32m    195\u001B[0m     prng_key\u001B[38;5;241m=\u001B[39mkey,\n\u001B[0;32m    196\u001B[0m     tape_shots\u001B[38;5;241m=\u001B[39mcircuit\u001B[38;5;241m.\u001B[39mshots,\n\u001B[0;32m    197\u001B[0m     \u001B[38;5;241m*\u001B[39m\u001B[38;5;241m*\u001B[39mexecution_kwargs,\n\u001B[0;32m    198\u001B[0m )\n\u001B[0;32m    199\u001B[0m \u001B[38;5;66;03m# Handle postselection on mid-circuit measurements\u001B[39;00m\n\u001B[0;32m    200\u001B[0m \u001B[38;5;28;01mif\u001B[39;00m \u001B[38;5;28misinstance\u001B[39m(op, qml\u001B[38;5;241m.\u001B[39mProjector):\n",
      "File \u001B[1;32m~\\.conda\\envs\\PHYS4041v2\\lib\\functools.py:889\u001B[0m, in \u001B[0;36msingledispatch.<locals>.wrapper\u001B[1;34m(*args, **kw)\u001B[0m\n\u001B[0;32m    885\u001B[0m \u001B[38;5;28;01mif\u001B[39;00m \u001B[38;5;129;01mnot\u001B[39;00m args:\n\u001B[0;32m    886\u001B[0m     \u001B[38;5;28;01mraise\u001B[39;00m \u001B[38;5;167;01mTypeError\u001B[39;00m(\u001B[38;5;124mf\u001B[39m\u001B[38;5;124m'\u001B[39m\u001B[38;5;132;01m{\u001B[39;00mfuncname\u001B[38;5;132;01m}\u001B[39;00m\u001B[38;5;124m requires at least \u001B[39m\u001B[38;5;124m'\u001B[39m\n\u001B[0;32m    887\u001B[0m                     \u001B[38;5;124m'\u001B[39m\u001B[38;5;124m1 positional argument\u001B[39m\u001B[38;5;124m'\u001B[39m)\n\u001B[1;32m--> 889\u001B[0m \u001B[38;5;28;01mreturn\u001B[39;00m dispatch(args[\u001B[38;5;241m0\u001B[39m]\u001B[38;5;241m.\u001B[39m\u001B[38;5;18m__class__\u001B[39m)(\u001B[38;5;241m*\u001B[39margs, \u001B[38;5;241m*\u001B[39m\u001B[38;5;241m*\u001B[39mkw)\n",
      "File \u001B[1;32m~\\.conda\\envs\\PHYS4041v2\\lib\\site-packages\\pennylane\\devices\\qubit\\apply_operation.py:231\u001B[0m, in \u001B[0;36mapply_operation\u001B[1;34m(op, state, is_state_batched, debugger, **_)\u001B[0m\n\u001B[0;32m    165\u001B[0m \u001B[38;5;129m@singledispatch\u001B[39m\n\u001B[0;32m    166\u001B[0m \u001B[38;5;28;01mdef\u001B[39;00m\u001B[38;5;250m \u001B[39m\u001B[38;5;21mapply_operation\u001B[39m(\n\u001B[0;32m    167\u001B[0m     op: qml\u001B[38;5;241m.\u001B[39moperation\u001B[38;5;241m.\u001B[39mOperator,\n\u001B[1;32m   (...)\u001B[0m\n\u001B[0;32m    171\u001B[0m     \u001B[38;5;241m*\u001B[39m\u001B[38;5;241m*\u001B[39m_,\n\u001B[0;32m    172\u001B[0m ):\n\u001B[0;32m    173\u001B[0m \u001B[38;5;250m    \u001B[39m\u001B[38;5;124;03m\"\"\"Apply and operator to a given state.\u001B[39;00m\n\u001B[0;32m    174\u001B[0m \n\u001B[0;32m    175\u001B[0m \u001B[38;5;124;03m    Args:\u001B[39;00m\n\u001B[1;32m   (...)\u001B[0m\n\u001B[0;32m    229\u001B[0m \n\u001B[0;32m    230\u001B[0m \u001B[38;5;124;03m    \"\"\"\u001B[39;00m\n\u001B[1;32m--> 231\u001B[0m     \u001B[38;5;28;01mreturn\u001B[39;00m \u001B[43m_apply_operation_default\u001B[49m\u001B[43m(\u001B[49m\u001B[43mop\u001B[49m\u001B[43m,\u001B[49m\u001B[43m \u001B[49m\u001B[43mstate\u001B[49m\u001B[43m,\u001B[49m\u001B[43m \u001B[49m\u001B[43mis_state_batched\u001B[49m\u001B[43m,\u001B[49m\u001B[43m \u001B[49m\u001B[43mdebugger\u001B[49m\u001B[43m)\u001B[49m\n",
      "File \u001B[1;32m~\\.conda\\envs\\PHYS4041v2\\lib\\site-packages\\pennylane\\devices\\qubit\\apply_operation.py:241\u001B[0m, in \u001B[0;36m_apply_operation_default\u001B[1;34m(op, state, is_state_batched, debugger)\u001B[0m\n\u001B[0;32m    235\u001B[0m \u001B[38;5;250m\u001B[39m\u001B[38;5;124;03m\"\"\"The default behaviour of apply_operation, accessed through the standard dispatch\u001B[39;00m\n\u001B[0;32m    236\u001B[0m \u001B[38;5;124;03mof apply_operation, as well as conditionally in other dispatches.\"\"\"\u001B[39;00m\n\u001B[0;32m    237\u001B[0m \u001B[38;5;28;01mif\u001B[39;00m (\n\u001B[0;32m    238\u001B[0m     \u001B[38;5;28mlen\u001B[39m(op\u001B[38;5;241m.\u001B[39mwires) \u001B[38;5;241m<\u001B[39m EINSUM_OP_WIRECOUNT_PERF_THRESHOLD\n\u001B[0;32m    239\u001B[0m     \u001B[38;5;129;01mand\u001B[39;00m math\u001B[38;5;241m.\u001B[39mndim(state) \u001B[38;5;241m<\u001B[39m EINSUM_STATE_WIRECOUNT_PERF_THRESHOLD\n\u001B[0;32m    240\u001B[0m ) \u001B[38;5;129;01mor\u001B[39;00m (op\u001B[38;5;241m.\u001B[39mbatch_size \u001B[38;5;129;01mand\u001B[39;00m is_state_batched):\n\u001B[1;32m--> 241\u001B[0m     \u001B[38;5;28;01mreturn\u001B[39;00m \u001B[43mapply_operation_einsum\u001B[49m\u001B[43m(\u001B[49m\u001B[43mop\u001B[49m\u001B[43m,\u001B[49m\u001B[43m \u001B[49m\u001B[43mstate\u001B[49m\u001B[43m,\u001B[49m\u001B[43m \u001B[49m\u001B[43mis_state_batched\u001B[49m\u001B[38;5;241;43m=\u001B[39;49m\u001B[43mis_state_batched\u001B[49m\u001B[43m)\u001B[49m\n\u001B[0;32m    242\u001B[0m \u001B[38;5;28;01mreturn\u001B[39;00m apply_operation_tensordot(op, state, is_state_batched\u001B[38;5;241m=\u001B[39mis_state_batched)\n",
      "File \u001B[1;32m~\\.conda\\envs\\PHYS4041v2\\lib\\site-packages\\pennylane\\devices\\qubit\\apply_operation.py:108\u001B[0m, in \u001B[0;36mapply_operation_einsum\u001B[1;34m(op, state, is_state_batched)\u001B[0m\n\u001B[0;32m    105\u001B[0m         op\u001B[38;5;241m.\u001B[39m_batch_size \u001B[38;5;241m=\u001B[39m batch_size  \u001B[38;5;66;03m# pylint:disable=protected-access\u001B[39;00m\n\u001B[0;32m    106\u001B[0m reshaped_mat \u001B[38;5;241m=\u001B[39m math\u001B[38;5;241m.\u001B[39mreshape(mat, new_mat_shape)\n\u001B[1;32m--> 108\u001B[0m \u001B[38;5;28;01mreturn\u001B[39;00m \u001B[43mmath\u001B[49m\u001B[38;5;241;43m.\u001B[39;49m\u001B[43meinsum\u001B[49m\u001B[43m(\u001B[49m\u001B[43meinsum_indices\u001B[49m\u001B[43m,\u001B[49m\u001B[43m \u001B[49m\u001B[43mreshaped_mat\u001B[49m\u001B[43m,\u001B[49m\u001B[43m \u001B[49m\u001B[43mstate\u001B[49m\u001B[43m)\u001B[49m\n",
      "File \u001B[1;32m~\\.conda\\envs\\PHYS4041v2\\lib\\site-packages\\pennylane\\math\\multi_dispatch.py:558\u001B[0m, in \u001B[0;36meinsum\u001B[1;34m(indices, like, optimize, *operands)\u001B[0m\n\u001B[0;32m    555\u001B[0m operands \u001B[38;5;241m=\u001B[39m np\u001B[38;5;241m.\u001B[39mcoerce(operands, like\u001B[38;5;241m=\u001B[39mlike)\n\u001B[0;32m    556\u001B[0m \u001B[38;5;28;01mif\u001B[39;00m optimize \u001B[38;5;129;01mis\u001B[39;00m \u001B[38;5;28;01mNone\u001B[39;00m \u001B[38;5;129;01mor\u001B[39;00m like \u001B[38;5;241m==\u001B[39m \u001B[38;5;124m\"\u001B[39m\u001B[38;5;124mtorch\u001B[39m\u001B[38;5;124m\"\u001B[39m:\n\u001B[0;32m    557\u001B[0m     \u001B[38;5;66;03m# torch einsum doesn't support the optimize keyword argument\u001B[39;00m\n\u001B[1;32m--> 558\u001B[0m     \u001B[38;5;28;01mreturn\u001B[39;00m \u001B[43mnp\u001B[49m\u001B[38;5;241;43m.\u001B[39;49m\u001B[43meinsum\u001B[49m\u001B[43m(\u001B[49m\u001B[43mindices\u001B[49m\u001B[43m,\u001B[49m\u001B[43m \u001B[49m\u001B[38;5;241;43m*\u001B[39;49m\u001B[43moperands\u001B[49m\u001B[43m,\u001B[49m\u001B[43m \u001B[49m\u001B[43mlike\u001B[49m\u001B[38;5;241;43m=\u001B[39;49m\u001B[43mlike\u001B[49m\u001B[43m)\u001B[49m\n\u001B[0;32m    559\u001B[0m \u001B[38;5;28;01mif\u001B[39;00m like \u001B[38;5;241m==\u001B[39m \u001B[38;5;124m\"\u001B[39m\u001B[38;5;124mtensorflow\u001B[39m\u001B[38;5;124m\"\u001B[39m:\n\u001B[0;32m    560\u001B[0m     \u001B[38;5;66;03m# Unpacking and casting necessary for higher order derivatives,\u001B[39;00m\n\u001B[0;32m    561\u001B[0m     \u001B[38;5;66;03m# and avoiding implicit fp32 down-conversions.\u001B[39;00m\n\u001B[0;32m    562\u001B[0m     op1, op2 \u001B[38;5;241m=\u001B[39m operands\n",
      "File \u001B[1;32m~\\.conda\\envs\\PHYS4041v2\\lib\\site-packages\\autoray\\autoray.py:81\u001B[0m, in \u001B[0;36mdo\u001B[1;34m(fn, like, *args, **kwargs)\u001B[0m\n\u001B[0;32m     79\u001B[0m backend \u001B[38;5;241m=\u001B[39m _choose_backend(fn, args, kwargs, like\u001B[38;5;241m=\u001B[39mlike)\n\u001B[0;32m     80\u001B[0m func \u001B[38;5;241m=\u001B[39m get_lib_fn(backend, fn)\n\u001B[1;32m---> 81\u001B[0m \u001B[38;5;28;01mreturn\u001B[39;00m func(\u001B[38;5;241m*\u001B[39margs, \u001B[38;5;241m*\u001B[39m\u001B[38;5;241m*\u001B[39mkwargs)\n",
      "File \u001B[1;32m~\\.conda\\envs\\PHYS4041v2\\lib\\site-packages\\torch\\functional.py:407\u001B[0m, in \u001B[0;36meinsum\u001B[1;34m(*args)\u001B[0m\n\u001B[0;32m    402\u001B[0m     \u001B[38;5;28;01mreturn\u001B[39;00m einsum(equation, \u001B[38;5;241m*\u001B[39m_operands)\n\u001B[0;32m    404\u001B[0m \u001B[38;5;28;01mif\u001B[39;00m \u001B[38;5;28mlen\u001B[39m(operands) \u001B[38;5;241m<\u001B[39m\u001B[38;5;241m=\u001B[39m \u001B[38;5;241m2\u001B[39m \u001B[38;5;129;01mor\u001B[39;00m \u001B[38;5;129;01mnot\u001B[39;00m opt_einsum\u001B[38;5;241m.\u001B[39menabled:\n\u001B[0;32m    405\u001B[0m     \u001B[38;5;66;03m# the path for contracting 0 or 1 time(s) is already optimized\u001B[39;00m\n\u001B[0;32m    406\u001B[0m     \u001B[38;5;66;03m# or the user has disabled using opt_einsum\u001B[39;00m\n\u001B[1;32m--> 407\u001B[0m     \u001B[38;5;28;01mreturn\u001B[39;00m \u001B[43m_VF\u001B[49m\u001B[38;5;241;43m.\u001B[39;49m\u001B[43meinsum\u001B[49m\u001B[43m(\u001B[49m\u001B[43mequation\u001B[49m\u001B[43m,\u001B[49m\u001B[43m \u001B[49m\u001B[43moperands\u001B[49m\u001B[43m)\u001B[49m  \u001B[38;5;66;03m# type: ignore[attr-defined]\u001B[39;00m\n\u001B[0;32m    409\u001B[0m path \u001B[38;5;241m=\u001B[39m \u001B[38;5;28;01mNone\u001B[39;00m\n\u001B[0;32m    410\u001B[0m \u001B[38;5;28;01mif\u001B[39;00m opt_einsum\u001B[38;5;241m.\u001B[39mis_available():\n",
      "\u001B[1;31mKeyboardInterrupt\u001B[0m: "
     ]
    }
   ],
   "execution_count": 20
  },
  {
   "metadata": {
    "ExecuteTime": {
     "end_time": "2025-03-25T12:27:04.541097Z",
     "start_time": "2025-03-25T12:27:04.509568Z"
    }
   },
   "cell_type": "code",
   "source": "quantum_params[0][0][0, 0]",
   "outputs": [
    {
     "data": {
      "text/plain": [
       "array([3.1203825, 3.6083748, 1.4615623], dtype=float32)"
      ]
     },
     "execution_count": 21,
     "metadata": {},
     "output_type": "execute_result"
    }
   ],
   "execution_count": 21
  },
  {
   "metadata": {
    "ExecuteTime": {
     "end_time": "2025-03-25T12:27:06.508419Z",
     "start_time": "2025-03-25T12:27:06.350868Z"
    }
   },
   "cell_type": "code",
   "source": [
    "# Plot the quantum parameters over time\n",
    "plt.figure(figsize=(10, 5))\n",
    "plt.plot([p[0][0, 0] for p in quantum_params])\n",
    "plt.xlabel(\"Iteration\")\n",
    "plt.ylabel(\"Quantum Parameter\")\n",
    "plt.show()"
   ],
   "outputs": [
    {
     "data": {
      "text/plain": [
       "<Figure size 1000x500 with 1 Axes>"
      ],
      "image/png": "[encoded data removed]"
     },
     "metadata": {},
     "output_type": "display_data"
    }
   ],
   "execution_count": 22
  },
  {
   "metadata": {},
   "cell_type": "markdown",
   "source": "Create and train a 2 layer version of the QNN"
  },
  {
   "metadata": {
    "ExecuteTime": {
     "end_time": "2025-03-25T01:26:33.805877Z",
     "start_time": "2025-03-25T01:26:33.790380Z"
    }
   },
   "cell_type": "code",
   "source": [
    "n_layers = 2\n",
    "\n",
    "@qml.qnode(dev, interface=\"torch\")\n",
    "def qnode2(inputs, weights):\n",
    "\n",
    "    if len(inputs.shape) == 1:\n",
    "        for ii in range(n_qubits):\n",
    "            qml.RY(np.pi * inputs[ii], wires=ii)\n",
    "    else:\n",
    "        for ii in range(n_qubits):\n",
    "            qml.RY(np.pi * inputs[:,ii], wires=ii)\n",
    "\n",
    "    for jj in range(n_layers):\n",
    "        for ii in range(n_qubits-1):\n",
    "            qml.RZ(weights[jj,2*ii,0], wires=0)\n",
    "            qml.RY(weights[jj,2*ii,1], wires=0)\n",
    "            qml.RZ(weights[jj,2*ii,2], wires=0)\n",
    "\n",
    "            qml.RZ(weights[jj,2*ii+1,0], wires=ii+1)\n",
    "            qml.RY(weights[jj,2*ii+1,1], wires=ii+1)\n",
    "            qml.RZ(weights[jj,2*ii+1,2], wires=ii+1)\n",
    "\n",
    "            qml.CNOT(wires=[ii+1,0])\n",
    "            \n",
    "        qml.RZ(weights[jj,2*(n_qubits-1),0], wires=0)\n",
    "        qml.RY(weights[jj,2*(n_qubits-1),1], wires=0)\n",
    "        qml.RZ(weights[jj,2*(n_qubits-1),2], wires=0)\n",
    "\n",
    "    return qml.expval(qml.PauliZ(0))\n",
    "\n",
    "weight_shapes = {\"weights\": (n_layers, 2*(n_qubits-1)+1, 3)}"
   ],
   "outputs": [],
   "execution_count": 86
  },
  {
   "metadata": {
    "ExecuteTime": {
     "end_time": "2025-03-25T01:26:33.846403Z",
     "start_time": "2025-03-25T01:26:33.827332Z"
    }
   },
   "cell_type": "code",
   "source": [
    "class QNN2(nn.Module):\n",
    "    def __init__(self):\n",
    "        super(QNN2, self).__init__()\n",
    "        self.quantum_layer = qml.qnn.TorchLayer(qnode2, weight_shapes)\n",
    "\n",
    "    def forward(self, x):\n",
    "        x = self.quantum_layer(x)\n",
    "        return x"
   ],
   "outputs": [],
   "execution_count": 87
  },
  {
   "metadata": {
    "ExecuteTime": {
     "end_time": "2025-03-25T01:26:33.892282Z",
     "start_time": "2025-03-25T01:26:33.879452Z"
    }
   },
   "cell_type": "code",
   "source": [
    "model2 = QNN2()\n",
    "print(model2)"
   ],
   "outputs": [
    {
     "name": "stdout",
     "output_type": "stream",
     "text": [
      "QNN2(\n",
      "  (quantum_layer): <Quantum Torch Layer: func=qnode2>\n",
      ")\n"
     ]
    }
   ],
   "execution_count": 88
  },
  {
   "metadata": {
    "ExecuteTime": {
     "end_time": "2025-03-25T01:26:33.940053Z",
     "start_time": "2025-03-25T01:26:33.924124Z"
    }
   },
   "cell_type": "code",
   "source": [
    "criterion = nn.HingeEmbeddingLoss()\n",
    "optimizer = optim.Adam(model2.parameters())"
   ],
   "outputs": [],
   "execution_count": 89
  },
  {
   "metadata": {
    "ExecuteTime": {
     "end_time": "2025-03-25T01:27:01.326467Z",
     "start_time": "2025-03-25T01:26:33.967220Z"
    }
   },
   "cell_type": "code",
   "source": [
    "model2_test_accs = []\n",
    "for epoch in range(EPOCHS):\n",
    "    losses = []\n",
    "    model2.train()\n",
    "    for x_batch, y_batch in train_loader:\n",
    "\n",
    "        optimizer.zero_grad()\n",
    "        y_pred = -model2(x_batch)\n",
    "        loss = criterion(y_pred, y_batch)\n",
    "\n",
    "        loss.backward()\n",
    "        optimizer.step()\n",
    "        losses.append(loss.item())\n",
    "\n",
    "    model2.eval()\n",
    "    with torch.no_grad():\n",
    "        train_acc = hinge_accuracy(train_targets, model2(train_data))\n",
    "        test_acc = hinge_accuracy(test_targets, model2(test_data))\n",
    "        model2_test_accs.append(test_acc.item())\n",
    "    print(f\"Epoch {epoch+1}/{EPOCHS}, Train Accuracy: {train_acc.item()}, Test Accuracy: {test_acc.item()}\")"
   ],
   "outputs": [
    {
     "name": "stdout",
     "output_type": "stream",
     "text": [
      "Epoch 1/25, Train Accuracy: 0.20999999344348907, Test Accuracy: 0.22033096849918365\n",
      "Epoch 7/25, Train Accuracy: 0.5099999904632568, Test Accuracy: 0.5163120627403259\n",
      "Epoch 8/25, Train Accuracy: 0.5299999713897705, Test Accuracy: 0.5342789888381958\n",
      "Epoch 9/25, Train Accuracy: 0.550000011920929, Test Accuracy: 0.5418439507484436\n",
      "Epoch 2/25, Train Accuracy: 0.20999999344348907, Test Accuracy: 0.22033096849918365\n",
      "Epoch 3/25, Train Accuracy: 0.23000000417232513, Test Accuracy: 0.22978723049163818\n",
      "Epoch 4/25, Train Accuracy: 0.28999999165534973, Test Accuracy: 0.25153663754463196\n",
      "Epoch 5/25, Train Accuracy: 0.5099999904632568, Test Accuracy: 0.479432612657547\n",
      "Epoch 6/25, Train Accuracy: 0.5099999904632568, Test Accuracy: 0.5035461187362671\n",
      "Epoch 10/25, Train Accuracy: 0.5699999928474426, Test Accuracy: 0.5498818159103394\n",
      "Epoch 11/25, Train Accuracy: 0.5699999928474426, Test Accuracy: 0.5574468374252319\n",
      "Epoch 12/25, Train Accuracy: 0.5799999833106995, Test Accuracy: 0.568794310092926\n",
      "Epoch 13/25, Train Accuracy: 0.6000000238418579, Test Accuracy: 0.5801418423652649\n",
      "Epoch 14/25, Train Accuracy: 0.6000000238418579, Test Accuracy: 0.583451509475708\n",
      "Epoch 15/25, Train Accuracy: 0.5899999737739563, Test Accuracy: 0.5895981192588806\n",
      "Epoch 16/25, Train Accuracy: 0.5899999737739563, Test Accuracy: 0.59527188539505\n",
      "Epoch 17/25, Train Accuracy: 0.5899999737739563, Test Accuracy: 0.603309690952301\n",
      "Epoch 18/25, Train Accuracy: 0.6100000143051147, Test Accuracy: 0.611347496509552\n",
      "Epoch 19/25, Train Accuracy: 0.6100000143051147, Test Accuracy: 0.6208037734031677\n",
      "Epoch 20/25, Train Accuracy: 0.6200000047683716, Test Accuracy: 0.6293144226074219\n",
      "Epoch 21/25, Train Accuracy: 0.6399999856948853, Test Accuracy: 0.6364066004753113\n",
      "Epoch 22/25, Train Accuracy: 0.6499999761581421, Test Accuracy: 0.6486997604370117\n",
      "Epoch 23/25, Train Accuracy: 0.6499999761581421, Test Accuracy: 0.6491726040840149\n",
      "Epoch 24/25, Train Accuracy: 0.6600000262260437, Test Accuracy: 0.651063859462738\n",
      "Epoch 25/25, Train Accuracy: 0.6600000262260437, Test Accuracy: 0.6501182317733765\n"
     ]
    }
   ],
   "execution_count": 90
  },
  {
   "metadata": {},
   "cell_type": "markdown",
   "source": "## Hybrid Model"
  },
  {
   "metadata": {
    "ExecuteTime": {
     "end_time": "2025-03-25T01:27:01.359934Z",
     "start_time": "2025-03-25T01:27:01.346571Z"
    }
   },
   "cell_type": "code",
   "source": [
    "n_layers = 2\n",
    "@qml.qnode(dev, interface=\"torch\")\n",
    "def qnode_h(inputs, weights):\n",
    "\n",
    "    if len(inputs.shape) == 1:\n",
    "        for ii in range(n_qubits):\n",
    "            qml.RY(np.pi * inputs[ii], wires=ii)\n",
    "    else:\n",
    "        for ii in range(n_qubits):\n",
    "            qml.RY(np.pi * inputs[:,ii], wires=ii)\n",
    "\n",
    "    for jj in range(n_layers):\n",
    "        for ii in range(n_qubits-1):\n",
    "            qml.RZ(weights[jj,2*ii,0], wires=0)\n",
    "            qml.RY(weights[jj,2*ii,1], wires=0)\n",
    "            qml.RZ(weights[jj,2*ii,2], wires=0)\n",
    "\n",
    "            qml.RZ(weights[jj,2*ii+1,0], wires=ii+1)\n",
    "            qml.RY(weights[jj,2*ii+1,1], wires=ii+1)\n",
    "            qml.RZ(weights[jj,2*ii+1,2], wires=ii+1)\n",
    "\n",
    "            qml.CNOT(wires=[ii+1,0])\n",
    "\n",
    "        qml.RZ(weights[jj,2*(n_qubits-1),0], wires=0)\n",
    "        qml.RY(weights[jj,2*(n_qubits-1),1], wires=0)\n",
    "        qml.RZ(weights[jj,2*(n_qubits-1),2], wires=0)\n",
    "\n",
    "    return qml.expval(qml.PauliZ(0))\n",
    "\n",
    "weight_shapes = {\"weights\": (n_layers, 2*(n_qubits-1)+1, 3)}"
   ],
   "outputs": [],
   "execution_count": 91
  },
  {
   "metadata": {
    "ExecuteTime": {
     "end_time": "2025-03-25T01:27:01.396626Z",
     "start_time": "2025-03-25T01:27:01.378918Z"
    }
   },
   "cell_type": "code",
   "source": [
    "class QNN_Hybrid(nn.Module):\n",
    "    def __init__(self):\n",
    "        super(QNN_Hybrid, self).__init__()\n",
    "\n",
    "        self.pre_blocks = nn.Sequential(\n",
    "            nn.Linear(9, 18),\n",
    "            nn.ReLU(),\n",
    "            nn.Linear(18, 9),\n",
    "            nn.Sigmoid()\n",
    "        )\n",
    "\n",
    "        self.quantum_layer = qml.qnn.TorchLayer(qnode_h, weight_shapes)\n",
    "\n",
    "        self.post_blocks = nn.Sequential(\n",
    "            nn.Tanh()\n",
    "        )\n",
    "\n",
    "    def forward(self, x):\n",
    "        x = self.pre_blocks(x)\n",
    "        x = self.quantum_layer(x)\n",
    "        x = self.post_blocks(x)\n",
    "        return x"
   ],
   "outputs": [],
   "execution_count": 92
  },
  {
   "metadata": {
    "ExecuteTime": {
     "end_time": "2025-03-25T01:27:01.439277Z",
     "start_time": "2025-03-25T01:27:01.429152Z"
    }
   },
   "cell_type": "code",
   "source": [
    "model_hybrid = QNN_Hybrid()\n",
    "print(model_hybrid)\n",
    "print(f\"Number of parameters: {sum(p.numel() for p in model_hybrid.parameters())}\")"
   ],
   "outputs": [
    {
     "name": "stdout",
     "output_type": "stream",
     "text": [
      "QNN_Hybrid(\n",
      "  (pre_blocks): Sequential(\n",
      "    (0): Linear(in_features=9, out_features=18, bias=True)\n",
      "    (1): ReLU()\n",
      "    (2): Linear(in_features=18, out_features=9, bias=True)\n",
      "    (3): Sigmoid()\n",
      "  )\n",
      "  (quantum_layer): <Quantum Torch Layer: func=qnode_h>\n",
      "  (post_blocks): Sequential(\n",
      "    (0): Tanh()\n",
      "  )\n",
      ")\n",
      "Number of parameters: 453\n"
     ]
    }
   ],
   "execution_count": 93
  },
  {
   "metadata": {
    "ExecuteTime": {
     "end_time": "2025-03-25T01:27:01.486523Z",
     "start_time": "2025-03-25T01:27:01.473091Z"
    }
   },
   "cell_type": "code",
   "source": [
    "criterion = nn.HingeEmbeddingLoss()\n",
    "optimizer = optim.Adam(model_hybrid.parameters())"
   ],
   "outputs": [],
   "execution_count": 94
  },
  {
   "metadata": {
    "ExecuteTime": {
     "end_time": "2025-03-25T01:27:30.189528Z",
     "start_time": "2025-03-25T01:27:01.520927Z"
    }
   },
   "cell_type": "code",
   "source": [
    "model_hybrid_test_accs = []\n",
    "for epoch in range(EPOCHS):\n",
    "    losses = []\n",
    "    model_hybrid.train()\n",
    "    for x_batch, y_batch in train_loader:\n",
    "\n",
    "        optimizer.zero_grad()\n",
    "        y_pred = -model_hybrid(x_batch)\n",
    "        loss = criterion(y_pred, y_batch)\n",
    "\n",
    "        loss.backward()\n",
    "        optimizer.step()\n",
    "        losses.append(loss.item())\n",
    "\n",
    "    model_hybrid.eval()\n",
    "    with torch.no_grad():\n",
    "        train_acc = hinge_accuracy(train_targets, model_hybrid(train_data))\n",
    "        test_acc = hinge_accuracy(test_targets, model_hybrid(test_data))\n",
    "        model_hybrid_test_accs.append(test_acc.item())\n",
    "    print(f\"Epoch {epoch+1}/{EPOCHS}, Train Accuracy: {train_acc.item()}, Test Accuracy: {test_acc.item()}\")"
   ],
   "outputs": [
    {
     "name": "stdout",
     "output_type": "stream",
     "text": [
      "Epoch 1/25, Train Accuracy: 0.4300000071525574, Test Accuracy: 0.46335697174072266\n",
      "Epoch 2/25, Train Accuracy: 0.4300000071525574, Test Accuracy: 0.46335697174072266\n",
      "Epoch 3/25, Train Accuracy: 0.4300000071525574, Test Accuracy: 0.46335697174072266\n",
      "Epoch 4/25, Train Accuracy: 0.4300000071525574, Test Accuracy: 0.46335697174072266\n",
      "Epoch 5/25, Train Accuracy: 0.4300000071525574, Test Accuracy: 0.46335697174072266\n",
      "Epoch 6/25, Train Accuracy: 0.699999988079071, Test Accuracy: 0.7612293362617493\n",
      "Epoch 7/25, Train Accuracy: 0.8299999833106995, Test Accuracy: 0.8893616795539856\n",
      "Epoch 8/25, Train Accuracy: 0.9399999976158142, Test Accuracy: 0.9390071034431458\n",
      "Epoch 9/25, Train Accuracy: 0.9700000286102295, Test Accuracy: 0.9579195976257324\n",
      "Epoch 10/25, Train Accuracy: 0.9300000071525574, Test Accuracy: 0.9697399735450745\n",
      "Epoch 11/25, Train Accuracy: 0.9200000166893005, Test Accuracy: 0.93096923828125\n",
      "Epoch 12/25, Train Accuracy: 0.8999999761581421, Test Accuracy: 0.9130023717880249\n",
      "Epoch 13/25, Train Accuracy: 0.8899999856948853, Test Accuracy: 0.8926714062690735\n",
      "Epoch 14/25, Train Accuracy: 0.8899999856948853, Test Accuracy: 0.8898345232009888\n",
      "Epoch 15/25, Train Accuracy: 0.8700000047683716, Test Accuracy: 0.8713948130607605\n",
      "Epoch 16/25, Train Accuracy: 0.8799999952316284, Test Accuracy: 0.8557919859886169\n",
      "Epoch 17/25, Train Accuracy: 0.8799999952316284, Test Accuracy: 0.8378250598907471\n",
      "Epoch 18/25, Train Accuracy: 0.8799999952316284, Test Accuracy: 0.827895998954773\n",
      "Epoch 19/25, Train Accuracy: 0.8799999952316284, Test Accuracy: 0.8382978439331055\n",
      "Epoch 20/25, Train Accuracy: 0.8899999856948853, Test Accuracy: 0.8425531983375549\n",
      "Epoch 21/25, Train Accuracy: 0.8899999856948853, Test Accuracy: 0.8453900814056396\n",
      "Epoch 22/25, Train Accuracy: 0.8899999856948853, Test Accuracy: 0.845862865447998\n",
      "Epoch 23/25, Train Accuracy: 0.8999999761581421, Test Accuracy: 0.8619385361671448\n",
      "Epoch 24/25, Train Accuracy: 0.8999999761581421, Test Accuracy: 0.8751773238182068\n",
      "Epoch 25/25, Train Accuracy: 0.8999999761581421, Test Accuracy: 0.8794326186180115\n"
     ]
    }
   ],
   "execution_count": 95
  },
  {
   "metadata": {},
   "cell_type": "markdown",
   "source": "## Hybrid Model with Compression"
  },
  {
   "metadata": {
    "ExecuteTime": {
     "end_time": "2025-03-25T01:27:30.220669Z",
     "start_time": "2025-03-25T01:27:30.207258Z"
    }
   },
   "cell_type": "code",
   "source": [
    "n_layers = 2\n",
    "n_qubits = 3\n",
    "@qml.qnode(dev, interface=\"torch\")\n",
    "def qnode_hc(inputs, weights):\n",
    "\n",
    "    if len(inputs.shape) == 1:\n",
    "        for ii in range(n_qubits):\n",
    "            qml.RY(np.pi * inputs[ii], wires=ii)\n",
    "    else:\n",
    "        for ii in range(n_qubits):\n",
    "            qml.RY(np.pi * inputs[:,ii], wires=ii)\n",
    "\n",
    "    for jj in range(n_layers):\n",
    "        for ii in range(n_qubits-1):\n",
    "            qml.RZ(weights[jj,2*ii,0], wires=0)\n",
    "            qml.RY(weights[jj,2*ii,1], wires=0)\n",
    "            qml.RZ(weights[jj,2*ii,2], wires=0)\n",
    "\n",
    "            qml.RZ(weights[jj,2*ii+1,0], wires=ii+1)\n",
    "            qml.RY(weights[jj,2*ii+1,1], wires=ii+1)\n",
    "            qml.RZ(weights[jj,2*ii+1,2], wires=ii+1)\n",
    "\n",
    "            qml.CNOT(wires=[ii+1,0])\n",
    "\n",
    "        qml.RZ(weights[jj,2*(n_qubits-1),0], wires=0)\n",
    "        qml.RY(weights[jj,2*(n_qubits-1),1], wires=0)\n",
    "        qml.RZ(weights[jj,2*(n_qubits-1),2], wires=0)\n",
    "\n",
    "    return qml.expval(qml.PauliZ(0))\n",
    "\n",
    "weight_shapes = {\"weights\": (n_layers, 2*(n_qubits-1)+1, 3)}"
   ],
   "outputs": [],
   "execution_count": 96
  },
  {
   "metadata": {
    "ExecuteTime": {
     "end_time": "2025-03-25T01:27:30.267432Z",
     "start_time": "2025-03-25T01:27:30.254876Z"
    }
   },
   "cell_type": "code",
   "source": [
    "class QNN_Hybrid_Compressed(nn.Module):\n",
    "    def __init__(self):\n",
    "        super(QNN_Hybrid_Compressed, self).__init__()\n",
    "\n",
    "        self.pre_blocks = nn.Sequential(\n",
    "            nn.Linear(9, 32),\n",
    "            nn.ReLU(),\n",
    "            nn.Linear(32, 16),\n",
    "            nn.ReLU(),\n",
    "            nn.Linear(16, 3),\n",
    "            nn.Sigmoid()\n",
    "        )\n",
    "\n",
    "        self.quantum_layer = qml.qnn.TorchLayer(qnode_hc, weight_shapes)\n",
    "\n",
    "        self.post_blocks = nn.Sequential(\n",
    "            nn.Tanh()\n",
    "        )\n",
    "\n",
    "    def forward(self, x):\n",
    "        x = self.pre_blocks(x)\n",
    "        x = self.quantum_layer(x)\n",
    "        x = self.post_blocks(x)\n",
    "        return x"
   ],
   "outputs": [],
   "execution_count": 97
  },
  {
   "metadata": {
    "ExecuteTime": {
     "end_time": "2025-03-25T01:27:30.325014Z",
     "start_time": "2025-03-25T01:27:30.306707Z"
    }
   },
   "cell_type": "code",
   "source": [
    "model_hybrid_compressed = QNN_Hybrid_Compressed()\n",
    "print(model_hybrid_compressed)"
   ],
   "outputs": [
    {
     "name": "stdout",
     "output_type": "stream",
     "text": [
      "QNN_Hybrid_Compressed(\n",
      "  (pre_blocks): Sequential(\n",
      "    (0): Linear(in_features=9, out_features=32, bias=True)\n",
      "    (1): ReLU()\n",
      "    (2): Linear(in_features=32, out_features=16, bias=True)\n",
      "    (3): ReLU()\n",
      "    (4): Linear(in_features=16, out_features=3, bias=True)\n",
      "    (5): Sigmoid()\n",
      "  )\n",
      "  (quantum_layer): <Quantum Torch Layer: func=qnode_hc>\n",
      "  (post_blocks): Sequential(\n",
      "    (0): Tanh()\n",
      "  )\n",
      ")\n"
     ]
    }
   ],
   "execution_count": 98
  },
  {
   "metadata": {
    "ExecuteTime": {
     "end_time": "2025-03-25T01:27:30.372240Z",
     "start_time": "2025-03-25T01:27:30.357456Z"
    }
   },
   "cell_type": "code",
   "source": [
    "criterion = nn.HingeEmbeddingLoss()\n",
    "optimizer = optim.Adam(model_hybrid_compressed.parameters())"
   ],
   "outputs": [],
   "execution_count": 99
  },
  {
   "metadata": {
    "ExecuteTime": {
     "end_time": "2025-03-25T01:27:33.398190Z",
     "start_time": "2025-03-25T01:27:30.390038Z"
    }
   },
   "cell_type": "code",
   "source": [
    "model_hybrid_compressed_test_accs = []\n",
    "for epoch in range(EPOCHS):\n",
    "    losses = []\n",
    "    model_hybrid_compressed.train()\n",
    "    for x_batch, y_batch in train_loader:\n",
    "\n",
    "        optimizer.zero_grad()\n",
    "        y_pred = -model_hybrid_compressed(x_batch)\n",
    "        loss = criterion(y_pred, y_batch)\n",
    "\n",
    "        loss.backward()\n",
    "        optimizer.step()\n",
    "        losses.append(loss.item())\n",
    "\n",
    "    model_hybrid_compressed.eval()\n",
    "    with torch.no_grad():\n",
    "        train_acc = hinge_accuracy(train_targets, model_hybrid_compressed(train_data))\n",
    "        test_acc = hinge_accuracy(test_targets, model_hybrid_compressed(test_data))\n",
    "        model_hybrid_compressed_test_accs.append(test_acc.item())\n",
    "    print(f\"Epoch {epoch+1}/{EPOCHS}, Train Accuracy: {train_acc.item()}, Test Accuracy: {test_acc.item()}\")"
   ],
   "outputs": [
    {
     "name": "stdout",
     "output_type": "stream",
     "text": [
      "Epoch 1/25, Train Accuracy: 0.5699999928474426, Test Accuracy: 0.5366430282592773\n",
      "Epoch 2/25, Train Accuracy: 0.5699999928474426, Test Accuracy: 0.5366430282592773\n",
      "Epoch 3/25, Train Accuracy: 0.5699999928474426, Test Accuracy: 0.5366430282592773\n",
      "Epoch 4/25, Train Accuracy: 0.5699999928474426, Test Accuracy: 0.5366430282592773\n",
      "Epoch 5/25, Train Accuracy: 0.5699999928474426, Test Accuracy: 0.5366430282592773\n",
      "Epoch 6/25, Train Accuracy: 0.5699999928474426, Test Accuracy: 0.5366430282592773\n",
      "Epoch 7/25, Train Accuracy: 0.5699999928474426, Test Accuracy: 0.5366430282592773\n",
      "Epoch 8/25, Train Accuracy: 0.5699999928474426, Test Accuracy: 0.5366430282592773\n",
      "Epoch 9/25, Train Accuracy: 0.5699999928474426, Test Accuracy: 0.5366430282592773\n",
      "Epoch 10/25, Train Accuracy: 0.5699999928474426, Test Accuracy: 0.5366430282592773\n",
      "Epoch 11/25, Train Accuracy: 0.5699999928474426, Test Accuracy: 0.5366430282592773\n",
      "Epoch 12/25, Train Accuracy: 0.5699999928474426, Test Accuracy: 0.5366430282592773\n",
      "Epoch 13/25, Train Accuracy: 0.5699999928474426, Test Accuracy: 0.5366430282592773\n",
      "Epoch 14/25, Train Accuracy: 0.5699999928474426, Test Accuracy: 0.5366430282592773\n",
      "Epoch 15/25, Train Accuracy: 0.5699999928474426, Test Accuracy: 0.5366430282592773\n",
      "Epoch 16/25, Train Accuracy: 0.5699999928474426, Test Accuracy: 0.5366430282592773\n",
      "Epoch 17/25, Train Accuracy: 0.5699999928474426, Test Accuracy: 0.5366430282592773\n",
      "Epoch 18/25, Train Accuracy: 0.5699999928474426, Test Accuracy: 0.5366430282592773\n",
      "Epoch 19/25, Train Accuracy: 0.5699999928474426, Test Accuracy: 0.5366430282592773\n",
      "Epoch 20/25, Train Accuracy: 0.5699999928474426, Test Accuracy: 0.5366430282592773\n",
      "Epoch 21/25, Train Accuracy: 0.5699999928474426, Test Accuracy: 0.5583924055099487\n",
      "Epoch 22/25, Train Accuracy: 0.7300000190734863, Test Accuracy: 0.7101655006408691\n",
      "Epoch 23/25, Train Accuracy: 0.8500000238418579, Test Accuracy: 0.8151299953460693\n",
      "Epoch 24/25, Train Accuracy: 0.8999999761581421, Test Accuracy: 0.9002364277839661\n",
      "Epoch 25/25, Train Accuracy: 0.949999988079071, Test Accuracy: 0.9314420819282532\n"
     ]
    }
   ],
   "execution_count": 100
  },
  {
   "metadata": {},
   "cell_type": "markdown",
   "source": "## Plot the results!"
  },
  {
   "metadata": {
    "ExecuteTime": {
     "end_time": "2025-03-25T01:27:33.608312Z",
     "start_time": "2025-03-25T01:27:33.430493Z"
    }
   },
   "cell_type": "code",
   "source": [
    "# Plot the hinge accuracy for the QNN history for both 1 and 2 layer on the same axes\n",
    "plt.figure(figsize=(10, 5))\n",
    "plt.plot(model_test_accs, label=\"1 Layer\")\n",
    "plt.plot(model2_test_accs, label=\"2 Layers\")\n",
    "plt.plot(model_hybrid_test_accs, label=\"Hybrid\")\n",
    "plt.plot(model_hybrid_compressed_test_accs, label=\"Hybrid Compressed\")\n",
    "plt.xlabel(\"Epoch\")\n",
    "plt.ylabel(\"Hinge Accuracy\")\n",
    "plt.legend()\n",
    "plt.show()\n"
   ],
   "outputs": [
    {
     "data": {
      "text/plain": [
       "<Figure size 1000x500 with 1 Axes>"
      ],
      "image/png": "[encoded data removed]"
     },
     "metadata": {},
     "output_type": "display_data"
    }
   ],
   "execution_count": 101
  },
  {
   "metadata": {
    "ExecuteTime": {
     "end_time": "2025-03-25T01:27:33.635656Z",
     "start_time": "2025-03-25T01:27:33.627399Z"
    }
   },
   "cell_type": "code",
   "source": [
    "# Compare the ratio of test accuracy to number of parameters\n",
    "model_efficiency = model_test_accs[-1] / sum(p.numel() for p in model.parameters())\n",
    "model2_efficiency = model2_test_accs[-1] / sum(p.numel() for p in model2.parameters())\n",
    "model_hybrid_efficiency = model_hybrid_test_accs[-1] / sum(p.numel() for p in model_hybrid.parameters())\n",
    "model_hybrid_compressed_efficiency = model_hybrid_compressed_test_accs[-1] / sum(p.numel() for p in model_hybrid_compressed.parameters())"
   ],
   "outputs": [],
   "execution_count": 102
  },
  {
   "metadata": {
    "ExecuteTime": {
     "end_time": "2025-03-25T01:27:33.794180Z",
     "start_time": "2025-03-25T01:27:33.667559Z"
    }
   },
   "cell_type": "code",
   "source": [
    "# Plot the efficiency of the models\n",
    "plt.figure(figsize=(10, 5))\n",
    "plt.bar([\"1 Layer\", \"2 Layers\", \"Hybrid\", \"Hybrid Compressed\"], [model_efficiency, model2_efficiency, model_hybrid_efficiency, model_hybrid_compressed_efficiency])\n",
    "plt.ylabel(\"Hinge Accuracy / Number of Parameters\")\n",
    "plt.show()"
   ],
   "outputs": [
    {
     "data": {
      "text/plain": [
       "<Figure size 1000x500 with 1 Axes>"
      ],
      "image/png": "[encoded data removed]"
     },
     "metadata": {},
     "output_type": "display_data"
    }
   ],
   "execution_count": 103
  },
  {
   "metadata": {},
   "cell_type": "code",
   "outputs": [],
   "execution_count": null,
   "source": ""
  }
 ],
 "metadata": {
  "kernelspec": {
   "display_name": "phys4041",
   "language": "python",
   "name": "python3"
  },
  "language_info": {
   "codemirror_mode": {
    "name": "ipython",
    "version": 3
   },
   "file_extension": ".py",
   "mimetype": "text/x-python",
   "name": "python",
   "nbconvert_exporter": "python",
   "pygments_lexer": "ipython3",
   "version": "3.10.16"
  },
  "orig_nbformat": 4
 },
 "nbformat": 4,
 "nbformat_minor": 2
}
