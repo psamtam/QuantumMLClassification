{
 "cells": [
  {
   "cell_type": "markdown",
   "metadata": {},
   "source": [
    "## Classifying between 0, 1, 2, 3, 4, 5, 6\n",
    "## Using amplitude encoding (9x9)"
   ]
  },
  {
   "cell_type": "code",
   "execution_count": 1,
   "metadata": {},
   "outputs": [],
   "source": [
    "import pennylane as qml\n",
    "import tensorflow as tf\n",
    "#import sklearn.datasets\n",
    "#from sklearn.datasets import fetch_openml\n",
    "\n",
    "import numpy as np\n",
    "\n",
    "from matplotlib import pyplot as plt\n",
    "\n",
    "tf.keras.backend.set_floatx('float64')\n",
    "\n",
    "from silence_tensorflow import silence_tensorflow\n",
    "silence_tensorflow()  # this stops tensorflow complaining about converting from complex to float!\n",
    "\n",
    "from datetime import datetime"
   ]
  },
  {
   "attachments": {},
   "cell_type": "markdown",
   "metadata": {},
   "source": [
    "## Load and reduce the data\n",
    "\n",
    "Load the MNIST data and check number of training and test examples"
   ]
  },
  {
   "cell_type": "code",
   "execution_count": 2,
   "metadata": {},
   "outputs": [
    {
     "name": "stdout",
     "output_type": "stream",
     "text": [
      "Number of original training examples: 60000\n",
      "Number of original test examples: 10000\n"
     ]
    }
   ],
   "source": [
    "(x_train, y_train), (x_test, y_test) = tf.keras.datasets.mnist.load_data()\n",
    "\n",
    "# Rescale the images from [0,255] to the [0.0,1.0] range.\n",
    "x_train, x_test = x_train[..., np.newaxis]/255.0, x_test[..., np.newaxis]/255.0  # add colour dimension\n",
    "\n",
    "print(\"Number of original training examples:\", len(x_train))\n",
    "print(\"Number of original test examples:\", len(x_test))"
   ]
  },
  {
   "attachments": {},
   "cell_type": "markdown",
   "metadata": {},
   "source": [
    "Create a function to filter out only 0, 1, 2, 3, 4, 5, 6, 7"
   ]
  },
  {
   "cell_type": "code",
   "execution_count": 3,
   "metadata": {},
   "outputs": [],
   "source": [
    "def filter_data(x, y):\n",
    "    keep = (y <= 6)\n",
    "    x, y = x[keep], y[keep]\n",
    "    # y = y == 0\n",
    "    return x,y"
   ]
  },
  {
   "cell_type": "code",
   "execution_count": 4,
   "metadata": {},
   "outputs": [
    {
     "name": "stdout",
     "output_type": "stream",
     "text": [
      "Number of filtered training examples: 41935\n",
      "Number of filtered test examples: 6989\n"
     ]
    }
   ],
   "source": [
    "x_train, y_train = filter_data(x_train, y_train)\n",
    "x_test, y_test = filter_data(x_test, y_test)\n",
    "\n",
    "print(\"Number of filtered training examples:\", len(x_train))\n",
    "print(\"Number of filtered test examples:\", len(x_test))"
   ]
  },
  {
   "cell_type": "code",
   "execution_count": 5,
   "metadata": {},
   "outputs": [
    {
     "name": "stdout",
     "output_type": "stream",
     "text": [
      "Number of classes: 7\n"
     ]
    }
   ],
   "source": [
    "# Get number of classes (assuming y_train contains all possible classes)\n",
    "num_classes = len(np.unique(y_train))\n",
    "print(f\"Number of classes: {num_classes}\")\n",
    "\n",
    "# Convert to one-hot\n",
    "y_train_onehot = tf.keras.utils.to_categorical(y_train, num_classes)\n",
    "y_test_onehot = tf.keras.utils.to_categorical(y_test, num_classes)"
   ]
  },
  {
   "attachments": {},
   "cell_type": "markdown",
   "metadata": {},
   "source": [
    "Plot the original images"
   ]
  },
  {
   "cell_type": "code",
   "execution_count": 6,
   "metadata": {},
   "outputs": [],
   "source": [
    "i = 0"
   ]
  },
  {
   "cell_type": "code",
   "execution_count": 7,
   "metadata": {},
   "outputs": [
    {
     "data": {
      "image/png": "[encoded data removed]",
      "text/plain": [
       "<Figure size 640x480 with 1 Axes>"
      ]
     },
     "metadata": {},
     "output_type": "display_data"
    }
   ],
   "source": [
    "i += 1\n",
    "plt.imshow(x_train[i, :, :, 0], cmap='Greys')\n",
    "ax = plt.gca()\n",
    "ax.set_xticks([])\n",
    "ax.set_yticks([])\n",
    "plt.title(f\"28x28 image of a {y_train[i]}\", fontsize=20)\n",
    "# save to file as pdf\n",
    "plt.show()"
   ]
  },
  {
   "attachments": {},
   "cell_type": "markdown",
   "metadata": {},
   "source": [
    "Reduce images to 9x9"
   ]
  },
  {
   "cell_type": "code",
   "execution_count": 8,
   "metadata": {},
   "outputs": [
    {
     "name": "stdout",
     "output_type": "stream",
     "text": [
      "(41935, 9, 9, 1)\n"
     ]
    }
   ],
   "source": [
    "x_train_small = tf.image.resize(x_train, (9,9)).numpy()\n",
    "x_test_small = tf.image.resize(x_test, (9,9)).numpy()\n",
    "\n",
    "print(x_train_small.shape)"
   ]
  },
  {
   "cell_type": "code",
   "execution_count": 9,
   "metadata": {},
   "outputs": [
    {
     "data": {
      "image/png": "[encoded data removed]",
      "text/plain": [
       "<Figure size 640x480 with 1 Axes>"
      ]
     },
     "metadata": {},
     "output_type": "display_data"
    }
   ],
   "source": [
    "plt.imshow(x_train_small[i,:,:,0], vmin=0, vmax=1, cmap='Greys')\n",
    "ax = plt.gca()\n",
    "ax.set_xticks([])\n",
    "ax.set_yticks([])\n",
    "plt.title(f\"9x9 image of a {y_train[i]}\", fontsize=20)\n",
    "# save to file as pdf\n",
    "plt.savefig('9x9_MNIST_0.pdf', bbox_inches='tight', pad_inches=0)\n",
    "plt.show()"
   ]
  },
  {
   "attachments": {},
   "cell_type": "markdown",
   "metadata": {},
   "source": [
    "Flatten the images to [81]"
   ]
  },
  {
   "cell_type": "code",
   "execution_count": 10,
   "metadata": {},
   "outputs": [
    {
     "data": {
      "text/plain": [
       "((41935, 81), (6989, 81))"
      ]
     },
     "execution_count": 10,
     "metadata": {},
     "output_type": "execute_result"
    }
   ],
   "source": [
    "x_train_flatten = x_train_small.reshape(x_train_small.shape[0], x_train_small.shape[1] * x_train_small.shape[2])\n",
    "x_test_flatten = x_test_small.reshape(x_test_small.shape[0], x_test_small.shape[1] * x_test_small.shape[2])\n",
    "x_train_flatten.shape, x_test_flatten.shape"
   ]
  },
  {
   "attachments": {},
   "cell_type": "markdown",
   "metadata": {},
   "source": [
    "## Set up the Quantum Neural Network\n",
    "\n",
    "Create quantum circuit using pennylane qnode, then conver this to a Keras layer to make a Keras model"
   ]
  },
  {
   "cell_type": "code",
   "execution_count": 11,
   "metadata": {},
   "outputs": [],
   "source": [
    "def build_qnn_model(num_of_layers):\n",
    "    print(f\"{80*'*'}\")\n",
    "    print(f\"Building QNN model with {num_of_layers} layer(s)\")\n",
    "    print(f\"{80*'*'}\")\n",
    "    print()\n",
    "    \n",
    "    # ensuring the number of qubits is at least as large as the number of classes\n",
    "    n_qubits = max(int(np.ceil(np.log2(x_train_flatten.shape[-1]))), num_classes)\n",
    "    n_layers = num_of_layers\n",
    "    print(f\"Using {n_qubits} qubits\")\n",
    "\n",
    "    dev = qml.device(\"default.qubit\", wires=n_qubits)\n",
    "\n",
    "    @qml.qnode(dev, interface=\"tf\")\n",
    "    def qnode(inputs, weights):\n",
    "\n",
    "        embedding_qubits = min(n_qubits, int(np.ceil(np.log2(x_train_flatten.shape[-1]))))\n",
    "        qml.AmplitudeEmbedding(features=inputs, wires=range(embedding_qubits), pad_with=0., normalize=True)\n",
    "\n",
    "        for jj in range(n_layers):\n",
    "            for ii in range(n_qubits-1):\n",
    "                qml.RZ(weights[jj,2*ii,0], wires=0)\n",
    "                qml.RY(weights[jj,2*ii,1], wires=0)\n",
    "                qml.RZ(weights[jj,2*ii,2], wires=0)\n",
    "\n",
    "                qml.RZ(weights[jj,2*ii+1,0], wires=ii+1)\n",
    "                qml.RY(weights[jj,2*ii+1,1], wires=ii+1)\n",
    "                qml.RZ(weights[jj,2*ii+1,2], wires=ii+1)\n",
    "\n",
    "                #qml.U3(*list(weights[jj,2*ii,:]), wires=0)\n",
    "                #qml.U3(*list(weights[jj,2*ii+1,:]), wires=ii+1)\n",
    "                qml.CNOT(wires=[ii+1,0])\n",
    "                \n",
    "            qml.RZ(weights[jj,2*(n_qubits-1),0], wires=0)\n",
    "            qml.RY(weights[jj,2*(n_qubits-1),1], wires=0)\n",
    "            qml.RZ(weights[jj,2*(n_qubits-1),2], wires=0)\n",
    "\n",
    "        return [qml.expval(qml.PauliZ(i)) for i in range(num_classes)]\n",
    "\n",
    "    weight_shapes = {\"weights\": (n_layers, 2*(n_qubits-1)+1, 3) }\n",
    "\n",
    "    qlayer = qml.qnn.KerasLayer(qnode, weight_shapes, output_dim=num_classes, name=\"quantumLayer\")\n",
    "    inputs = tf.keras.Input(shape=(x_train_flatten.shape[-1],), name=\"inputs\")\n",
    "    quantum_outputs = qlayer(inputs)\n",
    "    outputs = tf.keras.layers.Lambda(lambda x: tf.nn.softmax(x), name=\"softmax\")(quantum_outputs)\n",
    "    model = tf.keras.Model(inputs=inputs, outputs=outputs, name=\"QNN\")\n",
    "    \n",
    "    model.compile(\n",
    "        loss=tf.keras.losses.CategoricalCrossentropy(),\n",
    "        optimizer=tf.keras.optimizers.Adam(learning_rate=0.005),\n",
    "        metrics=[tf.keras.metrics.CategoricalAccuracy(name=\"accuracy\")]\n",
    "    )\n",
    "    \n",
    "    print(model.summary())\n",
    "\n",
    "    EPOCHS = 20\n",
    "    BATCH_SIZE = 64\n",
    "\n",
    "    NUM_EXAMPLES = 3500 \n",
    "    print(f\"x shape = {x_train_flatten.shape}\")\n",
    "\n",
    "    x_train_sub = x_train_flatten[:NUM_EXAMPLES]\n",
    "    y_train_sub = y_train_onehot[:NUM_EXAMPLES]\n",
    "\n",
    "    print(f\"x train shape = {x_train_sub.shape}\")\n",
    "\n",
    "    x_test_sub = x_test_flatten[:,:]\n",
    "    y_test_sub = y_test_onehot[:]\n",
    "\n",
    "    print(f\"x test shape = {x_test_sub.shape}\")\n",
    "\n",
    "    start_time = datetime.now()\n",
    "\n",
    "    qnn_history = model.fit(\n",
    "        x_train_sub, y_train_sub,\n",
    "        batch_size=BATCH_SIZE,\n",
    "        epochs=EPOCHS,\n",
    "        verbose=1,\n",
    "        validation_data=(x_test_sub, y_test_sub)\n",
    "    )\n",
    "\n",
    "    model_training_time = datetime.now() - start_time\n",
    "\n",
    "    qnn_results = model.evaluate(x_test_sub, y_test_sub)\n",
    "    print(f\"\\nTest loss: {qnn_results[0]:.4f}, Test accuracy: {qnn_results[1]:.4f}\\n\")\n",
    "\n",
    "    print()\n",
    "\n",
    "    return qnn_history, model_training_time, qnn_results"
   ]
  },
  {
   "cell_type": "code",
   "execution_count": 12,
   "metadata": {},
   "outputs": [
    {
     "name": "stdout",
     "output_type": "stream",
     "text": [
      "********************************************************************************\n",
      "Building QNN model with 2 layer(s)\n",
      "********************************************************************************\n",
      "\n",
      "Using 7 qubits\n",
      "Model: \"QNN\"\n",
      "_________________________________________________________________\n",
      " Layer (type)                Output Shape              Param #   \n",
      "=================================================================\n",
      " inputs (InputLayer)         [(None, 81)]              0         \n",
      "                                                                 \n",
      " quantumLayer (KerasLayer)   (None, 7)                 78        \n",
      "                                                                 \n",
      " softmax (Lambda)            (None, 7)                 0         \n",
      "                                                                 \n",
      "=================================================================\n",
      "Total params: 78 (624.00 Byte)\n",
      "Trainable params: 78 (624.00 Byte)\n",
      "Non-trainable params: 0 (0.00 Byte)\n",
      "_________________________________________________________________\n",
      "None\n",
      "x shape = (41935, 81)\n",
      "x train shape = (3500, 81)\n",
      "x test shape = (6989, 81)\n",
      "Epoch 1/20\n",
      "55/55 [==============================] - 42s 776ms/step - loss: 1.9706 - accuracy: 0.1963 - val_loss: 1.9485 - val_accuracy: 0.2153\n",
      "Epoch 2/20\n",
      "55/55 [==============================] - 41s 756ms/step - loss: 1.9338 - accuracy: 0.2246 - val_loss: 1.9229 - val_accuracy: 0.2278\n",
      "Epoch 3/20\n",
      "55/55 [==============================] - 41s 761ms/step - loss: 1.9061 - accuracy: 0.2623 - val_loss: 1.8940 - val_accuracy: 0.2780\n",
      "Epoch 4/20\n",
      "55/55 [==============================] - 41s 760ms/step - loss: 1.8801 - accuracy: 0.3066 - val_loss: 1.8699 - val_accuracy: 0.3229\n",
      "Epoch 5/20\n",
      "55/55 [==============================] - 41s 758ms/step - loss: 1.8580 - accuracy: 0.3403 - val_loss: 1.8503 - val_accuracy: 0.3394\n",
      "Epoch 6/20\n",
      "55/55 [==============================] - 41s 760ms/step - loss: 1.8440 - accuracy: 0.3566 - val_loss: 1.8402 - val_accuracy: 0.3557\n",
      "Epoch 7/20\n",
      "55/55 [==============================] - 41s 759ms/step - loss: 1.8351 - accuracy: 0.3617 - val_loss: 1.8319 - val_accuracy: 0.3568\n",
      "Epoch 8/20\n",
      "55/55 [==============================] - 42s 761ms/step - loss: 1.8282 - accuracy: 0.3583 - val_loss: 1.8250 - val_accuracy: 0.3534\n",
      "Epoch 9/20\n",
      "55/55 [==============================] - 41s 760ms/step - loss: 1.8216 - accuracy: 0.3569 - val_loss: 1.8193 - val_accuracy: 0.3536\n",
      "Epoch 10/20\n",
      "55/55 [==============================] - 41s 760ms/step - loss: 1.8163 - accuracy: 0.3623 - val_loss: 1.8139 - val_accuracy: 0.3687\n",
      "Epoch 11/20\n",
      "55/55 [==============================] - 41s 760ms/step - loss: 1.8118 - accuracy: 0.3700 - val_loss: 1.8102 - val_accuracy: 0.3752\n",
      "Epoch 12/20\n",
      "55/55 [==============================] - 42s 761ms/step - loss: 1.8090 - accuracy: 0.3817 - val_loss: 1.8079 - val_accuracy: 0.3845\n",
      "Epoch 13/20\n",
      "55/55 [==============================] - 42s 761ms/step - loss: 1.8076 - accuracy: 0.3843 - val_loss: 1.8066 - val_accuracy: 0.3847\n",
      "Epoch 14/20\n",
      "55/55 [==============================] - 41s 754ms/step - loss: 1.8069 - accuracy: 0.3811 - val_loss: 1.8062 - val_accuracy: 0.3866\n",
      "Epoch 15/20\n",
      "55/55 [==============================] - 41s 759ms/step - loss: 1.8063 - accuracy: 0.3871 - val_loss: 1.8054 - val_accuracy: 0.3813\n",
      "Epoch 16/20\n",
      "55/55 [==============================] - 41s 756ms/step - loss: 1.8057 - accuracy: 0.3826 - val_loss: 1.8052 - val_accuracy: 0.3855\n",
      "Epoch 17/20\n",
      "55/55 [==============================] - 42s 762ms/step - loss: 1.8054 - accuracy: 0.3860 - val_loss: 1.8049 - val_accuracy: 0.3857\n",
      "Epoch 18/20\n",
      "55/55 [==============================] - 41s 758ms/step - loss: 1.8051 - accuracy: 0.3840 - val_loss: 1.8045 - val_accuracy: 0.3860\n",
      "Epoch 19/20\n",
      "55/55 [==============================] - 41s 757ms/step - loss: 1.8050 - accuracy: 0.3866 - val_loss: 1.8049 - val_accuracy: 0.3888\n",
      "Epoch 20/20\n",
      "55/55 [==============================] - 41s 758ms/step - loss: 1.8048 - accuracy: 0.3849 - val_loss: 1.8043 - val_accuracy: 0.3846\n",
      "219/219 [==============================] - 35s 161ms/step - loss: 1.8043 - accuracy: 0.3846\n",
      "\n",
      "Test loss: 1.8043, Test accuracy: 0.3846\n",
      "\n",
      "\n",
      "********************************************************************************\n",
      "Building QNN model with 3 layer(s)\n",
      "********************************************************************************\n",
      "\n",
      "Using 7 qubits\n",
      "Model: \"QNN\"\n",
      "_________________________________________________________________\n",
      " Layer (type)                Output Shape              Param #   \n",
      "=================================================================\n",
      " inputs (InputLayer)         [(None, 81)]              0         \n",
      "                                                                 \n",
      " quantumLayer (KerasLayer)   (None, 7)                 117       \n",
      "                                                                 \n",
      " softmax (Lambda)            (None, 7)                 0         \n",
      "                                                                 \n",
      "=================================================================\n",
      "Total params: 117 (936.00 Byte)\n",
      "Trainable params: 117 (936.00 Byte)\n",
      "Non-trainable params: 0 (0.00 Byte)\n",
      "_________________________________________________________________\n",
      "None\n",
      "x shape = (41935, 81)\n",
      "x train shape = (3500, 81)\n",
      "x test shape = (6989, 81)\n",
      "Epoch 1/20\n",
      "55/55 [==============================] - 59s 1s/step - loss: 1.9408 - accuracy: 0.2291 - val_loss: 1.9127 - val_accuracy: 0.2617\n",
      "Epoch 2/20\n",
      "55/55 [==============================] - 59s 1s/step - loss: 1.8781 - accuracy: 0.3040 - val_loss: 1.8567 - val_accuracy: 0.3404\n",
      "Epoch 3/20\n",
      "55/55 [==============================] - 59s 1s/step - loss: 1.8384 - accuracy: 0.3889 - val_loss: 1.8280 - val_accuracy: 0.4137\n",
      "Epoch 4/20\n",
      "55/55 [==============================] - 59s 1s/step - loss: 1.8140 - accuracy: 0.4646 - val_loss: 1.8053 - val_accuracy: 0.4921\n",
      "Epoch 5/20\n",
      "55/55 [==============================] - 59s 1s/step - loss: 1.7946 - accuracy: 0.5194 - val_loss: 1.7881 - val_accuracy: 0.5162\n",
      "Epoch 6/20\n",
      "55/55 [==============================] - 60s 1s/step - loss: 1.7827 - accuracy: 0.5380 - val_loss: 1.7800 - val_accuracy: 0.5157\n",
      "Epoch 7/20\n",
      "55/55 [==============================] - 60s 1s/step - loss: 1.7759 - accuracy: 0.5211 - val_loss: 1.7725 - val_accuracy: 0.5111\n",
      "Epoch 8/20\n",
      "55/55 [==============================] - 60s 1s/step - loss: 1.7684 - accuracy: 0.5209 - val_loss: 1.7664 - val_accuracy: 0.5198\n",
      "Epoch 9/20\n",
      "55/55 [==============================] - 60s 1s/step - loss: 1.7627 - accuracy: 0.5329 - val_loss: 1.7633 - val_accuracy: 0.5224\n",
      "Epoch 10/20\n",
      "55/55 [==============================] - 60s 1s/step - loss: 1.7593 - accuracy: 0.5323 - val_loss: 1.7603 - val_accuracy: 0.5277\n",
      "Epoch 11/20\n",
      "55/55 [==============================] - 60s 1s/step - loss: 1.7553 - accuracy: 0.5443 - val_loss: 1.7554 - val_accuracy: 0.5398\n",
      "Epoch 12/20\n",
      "55/55 [==============================] - 60s 1s/step - loss: 1.7502 - accuracy: 0.5474 - val_loss: 1.7496 - val_accuracy: 0.5411\n",
      "Epoch 13/20\n",
      "55/55 [==============================] - 60s 1s/step - loss: 1.7457 - accuracy: 0.5546 - val_loss: 1.7464 - val_accuracy: 0.5490\n",
      "Epoch 14/20\n",
      "55/55 [==============================] - 60s 1s/step - loss: 1.7432 - accuracy: 0.5543 - val_loss: 1.7447 - val_accuracy: 0.5416\n",
      "Epoch 15/20\n",
      "55/55 [==============================] - 60s 1s/step - loss: 1.7417 - accuracy: 0.5391 - val_loss: 1.7437 - val_accuracy: 0.5363\n",
      "Epoch 16/20\n",
      "55/55 [==============================] - 60s 1s/step - loss: 1.7402 - accuracy: 0.5423 - val_loss: 1.7430 - val_accuracy: 0.5363\n",
      "Epoch 17/20\n",
      "55/55 [==============================] - 60s 1s/step - loss: 1.7392 - accuracy: 0.5406 - val_loss: 1.7418 - val_accuracy: 0.5407\n",
      "Epoch 18/20\n",
      "55/55 [==============================] - 60s 1s/step - loss: 1.7382 - accuracy: 0.5489 - val_loss: 1.7413 - val_accuracy: 0.5440\n",
      "Epoch 19/20\n",
      "55/55 [==============================] - 60s 1s/step - loss: 1.7374 - accuracy: 0.5543 - val_loss: 1.7401 - val_accuracy: 0.5493\n",
      "Epoch 20/20\n",
      "55/55 [==============================] - 61s 1s/step - loss: 1.7368 - accuracy: 0.5523 - val_loss: 1.7398 - val_accuracy: 0.5557\n",
      "219/219 [==============================] - 51s 231ms/step - loss: 1.7398 - accuracy: 0.5557\n",
      "\n",
      "Test loss: 1.7398, Test accuracy: 0.5557\n",
      "\n",
      "\n",
      "********************************************************************************\n",
      "Building QNN model with 5 layer(s)\n",
      "********************************************************************************\n",
      "\n",
      "Using 7 qubits\n",
      "Model: \"QNN\"\n",
      "_________________________________________________________________\n",
      " Layer (type)                Output Shape              Param #   \n",
      "=================================================================\n",
      " inputs (InputLayer)         [(None, 81)]              0         \n",
      "                                                                 \n",
      " quantumLayer (KerasLayer)   (None, 7)                 195       \n",
      "                                                                 \n",
      " softmax (Lambda)            (None, 7)                 0         \n",
      "                                                                 \n",
      "=================================================================\n",
      "Total params: 195 (1.52 KB)\n",
      "Trainable params: 195 (1.52 KB)\n",
      "Non-trainable params: 0 (0.00 Byte)\n",
      "_________________________________________________________________\n",
      "None\n",
      "x shape = (41935, 81)\n",
      "x train shape = (3500, 81)\n",
      "x test shape = (6989, 81)\n",
      "Epoch 1/20\n",
      "55/55 [==============================] - 96s 2s/step - loss: 1.9365 - accuracy: 0.2400 - val_loss: 1.9051 - val_accuracy: 0.2670\n",
      "Epoch 2/20\n",
      "55/55 [==============================] - 96s 2s/step - loss: 1.8677 - accuracy: 0.3277 - val_loss: 1.8277 - val_accuracy: 0.3972\n",
      "Epoch 3/20\n",
      "55/55 [==============================] - 96s 2s/step - loss: 1.7966 - accuracy: 0.4729 - val_loss: 1.7706 - val_accuracy: 0.5547\n",
      "Epoch 4/20\n",
      "55/55 [==============================] - 96s 2s/step - loss: 1.7589 - accuracy: 0.5680 - val_loss: 1.7481 - val_accuracy: 0.5889\n",
      "Epoch 5/20\n",
      "55/55 [==============================] - 96s 2s/step - loss: 1.7423 - accuracy: 0.5911 - val_loss: 1.7372 - val_accuracy: 0.6039\n",
      "Epoch 6/20\n",
      "55/55 [==============================] - 96s 2s/step - loss: 1.7325 - accuracy: 0.6097 - val_loss: 1.7279 - val_accuracy: 0.6303\n",
      "Epoch 7/20\n",
      "55/55 [==============================] - 96s 2s/step - loss: 1.7227 - accuracy: 0.6326 - val_loss: 1.7196 - val_accuracy: 0.6577\n",
      "Epoch 8/20\n",
      "55/55 [==============================] - 96s 2s/step - loss: 1.7126 - accuracy: 0.6749 - val_loss: 1.7118 - val_accuracy: 0.6755\n",
      "Epoch 9/20\n",
      "55/55 [==============================] - 96s 2s/step - loss: 1.7038 - accuracy: 0.6723 - val_loss: 1.7033 - val_accuracy: 0.6844\n",
      "Epoch 10/20\n",
      "55/55 [==============================] - 96s 2s/step - loss: 1.6961 - accuracy: 0.6857 - val_loss: 1.6975 - val_accuracy: 0.6792\n",
      "Epoch 11/20\n",
      "55/55 [==============================] - 96s 2s/step - loss: 1.6915 - accuracy: 0.6851 - val_loss: 1.6930 - val_accuracy: 0.6812\n",
      "Epoch 12/20\n",
      "55/55 [==============================] - 96s 2s/step - loss: 1.6882 - accuracy: 0.6954 - val_loss: 1.6908 - val_accuracy: 0.6829\n",
      "Epoch 13/20\n",
      "55/55 [==============================] - 96s 2s/step - loss: 1.6859 - accuracy: 0.7000 - val_loss: 1.6875 - val_accuracy: 0.6939\n",
      "Epoch 14/20\n",
      "55/55 [==============================] - 97s 2s/step - loss: 1.6831 - accuracy: 0.7040 - val_loss: 1.6850 - val_accuracy: 0.6961\n",
      "Epoch 15/20\n",
      "55/55 [==============================] - 96s 2s/step - loss: 1.6794 - accuracy: 0.7057 - val_loss: 1.6805 - val_accuracy: 0.6962\n",
      "Epoch 16/20\n",
      "55/55 [==============================] - 96s 2s/step - loss: 1.6761 - accuracy: 0.7060 - val_loss: 1.6779 - val_accuracy: 0.7065\n",
      "Epoch 17/20\n",
      "55/55 [==============================] - 96s 2s/step - loss: 1.6733 - accuracy: 0.7134 - val_loss: 1.6766 - val_accuracy: 0.7008\n",
      "Epoch 18/20\n",
      "55/55 [==============================] - 96s 2s/step - loss: 1.6719 - accuracy: 0.7154 - val_loss: 1.6753 - val_accuracy: 0.7004\n",
      "Epoch 19/20\n",
      "55/55 [==============================] - 96s 2s/step - loss: 1.6707 - accuracy: 0.7169 - val_loss: 1.6746 - val_accuracy: 0.7020\n",
      "Epoch 20/20\n",
      "55/55 [==============================] - 97s 2s/step - loss: 1.6701 - accuracy: 0.7143 - val_loss: 1.6731 - val_accuracy: 0.7074\n",
      "219/219 [==============================] - 80s 366ms/step - loss: 1.6731 - accuracy: 0.7074\n",
      "\n",
      "Test loss: 1.6731, Test accuracy: 0.7074\n",
      "\n",
      "\n",
      "********************************************************************************\n",
      "Building QNN model with 7 layer(s)\n",
      "********************************************************************************\n",
      "\n",
      "Using 7 qubits\n",
      "Model: \"QNN\"\n",
      "_________________________________________________________________\n",
      " Layer (type)                Output Shape              Param #   \n",
      "=================================================================\n",
      " inputs (InputLayer)         [(None, 81)]              0         \n",
      "                                                                 \n",
      " quantumLayer (KerasLayer)   (None, 7)                 273       \n",
      "                                                                 \n",
      " softmax (Lambda)            (None, 7)                 0         \n",
      "                                                                 \n",
      "=================================================================\n",
      "Total params: 273 (2.13 KB)\n",
      "Trainable params: 273 (2.13 KB)\n",
      "Non-trainable params: 0 (0.00 Byte)\n",
      "_________________________________________________________________\n",
      "None\n",
      "x shape = (41935, 81)\n",
      "x train shape = (3500, 81)\n",
      "x test shape = (6989, 81)\n",
      "Epoch 1/20\n",
      "55/55 [==============================] - 133s 2s/step - loss: 1.9271 - accuracy: 0.2389 - val_loss: 1.8874 - val_accuracy: 0.2999\n",
      "Epoch 2/20\n",
      "55/55 [==============================] - 141s 3s/step - loss: 1.8345 - accuracy: 0.4174 - val_loss: 1.7835 - val_accuracy: 0.5318\n",
      "Epoch 3/20\n",
      "55/55 [==============================] - 134s 2s/step - loss: 1.7456 - accuracy: 0.6080 - val_loss: 1.7253 - val_accuracy: 0.6440\n",
      "Epoch 4/20\n",
      "55/55 [==============================] - 134s 2s/step - loss: 1.7085 - accuracy: 0.6717 - val_loss: 1.7054 - val_accuracy: 0.6701\n",
      "Epoch 5/20\n",
      "55/55 [==============================] - 134s 2s/step - loss: 1.6934 - accuracy: 0.6934 - val_loss: 1.6941 - val_accuracy: 0.6997\n",
      "Epoch 6/20\n",
      "55/55 [==============================] - 131s 2s/step - loss: 1.6838 - accuracy: 0.7057 - val_loss: 1.6850 - val_accuracy: 0.6970\n",
      "Epoch 7/20\n",
      "55/55 [==============================] - 130s 2s/step - loss: 1.6745 - accuracy: 0.7174 - val_loss: 1.6761 - val_accuracy: 0.7178\n",
      "Epoch 8/20\n",
      "55/55 [==============================] - 132s 2s/step - loss: 1.6636 - accuracy: 0.7529 - val_loss: 1.6636 - val_accuracy: 0.7477\n",
      "Epoch 9/20\n",
      "55/55 [==============================] - 131s 2s/step - loss: 1.6537 - accuracy: 0.7737 - val_loss: 1.6555 - val_accuracy: 0.7632\n",
      "Epoch 10/20\n",
      "55/55 [==============================] - 130s 2s/step - loss: 1.6482 - accuracy: 0.7869 - val_loss: 1.6521 - val_accuracy: 0.7722\n",
      "Epoch 11/20\n",
      "55/55 [==============================] - 131s 2s/step - loss: 1.6450 - accuracy: 0.7886 - val_loss: 1.6487 - val_accuracy: 0.7845\n",
      "Epoch 12/20\n",
      "55/55 [==============================] - 131s 2s/step - loss: 1.6427 - accuracy: 0.7949 - val_loss: 1.6462 - val_accuracy: 0.7854\n",
      "Epoch 13/20\n",
      "55/55 [==============================] - 131s 2s/step - loss: 1.6406 - accuracy: 0.8014 - val_loss: 1.6445 - val_accuracy: 0.7844\n",
      "Epoch 14/20\n",
      "55/55 [==============================] - 131s 2s/step - loss: 1.6400 - accuracy: 0.8011 - val_loss: 1.6443 - val_accuracy: 0.7938\n",
      "Epoch 15/20\n",
      "55/55 [==============================] - 131s 2s/step - loss: 1.6391 - accuracy: 0.8040 - val_loss: 1.6436 - val_accuracy: 0.7937\n",
      "Epoch 16/20\n",
      "55/55 [==============================] - 133s 2s/step - loss: 1.6382 - accuracy: 0.8066 - val_loss: 1.6428 - val_accuracy: 0.7897\n",
      "Epoch 17/20\n",
      "55/55 [==============================] - 133s 2s/step - loss: 1.6377 - accuracy: 0.8060 - val_loss: 1.6415 - val_accuracy: 0.7877\n",
      "Epoch 18/20\n",
      "55/55 [==============================] - 134s 2s/step - loss: 1.6372 - accuracy: 0.8011 - val_loss: 1.6412 - val_accuracy: 0.7960\n",
      "Epoch 19/20\n",
      "55/55 [==============================] - 133s 2s/step - loss: 1.6366 - accuracy: 0.8051 - val_loss: 1.6405 - val_accuracy: 0.7920\n",
      "Epoch 20/20\n",
      "55/55 [==============================] - 133s 2s/step - loss: 1.6356 - accuracy: 0.8046 - val_loss: 1.6410 - val_accuracy: 0.7834\n",
      "219/219 [==============================] - 110s 503ms/step - loss: 1.6410 - accuracy: 0.7834\n",
      "\n",
      "Test loss: 1.6410, Test accuracy: 0.7834\n",
      "\n",
      "\n"
     ]
    }
   ],
   "source": [
    "qnn_list = []\n",
    "\n",
    "for num_of_layers in [2, 3, 5, 7]:\n",
    "    qnn_history, model_training_time, qnn_results = build_qnn_model(num_of_layers)\n",
    "    qnn_list.append([num_of_layers, qnn_history, model_training_time, qnn_results])"
   ]
  },
  {
   "attachments": {},
   "cell_type": "markdown",
   "metadata": {},
   "source": [
    "## Plot the results!"
   ]
  },
  {
   "cell_type": "code",
   "execution_count": 13,
   "metadata": {},
   "outputs": [
    {
     "name": "stdout",
     "output_type": "stream",
     "text": [
      "Training time for 2-layer QNN: 0:13:49.321275\n",
      "\n",
      "Training time for 3-layer QNN: 0:19:57.246818\n",
      "\n",
      "Training time for 5-layer QNN: 0:32:03.095087\n",
      "\n",
      "Training time for 7-layer QNN: 0:44:09.859749\n",
      "\n"
     ]
    }
   ],
   "source": [
    "qnn_histories = {}\n",
    "\n",
    "for [i, qnn_history, model_training_time, qnn_results] in qnn_list:\n",
    "    print(f\"Training time for {i}-layer QNN: {model_training_time}\")\n",
    "    print()\n",
    "    if i not in qnn_histories:\n",
    "        qnn_histories[i] = []\n",
    "    qnn_histories[i].append(qnn_history)"
   ]
  },
  {
   "cell_type": "code",
   "execution_count": 14,
   "metadata": {},
   "outputs": [
    {
     "data": {
      "image/png": "[encoded data removed]",
      "text/plain": [
       "<Figure size 640x480 with 1 Axes>"
      ]
     },
     "metadata": {},
     "output_type": "display_data"
    }
   ],
   "source": [
    "# plot the hinge accuracy for the qnn history\n",
    "for n in qnn_histories.keys():\n",
    "    plt.plot(np.arange(1,21), qnn_histories[n][0].history[\"accuracy\"], label=f\"{n} layer QNN\")\n",
    "\n",
    "plt.xlabel(\"Epoch\")\n",
    "plt.ylabel(\"Accuracy\")\n",
    "plt.legend()\n",
    "# modify x_ticks to also include 20\n",
    "plt.xticks(np.arange(0, 21, 2))\n",
    "# save as pdf with tight layout and no padding\n",
    "#plt.savefig(\"qnn_hinge_accuracy.pdf\", bbox_inches=\"tight\", pad_inches=0)\n",
    "plt.show()"
   ]
  },
  {
   "cell_type": "code",
   "execution_count": 15,
   "metadata": {},
   "outputs": [
    {
     "data": {
      "image/png": "[encoded data removed]",
      "text/plain": [
       "<Figure size 640x480 with 1 Axes>"
      ]
     },
     "metadata": {},
     "output_type": "display_data"
    }
   ],
   "source": [
    "# plot the hinge accuracy for the loss for both 1 and 2 layer on the same axes\n",
    "for n in qnn_histories.keys():\n",
    "    plt.plot(np.arange(1,21), qnn_histories[n][0].history[\"loss\"], label=f\"{n} layer QNN\")\n",
    "\n",
    "plt.xlabel(\"Epoch\")\n",
    "plt.ylabel(\"Loss\")\n",
    "plt.legend()\n",
    "# modify x_ticks to also include 20\n",
    "plt.xticks(np.arange(0, 21, 2))\n",
    "# save as pdf with tight layout and no padding\n",
    "#plt.savefig(\"qnn_hinge_loss.pdf\", bbox_inches=\"tight\", pad_inches=0)\n",
    "plt.show()"
   ]
  },
  {
   "cell_type": "code",
   "execution_count": 25,
   "metadata": {},
   "outputs": [
    {
     "name": "stdout",
     "output_type": "stream",
     "text": [
      "Saved qnn_histories to qnn_histories_20250427215108.pkl\n"
     ]
    }
   ],
   "source": [
    "import pickle\n",
    "\n",
    "qnn_histories_simple = {k: [h.history for h in v] for k, v in qnn_histories.items()}\n",
    "\n",
    "timestamp = datetime.now().strftime(\"%Y%m%d%H%M%S\")\n",
    "with open(f'qnn_histories_{timestamp}.pkl', 'wb') as f:\n",
    "    pickle.dump(qnn_histories_simple, f)\n",
    "\n",
    "print(f\"Saved qnn_histories to qnn_histories_{timestamp}.pkl\")"
   ]
  }
 ],
 "metadata": {
  "kernelspec": {
   "display_name": "phys4041",
   "language": "python",
   "name": "python3"
  },
  "language_info": {
   "codemirror_mode": {
    "name": "ipython",
    "version": 3
   },
   "file_extension": ".py",
   "mimetype": "text/x-python",
   "name": "python",
   "nbconvert_exporter": "python",
   "pygments_lexer": "ipython3",
   "version": "3.10.16"
  },
  "orig_nbformat": 4
 },
 "nbformat": 4,
 "nbformat_minor": 2
}
