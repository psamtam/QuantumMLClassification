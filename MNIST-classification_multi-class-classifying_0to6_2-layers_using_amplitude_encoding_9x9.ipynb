{
 "cells": [
  {
   "cell_type": "markdown",
   "metadata": {},
   "source": [
    "## Classifying between 0, 1, 2, 3, 4, 5, 6\n",
    "## Using amplitude encoding (9x9)"
   ]
  },
  {
   "cell_type": "code",
   "execution_count": 2,
   "metadata": {},
   "outputs": [],
   "source": [
    "import pennylane as qml\n",
    "import tensorflow as tf\n",
    "#import sklearn.datasets\n",
    "#from sklearn.datasets import fetch_openml\n",
    "\n",
    "import numpy as np\n",
    "\n",
    "from matplotlib import pyplot as plt\n",
    "\n",
    "tf.keras.backend.set_floatx('float64')\n",
    "\n",
    "from silence_tensorflow import silence_tensorflow\n",
    "silence_tensorflow()  # this stops tensorflow complaining about converting from complex to float!\n",
    "\n",
    "from datetime import datetime"
   ]
  },
  {
   "attachments": {},
   "cell_type": "markdown",
   "metadata": {},
   "source": [
    "## Load and reduce the data\n",
    "\n",
    "Load the MNIST data and check number of training and test examples"
   ]
  },
  {
   "cell_type": "code",
   "execution_count": 3,
   "metadata": {},
   "outputs": [
    {
     "name": "stdout",
     "output_type": "stream",
     "text": [
      "Number of original training examples: 60000\n",
      "Number of original test examples: 10000\n"
     ]
    }
   ],
   "source": [
    "(x_train, y_train), (x_test, y_test) = tf.keras.datasets.mnist.load_data()\n",
    "\n",
    "# Rescale the images from [0,255] to the [0.0,1.0] range.\n",
    "x_train, x_test = x_train[..., np.newaxis]/255.0, x_test[..., np.newaxis]/255.0  # add colour dimension\n",
    "\n",
    "print(\"Number of original training examples:\", len(x_train))\n",
    "print(\"Number of original test examples:\", len(x_test))"
   ]
  },
  {
   "attachments": {},
   "cell_type": "markdown",
   "metadata": {},
   "source": [
    "Create a function to filter out only 0 and 2"
   ]
  },
  {
   "cell_type": "code",
   "execution_count": 4,
   "metadata": {},
   "outputs": [],
   "source": [
    "def filter_data(x, y):\n",
    "    keep = (y <= 6)\n",
    "    x, y = x[keep], y[keep]\n",
    "    # y = y == 0\n",
    "    return x,y"
   ]
  },
  {
   "cell_type": "code",
   "execution_count": 5,
   "metadata": {},
   "outputs": [
    {
     "name": "stdout",
     "output_type": "stream",
     "text": [
      "Number of filtered training examples: 41935\n",
      "Number of filtered test examples: 6989\n"
     ]
    }
   ],
   "source": [
    "x_train, y_train = filter_data(x_train, y_train)\n",
    "x_test, y_test = filter_data(x_test, y_test)\n",
    "\n",
    "print(\"Number of filtered training examples:\", len(x_train))\n",
    "print(\"Number of filtered test examples:\", len(x_test))"
   ]
  },
  {
   "cell_type": "code",
   "execution_count": 6,
   "metadata": {},
   "outputs": [
    {
     "name": "stdout",
     "output_type": "stream",
     "text": [
      "Number of classes: 7\n"
     ]
    }
   ],
   "source": [
    "# Get number of classes (assuming y_train contains all possible classes)\n",
    "num_classes = len(np.unique(y_train))\n",
    "print(f\"Number of classes: {num_classes}\")\n",
    "\n",
    "# Convert to one-hot\n",
    "y_train_onehot = tf.keras.utils.to_categorical(y_train, num_classes)\n",
    "y_test_onehot = tf.keras.utils.to_categorical(y_test, num_classes)"
   ]
  },
  {
   "attachments": {},
   "cell_type": "markdown",
   "metadata": {},
   "source": [
    "Plot the original images"
   ]
  },
  {
   "cell_type": "code",
   "execution_count": 7,
   "metadata": {},
   "outputs": [],
   "source": [
    "i = 0"
   ]
  },
  {
   "cell_type": "code",
   "execution_count": 8,
   "metadata": {},
   "outputs": [
    {
     "data": {
      "image/png": "[encoded data removed]",
      "text/plain": [
       "<Figure size 640x480 with 1 Axes>"
      ]
     },
     "metadata": {},
     "output_type": "display_data"
    }
   ],
   "source": [
    "i += 1\n",
    "plt.imshow(x_train[0, :, :, 0], cmap='Greys')\n",
    "ax = plt.gca()\n",
    "ax.set_xticks([])\n",
    "ax.set_yticks([])\n",
    "plt.title(\"28x28 image of a 0\", fontsize=20)\n",
    "# save to file as pdf\n",
    "plt.savefig('28x28_MNIST_0.pdf', bbox_inches='tight', pad_inches=0)\n",
    "plt.show()"
   ]
  },
  {
   "attachments": {},
   "cell_type": "markdown",
   "metadata": {},
   "source": [
    "Reduce images to 9x9"
   ]
  },
  {
   "cell_type": "code",
   "execution_count": 9,
   "metadata": {},
   "outputs": [
    {
     "name": "stdout",
     "output_type": "stream",
     "text": [
      "(41935, 9, 9, 1)\n"
     ]
    }
   ],
   "source": [
    "x_train_small = tf.image.resize(x_train, (9,9)).numpy()\n",
    "x_test_small = tf.image.resize(x_test, (9,9)).numpy()\n",
    "\n",
    "print(x_train_small.shape)"
   ]
  },
  {
   "cell_type": "code",
   "execution_count": 10,
   "metadata": {},
   "outputs": [
    {
     "data": {
      "image/png": "[encoded data removed]",
      "text/plain": [
       "<Figure size 640x480 with 1 Axes>"
      ]
     },
     "metadata": {},
     "output_type": "display_data"
    }
   ],
   "source": [
    "plt.imshow(x_train_small[0,:,:,0], vmin=0, vmax=1, cmap='Greys')\n",
    "ax = plt.gca()\n",
    "ax.set_xticks([])\n",
    "ax.set_yticks([])\n",
    "plt.title(\"9x9 image of a 0\", fontsize=20)\n",
    "# save to file as pdf\n",
    "plt.savefig('9x9_MNIST_0.pdf', bbox_inches='tight', pad_inches=0)\n",
    "plt.show()"
   ]
  },
  {
   "attachments": {},
   "cell_type": "markdown",
   "metadata": {},
   "source": [
    "Flatten the images to [81]"
   ]
  },
  {
   "cell_type": "code",
   "execution_count": 11,
   "metadata": {},
   "outputs": [
    {
     "data": {
      "text/plain": [
       "((41935, 81), (6989, 81))"
      ]
     },
     "execution_count": 11,
     "metadata": {},
     "output_type": "execute_result"
    }
   ],
   "source": [
    "x_train_flatten = x_train_small.reshape(x_train_small.shape[0], x_train_small.shape[1] * x_train_small.shape[2])\n",
    "x_test_flatten = x_test_small.reshape(x_test_small.shape[0], x_test_small.shape[1] * x_test_small.shape[2])\n",
    "x_train_flatten.shape, x_test_flatten.shape"
   ]
  },
  {
   "attachments": {},
   "cell_type": "markdown",
   "metadata": {},
   "source": [
    "## Set up the Quantum Neural Network\n",
    "\n",
    "Create quantum circuit using pennylane qnode, then conver this to a Keras layer to make a Keras model"
   ]
  },
  {
   "cell_type": "code",
   "execution_count": 12,
   "metadata": {},
   "outputs": [],
   "source": [
    "def build_qnn_model(num_of_layers):\n",
    "    print(f\"{80*'*'}\")\n",
    "    print(f\"Building QNN model with {num_of_layers} layer(s)\")\n",
    "    print(f\"{80*'*'}\")\n",
    "    print()\n",
    "    \n",
    "    # ensuring the number of qubits is at least as large as the number of classes\n",
    "    n_qubits = max(int(np.ceil(np.log2(x_train_flatten.shape[-1]))), num_classes)\n",
    "    n_layers = num_of_layers\n",
    "    print(f\"Using {n_qubits} qubits\")\n",
    "\n",
    "    dev = qml.device(\"default.qubit\", wires=n_qubits)\n",
    "\n",
    "    @qml.qnode(dev, interface=\"tf\")\n",
    "    def qnode(inputs, weights):\n",
    "\n",
    "        embedding_qubits = min(n_qubits, int(np.ceil(np.log2(x_train_flatten.shape[-1]))))\n",
    "        qml.AmplitudeEmbedding(features=inputs, wires=range(embedding_qubits), pad_with=0., normalize=True)\n",
    "\n",
    "        for jj in range(n_layers):\n",
    "            for ii in range(n_qubits-1):\n",
    "                qml.RZ(weights[jj,2*ii,0], wires=0)\n",
    "                qml.RY(weights[jj,2*ii,1], wires=0)\n",
    "                qml.RZ(weights[jj,2*ii,2], wires=0)\n",
    "\n",
    "                qml.RZ(weights[jj,2*ii+1,0], wires=ii+1)\n",
    "                qml.RY(weights[jj,2*ii+1,1], wires=ii+1)\n",
    "                qml.RZ(weights[jj,2*ii+1,2], wires=ii+1)\n",
    "\n",
    "                #qml.U3(*list(weights[jj,2*ii,:]), wires=0)\n",
    "                #qml.U3(*list(weights[jj,2*ii+1,:]), wires=ii+1)\n",
    "                qml.CNOT(wires=[ii+1,0])\n",
    "                \n",
    "            qml.RZ(weights[jj,2*(n_qubits-1),0], wires=0)\n",
    "            qml.RY(weights[jj,2*(n_qubits-1),1], wires=0)\n",
    "            qml.RZ(weights[jj,2*(n_qubits-1),2], wires=0)\n",
    "\n",
    "        return [qml.expval(qml.PauliZ(i)) for i in range(num_classes)]\n",
    "\n",
    "    weight_shapes = {\"weights\": (n_layers, 2*(n_qubits-1)+1, 3) }\n",
    "\n",
    "    qlayer = qml.qnn.KerasLayer(qnode, weight_shapes, output_dim=num_classes, name=\"quantumLayer\")\n",
    "    inputs = tf.keras.Input(shape=(x_train_flatten.shape[-1],), name=\"inputs\")\n",
    "    quantum_outputs = qlayer(inputs)\n",
    "    outputs = tf.keras.layers.Dense(num_classes, activation=\"softmax\", name=\"softmax\")(quantum_outputs)\n",
    "    model = tf.keras.Model(inputs=inputs, outputs=outputs, name=\"QNN\")\n",
    "    \n",
    "    model.compile(\n",
    "        loss=tf.keras.losses.CategoricalCrossentropy(),\n",
    "        optimizer=tf.keras.optimizers.Adam(learning_rate=0.01),\n",
    "        metrics=[tf.keras.metrics.CategoricalAccuracy(name=\"accuracy\")]\n",
    "    )\n",
    "    \n",
    "    print(model.summary())\n",
    "\n",
    "    EPOCHS = 20\n",
    "    BATCH_SIZE = 64\n",
    "\n",
    "    NUM_EXAMPLES = 3500 \n",
    "    print(f\"x shape = {x_train_flatten.shape}\")\n",
    "\n",
    "    x_train_sub = x_train_flatten[:NUM_EXAMPLES]\n",
    "    y_train_sub = y_train_onehot[:NUM_EXAMPLES]\n",
    "\n",
    "    print(f\"x train shape = {x_train_sub.shape}\")\n",
    "\n",
    "    x_test_sub = x_test_flatten[:,:]\n",
    "    y_test_sub = y_test_onehot[:]\n",
    "\n",
    "    print(f\"x test shape = {x_test_sub.shape}\")\n",
    "\n",
    "    start_time = datetime.now()\n",
    "\n",
    "    qnn_history = model.fit(\n",
    "        x_train_sub, y_train_sub,\n",
    "        batch_size=BATCH_SIZE,\n",
    "        epochs=EPOCHS,\n",
    "        verbose=1,\n",
    "        validation_data=(x_test_sub, y_test_sub)\n",
    "    )\n",
    "\n",
    "    model_training_time = datetime.now() - start_time\n",
    "\n",
    "    qnn_results = model.evaluate(x_test_sub, y_test_sub)\n",
    "    print(f\"\\nTest loss: {qnn_results[0]:.4f}, Test accuracy: {qnn_results[1]:.4f}\\n\")\n",
    "\n",
    "    print()\n",
    "\n",
    "    return qnn_history, model_training_time, qnn_results"
   ]
  },
  {
   "cell_type": "code",
   "execution_count": 13,
   "metadata": {},
   "outputs": [
    {
     "name": "stdout",
     "output_type": "stream",
     "text": [
      "********************************************************************************\n",
      "Building QNN model with 2 layer(s)\n",
      "********************************************************************************\n",
      "\n",
      "Using 7 qubits\n",
      "Model: \"QNN\"\n",
      "_________________________________________________________________\n",
      " Layer (type)                Output Shape              Param #   \n",
      "=================================================================\n",
      " inputs (InputLayer)         [(None, 81)]              0         \n",
      "                                                                 \n",
      " quantumLayer (KerasLayer)   (None, 7)                 78        \n",
      "                                                                 \n",
      " softmax (Dense)             (None, 7)                 56        \n",
      "                                                                 \n",
      "=================================================================\n",
      "Total params: 134 (1.05 KB)\n",
      "Trainable params: 134 (1.05 KB)\n",
      "Non-trainable params: 0 (0.00 Byte)\n",
      "_________________________________________________________________\n",
      "None\n",
      "x shape = (41935, 81)\n",
      "x train shape = (3500, 81)\n",
      "x test shape = (6989, 81)\n",
      "Epoch 1/20\n",
      "55/55 [==============================] - 43s 781ms/step - loss: 1.7836 - accuracy: 0.3826 - val_loss: 1.6388 - val_accuracy: 0.5307\n",
      "Epoch 2/20\n",
      "55/55 [==============================] - 42s 769ms/step - loss: 1.4986 - accuracy: 0.5906 - val_loss: 1.3826 - val_accuracy: 0.6181\n",
      "Epoch 3/20\n",
      "55/55 [==============================] - 42s 765ms/step - loss: 1.2752 - accuracy: 0.6654 - val_loss: 1.2197 - val_accuracy: 0.6784\n",
      "Epoch 4/20\n",
      "55/55 [==============================] - 42s 768ms/step - loss: 1.1410 - accuracy: 0.7129 - val_loss: 1.1225 - val_accuracy: 0.6901\n",
      "Epoch 5/20\n",
      "55/55 [==============================] - 42s 772ms/step - loss: 1.0567 - accuracy: 0.7260 - val_loss: 1.0576 - val_accuracy: 0.7091\n",
      "Epoch 6/20\n",
      "55/55 [==============================] - 42s 765ms/step - loss: 0.9990 - accuracy: 0.7426 - val_loss: 1.0108 - val_accuracy: 0.7176\n",
      "Epoch 7/20\n",
      "55/55 [==============================] - 42s 779ms/step - loss: 0.9545 - accuracy: 0.7509 - val_loss: 0.9736 - val_accuracy: 0.7271\n",
      "Epoch 8/20\n",
      "55/55 [==============================] - 42s 771ms/step - loss: 0.9196 - accuracy: 0.7540 - val_loss: 0.9452 - val_accuracy: 0.7333\n",
      "Epoch 9/20\n",
      "55/55 [==============================] - 42s 777ms/step - loss: 0.8913 - accuracy: 0.7577 - val_loss: 0.9208 - val_accuracy: 0.7397\n",
      "Epoch 10/20\n",
      "55/55 [==============================] - 42s 772ms/step - loss: 0.8662 - accuracy: 0.7637 - val_loss: 0.9036 - val_accuracy: 0.7422\n",
      "Epoch 11/20\n",
      "55/55 [==============================] - 42s 771ms/step - loss: 0.8455 - accuracy: 0.7651 - val_loss: 0.8806 - val_accuracy: 0.7509\n",
      "Epoch 12/20\n",
      "55/55 [==============================] - 42s 770ms/step - loss: 0.8288 - accuracy: 0.7689 - val_loss: 0.8686 - val_accuracy: 0.7536\n",
      "Epoch 13/20\n",
      "55/55 [==============================] - 42s 769ms/step - loss: 0.8128 - accuracy: 0.7746 - val_loss: 0.8516 - val_accuracy: 0.7516\n",
      "Epoch 14/20\n",
      "55/55 [==============================] - 42s 771ms/step - loss: 0.7989 - accuracy: 0.7757 - val_loss: 0.8368 - val_accuracy: 0.7613\n",
      "Epoch 15/20\n",
      "55/55 [==============================] - 42s 768ms/step - loss: 0.7861 - accuracy: 0.7800 - val_loss: 0.8298 - val_accuracy: 0.7580\n",
      "Epoch 16/20\n",
      "55/55 [==============================] - 42s 776ms/step - loss: 0.7747 - accuracy: 0.7814 - val_loss: 0.8224 - val_accuracy: 0.7609\n",
      "Epoch 17/20\n",
      "55/55 [==============================] - 42s 774ms/step - loss: 0.7642 - accuracy: 0.7840 - val_loss: 0.8153 - val_accuracy: 0.7648\n",
      "Epoch 18/20\n",
      "55/55 [==============================] - 42s 771ms/step - loss: 0.7530 - accuracy: 0.7889 - val_loss: 0.8032 - val_accuracy: 0.7631\n",
      "Epoch 19/20\n",
      "55/55 [==============================] - 42s 771ms/step - loss: 0.7424 - accuracy: 0.7906 - val_loss: 0.7898 - val_accuracy: 0.7689\n",
      "Epoch 20/20\n",
      "55/55 [==============================] - 42s 772ms/step - loss: 0.7329 - accuracy: 0.7943 - val_loss: 0.7790 - val_accuracy: 0.7726\n",
      "219/219 [==============================] - 36s 165ms/step - loss: 0.7790 - accuracy: 0.7726\n",
      "\n",
      "Test loss: 0.7790, Test accuracy: 0.7726\n",
      "\n",
      "\n"
     ]
    }
   ],
   "source": [
    "qnn_list = []\n",
    "\n",
    "num_of_layers = 2\n",
    "\n",
    "qnn_history, model_training_time, qnn_results = build_qnn_model(num_of_layers)\n",
    "qnn_list.append([num_of_layers, qnn_history, model_training_time, qnn_results])"
   ]
  },
  {
   "attachments": {},
   "cell_type": "markdown",
   "metadata": {},
   "source": [
    "## Plot the results!"
   ]
  },
  {
   "cell_type": "code",
   "execution_count": 14,
   "metadata": {},
   "outputs": [
    {
     "name": "stdout",
     "output_type": "stream",
     "text": [
      "Training time for 2-layer QNN: 0:14:02.289331\n",
      "\n"
     ]
    }
   ],
   "source": [
    "qnn_histories = {}\n",
    "\n",
    "for [i, qnn_history, model_training_time, qnn_results] in qnn_list:\n",
    "    print(f\"Training time for {i}-layer QNN: {model_training_time}\")\n",
    "    print()\n",
    "    if i not in qnn_histories:\n",
    "        qnn_histories[i] = []\n",
    "    qnn_histories[i].append(qnn_history)"
   ]
  },
  {
   "cell_type": "code",
   "execution_count": 23,
   "metadata": {},
   "outputs": [
    {
     "data": {
      "text/plain": [
       "{'loss': [1.783624674928428,\n",
       "  1.4985991833445245,\n",
       "  1.2752233847739267,\n",
       "  1.1410366026695424,\n",
       "  1.0566637781311023,\n",
       "  0.9989729894183392,\n",
       "  0.9545302959977281,\n",
       "  0.9195826872587121,\n",
       "  0.89132307311081,\n",
       "  0.86624962034683,\n",
       "  0.8455112634868275,\n",
       "  0.8287569292431994,\n",
       "  0.8127890720448085,\n",
       "  0.7988717065678901,\n",
       "  0.7861076752025514,\n",
       "  0.774743548813553,\n",
       "  0.7642211985104477,\n",
       "  0.7530288533293376,\n",
       "  0.7424381351554399,\n",
       "  0.7329410830670605],\n",
       " 'accuracy': [0.38257142857142856,\n",
       "  0.5905714285714285,\n",
       "  0.6654285714285715,\n",
       "  0.7128571428571429,\n",
       "  0.726,\n",
       "  0.7425714285714285,\n",
       "  0.7508571428571429,\n",
       "  0.754,\n",
       "  0.7577142857142857,\n",
       "  0.7637142857142857,\n",
       "  0.7651428571428571,\n",
       "  0.7688571428571429,\n",
       "  0.7745714285714286,\n",
       "  0.7757142857142857,\n",
       "  0.78,\n",
       "  0.7814285714285715,\n",
       "  0.784,\n",
       "  0.7888571428571428,\n",
       "  0.7905714285714286,\n",
       "  0.7942857142857143],\n",
       " 'val_loss': [1.6387836297702798,\n",
       "  1.3826009382420723,\n",
       "  1.2196695516559684,\n",
       "  1.1224631135198604,\n",
       "  1.0576089730238352,\n",
       "  1.0108264559227729,\n",
       "  0.9735643716675274,\n",
       "  0.9452210690584201,\n",
       "  0.9208353681420273,\n",
       "  0.9036046964999352,\n",
       "  0.8805845664277225,\n",
       "  0.8685988649728024,\n",
       "  0.851588561081072,\n",
       "  0.8368474903026546,\n",
       "  0.8297724199272863,\n",
       "  0.8223550415101143,\n",
       "  0.8152798397924274,\n",
       "  0.8031844515605098,\n",
       "  0.7897799909149736,\n",
       "  0.7789893693564645],\n",
       " 'val_accuracy': [0.5306910859922735,\n",
       "  0.6181141794248104,\n",
       "  0.6783516955215338,\n",
       "  0.690084418371727,\n",
       "  0.7091143225067964,\n",
       "  0.7175561596794964,\n",
       "  0.72714265274002,\n",
       "  0.7332951781370726,\n",
       "  0.7397338675060809,\n",
       "  0.7421662612677064,\n",
       "  0.7508942624123622,\n",
       "  0.7536128201459437,\n",
       "  0.7516096723422521,\n",
       "  0.7613392473887538,\n",
       "  0.7580483617112606,\n",
       "  0.7609100014308199,\n",
       "  0.764773215052225,\n",
       "  0.7630562312204894,\n",
       "  0.7689225926455859,\n",
       "  0.772642724281013]}"
      ]
     },
     "execution_count": 23,
     "metadata": {},
     "output_type": "execute_result"
    }
   ],
   "source": [
    "qnn_histories[2][0].history"
   ]
  },
  {
   "cell_type": "code",
   "execution_count": 24,
   "metadata": {},
   "outputs": [
    {
     "data": {
      "image/png": "[encoded data removed]",
      "text/plain": [
       "<Figure size 640x480 with 1 Axes>"
      ]
     },
     "metadata": {},
     "output_type": "display_data"
    }
   ],
   "source": [
    "# plot the hinge accuracy for the qnn history for both 1 and 2 layer on the same axes\n",
    "for n in qnn_histories.keys():\n",
    "    plt.plot(np.arange(1,21), qnn_histories[n][0].history[\"accuracy\"], label=f\"{n} layer QNN\")\n",
    "\n",
    "plt.xlabel(\"Epoch\")\n",
    "plt.ylabel(\"Hinge Accuracy\")\n",
    "plt.legend()\n",
    "# modify x_ticks to also include 20\n",
    "plt.xticks(np.arange(0, 21, 2))\n",
    "# save as pdf with tight layout and no padding\n",
    "#plt.savefig(\"qnn_hinge_accuracy.pdf\", bbox_inches=\"tight\", pad_inches=0)\n",
    "plt.show()"
   ]
  },
  {
   "cell_type": "code",
   "execution_count": 25,
   "metadata": {},
   "outputs": [
    {
     "data": {
      "image/png": "[encoded data removed]",
      "text/plain": [
       "<Figure size 640x480 with 1 Axes>"
      ]
     },
     "metadata": {},
     "output_type": "display_data"
    }
   ],
   "source": [
    "# plot the hinge accuracy for the loss for both 1 and 2 layer on the same axes\n",
    "for n in qnn_histories.keys():\n",
    "    plt.plot(np.arange(1,21), qnn_histories[n][0].history[\"loss\"], label=f\"{n} layer QNN\")\n",
    "\n",
    "plt.xlabel(\"Epoch\")\n",
    "plt.ylabel(\"Hinge Loss\")\n",
    "plt.legend()\n",
    "# modify x_ticks to also include 20\n",
    "plt.xticks(np.arange(0, 21, 2))\n",
    "# save as pdf with tight layout and no padding\n",
    "#plt.savefig(\"qnn_hinge_loss.pdf\", bbox_inches=\"tight\", pad_inches=0)\n",
    "plt.show()"
   ]
  },
  {
   "cell_type": "code",
   "execution_count": 26,
   "metadata": {},
   "outputs": [
    {
     "name": "stdout",
     "output_type": "stream",
     "text": [
      "Saved qnn_histories to qnn_histories_20250427160334.pkl\n"
     ]
    }
   ],
   "source": [
    "import pickle\n",
    "\n",
    "timestamp = datetime.now().strftime(\"%Y%m%d%H%M%S\")\n",
    "with open(f'qnn_histories_{timestamp}.pkl', 'wb') as f:\n",
    "    pickle.dump(qnn_histories, f)\n",
    "\n",
    "print(f\"Saved qnn_histories to qnn_histories_{timestamp}.pkl\")"
   ]
  }
 ],
 "metadata": {
  "kernelspec": {
   "display_name": "phys4041",
   "language": "python",
   "name": "python3"
  },
  "language_info": {
   "codemirror_mode": {
    "name": "ipython",
    "version": 3
   },
   "file_extension": ".py",
   "mimetype": "text/x-python",
   "name": "python",
   "nbconvert_exporter": "python",
   "pygments_lexer": "ipython3",
   "version": "3.10.16"
  },
  "orig_nbformat": 4
 },
 "nbformat": 4,
 "nbformat_minor": 2
}
