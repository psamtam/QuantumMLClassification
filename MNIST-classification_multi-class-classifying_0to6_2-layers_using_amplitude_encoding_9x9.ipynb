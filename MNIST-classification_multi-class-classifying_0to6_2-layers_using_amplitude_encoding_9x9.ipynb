{
 "cells": [
  {
   "cell_type": "markdown",
   "metadata": {},
   "source": [
    "## Classifying between 0, 1, 2, 3, 4, 5, 6\n",
    "## Using amplitude encoding (9x9)"
   ]
  },
  {
   "cell_type": "code",
   "execution_count": 1,
   "metadata": {},
   "outputs": [],
   "source": [
    "import pennylane as qml\n",
    "import tensorflow as tf\n",
    "#import sklearn.datasets\n",
    "#from sklearn.datasets import fetch_openml\n",
    "\n",
    "import numpy as np\n",
    "\n",
    "from matplotlib import pyplot as plt\n",
    "\n",
    "tf.keras.backend.set_floatx('float64')\n",
    "\n",
    "from silence_tensorflow import silence_tensorflow\n",
    "silence_tensorflow()  # this stops tensorflow complaining about converting from complex to float!\n",
    "\n",
    "from datetime import datetime"
   ]
  },
  {
   "attachments": {},
   "cell_type": "markdown",
   "metadata": {},
   "source": [
    "## Load and reduce the data\n",
    "\n",
    "Load the MNIST data and check number of training and test examples"
   ]
  },
  {
   "cell_type": "code",
   "execution_count": 2,
   "metadata": {},
   "outputs": [
    {
     "name": "stdout",
     "output_type": "stream",
     "text": [
      "Number of original training examples: 60000\n",
      "Number of original test examples: 10000\n"
     ]
    }
   ],
   "source": [
    "(x_train, y_train), (x_test, y_test) = tf.keras.datasets.mnist.load_data()\n",
    "\n",
    "# Rescale the images from [0,255] to the [0.0,1.0] range.\n",
    "x_train, x_test = x_train[..., np.newaxis]/255.0, x_test[..., np.newaxis]/255.0  # add colour dimension\n",
    "\n",
    "print(\"Number of original training examples:\", len(x_train))\n",
    "print(\"Number of original test examples:\", len(x_test))"
   ]
  },
  {
   "attachments": {},
   "cell_type": "markdown",
   "metadata": {},
   "source": [
    "Create a function to filter out only 0 and 2"
   ]
  },
  {
   "cell_type": "code",
   "execution_count": 3,
   "metadata": {},
   "outputs": [],
   "source": [
    "def filter_data(x, y):\n",
    "    keep = (y <= 6)\n",
    "    x, y = x[keep], y[keep]\n",
    "    # y = y == 0\n",
    "    return x,y"
   ]
  },
  {
   "cell_type": "code",
   "execution_count": 4,
   "metadata": {},
   "outputs": [
    {
     "name": "stdout",
     "output_type": "stream",
     "text": [
      "Number of filtered training examples: 41935\n",
      "Number of filtered test examples: 6989\n"
     ]
    }
   ],
   "source": [
    "x_train, y_train = filter_data(x_train, y_train)\n",
    "x_test, y_test = filter_data(x_test, y_test)\n",
    "\n",
    "print(\"Number of filtered training examples:\", len(x_train))\n",
    "print(\"Number of filtered test examples:\", len(x_test))"
   ]
  },
  {
   "cell_type": "code",
   "execution_count": 5,
   "metadata": {},
   "outputs": [
    {
     "name": "stdout",
     "output_type": "stream",
     "text": [
      "Number of classes: 7\n"
     ]
    }
   ],
   "source": [
    "# Get number of classes (assuming y_train contains all possible classes)\n",
    "num_classes = len(np.unique(y_train))\n",
    "print(f\"Number of classes: {num_classes}\")\n",
    "\n",
    "# Convert to one-hot\n",
    "y_train_onehot = tf.keras.utils.to_categorical(y_train, num_classes)\n",
    "y_test_onehot = tf.keras.utils.to_categorical(y_test, num_classes)"
   ]
  },
  {
   "attachments": {},
   "cell_type": "markdown",
   "metadata": {},
   "source": [
    "Plot the original images"
   ]
  },
  {
   "cell_type": "code",
   "execution_count": 6,
   "metadata": {},
   "outputs": [],
   "source": [
    "i = 0"
   ]
  },
  {
   "cell_type": "code",
   "execution_count": 7,
   "metadata": {},
   "outputs": [
    {
     "data": {
      "image/png": "[encoded data removed]",
      "text/plain": [
       "<Figure size 640x480 with 1 Axes>"
      ]
     },
     "metadata": {},
     "output_type": "display_data"
    }
   ],
   "source": [
    "i += 1\n",
    "plt.imshow(x_train[0, :, :, 0], cmap='Greys')\n",
    "ax = plt.gca()\n",
    "ax.set_xticks([])\n",
    "ax.set_yticks([])\n",
    "plt.title(\"28x28 image of a 0\", fontsize=20)\n",
    "# save to file as pdf\n",
    "plt.savefig('28x28_MNIST_0.pdf', bbox_inches='tight', pad_inches=0)\n",
    "plt.show()"
   ]
  },
  {
   "attachments": {},
   "cell_type": "markdown",
   "metadata": {},
   "source": [
    "Reduce images to 9x9"
   ]
  },
  {
   "cell_type": "code",
   "execution_count": 8,
   "metadata": {},
   "outputs": [
    {
     "name": "stdout",
     "output_type": "stream",
     "text": [
      "(41935, 9, 9, 1)\n"
     ]
    }
   ],
   "source": [
    "x_train_small = tf.image.resize(x_train, (9,9)).numpy()\n",
    "x_test_small = tf.image.resize(x_test, (9,9)).numpy()\n",
    "\n",
    "print(x_train_small.shape)"
   ]
  },
  {
   "cell_type": "code",
   "execution_count": 9,
   "metadata": {},
   "outputs": [
    {
     "data": {
      "image/png": "[encoded data removed]",
      "text/plain": [
       "<Figure size 640x480 with 1 Axes>"
      ]
     },
     "metadata": {},
     "output_type": "display_data"
    }
   ],
   "source": [
    "plt.imshow(x_train_small[0,:,:,0], vmin=0, vmax=1, cmap='Greys')\n",
    "ax = plt.gca()\n",
    "ax.set_xticks([])\n",
    "ax.set_yticks([])\n",
    "plt.title(\"9x9 image of a 0\", fontsize=20)\n",
    "# save to file as pdf\n",
    "plt.savefig('9x9_MNIST_0.pdf', bbox_inches='tight', pad_inches=0)\n",
    "plt.show()"
   ]
  },
  {
   "attachments": {},
   "cell_type": "markdown",
   "metadata": {},
   "source": [
    "Flatten the images to [81]"
   ]
  },
  {
   "cell_type": "code",
   "execution_count": 10,
   "metadata": {},
   "outputs": [
    {
     "data": {
      "text/plain": [
       "((41935, 81), (6989, 81))"
      ]
     },
     "execution_count": 10,
     "metadata": {},
     "output_type": "execute_result"
    }
   ],
   "source": [
    "x_train_flatten = x_train_small.reshape(x_train_small.shape[0], x_train_small.shape[1] * x_train_small.shape[2])\n",
    "x_test_flatten = x_test_small.reshape(x_test_small.shape[0], x_test_small.shape[1] * x_test_small.shape[2])\n",
    "x_train_flatten.shape, x_test_flatten.shape"
   ]
  },
  {
   "attachments": {},
   "cell_type": "markdown",
   "metadata": {},
   "source": [
    "## Set up the Quantum Neural Network\n",
    "\n",
    "Create quantum circuit using pennylane qnode, then conver this to a Keras layer to make a Keras model"
   ]
  },
  {
   "cell_type": "code",
   "execution_count": 11,
   "metadata": {},
   "outputs": [],
   "source": [
    "def build_qnn_model(num_of_layers):\n",
    "    print(f\"{80*'*'}\")\n",
    "    print(f\"Building QNN model with {num_of_layers} layer(s)\")\n",
    "    print(f\"{80*'*'}\")\n",
    "    print()\n",
    "    \n",
    "    # ensuring the number of qubits is at least as large as the number of classes\n",
    "    n_qubits = max(int(np.ceil(np.log2(x_train_flatten.shape[-1]))), num_classes)\n",
    "    n_layers = num_of_layers\n",
    "    print(f\"Using {n_qubits} qubits\")\n",
    "\n",
    "    dev = qml.device(\"default.qubit\", wires=n_qubits)\n",
    "\n",
    "    @qml.qnode(dev, interface=\"tf\")\n",
    "    def qnode(inputs, weights):\n",
    "\n",
    "        embedding_qubits = min(n_qubits, int(np.ceil(np.log2(x_train_flatten.shape[-1]))))\n",
    "        qml.AmplitudeEmbedding(features=inputs, wires=range(embedding_qubits), pad_with=0., normalize=True)\n",
    "\n",
    "        for jj in range(n_layers):\n",
    "            for ii in range(n_qubits-1):\n",
    "                qml.RZ(weights[jj,2*ii,0], wires=0)\n",
    "                qml.RY(weights[jj,2*ii,1], wires=0)\n",
    "                qml.RZ(weights[jj,2*ii,2], wires=0)\n",
    "\n",
    "                qml.RZ(weights[jj,2*ii+1,0], wires=ii+1)\n",
    "                qml.RY(weights[jj,2*ii+1,1], wires=ii+1)\n",
    "                qml.RZ(weights[jj,2*ii+1,2], wires=ii+1)\n",
    "\n",
    "                #qml.U3(*list(weights[jj,2*ii,:]), wires=0)\n",
    "                #qml.U3(*list(weights[jj,2*ii+1,:]), wires=ii+1)\n",
    "                qml.CNOT(wires=[ii+1,0])\n",
    "                \n",
    "            qml.RZ(weights[jj,2*(n_qubits-1),0], wires=0)\n",
    "            qml.RY(weights[jj,2*(n_qubits-1),1], wires=0)\n",
    "            qml.RZ(weights[jj,2*(n_qubits-1),2], wires=0)\n",
    "\n",
    "        return [qml.expval(qml.PauliZ(i)) for i in range(num_classes)]\n",
    "\n",
    "    weight_shapes = {\"weights\": (n_layers, 2*(n_qubits-1)+1, 3) }\n",
    "\n",
    "    qlayer = qml.qnn.KerasLayer(qnode, weight_shapes, output_dim=num_classes, name=\"quantumLayer\")\n",
    "    inputs = tf.keras.Input(shape=(x_train_flatten.shape[-1],), name=\"inputs\")\n",
    "    quantum_outputs = qlayer(inputs)\n",
    "    outputs = tf.keras.layers.Lambda(lambda x: tf.nn.softmax(x), name=\"softmax\")(quantum_outputs)\n",
    "    model = tf.keras.Model(inputs=inputs, outputs=outputs, name=\"QNN\")\n",
    "    \n",
    "    model.compile(\n",
    "        loss=tf.keras.losses.CategoricalCrossentropy(),\n",
    "        optimizer=tf.keras.optimizers.Adam(learning_rate=0.005),\n",
    "        metrics=[tf.keras.metrics.CategoricalAccuracy(name=\"accuracy\")]\n",
    "    )\n",
    "    \n",
    "    print(model.summary())\n",
    "\n",
    "    EPOCHS = 20\n",
    "    BATCH_SIZE = 64\n",
    "\n",
    "    NUM_EXAMPLES = 3500 \n",
    "    print(f\"x shape = {x_train_flatten.shape}\")\n",
    "\n",
    "    x_train_sub = x_train_flatten[:NUM_EXAMPLES]\n",
    "    y_train_sub = y_train_onehot[:NUM_EXAMPLES]\n",
    "\n",
    "    print(f\"x train shape = {x_train_sub.shape}\")\n",
    "\n",
    "    x_test_sub = x_test_flatten[:,:]\n",
    "    y_test_sub = y_test_onehot[:]\n",
    "\n",
    "    print(f\"x test shape = {x_test_sub.shape}\")\n",
    "\n",
    "    start_time = datetime.now()\n",
    "\n",
    "    qnn_history = model.fit(\n",
    "        x_train_sub, y_train_sub,\n",
    "        batch_size=BATCH_SIZE,\n",
    "        epochs=EPOCHS,\n",
    "        verbose=1,\n",
    "        validation_data=(x_test_sub, y_test_sub)\n",
    "    )\n",
    "\n",
    "    model_training_time = datetime.now() - start_time\n",
    "\n",
    "    qnn_results = model.evaluate(x_test_sub, y_test_sub)\n",
    "    print(f\"\\nTest loss: {qnn_results[0]:.4f}, Test accuracy: {qnn_results[1]:.4f}\\n\")\n",
    "\n",
    "    print()\n",
    "\n",
    "    return qnn_history, model_training_time, qnn_results"
   ]
  },
  {
   "cell_type": "code",
   "execution_count": 12,
   "metadata": {},
   "outputs": [
    {
     "name": "stdout",
     "output_type": "stream",
     "text": [
      "********************************************************************************\n",
      "Building QNN model with 2 layer(s)\n",
      "********************************************************************************\n",
      "\n",
      "Using 7 qubits\n",
      "Model: \"QNN\"\n",
      "_________________________________________________________________\n",
      " Layer (type)                Output Shape              Param #   \n",
      "=================================================================\n",
      " inputs (InputLayer)         [(None, 81)]              0         \n",
      "                                                                 \n",
      " quantumLayer (KerasLayer)   (None, 7)                 78        \n",
      "                                                                 \n",
      " softmax (Lambda)            (None, 7)                 0         \n",
      "                                                                 \n",
      "=================================================================\n",
      "Total params: 78 (624.00 Byte)\n",
      "Trainable params: 78 (624.00 Byte)\n",
      "Non-trainable params: 0 (0.00 Byte)\n",
      "_________________________________________________________________\n",
      "None\n",
      "x shape = (41935, 81)\n",
      "x train shape = (3500, 81)\n",
      "x test shape = (6989, 81)\n",
      "Epoch 1/20\n",
      "55/55 [==============================] - 43s 787ms/step - loss: 1.9658 - accuracy: 0.2231 - val_loss: 1.9438 - val_accuracy: 0.2381\n",
      "Epoch 2/20\n",
      "55/55 [==============================] - 42s 764ms/step - loss: 1.9250 - accuracy: 0.2574 - val_loss: 1.9247 - val_accuracy: 0.2501\n",
      "Epoch 3/20\n",
      "55/55 [==============================] - 42s 767ms/step - loss: 1.9102 - accuracy: 0.2660 - val_loss: 1.9130 - val_accuracy: 0.2517\n",
      "Epoch 4/20\n",
      "55/55 [==============================] - 43s 788ms/step - loss: 1.8996 - accuracy: 0.2597 - val_loss: 1.9029 - val_accuracy: 0.2598\n",
      "Epoch 5/20\n",
      "55/55 [==============================] - 43s 781ms/step - loss: 1.8892 - accuracy: 0.2766 - val_loss: 1.8930 - val_accuracy: 0.2680\n",
      "Epoch 6/20\n",
      "55/55 [==============================] - 42s 778ms/step - loss: 1.8792 - accuracy: 0.2980 - val_loss: 1.8836 - val_accuracy: 0.2952\n",
      "Epoch 7/20\n",
      "55/55 [==============================] - 42s 777ms/step - loss: 1.8720 - accuracy: 0.3266 - val_loss: 1.8775 - val_accuracy: 0.3166\n",
      "Epoch 8/20\n",
      "55/55 [==============================] - 42s 762ms/step - loss: 1.8676 - accuracy: 0.3574 - val_loss: 1.8732 - val_accuracy: 0.3391\n",
      "Epoch 9/20\n",
      "55/55 [==============================] - 42s 766ms/step - loss: 1.8641 - accuracy: 0.3706 - val_loss: 1.8691 - val_accuracy: 0.3523\n",
      "Epoch 10/20\n",
      "55/55 [==============================] - 41s 760ms/step - loss: 1.8611 - accuracy: 0.3760 - val_loss: 1.8661 - val_accuracy: 0.3567\n",
      "Epoch 11/20\n",
      "55/55 [==============================] - 41s 758ms/step - loss: 1.8588 - accuracy: 0.3751 - val_loss: 1.8634 - val_accuracy: 0.3536\n",
      "Epoch 12/20\n",
      "55/55 [==============================] - 42s 761ms/step - loss: 1.8566 - accuracy: 0.3766 - val_loss: 1.8610 - val_accuracy: 0.3488\n",
      "Epoch 13/20\n",
      "55/55 [==============================] - 42s 763ms/step - loss: 1.8540 - accuracy: 0.3740 - val_loss: 1.8575 - val_accuracy: 0.3599\n",
      "Epoch 14/20\n",
      "55/55 [==============================] - 41s 761ms/step - loss: 1.8500 - accuracy: 0.3923 - val_loss: 1.8514 - val_accuracy: 0.3913\n",
      "Epoch 15/20\n",
      "55/55 [==============================] - 41s 759ms/step - loss: 1.8436 - accuracy: 0.4103 - val_loss: 1.8437 - val_accuracy: 0.3952\n",
      "Epoch 16/20\n",
      "55/55 [==============================] - 42s 761ms/step - loss: 1.8380 - accuracy: 0.3954 - val_loss: 1.8386 - val_accuracy: 0.3772\n",
      "Epoch 17/20\n",
      "55/55 [==============================] - 41s 758ms/step - loss: 1.8327 - accuracy: 0.3991 - val_loss: 1.8318 - val_accuracy: 0.4081\n",
      "Epoch 18/20\n",
      "55/55 [==============================] - 42s 763ms/step - loss: 1.8246 - accuracy: 0.4237 - val_loss: 1.8232 - val_accuracy: 0.4506\n",
      "Epoch 19/20\n",
      "55/55 [==============================] - 41s 757ms/step - loss: 1.8175 - accuracy: 0.4540 - val_loss: 1.8171 - val_accuracy: 0.4633\n",
      "Epoch 20/20\n",
      "55/55 [==============================] - 42s 762ms/step - loss: 1.8111 - accuracy: 0.4677 - val_loss: 1.8103 - val_accuracy: 0.4693\n",
      "219/219 [==============================] - 35s 162ms/step - loss: 1.8103 - accuracy: 0.4693\n",
      "\n",
      "Test loss: 1.8103, Test accuracy: 0.4693\n",
      "\n",
      "\n",
      "********************************************************************************\n",
      "Building QNN model with 3 layer(s)\n",
      "********************************************************************************\n",
      "\n",
      "Using 7 qubits\n",
      "Model: \"QNN\"\n",
      "_________________________________________________________________\n",
      " Layer (type)                Output Shape              Param #   \n",
      "=================================================================\n",
      " inputs (InputLayer)         [(None, 81)]              0         \n",
      "                                                                 \n",
      " quantumLayer (KerasLayer)   (None, 7)                 117       \n",
      "                                                                 \n",
      " softmax (Lambda)            (None, 7)                 0         \n",
      "                                                                 \n",
      "=================================================================\n",
      "Total params: 117 (936.00 Byte)\n",
      "Trainable params: 117 (936.00 Byte)\n",
      "Non-trainable params: 0 (0.00 Byte)\n",
      "_________________________________________________________________\n",
      "None\n",
      "x shape = (41935, 81)\n",
      "x train shape = (3500, 81)\n",
      "x test shape = (6989, 81)\n",
      "Epoch 1/20\n",
      "55/55 [==============================] - 59s 1s/step - loss: 1.9507 - accuracy: 0.1903 - val_loss: 1.9302 - val_accuracy: 0.2361\n",
      "Epoch 2/20\n",
      "55/55 [==============================] - 60s 1s/step - loss: 1.9067 - accuracy: 0.2869 - val_loss: 1.8933 - val_accuracy: 0.3099\n",
      "Epoch 3/20\n",
      "55/55 [==============================] - 59s 1s/step - loss: 1.8749 - accuracy: 0.3577 - val_loss: 1.8689 - val_accuracy: 0.3656\n",
      "Epoch 4/20\n",
      "55/55 [==============================] - 59s 1s/step - loss: 1.8514 - accuracy: 0.4057 - val_loss: 1.8497 - val_accuracy: 0.4207\n",
      "Epoch 5/20\n",
      "55/55 [==============================] - 59s 1s/step - loss: 1.8341 - accuracy: 0.4546 - val_loss: 1.8325 - val_accuracy: 0.4700\n",
      "Epoch 6/20\n",
      "55/55 [==============================] - 60s 1s/step - loss: 1.8185 - accuracy: 0.4909 - val_loss: 1.8177 - val_accuracy: 0.5042\n",
      "Epoch 7/20\n",
      "55/55 [==============================] - 60s 1s/step - loss: 1.8035 - accuracy: 0.5189 - val_loss: 1.7974 - val_accuracy: 0.5294\n",
      "Epoch 8/20\n",
      "55/55 [==============================] - 59s 1s/step - loss: 1.7818 - accuracy: 0.5500 - val_loss: 1.7755 - val_accuracy: 0.5453\n",
      "Epoch 9/20\n",
      "55/55 [==============================] - 59s 1s/step - loss: 1.7664 - accuracy: 0.5631 - val_loss: 1.7655 - val_accuracy: 0.5573\n",
      "Epoch 10/20\n",
      "55/55 [==============================] - 60s 1s/step - loss: 1.7597 - accuracy: 0.5569 - val_loss: 1.7626 - val_accuracy: 0.5443\n",
      "Epoch 11/20\n",
      "55/55 [==============================] - 60s 1s/step - loss: 1.7556 - accuracy: 0.5569 - val_loss: 1.7595 - val_accuracy: 0.5491\n",
      "Epoch 12/20\n",
      "55/55 [==============================] - 59s 1s/step - loss: 1.7513 - accuracy: 0.5517 - val_loss: 1.7559 - val_accuracy: 0.5416\n",
      "Epoch 13/20\n",
      "55/55 [==============================] - 59s 1s/step - loss: 1.7477 - accuracy: 0.5491 - val_loss: 1.7529 - val_accuracy: 0.5393\n",
      "Epoch 14/20\n",
      "55/55 [==============================] - 59s 1s/step - loss: 1.7449 - accuracy: 0.5423 - val_loss: 1.7510 - val_accuracy: 0.5396\n",
      "Epoch 15/20\n",
      "55/55 [==============================] - 59s 1s/step - loss: 1.7433 - accuracy: 0.5403 - val_loss: 1.7493 - val_accuracy: 0.5406\n",
      "Epoch 16/20\n",
      "55/55 [==============================] - 60s 1s/step - loss: 1.7421 - accuracy: 0.5434 - val_loss: 1.7489 - val_accuracy: 0.5416\n",
      "Epoch 17/20\n",
      "55/55 [==============================] - 60s 1s/step - loss: 1.7410 - accuracy: 0.5477 - val_loss: 1.7483 - val_accuracy: 0.5437\n",
      "Epoch 18/20\n",
      "55/55 [==============================] - 60s 1s/step - loss: 1.7402 - accuracy: 0.5460 - val_loss: 1.7476 - val_accuracy: 0.5447\n",
      "Epoch 19/20\n",
      "55/55 [==============================] - 60s 1s/step - loss: 1.7393 - accuracy: 0.5534 - val_loss: 1.7469 - val_accuracy: 0.5486\n",
      "Epoch 20/20\n",
      "55/55 [==============================] - 59s 1s/step - loss: 1.7383 - accuracy: 0.5634 - val_loss: 1.7462 - val_accuracy: 0.5459\n",
      "219/219 [==============================] - 52s 237ms/step - loss: 1.7462 - accuracy: 0.5459\n",
      "\n",
      "Test loss: 1.7462, Test accuracy: 0.5459\n",
      "\n",
      "\n"
     ]
    }
   ],
   "source": [
    "qnn_list = []\n",
    "\n",
    "for num_of_layers in [2, 3]:\n",
    "    qnn_history, model_training_time, qnn_results = build_qnn_model(num_of_layers)\n",
    "    qnn_list.append([num_of_layers, qnn_history, model_training_time, qnn_results])"
   ]
  },
  {
   "attachments": {},
   "cell_type": "markdown",
   "metadata": {},
   "source": [
    "## Plot the results!"
   ]
  },
  {
   "cell_type": "code",
   "execution_count": 13,
   "metadata": {},
   "outputs": [
    {
     "name": "stdout",
     "output_type": "stream",
     "text": [
      "Training time for 2-layer QNN: 0:13:56.624140\n",
      "\n",
      "Training time for 3-layer QNN: 0:19:51.130289\n",
      "\n"
     ]
    }
   ],
   "source": [
    "qnn_histories = {}\n",
    "\n",
    "for [i, qnn_history, model_training_time, qnn_results] in qnn_list:\n",
    "    print(f\"Training time for {i}-layer QNN: {model_training_time}\")\n",
    "    print()\n",
    "    if i not in qnn_histories:\n",
    "        qnn_histories[i] = []\n",
    "    qnn_histories[i].append(qnn_history)"
   ]
  },
  {
   "cell_type": "code",
   "execution_count": 14,
   "metadata": {},
   "outputs": [
    {
     "data": {
      "image/png": "[encoded data removed]",
      "text/plain": [
       "<Figure size 640x480 with 1 Axes>"
      ]
     },
     "metadata": {},
     "output_type": "display_data"
    }
   ],
   "source": [
    "# plot the hinge accuracy for the qnn history\n",
    "for n in qnn_histories.keys():\n",
    "    plt.plot(np.arange(1,21), qnn_histories[n][0].history[\"accuracy\"], label=f\"{n} layer QNN\")\n",
    "\n",
    "plt.xlabel(\"Epoch\")\n",
    "plt.ylabel(\"Hinge Accuracy\")\n",
    "plt.legend()\n",
    "# modify x_ticks to also include 20\n",
    "plt.xticks(np.arange(0, 21, 2))\n",
    "# save as pdf with tight layout and no padding\n",
    "#plt.savefig(\"qnn_hinge_accuracy.pdf\", bbox_inches=\"tight\", pad_inches=0)\n",
    "plt.show()"
   ]
  },
  {
   "cell_type": "code",
   "execution_count": 15,
   "metadata": {},
   "outputs": [
    {
     "data": {
      "image/png": "[encoded data removed]",
      "text/plain": [
       "<Figure size 640x480 with 1 Axes>"
      ]
     },
     "metadata": {},
     "output_type": "display_data"
    }
   ],
   "source": [
    "# plot the hinge accuracy for the loss for both 1 and 2 layer on the same axes\n",
    "for n in qnn_histories.keys():\n",
    "    plt.plot(np.arange(1,21), qnn_histories[n][0].history[\"loss\"], label=f\"{n} layer QNN\")\n",
    "\n",
    "plt.xlabel(\"Epoch\")\n",
    "plt.ylabel(\"Hinge Loss\")\n",
    "plt.legend()\n",
    "# modify x_ticks to also include 20\n",
    "plt.xticks(np.arange(0, 21, 2))\n",
    "# save as pdf with tight layout and no padding\n",
    "#plt.savefig(\"qnn_hinge_loss.pdf\", bbox_inches=\"tight\", pad_inches=0)\n",
    "plt.show()"
   ]
  },
  {
   "cell_type": "code",
   "execution_count": 16,
   "metadata": {},
   "outputs": [
    {
     "name": "stdout",
     "output_type": "stream",
     "text": [
      "Saved qnn_histories to qnn_histories_20250427181115.pkl\n"
     ]
    }
   ],
   "source": [
    "import pickle\n",
    "\n",
    "timestamp = datetime.now().strftime(\"%Y%m%d%H%M%S\")\n",
    "with open(f'qnn_histories_{timestamp}.pkl', 'wb') as f:\n",
    "    pickle.dump(qnn_histories, f)\n",
    "\n",
    "print(f\"Saved qnn_histories to qnn_histories_{timestamp}.pkl\")"
   ]
  }
 ],
 "metadata": {
  "kernelspec": {
   "display_name": "phys4041",
   "language": "python",
   "name": "python3"
  },
  "language_info": {
   "codemirror_mode": {
    "name": "ipython",
    "version": 3
   },
   "file_extension": ".py",
   "mimetype": "text/x-python",
   "name": "python",
   "nbconvert_exporter": "python",
   "pygments_lexer": "ipython3",
   "version": "3.10.16"
  },
  "orig_nbformat": 4
 },
 "nbformat": 4,
 "nbformat_minor": 2
}
