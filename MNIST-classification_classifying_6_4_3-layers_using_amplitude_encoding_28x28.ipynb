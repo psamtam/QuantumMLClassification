{
 "cells": [
  {
   "cell_type": "markdown",
   "metadata": {},
   "source": [
    "## Classifying between 6 and 4\n",
    "## Using amplitude encoding (28x28)"
   ]
  },
  {
   "cell_type": "code",
   "execution_count": 2,
   "metadata": {},
   "outputs": [],
   "source": [
    "import pennylane as qml\n",
    "import tensorflow as tf\n",
    "#import sklearn.datasets\n",
    "#from sklearn.datasets import fetch_openml\n",
    "\n",
    "import numpy as np\n",
    "\n",
    "from matplotlib import pyplot as plt\n",
    "\n",
    "tf.keras.backend.set_floatx('float64')\n",
    "\n",
    "from silence_tensorflow import silence_tensorflow\n",
    "silence_tensorflow()  # this stops tensorflow complaining about converting from complex to float!\n",
    "\n",
    "from datetime import datetime"
   ]
  },
  {
   "attachments": {},
   "cell_type": "markdown",
   "metadata": {},
   "source": [
    "## Load and reduce the data\n",
    "\n",
    "Load the MNIST data and check number of training and test examples"
   ]
  },
  {
   "cell_type": "code",
   "execution_count": 3,
   "metadata": {},
   "outputs": [
    {
     "name": "stdout",
     "output_type": "stream",
     "text": [
      "Number of original training examples: 60000\n",
      "Number of original test examples: 10000\n"
     ]
    }
   ],
   "source": [
    "(x_train, y_train), (x_test, y_test) = tf.keras.datasets.mnist.load_data()\n",
    "\n",
    "# Rescale the images from [0,255] to the [0.0,1.0] range.\n",
    "x_train, x_test = x_train[..., np.newaxis]/255.0, x_test[..., np.newaxis]/255.0  # add colour dimension\n",
    "\n",
    "print(\"Number of original training examples:\", len(x_train))\n",
    "print(\"Number of original test examples:\", len(x_test))"
   ]
  },
  {
   "attachments": {},
   "cell_type": "markdown",
   "metadata": {},
   "source": [
    "Create a function to filter out only 0 and 2"
   ]
  },
  {
   "cell_type": "code",
   "execution_count": 4,
   "metadata": {},
   "outputs": [],
   "source": [
    "def filter_64(x, y):\n",
    "    keep = (y == 6) | (y == 4)\n",
    "    x, y = x[keep], y[keep]\n",
    "    y = y == 4\n",
    "    return x,y"
   ]
  },
  {
   "cell_type": "code",
   "execution_count": 5,
   "metadata": {},
   "outputs": [
    {
     "name": "stdout",
     "output_type": "stream",
     "text": [
      "Number of filtered training examples: 11760\n",
      "Number of filtered test examples: 1940\n"
     ]
    }
   ],
   "source": [
    "x_train, y_train = filter_64(x_train, y_train)\n",
    "x_test, y_test = filter_64(x_test, y_test)\n",
    "\n",
    "print(\"Number of filtered training examples:\", len(x_train))\n",
    "print(\"Number of filtered test examples:\", len(x_test))"
   ]
  },
  {
   "attachments": {},
   "cell_type": "markdown",
   "metadata": {},
   "source": [
    "Plot the original images"
   ]
  },
  {
   "cell_type": "code",
   "execution_count": 6,
   "metadata": {},
   "outputs": [],
   "source": [
    "i = 0"
   ]
  },
  {
   "cell_type": "code",
   "execution_count": 7,
   "metadata": {},
   "outputs": [
    {
     "data": {
      "image/png": "[encoded data removed]",
      "text/plain": [
       "<Figure size 640x480 with 1 Axes>"
      ]
     },
     "metadata": {},
     "output_type": "display_data"
    }
   ],
   "source": [
    "i += 1\n",
    "plt.imshow(x_train[i, :, :, 0], cmap='Greys')\n",
    "ax = plt.gca()\n",
    "ax.set_xticks([])\n",
    "ax.set_yticks([])\n",
    "plt.title(f\"28x28 image of a {'4' if (y_train[i] == 1) else '6'}\", fontsize=20)\n",
    "# save to file as pdf\n",
    "plt.savefig('28x28_MNIST_0.pdf', bbox_inches='tight', pad_inches=0)\n",
    "plt.show()"
   ]
  },
  {
   "attachments": {},
   "cell_type": "markdown",
   "metadata": {},
   "source": [
    "Flatten the images to [784]"
   ]
  },
  {
   "cell_type": "code",
   "execution_count": 8,
   "metadata": {},
   "outputs": [
    {
     "data": {
      "text/plain": [
       "((11760, 784), (1940, 784))"
      ]
     },
     "execution_count": 8,
     "metadata": {},
     "output_type": "execute_result"
    }
   ],
   "source": [
    "x_train_flatten = x_train.reshape(x_train.shape[0], x_train.shape[1] * x_train.shape[2])\n",
    "x_test_flatten = x_test.reshape(x_test.shape[0], x_test.shape[1] * x_test.shape[2])\n",
    "x_train_flatten.shape, x_test_flatten.shape"
   ]
  },
  {
   "attachments": {},
   "cell_type": "markdown",
   "metadata": {},
   "source": [
    "## Set up the Quantum Neural Network\n",
    "\n",
    "Create quantum circuit using pennylane qnode, then conver this to a Keras layer to make a Keras model"
   ]
  },
  {
   "cell_type": "code",
   "execution_count": 9,
   "metadata": {},
   "outputs": [],
   "source": [
    "def build_qnn_model(num_of_layers):\n",
    "    print(f\"{80*'*'}\")\n",
    "    print(f\"Building QNN model with {num_of_layers} layer(s)\")\n",
    "    print(f\"{80*'*'}\")\n",
    "    print()\n",
    "    n_qubits = int(np.ceil(np.log2(x_train_flatten.shape[-1])))\n",
    "    n_layers = num_of_layers\n",
    "\n",
    "    dev = qml.device(\"default.qubit\", wires=n_qubits)\n",
    "\n",
    "    @qml.qnode(dev, interface=\"tf\")\n",
    "    def qnode(inputs, weights):\n",
    "        \n",
    "        qml.AmplitudeEmbedding(features=inputs, wires=range(n_qubits), pad_with=0., normalize=True)\n",
    "\n",
    "        for jj in range(n_layers):\n",
    "            for ii in range(n_qubits-1):\n",
    "                qml.RZ(weights[jj,2*ii,0], wires=0)\n",
    "                qml.RY(weights[jj,2*ii,1], wires=0)\n",
    "                qml.RZ(weights[jj,2*ii,2], wires=0)\n",
    "\n",
    "                qml.RZ(weights[jj,2*ii+1,0], wires=ii+1)\n",
    "                qml.RY(weights[jj,2*ii+1,1], wires=ii+1)\n",
    "                qml.RZ(weights[jj,2*ii+1,2], wires=ii+1)\n",
    "\n",
    "                #qml.U3(*list(weights[jj,2*ii,:]), wires=0)\n",
    "                #qml.U3(*list(weights[jj,2*ii+1,:]), wires=ii+1)\n",
    "                qml.CNOT(wires=[ii+1,0])\n",
    "                \n",
    "            qml.RZ(weights[jj,2*(n_qubits-1),0], wires=0)\n",
    "            qml.RY(weights[jj,2*(n_qubits-1),1], wires=0)\n",
    "            qml.RZ(weights[jj,2*(n_qubits-1),2], wires=0)\n",
    "\n",
    "        return qml.expval(qml.PauliZ(0))\n",
    "\n",
    "    weight_shapes = {\"weights\": (n_layers, 2*(n_qubits-1)+1, 3) }\n",
    "\n",
    "    qlayer = qml.qnn.KerasLayer(qnode, weight_shapes, output_dim=1, name=\"quantumLayer\")\n",
    "    inputs = tf.keras.Input(shape=(x_train_flatten.shape[-1],), name=\"inputs\")\n",
    "    outputs = qlayer(inputs)\n",
    "    model = tf.keras.Model(inputs=inputs, outputs=outputs, name=\"QNN\")\n",
    "\n",
    "    y_train_hinge = 2.0*y_train-1.0\n",
    "    y_test_hinge = 2.0*y_test-1.0\n",
    "\n",
    "    def hinge_accuracy(y_true, y_pred):\n",
    "        y_true = tf.squeeze(y_true) > 0.0\n",
    "        y_pred = tf.squeeze(y_pred) > 0.0\n",
    "        result = tf.cast(y_true == y_pred, tf.float32)\n",
    "\n",
    "        return tf.reduce_mean(result)\n",
    "    \n",
    "    model.compile(\n",
    "        loss=tf.keras.losses.Hinge(),\n",
    "        optimizer=tf.keras.optimizers.Adam(),\n",
    "        metrics=[hinge_accuracy])\n",
    "    \n",
    "    print(model.summary())\n",
    "\n",
    "    EPOCHS = 20\n",
    "    BATCH_SIZE = 32\n",
    "\n",
    "    NUM_EXAMPLES = 512 \n",
    "    print(f\"x shape = {x_train_flatten.shape}\")\n",
    "\n",
    "    x_train_sub = x_train_flatten[:NUM_EXAMPLES]\n",
    "    y_train_hinge_sub = y_train_hinge[:NUM_EXAMPLES]\n",
    "\n",
    "    print(f\"x train shape = {x_train_sub.shape}\")\n",
    "\n",
    "    x_test_sub = x_test_flatten[:,:]\n",
    "    y_test_sub = y_test[:]\n",
    "\n",
    "    print(f\"x test shape = {x_test_sub.shape}\")\n",
    "\n",
    "    start_time = datetime.now()\n",
    "\n",
    "    qnn_history = model.fit(\n",
    "        x_train_sub, y_train_hinge_sub,\n",
    "        batch_size=BATCH_SIZE,\n",
    "        epochs=EPOCHS,\n",
    "        verbose=1)#,\n",
    "        #validation_data=(x_test_sub, y_test_sub))\n",
    "\n",
    "    model_training_time = datetime.now() - start_time\n",
    "\n",
    "    qnn_results = model.evaluate(x_test_sub, y_test_sub)\n",
    "\n",
    "    print()\n",
    "\n",
    "    return qnn_history, model_training_time, qnn_results"
   ]
  },
  {
   "cell_type": "code",
   "execution_count": 10,
   "metadata": {},
   "outputs": [
    {
     "name": "stdout",
     "output_type": "stream",
     "text": [
      "********************************************************************************\n",
      "Building QNN model with 1 layer(s)\n",
      "********************************************************************************\n",
      "\n",
      "Model: \"QNN\"\n",
      "_________________________________________________________________\n",
      " Layer (type)                Output Shape              Param #   \n",
      "=================================================================\n",
      " inputs (InputLayer)         [(None, 784)]             0         \n",
      "                                                                 \n",
      " quantumLayer (KerasLayer)   (None, 1)                 57        \n",
      "                                                                 \n",
      "=================================================================\n",
      "Total params: 57 (456.00 Byte)\n",
      "Trainable params: 57 (456.00 Byte)\n",
      "Non-trainable params: 0 (0.00 Byte)\n",
      "_________________________________________________________________\n",
      "None\n",
      "x shape = (11760, 784)\n",
      "x train shape = (512, 784)\n",
      "x test shape = (1940, 784)\n",
      "Epoch 1/20\n",
      "16/16 [==============================] - 6s 373ms/step - loss: 0.9986 - hinge_accuracy: 0.5273\n",
      "Epoch 2/20\n",
      "16/16 [==============================] - 6s 363ms/step - loss: 0.9965 - hinge_accuracy: 0.5430\n",
      "Epoch 3/20\n",
      "16/16 [==============================] - 6s 347ms/step - loss: 0.9943 - hinge_accuracy: 0.5645\n",
      "Epoch 4/20\n",
      "16/16 [==============================] - 6s 362ms/step - loss: 0.9920 - hinge_accuracy: 0.5820\n",
      "Epoch 5/20\n",
      "16/16 [==============================] - 6s 360ms/step - loss: 0.9895 - hinge_accuracy: 0.6035\n",
      "Epoch 6/20\n",
      "16/16 [==============================] - 6s 371ms/step - loss: 0.9868 - hinge_accuracy: 0.6250\n",
      "Epoch 7/20\n",
      "16/16 [==============================] - 6s 358ms/step - loss: 0.9838 - hinge_accuracy: 0.6465\n",
      "Epoch 8/20\n",
      "16/16 [==============================] - 6s 359ms/step - loss: 0.9806 - hinge_accuracy: 0.6816\n",
      "Epoch 9/20\n",
      "16/16 [==============================] - 6s 363ms/step - loss: 0.9769 - hinge_accuracy: 0.7090\n",
      "Epoch 10/20\n",
      "16/16 [==============================] - 6s 356ms/step - loss: 0.9729 - hinge_accuracy: 0.7305\n",
      "Epoch 11/20\n",
      "16/16 [==============================] - 6s 361ms/step - loss: 0.9686 - hinge_accuracy: 0.7598\n",
      "Epoch 12/20\n",
      "16/16 [==============================] - 5s 344ms/step - loss: 0.9638 - hinge_accuracy: 0.7715\n",
      "Epoch 13/20\n",
      "16/16 [==============================] - 6s 346ms/step - loss: 0.9586 - hinge_accuracy: 0.7793\n",
      "Epoch 14/20\n",
      "16/16 [==============================] - 6s 344ms/step - loss: 0.9531 - hinge_accuracy: 0.7734\n",
      "Epoch 15/20\n",
      "16/16 [==============================] - 6s 348ms/step - loss: 0.9472 - hinge_accuracy: 0.7695\n",
      "Epoch 16/20\n",
      "16/16 [==============================] - 6s 344ms/step - loss: 0.9411 - hinge_accuracy: 0.7617\n",
      "Epoch 17/20\n",
      "16/16 [==============================] - 6s 345ms/step - loss: 0.9349 - hinge_accuracy: 0.7500\n",
      "Epoch 18/20\n",
      "16/16 [==============================] - 5s 339ms/step - loss: 0.9288 - hinge_accuracy: 0.7207\n",
      "Epoch 19/20\n",
      "16/16 [==============================] - 5s 342ms/step - loss: 0.9221 - hinge_accuracy: 0.7168\n",
      "Epoch 20/20\n",
      "16/16 [==============================] - 5s 342ms/step - loss: 0.9159 - hinge_accuracy: 0.7051\n",
      "61/61 [==============================] - 8s 136ms/step - loss: 0.9156 - hinge_accuracy: 0.6783\n",
      "\n",
      "********************************************************************************\n",
      "Building QNN model with 2 layer(s)\n",
      "********************************************************************************\n",
      "\n",
      "Model: \"QNN\"\n",
      "_________________________________________________________________\n",
      " Layer (type)                Output Shape              Param #   \n",
      "=================================================================\n",
      " inputs (InputLayer)         [(None, 784)]             0         \n",
      "                                                                 \n",
      " quantumLayer (KerasLayer)   (None, 1)                 114       \n",
      "                                                                 \n",
      "=================================================================\n",
      "Total params: 114 (912.00 Byte)\n",
      "Trainable params: 114 (912.00 Byte)\n",
      "Non-trainable params: 0 (0.00 Byte)\n",
      "_________________________________________________________________\n",
      "None\n",
      "x shape = (11760, 784)\n",
      "x train shape = (512, 784)\n",
      "x test shape = (1940, 784)\n",
      "Epoch 1/20\n",
      "16/16 [==============================] - 11s 681ms/step - loss: 0.9021 - hinge_accuracy: 0.5234\n",
      "Epoch 2/20\n",
      "16/16 [==============================] - 11s 673ms/step - loss: 0.8940 - hinge_accuracy: 0.5234\n",
      "Epoch 3/20\n",
      "16/16 [==============================] - 11s 664ms/step - loss: 0.8874 - hinge_accuracy: 0.5234\n",
      "Epoch 4/20\n",
      "16/16 [==============================] - 11s 671ms/step - loss: 0.8820 - hinge_accuracy: 0.5254\n",
      "Epoch 5/20\n",
      "16/16 [==============================] - 11s 666ms/step - loss: 0.8769 - hinge_accuracy: 0.5254\n",
      "Epoch 6/20\n",
      "16/16 [==============================] - 11s 682ms/step - loss: 0.8725 - hinge_accuracy: 0.5254\n",
      "Epoch 7/20\n",
      "16/16 [==============================] - 11s 715ms/step - loss: 0.8686 - hinge_accuracy: 0.5254\n",
      "Epoch 8/20\n",
      "16/16 [==============================] - 11s 688ms/step - loss: 0.8649 - hinge_accuracy: 0.5254\n",
      "Epoch 9/20\n",
      "16/16 [==============================] - 11s 685ms/step - loss: 0.8614 - hinge_accuracy: 0.5254\n",
      "Epoch 10/20\n",
      "16/16 [==============================] - 11s 701ms/step - loss: 0.8579 - hinge_accuracy: 0.5254\n",
      "Epoch 11/20\n",
      "16/16 [==============================] - 12s 735ms/step - loss: 0.8548 - hinge_accuracy: 0.5254\n",
      "Epoch 12/20\n",
      "16/16 [==============================] - 13s 787ms/step - loss: 0.8516 - hinge_accuracy: 0.5254\n",
      "Epoch 13/20\n",
      "16/16 [==============================] - 12s 742ms/step - loss: 0.8485 - hinge_accuracy: 0.5273\n",
      "Epoch 14/20\n",
      "16/16 [==============================] - 13s 832ms/step - loss: 0.8455 - hinge_accuracy: 0.5273\n",
      "Epoch 15/20\n",
      "16/16 [==============================] - 13s 792ms/step - loss: 0.8425 - hinge_accuracy: 0.5273\n",
      "Epoch 16/20\n",
      "16/16 [==============================] - 13s 819ms/step - loss: 0.8395 - hinge_accuracy: 0.5293\n",
      "Epoch 17/20\n",
      "16/16 [==============================] - 12s 773ms/step - loss: 0.8366 - hinge_accuracy: 0.5293\n",
      "Epoch 18/20\n",
      "16/16 [==============================] - 15s 927ms/step - loss: 0.8336 - hinge_accuracy: 0.5332\n",
      "Epoch 19/20\n",
      "16/16 [==============================] - 15s 923ms/step - loss: 0.8308 - hinge_accuracy: 0.5371\n",
      "Epoch 20/20\n",
      "16/16 [==============================] - 14s 881ms/step - loss: 0.8281 - hinge_accuracy: 0.5391\n",
      "61/61 [==============================] - 17s 273ms/step - loss: 0.8502 - hinge_accuracy: 0.5149\n",
      "\n",
      "********************************************************************************\n",
      "Building QNN model with 3 layer(s)\n",
      "********************************************************************************\n",
      "\n",
      "Model: \"QNN\"\n",
      "_________________________________________________________________\n",
      " Layer (type)                Output Shape              Param #   \n",
      "=================================================================\n",
      " inputs (InputLayer)         [(None, 784)]             0         \n",
      "                                                                 \n",
      " quantumLayer (KerasLayer)   (None, 1)                 171       \n",
      "                                                                 \n",
      "=================================================================\n",
      "Total params: 171 (1.34 KB)\n",
      "Trainable params: 171 (1.34 KB)\n",
      "Non-trainable params: 0 (0.00 Byte)\n",
      "_________________________________________________________________\n",
      "None\n",
      "x shape = (11760, 784)\n",
      "x train shape = (512, 784)\n",
      "x test shape = (1940, 784)\n",
      "Epoch 1/20\n",
      "16/16 [==============================] - 18s 1s/step - loss: 1.0100 - hinge_accuracy: 0.3828\n",
      "Epoch 2/20\n",
      "16/16 [==============================] - 16s 1s/step - loss: 0.9968 - hinge_accuracy: 0.5156\n",
      "Epoch 3/20\n",
      "16/16 [==============================] - 16s 992ms/step - loss: 0.9839 - hinge_accuracy: 0.6289\n",
      "Epoch 4/20\n",
      "16/16 [==============================] - 16s 997ms/step - loss: 0.9715 - hinge_accuracy: 0.7148\n",
      "Epoch 5/20\n",
      "16/16 [==============================] - 16s 1s/step - loss: 0.9602 - hinge_accuracy: 0.7422\n",
      "Epoch 6/20\n",
      "16/16 [==============================] - 16s 1s/step - loss: 0.9485 - hinge_accuracy: 0.7637\n",
      "Epoch 7/20\n",
      "16/16 [==============================] - 16s 1s/step - loss: 0.9384 - hinge_accuracy: 0.8027\n",
      "Epoch 8/20\n",
      "16/16 [==============================] - 16s 999ms/step - loss: 0.9290 - hinge_accuracy: 0.8516\n",
      "Epoch 9/20\n",
      "16/16 [==============================] - 16s 1s/step - loss: 0.9204 - hinge_accuracy: 0.8672\n",
      "Epoch 10/20\n",
      "16/16 [==============================] - 16s 1s/step - loss: 0.9126 - hinge_accuracy: 0.8516\n",
      "Epoch 11/20\n",
      "16/16 [==============================] - 16s 1s/step - loss: 0.9053 - hinge_accuracy: 0.8496\n",
      "Epoch 12/20\n",
      "16/16 [==============================] - 17s 1s/step - loss: 0.8987 - hinge_accuracy: 0.8613\n",
      "Epoch 13/20\n",
      "16/16 [==============================] - 17s 1s/step - loss: 0.8926 - hinge_accuracy: 0.8691\n",
      "Epoch 14/20\n",
      "16/16 [==============================] - 17s 1s/step - loss: 0.8866 - hinge_accuracy: 0.8672\n",
      "Epoch 15/20\n",
      "16/16 [==============================] - 17s 1s/step - loss: 0.8809 - hinge_accuracy: 0.8457\n",
      "Epoch 16/20\n",
      "16/16 [==============================] - 16s 1s/step - loss: 0.8755 - hinge_accuracy: 0.8418\n",
      "Epoch 17/20\n",
      "16/16 [==============================] - 16s 994ms/step - loss: 0.8702 - hinge_accuracy: 0.8262\n",
      "Epoch 18/20\n",
      "16/16 [==============================] - 16s 988ms/step - loss: 0.8651 - hinge_accuracy: 0.8047\n",
      "Epoch 19/20\n",
      "16/16 [==============================] - 16s 1s/step - loss: 0.8602 - hinge_accuracy: 0.7930\n",
      "Epoch 20/20\n",
      "16/16 [==============================] - 16s 985ms/step - loss: 0.8556 - hinge_accuracy: 0.7832\n",
      "61/61 [==============================] - 24s 387ms/step - loss: 0.8624 - hinge_accuracy: 0.7317\n",
      "\n"
     ]
    }
   ],
   "source": [
    "qnn_list = []\n",
    "\n",
    "for i in range(1, 4):\n",
    "    qnn_history, model_training_time, qnn_results = build_qnn_model(i)\n",
    "    qnn_list.append([i, qnn_history, model_training_time, qnn_results])"
   ]
  },
  {
   "attachments": {},
   "cell_type": "markdown",
   "metadata": {},
   "source": [
    "## Plot the results!"
   ]
  },
  {
   "cell_type": "code",
   "execution_count": 11,
   "metadata": {},
   "outputs": [
    {
     "name": "stdout",
     "output_type": "stream",
     "text": [
      "Training time for 1-layer QNN: 0:01:53.211095\n",
      "\n",
      "Training time for 2-layer QNN: 0:04:00.890971\n",
      "\n",
      "Training time for 3-layer QNN: 0:05:26.365146\n",
      "\n"
     ]
    }
   ],
   "source": [
    "qnn_histories = {}\n",
    "\n",
    "for [i, qnn_history, model_training_time, qnn_results] in qnn_list:\n",
    "    print(f\"Training time for {i}-layer QNN: {model_training_time}\")\n",
    "    print()\n",
    "    if i not in qnn_histories:\n",
    "        qnn_histories[i] = []\n",
    "    qnn_histories[i].append(qnn_history)"
   ]
  },
  {
   "cell_type": "code",
   "execution_count": 12,
   "metadata": {},
   "outputs": [
    {
     "data": {
      "image/png": "[encoded data removed]",
      "text/plain": [
       "<Figure size 640x480 with 1 Axes>"
      ]
     },
     "metadata": {},
     "output_type": "display_data"
    }
   ],
   "source": [
    "# plot the hinge accuracy for the qnn history for both 1 and 2 layer on the same axes\n",
    "for n in qnn_histories.keys():\n",
    "    plt.plot(np.arange(1,21), qnn_histories[n][0].history[\"hinge_accuracy\"], label=f\"{n} layer QNN\")\n",
    "\n",
    "plt.xlabel(\"Epoch\")\n",
    "plt.ylabel(\"Hinge Accuracy\")\n",
    "plt.legend()\n",
    "# modify x_ticks to also include 20\n",
    "plt.xticks(np.arange(0, 21, 2))\n",
    "# save as pdf with tight layout and no padding\n",
    "#plt.savefig(\"qnn_hinge_accuracy.pdf\", bbox_inches=\"tight\", pad_inches=0)\n",
    "plt.show()"
   ]
  },
  {
   "cell_type": "code",
   "execution_count": 13,
   "metadata": {},
   "outputs": [
    {
     "data": {
      "image/png": "[encoded data removed]",
      "text/plain": [
       "<Figure size 640x480 with 1 Axes>"
      ]
     },
     "metadata": {},
     "output_type": "display_data"
    }
   ],
   "source": [
    "# plot the hinge accuracy for the loss for both 1 and 2 layer on the same axes\n",
    "for n in qnn_histories.keys():\n",
    "    plt.plot(np.arange(1,21), qnn_histories[n][0].history[\"loss\"], label=f\"{n} layer QNN\")\n",
    "\n",
    "plt.xlabel(\"Epoch\")\n",
    "plt.ylabel(\"Hinge Loss\")\n",
    "plt.legend()\n",
    "# modify x_ticks to also include 20\n",
    "plt.xticks(np.arange(0, 21, 2))\n",
    "# save as pdf with tight layout and no padding\n",
    "#plt.savefig(\"qnn_hinge_loss.pdf\", bbox_inches=\"tight\", pad_inches=0)\n",
    "plt.show()"
   ]
  },
  {
   "cell_type": "code",
   "execution_count": 14,
   "metadata": {},
   "outputs": [
    {
     "name": "stdout",
     "output_type": "stream",
     "text": [
      "Saved qnn_histories to qnn_histories_20250325122135.pkl\n"
     ]
    }
   ],
   "source": [
    "import pickle\n",
    "\n",
    "timestamp = datetime.now().strftime(\"%Y%m%d%H%M%S\")\n",
    "with open(f'qnn_histories_{timestamp}.pkl', 'wb') as f:\n",
    "    pickle.dump(qnn_histories, f)\n",
    "\n",
    "print(f\"Saved qnn_histories to qnn_histories_{timestamp}.pkl\")"
   ]
  }
 ],
 "metadata": {
  "kernelspec": {
   "display_name": "phys4041",
   "language": "python",
   "name": "python3"
  },
  "language_info": {
   "codemirror_mode": {
    "name": "ipython",
    "version": 3
   },
   "file_extension": ".py",
   "mimetype": "text/x-python",
   "name": "python",
   "nbconvert_exporter": "python",
   "pygments_lexer": "ipython3",
   "version": "3.10.16"
  },
  "orig_nbformat": 4
 },
 "nbformat": 4,
 "nbformat_minor": 2
}
